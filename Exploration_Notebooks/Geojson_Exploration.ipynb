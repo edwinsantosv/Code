{
 "cells": [
  {
   "cell_type": "code",
   "execution_count": 21,
   "metadata": {},
   "outputs": [],
   "source": [
    "import pandas as pd\n",
    "import sweetviz as sv\n",
    "import numpy as np\n",
    "import seaborn as sns\n",
    "import matplotlib.pyplot as plt\n",
    "import os\n",
    "from icecream import ic\n",
    "import warnings\n",
    "import geopandas as gpd\n",
    "from shapely.geometry import Point\n",
    "import plotly.express as px\n",
    "warnings.filterwarnings('ignore')"
   ]
  },
  {
   "cell_type": "code",
   "execution_count": 22,
   "metadata": {},
   "outputs": [],
   "source": [
    "os.chdir('C:/Users/edwin/OneDrive/Escritorio/Personal files/Courses/Semester 2/Capstone Project/Databases')"
   ]
  },
  {
   "cell_type": "code",
   "execution_count": 23,
   "metadata": {},
   "outputs": [
    {
     "data": {
      "text/plain": [
       "['businesscategories_tocsv.csv',\n",
       " 'city-wards-data-4326.geojson',\n",
       " 'dataframe_withlocations.csv',\n",
       " 'db_filtered_NoNAs.csv',\n",
       " 'db_filtered_wNAs.csv',\n",
       " 'df_icecream.csv',\n",
       " 'df_other.csv',\n",
       " 'final_df_wcategories.csv',\n",
       " 'iterated_cat.csv',\n",
       " 'ODBus_v1.csv',\n",
       " 'Other Databases',\n",
       " 'sample.csv',\n",
       " 'SWEETVIZ_REPORT.html',\n",
       " 'toronto data.csv',\n",
       " 'toronto_df_locations.csv',\n",
       " 'vancouver data.csv']"
      ]
     },
     "execution_count": 23,
     "metadata": {},
     "output_type": "execute_result"
    }
   ],
   "source": [
    "os.listdir()"
   ]
  },
  {
   "cell_type": "code",
   "execution_count": 24,
   "metadata": {},
   "outputs": [],
   "source": [
    "# Cargar el GeoJSON de los wards\n",
    "gdf_wards = gpd.read_file('city-wards-data-4326.geojson')\n",
    "\n",
    "# Cargar los datos de coordenadas\n",
    "df_coords = pd.read_csv('final_df_wcategories.csv')"
   ]
  },
  {
   "cell_type": "code",
   "execution_count": 25,
   "metadata": {},
   "outputs": [],
   "source": [
    "# Asumiendo que las columnas se llaman 'latitud' y 'longitud'\n",
    "geometry = [Point(xy) for xy in zip(df_coords['longitude'], df_coords['latitude'])]\n",
    "gdf_coords = gpd.GeoDataFrame(df_coords, geometry=geometry)\n",
    "\n",
    "# Asumimos que el CRS de tus datos es WGS84 (el más común para latitud/longitud)\n",
    "gdf_coords.crs = 'epsg:4326'\n",
    "\n",
    "# Si el CRS de gdf_wards es diferente, realiza una transformación de CRS\n",
    "gdf_coords = gdf_coords.to_crs(gdf_wards.crs)"
   ]
  },
  {
   "cell_type": "code",
   "execution_count": 26,
   "metadata": {},
   "outputs": [
    {
     "data": {
      "text/html": [
       "<div>\n",
       "<style scoped>\n",
       "    .dataframe tbody tr th:only-of-type {\n",
       "        vertical-align: middle;\n",
       "    }\n",
       "\n",
       "    .dataframe tbody tr th {\n",
       "        vertical-align: top;\n",
       "    }\n",
       "\n",
       "    .dataframe thead th {\n",
       "        text-align: right;\n",
       "    }\n",
       "</style>\n",
       "<table border=\"1\" class=\"dataframe\">\n",
       "  <thead>\n",
       "    <tr style=\"text-align: right;\">\n",
       "      <th></th>\n",
       "      <th>Unnamed: 0</th>\n",
       "      <th>BusinessNo</th>\n",
       "      <th>Category_Vendor</th>\n",
       "      <th>Licence No.</th>\n",
       "      <th>Operating Name</th>\n",
       "      <th>Issued</th>\n",
       "      <th>Client Name</th>\n",
       "      <th>Conditions</th>\n",
       "      <th>Free Form Conditions Line 1</th>\n",
       "      <th>Free Form Conditions Line 2</th>\n",
       "      <th>...</th>\n",
       "      <th>AREA_CLASS</th>\n",
       "      <th>AREA_SHORT_CODE</th>\n",
       "      <th>AREA_LONG_CODE</th>\n",
       "      <th>AREA_NAME</th>\n",
       "      <th>AREA_DESC</th>\n",
       "      <th>FEATURE_CODE</th>\n",
       "      <th>FEATURE_CODE_DESC</th>\n",
       "      <th>TRANS_ID_CREATE</th>\n",
       "      <th>TRANS_ID_EXPIRE</th>\n",
       "      <th>OBJECTID</th>\n",
       "    </tr>\n",
       "  </thead>\n",
       "  <tbody>\n",
       "    <tr>\n",
       "      <th>0</th>\n",
       "      <td>0</td>\n",
       "      <td>0</td>\n",
       "      <td>mobile vending (food truck)</td>\n",
       "      <td>R54-4422459</td>\n",
       "      <td>NaN</td>\n",
       "      <td>2014-05-16</td>\n",
       "      <td>Ahmadzadeh-Razavi, Mahnaz</td>\n",
       "      <td>NaN</td>\n",
       "      <td>NaN</td>\n",
       "      <td>NaN</td>\n",
       "      <td>...</td>\n",
       "      <td>NaN</td>\n",
       "      <td>NaN</td>\n",
       "      <td>NaN</td>\n",
       "      <td>NaN</td>\n",
       "      <td>NaN</td>\n",
       "      <td>NaN</td>\n",
       "      <td>NaN</td>\n",
       "      <td>NaN</td>\n",
       "      <td>NaN</td>\n",
       "      <td>NaN</td>\n",
       "    </tr>\n",
       "    <tr>\n",
       "      <th>1</th>\n",
       "      <td>1</td>\n",
       "      <td>1</td>\n",
       "      <td>mobile vending (food truck)</td>\n",
       "      <td>R54-4422376</td>\n",
       "      <td>NaN</td>\n",
       "      <td>2014-05-15</td>\n",
       "      <td>Tang'S Family Restaurant Corp</td>\n",
       "      <td>NaN</td>\n",
       "      <td>NaN</td>\n",
       "      <td>NaN</td>\n",
       "      <td>...</td>\n",
       "      <td></td>\n",
       "      <td>22</td>\n",
       "      <td>22</td>\n",
       "      <td>Scarborough-Agincourt</td>\n",
       "      <td>Scarborough-Agincourt (22)</td>\n",
       "      <td>0.0</td>\n",
       "      <td></td>\n",
       "      <td>279754.0</td>\n",
       "      <td>-1.0</td>\n",
       "      <td>17344945.0</td>\n",
       "    </tr>\n",
       "    <tr>\n",
       "      <th>2</th>\n",
       "      <td>2</td>\n",
       "      <td>2</td>\n",
       "      <td>mobile vending (food truck)</td>\n",
       "      <td>R54-4424708</td>\n",
       "      <td>NaN</td>\n",
       "      <td>2014-07-09</td>\n",
       "      <td>Insrichiengmai, Susan</td>\n",
       "      <td>NaN</td>\n",
       "      <td>NaN</td>\n",
       "      <td>NaN</td>\n",
       "      <td>...</td>\n",
       "      <td></td>\n",
       "      <td>04</td>\n",
       "      <td>04</td>\n",
       "      <td>Parkdale-High Park</td>\n",
       "      <td>Parkdale-High Park (4)</td>\n",
       "      <td>0.0</td>\n",
       "      <td></td>\n",
       "      <td>279754.0</td>\n",
       "      <td>-1.0</td>\n",
       "      <td>17344993.0</td>\n",
       "    </tr>\n",
       "    <tr>\n",
       "      <th>3</th>\n",
       "      <td>3</td>\n",
       "      <td>3</td>\n",
       "      <td>mobile vending (food truck)</td>\n",
       "      <td>R54-4422377</td>\n",
       "      <td>NaN</td>\n",
       "      <td>2014-05-15</td>\n",
       "      <td>1459949 Ontario Inc</td>\n",
       "      <td>NaN</td>\n",
       "      <td>NaN</td>\n",
       "      <td>NaN</td>\n",
       "      <td>...</td>\n",
       "      <td>NaN</td>\n",
       "      <td>NaN</td>\n",
       "      <td>NaN</td>\n",
       "      <td>NaN</td>\n",
       "      <td>NaN</td>\n",
       "      <td>NaN</td>\n",
       "      <td>NaN</td>\n",
       "      <td>NaN</td>\n",
       "      <td>NaN</td>\n",
       "      <td>NaN</td>\n",
       "    </tr>\n",
       "    <tr>\n",
       "      <th>4</th>\n",
       "      <td>4</td>\n",
       "      <td>4</td>\n",
       "      <td>mobile vending (food truck)</td>\n",
       "      <td>R54-4422545</td>\n",
       "      <td>NaN</td>\n",
       "      <td>2014-05-20</td>\n",
       "      <td>2397349 Ontario Inc</td>\n",
       "      <td>NaN</td>\n",
       "      <td>NaN</td>\n",
       "      <td>NaN</td>\n",
       "      <td>...</td>\n",
       "      <td>NaN</td>\n",
       "      <td>NaN</td>\n",
       "      <td>NaN</td>\n",
       "      <td>NaN</td>\n",
       "      <td>NaN</td>\n",
       "      <td>NaN</td>\n",
       "      <td>NaN</td>\n",
       "      <td>NaN</td>\n",
       "      <td>NaN</td>\n",
       "      <td>NaN</td>\n",
       "    </tr>\n",
       "    <tr>\n",
       "      <th>...</th>\n",
       "      <td>...</td>\n",
       "      <td>...</td>\n",
       "      <td>...</td>\n",
       "      <td>...</td>\n",
       "      <td>...</td>\n",
       "      <td>...</td>\n",
       "      <td>...</td>\n",
       "      <td>...</td>\n",
       "      <td>...</td>\n",
       "      <td>...</td>\n",
       "      <td>...</td>\n",
       "      <td>...</td>\n",
       "      <td>...</td>\n",
       "      <td>...</td>\n",
       "      <td>...</td>\n",
       "      <td>...</td>\n",
       "      <td>...</td>\n",
       "      <td>...</td>\n",
       "      <td>...</td>\n",
       "      <td>...</td>\n",
       "      <td>...</td>\n",
       "    </tr>\n",
       "    <tr>\n",
       "      <th>3327</th>\n",
       "      <td>474</td>\n",
       "      <td>754</td>\n",
       "      <td>mobile vending (ice cream truck)</td>\n",
       "      <td>R56-5318650</td>\n",
       "      <td>Sweet Summer Soft Ice</td>\n",
       "      <td>2023-05-01</td>\n",
       "      <td>1532272 Ontario Corp</td>\n",
       "      <td>NaN</td>\n",
       "      <td>NaN</td>\n",
       "      <td>NaN</td>\n",
       "      <td>...</td>\n",
       "      <td></td>\n",
       "      <td>05</td>\n",
       "      <td>05</td>\n",
       "      <td>York South-Weston</td>\n",
       "      <td>York South-Weston (5)</td>\n",
       "      <td>0.0</td>\n",
       "      <td></td>\n",
       "      <td>279754.0</td>\n",
       "      <td>-1.0</td>\n",
       "      <td>17345137.0</td>\n",
       "    </tr>\n",
       "    <tr>\n",
       "      <th>3328</th>\n",
       "      <td>475</td>\n",
       "      <td>755</td>\n",
       "      <td>mobile vending (ice cream truck)</td>\n",
       "      <td>R56-5318652</td>\n",
       "      <td>Sweet Summer Soft Icecream</td>\n",
       "      <td>2023-05-01</td>\n",
       "      <td>1532272 Ontario Corp</td>\n",
       "      <td>NaN</td>\n",
       "      <td>NaN</td>\n",
       "      <td>NaN</td>\n",
       "      <td>...</td>\n",
       "      <td></td>\n",
       "      <td>05</td>\n",
       "      <td>05</td>\n",
       "      <td>York South-Weston</td>\n",
       "      <td>York South-Weston (5)</td>\n",
       "      <td>0.0</td>\n",
       "      <td></td>\n",
       "      <td>279754.0</td>\n",
       "      <td>-1.0</td>\n",
       "      <td>17345137.0</td>\n",
       "    </tr>\n",
       "    <tr>\n",
       "      <th>3329</th>\n",
       "      <td>476</td>\n",
       "      <td>756</td>\n",
       "      <td>mobile vending (ice cream truck)</td>\n",
       "      <td>R56-5342113</td>\n",
       "      <td>Mrs Softy</td>\n",
       "      <td>2023-07-26</td>\n",
       "      <td>Mrs Softy Inc</td>\n",
       "      <td>NaN</td>\n",
       "      <td>NaN</td>\n",
       "      <td>NaN</td>\n",
       "      <td>...</td>\n",
       "      <td></td>\n",
       "      <td>06</td>\n",
       "      <td>06</td>\n",
       "      <td>York Centre</td>\n",
       "      <td>York Centre (6)</td>\n",
       "      <td>0.0</td>\n",
       "      <td></td>\n",
       "      <td>279754.0</td>\n",
       "      <td>-1.0</td>\n",
       "      <td>17344801.0</td>\n",
       "    </tr>\n",
       "    <tr>\n",
       "      <th>3330</th>\n",
       "      <td>477</td>\n",
       "      <td>757</td>\n",
       "      <td>mobile vending (ice cream truck)</td>\n",
       "      <td>R56-5343744</td>\n",
       "      <td>Master Soft &amp; Delight Dairy Products</td>\n",
       "      <td>2023-07-26</td>\n",
       "      <td>Master Soft &amp; Delight Dairy Products Inc</td>\n",
       "      <td>NaN</td>\n",
       "      <td>NaN</td>\n",
       "      <td>NaN</td>\n",
       "      <td>...</td>\n",
       "      <td></td>\n",
       "      <td>20</td>\n",
       "      <td>20</td>\n",
       "      <td>Scarborough Southwest</td>\n",
       "      <td>Scarborough Southwest (20)</td>\n",
       "      <td>0.0</td>\n",
       "      <td></td>\n",
       "      <td>279754.0</td>\n",
       "      <td>-1.0</td>\n",
       "      <td>17344865.0</td>\n",
       "    </tr>\n",
       "    <tr>\n",
       "      <th>3331</th>\n",
       "      <td>478</td>\n",
       "      <td>758</td>\n",
       "      <td>mobile vending (ice cream truck)</td>\n",
       "      <td>R56-5343881</td>\n",
       "      <td>Fresh N Cool</td>\n",
       "      <td>2023-08-09</td>\n",
       "      <td>Fresh N Cool Inc</td>\n",
       "      <td>NaN</td>\n",
       "      <td>NaN</td>\n",
       "      <td>NaN</td>\n",
       "      <td>...</td>\n",
       "      <td></td>\n",
       "      <td>03</td>\n",
       "      <td>03</td>\n",
       "      <td>Etobicoke-Lakeshore</td>\n",
       "      <td>Etobicoke-Lakeshore (3)</td>\n",
       "      <td>0.0</td>\n",
       "      <td></td>\n",
       "      <td>279754.0</td>\n",
       "      <td>-1.0</td>\n",
       "      <td>17345025.0</td>\n",
       "    </tr>\n",
       "  </tbody>\n",
       "</table>\n",
       "<p>3332 rows × 42 columns</p>\n",
       "</div>"
      ],
      "text/plain": [
       "      Unnamed: 0  BusinessNo                   Category_Vendor  Licence No.  \\\n",
       "0              0           0       mobile vending (food truck)  R54-4422459   \n",
       "1              1           1       mobile vending (food truck)  R54-4422376   \n",
       "2              2           2       mobile vending (food truck)  R54-4424708   \n",
       "3              3           3       mobile vending (food truck)  R54-4422377   \n",
       "4              4           4       mobile vending (food truck)  R54-4422545   \n",
       "...          ...         ...                               ...          ...   \n",
       "3327         474         754  mobile vending (ice cream truck)  R56-5318650   \n",
       "3328         475         755  mobile vending (ice cream truck)  R56-5318652   \n",
       "3329         476         756  mobile vending (ice cream truck)  R56-5342113   \n",
       "3330         477         757  mobile vending (ice cream truck)  R56-5343744   \n",
       "3331         478         758  mobile vending (ice cream truck)  R56-5343881   \n",
       "\n",
       "                            Operating Name      Issued  \\\n",
       "0                                      NaN  2014-05-16   \n",
       "1                                      NaN  2014-05-15   \n",
       "2                                      NaN  2014-07-09   \n",
       "3                                      NaN  2014-05-15   \n",
       "4                                      NaN  2014-05-20   \n",
       "...                                    ...         ...   \n",
       "3327                 Sweet Summer Soft Ice  2023-05-01   \n",
       "3328            Sweet Summer Soft Icecream  2023-05-01   \n",
       "3329                             Mrs Softy  2023-07-26   \n",
       "3330  Master Soft & Delight Dairy Products  2023-07-26   \n",
       "3331                          Fresh N Cool  2023-08-09   \n",
       "\n",
       "                                   Client Name Conditions  \\\n",
       "0                    Ahmadzadeh-Razavi, Mahnaz        NaN   \n",
       "1                Tang'S Family Restaurant Corp        NaN   \n",
       "2                        Insrichiengmai, Susan        NaN   \n",
       "3                          1459949 Ontario Inc        NaN   \n",
       "4                          2397349 Ontario Inc        NaN   \n",
       "...                                        ...        ...   \n",
       "3327                      1532272 Ontario Corp        NaN   \n",
       "3328                      1532272 Ontario Corp        NaN   \n",
       "3329                             Mrs Softy Inc        NaN   \n",
       "3330  Master Soft & Delight Dairy Products Inc        NaN   \n",
       "3331                          Fresh N Cool Inc        NaN   \n",
       "\n",
       "     Free Form Conditions Line 1 Free Form Conditions Line 2  ... AREA_CLASS  \\\n",
       "0                            NaN                         NaN  ...        NaN   \n",
       "1                            NaN                         NaN  ...              \n",
       "2                            NaN                         NaN  ...              \n",
       "3                            NaN                         NaN  ...        NaN   \n",
       "4                            NaN                         NaN  ...        NaN   \n",
       "...                          ...                         ...  ...        ...   \n",
       "3327                         NaN                         NaN  ...              \n",
       "3328                         NaN                         NaN  ...              \n",
       "3329                         NaN                         NaN  ...              \n",
       "3330                         NaN                         NaN  ...              \n",
       "3331                         NaN                         NaN  ...              \n",
       "\n",
       "     AREA_SHORT_CODE AREA_LONG_CODE              AREA_NAME  \\\n",
       "0                NaN            NaN                    NaN   \n",
       "1                 22             22  Scarborough-Agincourt   \n",
       "2                 04             04     Parkdale-High Park   \n",
       "3                NaN            NaN                    NaN   \n",
       "4                NaN            NaN                    NaN   \n",
       "...              ...            ...                    ...   \n",
       "3327              05             05      York South-Weston   \n",
       "3328              05             05      York South-Weston   \n",
       "3329              06             06            York Centre   \n",
       "3330              20             20  Scarborough Southwest   \n",
       "3331              03             03    Etobicoke-Lakeshore   \n",
       "\n",
       "                       AREA_DESC  FEATURE_CODE FEATURE_CODE_DESC  \\\n",
       "0                            NaN           NaN               NaN   \n",
       "1     Scarborough-Agincourt (22)           0.0                     \n",
       "2         Parkdale-High Park (4)           0.0                     \n",
       "3                            NaN           NaN               NaN   \n",
       "4                            NaN           NaN               NaN   \n",
       "...                          ...           ...               ...   \n",
       "3327       York South-Weston (5)           0.0                     \n",
       "3328       York South-Weston (5)           0.0                     \n",
       "3329             York Centre (6)           0.0                     \n",
       "3330  Scarborough Southwest (20)           0.0                     \n",
       "3331     Etobicoke-Lakeshore (3)           0.0                     \n",
       "\n",
       "     TRANS_ID_CREATE TRANS_ID_EXPIRE    OBJECTID  \n",
       "0                NaN             NaN         NaN  \n",
       "1           279754.0            -1.0  17344945.0  \n",
       "2           279754.0            -1.0  17344993.0  \n",
       "3                NaN             NaN         NaN  \n",
       "4                NaN             NaN         NaN  \n",
       "...              ...             ...         ...  \n",
       "3327        279754.0            -1.0  17345137.0  \n",
       "3328        279754.0            -1.0  17345137.0  \n",
       "3329        279754.0            -1.0  17344801.0  \n",
       "3330        279754.0            -1.0  17344865.0  \n",
       "3331        279754.0            -1.0  17345025.0  \n",
       "\n",
       "[3332 rows x 42 columns]"
      ]
     },
     "execution_count": 26,
     "metadata": {},
     "output_type": "execute_result"
    }
   ],
   "source": [
    "join = gpd.sjoin(gdf_coords, gdf_wards, how=\"left\", op=\"within\")\n",
    "join"
   ]
  },
  {
   "cell_type": "code",
   "execution_count": 27,
   "metadata": {},
   "outputs": [],
   "source": [
    "# Ejemplo de cómo eliminar una columna innecesaria\n",
    "join.drop(columns=['index_right'], inplace=True)\n",
    "\n",
    "# Ejemplo de cómo renombrar la columna del ward si es necesario\n",
    "join.rename(columns={'nombre_columna_ward': 'Ward'}, inplace=True)"
   ]
  },
  {
   "cell_type": "code",
   "execution_count": 28,
   "metadata": {},
   "outputs": [
    {
     "data": {
      "text/html": [
       "<div>\n",
       "<style scoped>\n",
       "    .dataframe tbody tr th:only-of-type {\n",
       "        vertical-align: middle;\n",
       "    }\n",
       "\n",
       "    .dataframe tbody tr th {\n",
       "        vertical-align: top;\n",
       "    }\n",
       "\n",
       "    .dataframe thead th {\n",
       "        text-align: right;\n",
       "    }\n",
       "</style>\n",
       "<table border=\"1\" class=\"dataframe\">\n",
       "  <thead>\n",
       "    <tr style=\"text-align: right;\">\n",
       "      <th></th>\n",
       "      <th>Unnamed: 0</th>\n",
       "      <th>BusinessNo</th>\n",
       "      <th>Category_Vendor</th>\n",
       "      <th>Licence No.</th>\n",
       "      <th>Operating Name</th>\n",
       "      <th>Issued</th>\n",
       "      <th>Client Name</th>\n",
       "      <th>Conditions</th>\n",
       "      <th>Free Form Conditions Line 1</th>\n",
       "      <th>Free Form Conditions Line 2</th>\n",
       "      <th>...</th>\n",
       "      <th>AREA_CLASS</th>\n",
       "      <th>AREA_SHORT_CODE</th>\n",
       "      <th>AREA_LONG_CODE</th>\n",
       "      <th>AREA_NAME</th>\n",
       "      <th>AREA_DESC</th>\n",
       "      <th>FEATURE_CODE</th>\n",
       "      <th>FEATURE_CODE_DESC</th>\n",
       "      <th>TRANS_ID_CREATE</th>\n",
       "      <th>TRANS_ID_EXPIRE</th>\n",
       "      <th>OBJECTID</th>\n",
       "    </tr>\n",
       "  </thead>\n",
       "  <tbody>\n",
       "    <tr>\n",
       "      <th>0</th>\n",
       "      <td>0</td>\n",
       "      <td>0</td>\n",
       "      <td>mobile vending (food truck)</td>\n",
       "      <td>R54-4422459</td>\n",
       "      <td>NaN</td>\n",
       "      <td>2014-05-16</td>\n",
       "      <td>Ahmadzadeh-Razavi, Mahnaz</td>\n",
       "      <td>NaN</td>\n",
       "      <td>NaN</td>\n",
       "      <td>NaN</td>\n",
       "      <td>...</td>\n",
       "      <td>NaN</td>\n",
       "      <td>NaN</td>\n",
       "      <td>NaN</td>\n",
       "      <td>NaN</td>\n",
       "      <td>NaN</td>\n",
       "      <td>NaN</td>\n",
       "      <td>NaN</td>\n",
       "      <td>NaN</td>\n",
       "      <td>NaN</td>\n",
       "      <td>NaN</td>\n",
       "    </tr>\n",
       "    <tr>\n",
       "      <th>1</th>\n",
       "      <td>1</td>\n",
       "      <td>1</td>\n",
       "      <td>mobile vending (food truck)</td>\n",
       "      <td>R54-4422376</td>\n",
       "      <td>NaN</td>\n",
       "      <td>2014-05-15</td>\n",
       "      <td>Tang'S Family Restaurant Corp</td>\n",
       "      <td>NaN</td>\n",
       "      <td>NaN</td>\n",
       "      <td>NaN</td>\n",
       "      <td>...</td>\n",
       "      <td></td>\n",
       "      <td>22</td>\n",
       "      <td>22</td>\n",
       "      <td>Scarborough-Agincourt</td>\n",
       "      <td>Scarborough-Agincourt (22)</td>\n",
       "      <td>0.0</td>\n",
       "      <td></td>\n",
       "      <td>279754.0</td>\n",
       "      <td>-1.0</td>\n",
       "      <td>17344945.0</td>\n",
       "    </tr>\n",
       "    <tr>\n",
       "      <th>2</th>\n",
       "      <td>2</td>\n",
       "      <td>2</td>\n",
       "      <td>mobile vending (food truck)</td>\n",
       "      <td>R54-4424708</td>\n",
       "      <td>NaN</td>\n",
       "      <td>2014-07-09</td>\n",
       "      <td>Insrichiengmai, Susan</td>\n",
       "      <td>NaN</td>\n",
       "      <td>NaN</td>\n",
       "      <td>NaN</td>\n",
       "      <td>...</td>\n",
       "      <td></td>\n",
       "      <td>04</td>\n",
       "      <td>04</td>\n",
       "      <td>Parkdale-High Park</td>\n",
       "      <td>Parkdale-High Park (4)</td>\n",
       "      <td>0.0</td>\n",
       "      <td></td>\n",
       "      <td>279754.0</td>\n",
       "      <td>-1.0</td>\n",
       "      <td>17344993.0</td>\n",
       "    </tr>\n",
       "    <tr>\n",
       "      <th>3</th>\n",
       "      <td>3</td>\n",
       "      <td>3</td>\n",
       "      <td>mobile vending (food truck)</td>\n",
       "      <td>R54-4422377</td>\n",
       "      <td>NaN</td>\n",
       "      <td>2014-05-15</td>\n",
       "      <td>1459949 Ontario Inc</td>\n",
       "      <td>NaN</td>\n",
       "      <td>NaN</td>\n",
       "      <td>NaN</td>\n",
       "      <td>...</td>\n",
       "      <td>NaN</td>\n",
       "      <td>NaN</td>\n",
       "      <td>NaN</td>\n",
       "      <td>NaN</td>\n",
       "      <td>NaN</td>\n",
       "      <td>NaN</td>\n",
       "      <td>NaN</td>\n",
       "      <td>NaN</td>\n",
       "      <td>NaN</td>\n",
       "      <td>NaN</td>\n",
       "    </tr>\n",
       "    <tr>\n",
       "      <th>4</th>\n",
       "      <td>4</td>\n",
       "      <td>4</td>\n",
       "      <td>mobile vending (food truck)</td>\n",
       "      <td>R54-4422545</td>\n",
       "      <td>NaN</td>\n",
       "      <td>2014-05-20</td>\n",
       "      <td>2397349 Ontario Inc</td>\n",
       "      <td>NaN</td>\n",
       "      <td>NaN</td>\n",
       "      <td>NaN</td>\n",
       "      <td>...</td>\n",
       "      <td>NaN</td>\n",
       "      <td>NaN</td>\n",
       "      <td>NaN</td>\n",
       "      <td>NaN</td>\n",
       "      <td>NaN</td>\n",
       "      <td>NaN</td>\n",
       "      <td>NaN</td>\n",
       "      <td>NaN</td>\n",
       "      <td>NaN</td>\n",
       "      <td>NaN</td>\n",
       "    </tr>\n",
       "    <tr>\n",
       "      <th>...</th>\n",
       "      <td>...</td>\n",
       "      <td>...</td>\n",
       "      <td>...</td>\n",
       "      <td>...</td>\n",
       "      <td>...</td>\n",
       "      <td>...</td>\n",
       "      <td>...</td>\n",
       "      <td>...</td>\n",
       "      <td>...</td>\n",
       "      <td>...</td>\n",
       "      <td>...</td>\n",
       "      <td>...</td>\n",
       "      <td>...</td>\n",
       "      <td>...</td>\n",
       "      <td>...</td>\n",
       "      <td>...</td>\n",
       "      <td>...</td>\n",
       "      <td>...</td>\n",
       "      <td>...</td>\n",
       "      <td>...</td>\n",
       "      <td>...</td>\n",
       "    </tr>\n",
       "    <tr>\n",
       "      <th>3327</th>\n",
       "      <td>474</td>\n",
       "      <td>754</td>\n",
       "      <td>mobile vending (ice cream truck)</td>\n",
       "      <td>R56-5318650</td>\n",
       "      <td>Sweet Summer Soft Ice</td>\n",
       "      <td>2023-05-01</td>\n",
       "      <td>1532272 Ontario Corp</td>\n",
       "      <td>NaN</td>\n",
       "      <td>NaN</td>\n",
       "      <td>NaN</td>\n",
       "      <td>...</td>\n",
       "      <td></td>\n",
       "      <td>05</td>\n",
       "      <td>05</td>\n",
       "      <td>York South-Weston</td>\n",
       "      <td>York South-Weston (5)</td>\n",
       "      <td>0.0</td>\n",
       "      <td></td>\n",
       "      <td>279754.0</td>\n",
       "      <td>-1.0</td>\n",
       "      <td>17345137.0</td>\n",
       "    </tr>\n",
       "    <tr>\n",
       "      <th>3328</th>\n",
       "      <td>475</td>\n",
       "      <td>755</td>\n",
       "      <td>mobile vending (ice cream truck)</td>\n",
       "      <td>R56-5318652</td>\n",
       "      <td>Sweet Summer Soft Icecream</td>\n",
       "      <td>2023-05-01</td>\n",
       "      <td>1532272 Ontario Corp</td>\n",
       "      <td>NaN</td>\n",
       "      <td>NaN</td>\n",
       "      <td>NaN</td>\n",
       "      <td>...</td>\n",
       "      <td></td>\n",
       "      <td>05</td>\n",
       "      <td>05</td>\n",
       "      <td>York South-Weston</td>\n",
       "      <td>York South-Weston (5)</td>\n",
       "      <td>0.0</td>\n",
       "      <td></td>\n",
       "      <td>279754.0</td>\n",
       "      <td>-1.0</td>\n",
       "      <td>17345137.0</td>\n",
       "    </tr>\n",
       "    <tr>\n",
       "      <th>3329</th>\n",
       "      <td>476</td>\n",
       "      <td>756</td>\n",
       "      <td>mobile vending (ice cream truck)</td>\n",
       "      <td>R56-5342113</td>\n",
       "      <td>Mrs Softy</td>\n",
       "      <td>2023-07-26</td>\n",
       "      <td>Mrs Softy Inc</td>\n",
       "      <td>NaN</td>\n",
       "      <td>NaN</td>\n",
       "      <td>NaN</td>\n",
       "      <td>...</td>\n",
       "      <td></td>\n",
       "      <td>06</td>\n",
       "      <td>06</td>\n",
       "      <td>York Centre</td>\n",
       "      <td>York Centre (6)</td>\n",
       "      <td>0.0</td>\n",
       "      <td></td>\n",
       "      <td>279754.0</td>\n",
       "      <td>-1.0</td>\n",
       "      <td>17344801.0</td>\n",
       "    </tr>\n",
       "    <tr>\n",
       "      <th>3330</th>\n",
       "      <td>477</td>\n",
       "      <td>757</td>\n",
       "      <td>mobile vending (ice cream truck)</td>\n",
       "      <td>R56-5343744</td>\n",
       "      <td>Master Soft &amp; Delight Dairy Products</td>\n",
       "      <td>2023-07-26</td>\n",
       "      <td>Master Soft &amp; Delight Dairy Products Inc</td>\n",
       "      <td>NaN</td>\n",
       "      <td>NaN</td>\n",
       "      <td>NaN</td>\n",
       "      <td>...</td>\n",
       "      <td></td>\n",
       "      <td>20</td>\n",
       "      <td>20</td>\n",
       "      <td>Scarborough Southwest</td>\n",
       "      <td>Scarborough Southwest (20)</td>\n",
       "      <td>0.0</td>\n",
       "      <td></td>\n",
       "      <td>279754.0</td>\n",
       "      <td>-1.0</td>\n",
       "      <td>17344865.0</td>\n",
       "    </tr>\n",
       "    <tr>\n",
       "      <th>3331</th>\n",
       "      <td>478</td>\n",
       "      <td>758</td>\n",
       "      <td>mobile vending (ice cream truck)</td>\n",
       "      <td>R56-5343881</td>\n",
       "      <td>Fresh N Cool</td>\n",
       "      <td>2023-08-09</td>\n",
       "      <td>Fresh N Cool Inc</td>\n",
       "      <td>NaN</td>\n",
       "      <td>NaN</td>\n",
       "      <td>NaN</td>\n",
       "      <td>...</td>\n",
       "      <td></td>\n",
       "      <td>03</td>\n",
       "      <td>03</td>\n",
       "      <td>Etobicoke-Lakeshore</td>\n",
       "      <td>Etobicoke-Lakeshore (3)</td>\n",
       "      <td>0.0</td>\n",
       "      <td></td>\n",
       "      <td>279754.0</td>\n",
       "      <td>-1.0</td>\n",
       "      <td>17345025.0</td>\n",
       "    </tr>\n",
       "  </tbody>\n",
       "</table>\n",
       "<p>3332 rows × 41 columns</p>\n",
       "</div>"
      ],
      "text/plain": [
       "      Unnamed: 0  BusinessNo                   Category_Vendor  Licence No.  \\\n",
       "0              0           0       mobile vending (food truck)  R54-4422459   \n",
       "1              1           1       mobile vending (food truck)  R54-4422376   \n",
       "2              2           2       mobile vending (food truck)  R54-4424708   \n",
       "3              3           3       mobile vending (food truck)  R54-4422377   \n",
       "4              4           4       mobile vending (food truck)  R54-4422545   \n",
       "...          ...         ...                               ...          ...   \n",
       "3327         474         754  mobile vending (ice cream truck)  R56-5318650   \n",
       "3328         475         755  mobile vending (ice cream truck)  R56-5318652   \n",
       "3329         476         756  mobile vending (ice cream truck)  R56-5342113   \n",
       "3330         477         757  mobile vending (ice cream truck)  R56-5343744   \n",
       "3331         478         758  mobile vending (ice cream truck)  R56-5343881   \n",
       "\n",
       "                            Operating Name      Issued  \\\n",
       "0                                      NaN  2014-05-16   \n",
       "1                                      NaN  2014-05-15   \n",
       "2                                      NaN  2014-07-09   \n",
       "3                                      NaN  2014-05-15   \n",
       "4                                      NaN  2014-05-20   \n",
       "...                                    ...         ...   \n",
       "3327                 Sweet Summer Soft Ice  2023-05-01   \n",
       "3328            Sweet Summer Soft Icecream  2023-05-01   \n",
       "3329                             Mrs Softy  2023-07-26   \n",
       "3330  Master Soft & Delight Dairy Products  2023-07-26   \n",
       "3331                          Fresh N Cool  2023-08-09   \n",
       "\n",
       "                                   Client Name Conditions  \\\n",
       "0                    Ahmadzadeh-Razavi, Mahnaz        NaN   \n",
       "1                Tang'S Family Restaurant Corp        NaN   \n",
       "2                        Insrichiengmai, Susan        NaN   \n",
       "3                          1459949 Ontario Inc        NaN   \n",
       "4                          2397349 Ontario Inc        NaN   \n",
       "...                                        ...        ...   \n",
       "3327                      1532272 Ontario Corp        NaN   \n",
       "3328                      1532272 Ontario Corp        NaN   \n",
       "3329                             Mrs Softy Inc        NaN   \n",
       "3330  Master Soft & Delight Dairy Products Inc        NaN   \n",
       "3331                          Fresh N Cool Inc        NaN   \n",
       "\n",
       "     Free Form Conditions Line 1 Free Form Conditions Line 2  ... AREA_CLASS  \\\n",
       "0                            NaN                         NaN  ...        NaN   \n",
       "1                            NaN                         NaN  ...              \n",
       "2                            NaN                         NaN  ...              \n",
       "3                            NaN                         NaN  ...        NaN   \n",
       "4                            NaN                         NaN  ...        NaN   \n",
       "...                          ...                         ...  ...        ...   \n",
       "3327                         NaN                         NaN  ...              \n",
       "3328                         NaN                         NaN  ...              \n",
       "3329                         NaN                         NaN  ...              \n",
       "3330                         NaN                         NaN  ...              \n",
       "3331                         NaN                         NaN  ...              \n",
       "\n",
       "     AREA_SHORT_CODE AREA_LONG_CODE              AREA_NAME  \\\n",
       "0                NaN            NaN                    NaN   \n",
       "1                 22             22  Scarborough-Agincourt   \n",
       "2                 04             04     Parkdale-High Park   \n",
       "3                NaN            NaN                    NaN   \n",
       "4                NaN            NaN                    NaN   \n",
       "...              ...            ...                    ...   \n",
       "3327              05             05      York South-Weston   \n",
       "3328              05             05      York South-Weston   \n",
       "3329              06             06            York Centre   \n",
       "3330              20             20  Scarborough Southwest   \n",
       "3331              03             03    Etobicoke-Lakeshore   \n",
       "\n",
       "                       AREA_DESC  FEATURE_CODE FEATURE_CODE_DESC  \\\n",
       "0                            NaN           NaN               NaN   \n",
       "1     Scarborough-Agincourt (22)           0.0                     \n",
       "2         Parkdale-High Park (4)           0.0                     \n",
       "3                            NaN           NaN               NaN   \n",
       "4                            NaN           NaN               NaN   \n",
       "...                          ...           ...               ...   \n",
       "3327       York South-Weston (5)           0.0                     \n",
       "3328       York South-Weston (5)           0.0                     \n",
       "3329             York Centre (6)           0.0                     \n",
       "3330  Scarborough Southwest (20)           0.0                     \n",
       "3331     Etobicoke-Lakeshore (3)           0.0                     \n",
       "\n",
       "     TRANS_ID_CREATE TRANS_ID_EXPIRE    OBJECTID  \n",
       "0                NaN             NaN         NaN  \n",
       "1           279754.0            -1.0  17344945.0  \n",
       "2           279754.0            -1.0  17344993.0  \n",
       "3                NaN             NaN         NaN  \n",
       "4                NaN             NaN         NaN  \n",
       "...              ...             ...         ...  \n",
       "3327        279754.0            -1.0  17345137.0  \n",
       "3328        279754.0            -1.0  17345137.0  \n",
       "3329        279754.0            -1.0  17344801.0  \n",
       "3330        279754.0            -1.0  17344865.0  \n",
       "3331        279754.0            -1.0  17345025.0  \n",
       "\n",
       "[3332 rows x 41 columns]"
      ]
     },
     "execution_count": 28,
     "metadata": {},
     "output_type": "execute_result"
    }
   ],
   "source": [
    "join"
   ]
  },
  {
   "cell_type": "code",
   "execution_count": 29,
   "metadata": {},
   "outputs": [
    {
     "data": {
      "image/png": "[encoded data removed]",
      "text/plain": [
       "<Figure size 1000x600 with 1 Axes>"
      ]
     },
     "metadata": {},
     "output_type": "display_data"
    }
   ],
   "source": [
    "plt.figure(figsize=(10, 6))\n",
    "sns.heatmap(join.isnull(), cbar=False, yticklabels=False, cmap='viridis')\n",
    "plt.title('Heatmap of db_license Nulls by Column')\n",
    "plt.show()"
   ]
  },
  {
   "cell_type": "code",
   "execution_count": 30,
   "metadata": {},
   "outputs": [
    {
     "name": "stdout",
     "output_type": "stream",
     "text": [
      "<class 'geopandas.geodataframe.GeoDataFrame'>\n",
      "Int64Index: 3332 entries, 0 to 3331\n",
      "Data columns (total 41 columns):\n",
      " #   Column                       Non-Null Count  Dtype   \n",
      "---  ------                       --------------  -----   \n",
      " 0   Unnamed: 0                   3332 non-null   int64   \n",
      " 1   BusinessNo                   3332 non-null   int64   \n",
      " 2   Category_Vendor              3332 non-null   object  \n",
      " 3   Licence No.                  3332 non-null   object  \n",
      " 4   Operating Name               1506 non-null   object  \n",
      " 5   Issued                       3332 non-null   object  \n",
      " 6   Client Name                  3332 non-null   object  \n",
      " 7   Conditions                   2151 non-null   object  \n",
      " 8   Free Form Conditions Line 1  767 non-null    object  \n",
      " 9   Free Form Conditions Line 2  199 non-null    object  \n",
      " 10  Endorsements                 3332 non-null   object  \n",
      " 11  Cancel Date                  2946 non-null   object  \n",
      " 12  Last Record Update           3332 non-null   object  \n",
      " 13  address                      3332 non-null   object  \n",
      " 14  latitude                     3332 non-null   float64 \n",
      " 15  longitude                    3332 non-null   float64 \n",
      " 16  formatted_address            3332 non-null   object  \n",
      " 17  location                     3332 non-null   object  \n",
      " 18  city                         3332 non-null   object  \n",
      " 19  Category                     3330 non-null   object  \n",
      " 20  Subcategory                  3330 non-null   object  \n",
      " 21  geometry                     3332 non-null   geometry\n",
      " 22  _id                          2186 non-null   float64 \n",
      " 23  AREA_ID                      2186 non-null   float64 \n",
      " 24  DATE_EFFECTIVE               2186 non-null   object  \n",
      " 25  DATE_EXPIRY                  2186 non-null   object  \n",
      " 26  AREA_ATTR_ID                 2186 non-null   float64 \n",
      " 27  AREA_TYPE_ID                 2186 non-null   float64 \n",
      " 28  PARENT_AREA_ID               2186 non-null   float64 \n",
      " 29  AREA_TYPE                    2186 non-null   object  \n",
      " 30  AREA_CLASS_ID                2186 non-null   float64 \n",
      " 31  AREA_CLASS                   2186 non-null   object  \n",
      " 32  AREA_SHORT_CODE              2186 non-null   object  \n",
      " 33  AREA_LONG_CODE               2186 non-null   object  \n",
      " 34  AREA_NAME                    2186 non-null   object  \n",
      " 35  AREA_DESC                    2186 non-null   object  \n",
      " 36  FEATURE_CODE                 2186 non-null   float64 \n",
      " 37  FEATURE_CODE_DESC            2186 non-null   object  \n",
      " 38  TRANS_ID_CREATE              2186 non-null   float64 \n",
      " 39  TRANS_ID_EXPIRE              2186 non-null   float64 \n",
      " 40  OBJECTID                     2186 non-null   float64 \n",
      "dtypes: float64(12), geometry(1), int64(2), object(26)\n",
      "memory usage: 1.1+ MB\n"
     ]
    }
   ],
   "source": [
    "join.info()"
   ]
  },
  {
   "cell_type": "code",
   "execution_count": 33,
   "metadata": {},
   "outputs": [
    {
     "name": "stdout",
     "output_type": "stream",
     "text": [
      "<class 'geopandas.geodataframe.GeoDataFrame'>\n",
      "Int64Index: 2186 entries, 1 to 3331\n",
      "Data columns (total 41 columns):\n",
      " #   Column                       Non-Null Count  Dtype   \n",
      "---  ------                       --------------  -----   \n",
      " 0   Unnamed: 0                   2186 non-null   int64   \n",
      " 1   BusinessNo                   2186 non-null   int64   \n",
      " 2   Category_Vendor              2186 non-null   object  \n",
      " 3   Licence No.                  2186 non-null   object  \n",
      " 4   Operating Name               882 non-null    object  \n",
      " 5   Issued                       2186 non-null   object  \n",
      " 6   Client Name                  2186 non-null   object  \n",
      " 7   Conditions                   1369 non-null   object  \n",
      " 8   Free Form Conditions Line 1  458 non-null    object  \n",
      " 9   Free Form Conditions Line 2  111 non-null    object  \n",
      " 10  Endorsements                 2186 non-null   object  \n",
      " 11  Cancel Date                  1905 non-null   object  \n",
      " 12  Last Record Update           2186 non-null   object  \n",
      " 13  address                      2186 non-null   object  \n",
      " 14  latitude                     2186 non-null   float64 \n",
      " 15  longitude                    2186 non-null   float64 \n",
      " 16  formatted_address            2186 non-null   object  \n",
      " 17  location                     2186 non-null   object  \n",
      " 18  city                         2186 non-null   object  \n",
      " 19  Category                     2184 non-null   object  \n",
      " 20  Subcategory                  2184 non-null   object  \n",
      " 21  geometry                     2186 non-null   geometry\n",
      " 22  _id                          2186 non-null   float64 \n",
      " 23  AREA_ID                      2186 non-null   float64 \n",
      " 24  DATE_EFFECTIVE               2186 non-null   object  \n",
      " 25  DATE_EXPIRY                  2186 non-null   object  \n",
      " 26  AREA_ATTR_ID                 2186 non-null   float64 \n",
      " 27  AREA_TYPE_ID                 2186 non-null   float64 \n",
      " 28  PARENT_AREA_ID               2186 non-null   float64 \n",
      " 29  AREA_TYPE                    2186 non-null   object  \n",
      " 30  AREA_CLASS_ID                2186 non-null   float64 \n",
      " 31  AREA_CLASS                   2186 non-null   object  \n",
      " 32  AREA_SHORT_CODE              2186 non-null   object  \n",
      " 33  AREA_LONG_CODE               2186 non-null   object  \n",
      " 34  AREA_NAME                    2186 non-null   object  \n",
      " 35  AREA_DESC                    2186 non-null   object  \n",
      " 36  FEATURE_CODE                 2186 non-null   float64 \n",
      " 37  FEATURE_CODE_DESC            2186 non-null   object  \n",
      " 38  TRANS_ID_CREATE              2186 non-null   float64 \n",
      " 39  TRANS_ID_EXPIRE              2186 non-null   float64 \n",
      " 40  OBJECTID                     2186 non-null   float64 \n",
      "dtypes: float64(12), geometry(1), int64(2), object(26)\n",
      "memory usage: 717.3+ KB\n"
     ]
    }
   ],
   "source": [
    "join[~join.AREA_ID.isna()].info()"
   ]
  },
  {
   "cell_type": "code",
   "execution_count": 20,
   "metadata": {},
   "outputs": [
    {
     "data": {
      "application/vnd.plotly.v1+json": {
       "config": {
        "plotlyServerURL": "https://plot.ly"
       },
       "data": [
        {
         "customdata": [
          [
           "R54-4422376",
           "2014-05-15",
           "2015-09-10",
           "3380 midland ave, #19,toronto, on,canada,m1v 5b5",
           "Tang'S Family Restaurant Corp"
          ],
          [
           "R54-4652749",
           "2016-07-04",
           "2017-05-08",
           "canada,m1w",
           "Wang, Jing Jing"
          ],
          [
           "R54-4647703",
           "2016-03-29",
           "2017-06-23",
           "135 village green sq, #1225,toronto, on,canada,m1s 0g4",
           "Red-Tie Corp"
          ],
          [
           "R54-4931341",
           "2019-04-25",
           "2019-11-13",
           "52 sunmount rd,toronto, on,canada,m1t 2a6",
           "Madras Curry Inc"
          ],
          [
           "R54-4890709",
           "2018-12-11",
           "2019-12-19",
           "21 sheldonbury cres,toronto, on,canada,m1w 1k8",
           "Tryme Food Truck Inc"
          ],
          [
           "R54-5121790",
           "2021-08-09",
           "2022-02-12",
           "7 lynn gate cres,toronto, on,canada,m1t 2e1",
           "Food Monster Inc"
          ],
          [
           "R54-5118369",
           "2021-07-09",
           "2022-09-22",
           "52 sunmount rd,toronto, on,canada,m1t 2a6",
           "Madras Curry Inc"
          ],
          [
           "V15-3243202",
           "2002-07-26",
           "2003-03-31",
           "canada,m1t",
           "Hassan, Said Abdella"
          ],
          [
           "V15-2001574",
           "1990-06-29",
           "2004-03-31",
           "canada,m1w",
           "Mrakovcic, Marko"
          ],
          [
           "V15-0011492",
           "1983-12-16",
           "2005-11-04",
           "canada,m1w",
           "Hsiung, Chan-Chiao"
          ],
          [
           "V15-3097876",
           "1999-05-20",
           "2007-08-20",
           "canada,m1t",
           "Black, Joseph Lee"
          ],
          [
           "V15-3483222",
           "2004-09-28",
           "2008-12-29",
           "canada,m1t",
           "Yue, Donghui"
          ],
          [
           "V15-3135000",
           "2001-10-30",
           "2009-01-30",
           "2721 victoria park ave, #303,toronto, on,canada,m1t 3n6",
           "701449 Ontario Ltd"
          ],
          [
           "V15-0002830",
           "1974-10-15",
           "2010-01-15",
           "canada,m1w",
           "Mceachern, Thomas A"
          ],
          [
           "V15-3953838",
           "2009-08-14",
           "2012-11-14",
           "2543 pharmacy ave,toronto, on,canada,m1w 2k2",
           "7161905 Canada Inc"
          ],
          [
           "V15-4310437",
           "2013-08-02",
           "2015-11-02",
           "2543 pharmacy ave,toronto, on,canada,m1w 2k2",
           "7161905 Canada Inc"
          ],
          [
           "V15-4421380",
           "2014-05-14",
           "2016-08-14",
           "3380 midland ave, #19,toronto, on,canada,m1v 5b5",
           "Tang'S Family Restaurant Corp"
          ],
          [
           "V15-4650361",
           "2016-06-24",
           "2017-05-08",
           "canada,m1w",
           "Wang, Jing Jing"
          ],
          [
           "V15-4645350",
           "2016-03-23",
           "2017-06-23",
           "135 village green sq, #1225,toronto, on,canada,m1s 0g4",
           "Red-Tie Corp"
          ],
          [
           "V15-4925886",
           "2019-04-25",
           "2020-11-03",
           "52 sunmount rd,toronto, on,canada,m1t 2a6",
           "Madras Curry Inc"
          ],
          [
           "V15-5116926",
           "2021-06-24",
           "2022-09-22",
           "52 sunmount rd,toronto, on,canada,m1t 2a6",
           "Madras Curry Inc"
          ],
          [
           "V15-5120830",
           "2021-07-27",
           "2022-10-25",
           "7 lynn gate cres,toronto, on,canada,m1t 2e1",
           "Food Monster Inc"
          ],
          [
           "V15-4888355",
           "2018-12-11",
           null,
           "21 sheldonbury cres,toronto, on,canada,m1w 1k8",
           "Tryme Food Truck Inc"
          ],
          [
           "V27-2000028",
           "1990-03-20",
           "2005-04-02",
           "canada,m1w",
           "Zarafonitis, Eleni"
          ],
          [
           "V27-2024487",
           "1996-03-27",
           "2005-04-02",
           "34 eaglestone rd,toronto, on,canada,m1t 2j6",
           "Marinov,Koliu/Marinova,Tsvetelina"
          ],
          [
           "V27-3243300",
           "2002-05-31",
           "2005-04-02",
           "canada,m1t",
           "Somani, Saidali R"
          ],
          [
           "V27-2021916",
           "1995-06-13",
           "2005-07-01",
           "canada,m1t",
           "Popov, Krassimir Assenov"
          ],
          [
           "V27-3004163",
           "1997-04-01",
           "2005-07-01",
           "34 eaglestone rd,toronto, on,canada,m1t 2j6",
           "Marinov,Koliu/Marinova,Tsvetelina"
          ],
          [
           "V27-3081157",
           "1998-04-01",
           "2006-07-02",
           "canada,m1t",
           "Marinov, Svilen"
          ],
          [
           "V27-3501931",
           "2005-11-25",
           "2007-02-25",
           "23 fulbert cres,toronto, on,canada,m1s 1c2",
           "2083776 Ontario Ltd"
          ],
          [
           "V27-3501937",
           "2005-11-25",
           "2007-02-25",
           "23 fulbert cres,toronto, on,canada,m1s 1c2",
           "2083776 Ontario Ltd"
          ],
          [
           "V27-3501941",
           "2005-11-25",
           "2007-02-25",
           "23 fulbert cres,toronto, on,canada,m1s 1c2",
           "2083776 Ontario Ltd"
          ],
          [
           "V27-3598515",
           "2005-11-30",
           "2007-08-08",
           "canada,m1w",
           "Balingit, Lorena R"
          ],
          [
           "V27-2019993",
           "1994-12-22",
           "2009-03-24",
           "canada,m1t",
           "Ghandehari, Mohammad"
          ],
          [
           "V27-3109499",
           "2000-05-19",
           "2009-08-19",
           "canada,m1t",
           "Ghandehari, Mohammad"
          ],
          [
           "V27-3836337",
           "2008-04-15",
           "2010-07-16",
           "canada,m1t",
           "Marinov, Kolio Stefanov"
          ],
          [
           "V27-3008501",
           "1997-06-23",
           "2011-06-23",
           "canada,m1w",
           "Zarafonitis, Eleni"
          ],
          [
           "V27-2017196",
           "1994-03-31",
           "2011-07-01",
           "canada,m1t",
           "Ivanov, Ivan Ivanov"
          ],
          [
           "V27-3728325",
           "2007-10-01",
           "2011-09-19",
           "canada,m1t",
           "Hassannejad Moghadam, Babak"
          ],
          [
           "V27-2012381",
           "1993-03-10",
           "2012-06-10",
           "canada,m1w",
           "Boni, Mohammad Reza"
          ],
          [
           "V27-3360400",
           "2003-05-01",
           "2013-08-01",
           "canada,m1w",
           "Gilhooley, Kevin Christopher"
          ],
          [
           "V27-3836311",
           "2008-04-28",
           "2015-07-29",
           "canada,m1w",
           "Lobo, Sybil"
          ],
          [
           "V27-4657102",
           "2016-11-30",
           "2018-03-02",
           "20 arkona dr,toronto, on,canada,m1t 1x3",
           "Toronto'S Hot Dogs Inc"
          ],
          [
           "V27-4922856",
           "2019-05-23",
           "2019-10-17",
           "canada,m1t",
           "Gulam, Ahmad Shah"
          ],
          [
           "V27-3359086",
           "2003-04-17",
           "2020-10-14",
           "canada,m1t",
           "Rezaiy, Sharifa"
          ],
          [
           "V27-0016418",
           "1987-03-23",
           "2020-11-03",
           "canada,m1w",
           "Zarafonitis, Dimitrios"
          ],
          [
           "V27-4989996",
           "2019-12-03",
           "2021-05-12",
           "canada,m1t",
           "Khalfallah, Mohammed"
          ],
          [
           "V27-4070703",
           "2010-12-07",
           null,
           "42 sheldonbury cres,toronto, on,canada,m1w 1k9",
           "2220956 Ontario Inc"
          ],
          [
           "V27-5404262",
           "2024-01-16",
           null,
           "3405 kennedy rd,toronto, on,canada,m1v 4y3",
           "10527629 Canada Inc"
          ]
         ],
         "hovertemplate": "<b>%{hovertext}</b><br><br>AREA_NAME=Scarborough-Agincourt<br>latitude=%{lat}<br>longitude=%{lon}<br>Licence No.=%{customdata[0]}<br>Issued=%{customdata[1]}<br>Cancel Date=%{customdata[2]}<br>address=%{customdata[3]}<br>Client Name=%{customdata[4]}<extra></extra>",
         "hovertext": [
          null,
          null,
          null,
          null,
          null,
          null,
          null,
          null,
          null,
          null,
          null,
          "Derek. Yue Coffee",
          "701449 Ontario Ltd",
          "Meal Makers",
          null,
          null,
          "Tang'S Family Restaurant",
          "Rianbaby58",
          "Red Tie",
          "Madras Curry",
          "Madras Curry",
          "Food Monster",
          "Tryme Food Truck",
          null,
          "Marinova K & T",
          null,
          null,
          null,
          null,
          "Cornonthecob.Ca",
          "Cornonthecob.Ca",
          "Cornonthecob.Ca",
          "Grille & Chillin Cafe On The Go",
          null,
          null,
          null,
          null,
          null,
          null,
          null,
          "The Housecoatguy Ventures",
          null,
          "Toronto'S Hot Dogs",
          "City Hot Dog",
          null,
          "Jim'S Hot Dogs",
          "Yammy Hot Dog",
          null,
          "Kulcha Bites & Street Food"
         ],
         "lat": [
          43.80930269,
          43.80139584,
          43.77787231,
          43.77705881,
          43.7868619,
          43.7775546,
          43.77705881,
          43.78155863,
          43.80139584,
          43.80139584,
          43.78155863,
          43.78155863,
          43.7766877,
          43.80139584,
          43.7931249,
          43.7931249,
          43.80930269,
          43.80139584,
          43.77787231,
          43.77705881,
          43.77705881,
          43.7775546,
          43.7868619,
          43.80139584,
          43.78367439,
          43.78155863,
          43.78155863,
          43.78367439,
          43.78155863,
          43.78977399,
          43.78977399,
          43.78977399,
          43.80139584,
          43.78155863,
          43.78155863,
          43.78155863,
          43.80139584,
          43.78155863,
          43.78155863,
          43.80139584,
          43.80139584,
          43.80139584,
          43.77357181,
          43.78155863,
          43.78155863,
          43.80139584,
          43.78155863,
          43.78818159,
          43.81880001
         ],
         "legendgroup": "Scarborough-Agincourt",
         "lon": [
          -79.29034647,
          -79.32141161,
          -79.28075061,
          -79.29752297,
          -79.31723016,
          -79.30139759,
          -79.29752297,
          -79.30307906,
          -79.32141161,
          -79.32141161,
          -79.30307906,
          -79.30307906,
          -79.32296229,
          -79.32141161,
          -79.32502198,
          -79.32502198,
          -79.29034647,
          -79.32141161,
          -79.28075061,
          -79.29752297,
          -79.29752297,
          -79.30139759,
          -79.31723016,
          -79.32141161,
          -79.30457952,
          -79.30307906,
          -79.30307906,
          -79.30457952,
          -79.30307906,
          -79.29023063,
          -79.29023063,
          -79.29023063,
          -79.32141161,
          -79.30307906,
          -79.30307906,
          -79.30307906,
          -79.32141161,
          -79.30307906,
          -79.30307906,
          -79.32141161,
          -79.32141161,
          -79.32141161,
          -79.30508177,
          -79.30307906,
          -79.30307906,
          -79.32141161,
          -79.30307906,
          -79.31846867,
          -79.30443427
         ],
         "marker": {
          "color": "#EF553B"
         },
         "mode": "markers",
         "name": "Scarborough-Agincourt",
         "showlegend": true,
         "subplot": "mapbox",
         "type": "scattermapbox"
        },
        {
         "customdata": [
          [
           "R54-4424708",
           "2014-07-09",
           "2015-10-08",
           "canada,m6k",
           "Insrichiengmai, Susan"
          ],
          [
           "R54-4648879",
           "2016-04-26",
           "2017-03-07",
           "canada,m6k",
           "Kalden, Tenzin"
          ],
          [
           "R54-4710719",
           "2017-03-07",
           "2018-03-26",
           "canada,m6k",
           "Kalden, Tenzin"
          ],
          [
           "R54-4816073",
           "2018-04-03",
           "2019-01-31",
           "canada,m6k",
           "Navaratnam, Shantharuban"
          ],
          [
           "R54-4819682",
           "2018-03-26",
           "2019-01-31",
           "canada,m6k",
           "Kalden, Tenzin"
          ],
          [
           "R54-4929815",
           "2019-04-18",
           "2019-11-13",
           "canada,m6k",
           "Kalden, Tenzin"
          ],
          [
           "R54-5018669",
           "2020-03-13",
           "2020-09-22",
           "canada,m6s",
           "Navaratnam, Shantharuban"
          ],
          [
           "R54-5117828",
           "2021-06-29",
           "2022-01-05",
           "108 gothic ave,toronto, on,canada,m6p 2v9",
           "Stage 21 Inc"
          ],
          [
           "V15-0011393",
           "1983-10-14",
           "2004-03-26",
           "canada,m6p",
           "Chronopoulos, Anthony John"
          ],
          [
           "V15-4180862",
           "2011-04-27",
           "2011-05-02",
           "477 windemere ave,toronto, on,canada,m6s 3l5",
           "Mister Softee Inc"
          ],
          [
           "V15-4071072",
           "2010-07-29",
           "2011-10-29",
           "2938 dundas st w, box 70565,toronto, on,canada,m6p 1y8",
           "1186645 Ontario Ltd"
          ],
          [
           "V15-0007698",
           "1981-07-02",
           "2012-10-02",
           "canada,m6s",
           "Mazomenos, Nicolas"
          ],
          [
           "V15-4297165",
           "2012-08-13",
           "2014-11-13",
           "2473 dundas st w,toronto, on,canada,m6p 1x3",
           "1251362 Ontario Ltd"
          ],
          [
           "V15-4424104",
           "2014-07-08",
           "2015-10-08",
           "canada,m6k",
           "Insrichiengmai, Susan"
          ],
          [
           "V15-3843527",
           "2009-02-06",
           "2016-05-08",
           "canada,m6k",
           "Lewis, Michael"
          ],
          [
           "V15-4537485",
           "2015-07-31",
           "2016-10-31",
           "2473 dundas st w,toronto, on,canada,m6p 1x3",
           "1251362 Ontario Ltd"
          ],
          [
           "V15-4537252",
           "2015-06-09",
           "2017-09-09",
           "1690 queen st w,toronto, on,canada,m6r 1b3",
           "8812772 Canada Ltd"
          ],
          [
           "V15-4424228",
           "2014-06-30",
           "2017-09-30",
           "15 lincoln ave,toronto, on,canada,m6p 1m7",
           "Honey Dawg Inc"
          ],
          [
           "V15-4682936",
           "2016-11-23",
           "2019-02-23",
           "1330 queen st w,toronto, on,canada,m6k 1l4",
           "7843658 Canada Inc"
          ],
          [
           "V15-0003234",
           "1974-05-01",
           "2020-11-03",
           "canada,m6s",
           "Mazomenos, Nicolas"
          ],
          [
           "V15-4181304",
           "2011-05-02",
           "2022-08-01",
           "canada,m6s",
           "Mazomenos, Nicolas"
          ],
          [
           "V15-4536717",
           "2015-07-07",
           "2023-01-24",
           "2938 dundas st w, box 70565,toronto, on,canada,m6p 1y8",
           "1186645 Ontario Ltd"
          ],
          [
           "V15-5203305",
           "2022-04-27",
           "2023-07-26",
           "2938 dundas st w, box 70565,toronto, on,canada,m6p 1y8",
           "1186645 Ontario Ltd"
          ],
          [
           "V15-4648375",
           "2016-04-26",
           null,
           "canada,m6p",
           "Kalden, Tenzin"
          ],
          [
           "V15-5025560",
           "2020-07-24",
           null,
           "108 gothic ave,toronto, on,canada,m6p 2v9",
           "Stage 21 Inc"
          ],
          [
           "V15-5203300",
           "2022-04-27",
           null,
           "2938 dundas st w, box 70565,toronto, on,canada,m6p 1y8",
           "1186645 Ontario Ltd"
          ],
          [
           "V15-5210462",
           "2022-06-28",
           null,
           "108 gothic ave,toronto, on,canada,m6p 2v9",
           "Stage 21 Inc"
          ],
          [
           "V27-0018281",
           "1987-10-28",
           "2003-03-31",
           "canada,m6k",
           "Siwik, Mariusz Josef"
          ],
          [
           "V27-2018012",
           "1994-06-02",
           "2003-03-31",
           "canada,m6k",
           "Wegiel, Stefan"
          ],
          [
           "V27-3111747",
           "2000-08-18",
           "2003-03-31",
           "canada,m6k",
           "Ursomarzo, Lorraine"
          ],
          [
           "V27-3242173",
           "2002-04-19",
           "2003-03-31",
           "canada,m6s",
           "Muskala, Marian"
          ],
          [
           "V27-2020888",
           "1995-03-16",
           "2003-04-16",
           "canada,m6s",
           "Douldouras, John Ioanis"
          ],
          [
           "V27-1000635",
           "1988-08-08",
           "2005-03-07",
           "canada,m6p",
           "Chronopoulos, Besse Vasiliki"
          ],
          [
           "V27-3362543",
           "2003-06-13",
           "2005-07-01",
           "canada,m6k",
           "Manfredi, Arthur"
          ],
          [
           "V27-3362555",
           "2003-06-13",
           "2005-07-01",
           "canada,m6k",
           "Manfredi, Arthur"
          ],
          [
           "V27-3362556",
           "2003-06-13",
           "2005-07-01",
           "canada,m6k",
           "Manfredi, Arthur"
          ],
          [
           "V27-3362558",
           "2003-06-13",
           "2005-07-01",
           "canada,m6k",
           "Manfredi, Arthur"
          ],
          [
           "V27-3362559",
           "2003-06-13",
           "2005-07-01",
           "canada,m6k",
           "Manfredi, Arthur"
          ],
          [
           "V27-3362560",
           "2003-06-13",
           "2005-07-01",
           "canada,m6k",
           "Manfredi, Arthur"
          ],
          [
           "V27-3362561",
           "2003-06-13",
           "2005-07-01",
           "canada,m6k",
           "Manfredi, Arthur"
          ],
          [
           "V27-3362563",
           "2003-06-13",
           "2005-07-01",
           "canada,m6k",
           "Manfredi, Arthur"
          ],
          [
           "V27-3482734",
           "2004-09-09",
           "2005-12-10",
           "canada,m6k",
           "Dhar, Sajal Chandra"
          ],
          [
           "V27-3360087",
           "2003-07-25",
           "2005-12-21",
           "canada,m6s",
           "Douldouras, Niki"
          ],
          [
           "V27-0019156",
           "1988-04-12",
           "2007-07-13",
           "canada,m6k",
           "Szczepanczyk, Aleksandra Katarzyna"
          ],
          [
           "V27-3482382",
           "2005-03-07",
           "2009-08-19",
           "62 clendenan ave,toronto, on,canada,m6p 2w5",
           "1626771 Ontario Inc"
          ],
          [
           "V27-3730271",
           "2008-04-04",
           "2009-08-19",
           "canada,m6p",
           "Babjak, Jergus"
          ],
          [
           "V27-3954444",
           "2009-10-13",
           "2011-01-13",
           "canada,m6r",
           "Shamsah, Sari Rizik Issa"
          ],
          [
           "V27-3959146",
           "2010-03-12",
           "2011-06-12",
           "145 roncesvalles ave,toronto, on,canada,m6r 2l2",
           "1807970 Ontario Corp"
          ],
          [
           "V27-2015273",
           "1993-09-21",
           "2011-12-22",
           "canada,m6s",
           "Mazomenos, Nicolas"
          ],
          [
           "V27-4295059",
           "2012-06-01",
           "2013-09-01",
           "canada,m6k",
           "Paul, Lisa N"
          ],
          [
           "V27-4296438",
           "2012-06-21",
           "2013-09-21",
           "canada,m6p",
           "Pawlowski, Krzysztof"
          ],
          [
           "V27-4200946",
           "2012-11-09",
           "2014-02-09",
           "canada,m6r",
           "Haque, Md Alaul"
          ],
          [
           "V27-1004959",
           "1990-03-09",
           "2014-06-09",
           "canada,m6k",
           "Czyzewski, Urszula"
          ],
          [
           "V27-4419833",
           "2014-04-08",
           "2014-09-23",
           "canada,m6k",
           "Ellis, Durant Dwayne"
          ],
          [
           "V27-4309571",
           "2013-06-26",
           "2014-09-26",
           "canada,m6r",
           "Bogin, Sasha Genevieve"
          ],
          [
           "V27-3122957",
           "2001-04-01",
           "2015-03-30",
           "canada,m6r",
           "Kevic, Dragosav"
          ],
          [
           "V27-2001883",
           "1990-07-26",
           "2015-10-26",
           "canada,m6r",
           "Karopoulou, Georgia"
          ],
          [
           "V27-4427991",
           "2014-10-20",
           "2016-01-20",
           "canada,m6k",
           "Ellis, Durant Dwayne"
          ],
          [
           "V27-4532587",
           "2015-03-06",
           "2016-06-06",
           "108 pine crest rd,toronto, on,canada,m6p 3g5",
           "Premium Near Beer Ltd"
          ],
          [
           "V27-2020673",
           "1995-04-01",
           "2016-07-02",
           "canada,m6k",
           "Slodowy, Marek Jaroslaw"
          ],
          [
           "V27-4537170",
           "2015-06-02",
           "2017-09-02",
           "canada,m6p",
           "Stanleigh, Cynthia Barbara"
          ],
          [
           "V27-4719113",
           "2017-06-06",
           "2018-09-06",
           "canada,m6k",
           "Illes, Ferenc"
          ],
          [
           "V27-4317072",
           "2014-02-04",
           "2019-05-07",
           "canada,m6k",
           "Karaceper, Murat"
          ],
          [
           "V27-4719682",
           "2017-06-23",
           "2019-09-23",
           "canada,m6k",
           "Boers, Lucas"
          ],
          [
           "V27-4737128",
           "2017-09-15",
           "2019-12-16",
           "canada,m6k",
           "Bradley, Tracy Michelle"
          ],
          [
           "V27-4715389",
           "2017-04-17",
           "2023-07-17",
           "245 jane st,toronto, on,canada,m6s 3y8",
           "Little Havana Cafe Inc"
          ],
          [
           "V27-5203312",
           "2022-04-27",
           "2023-07-26",
           "2938 dundas st w, box 70565,toronto, on,canada,m6p 1y8",
           "1186645 Ontario Ltd"
          ],
          [
           "V27-5203313",
           "2022-04-27",
           "2023-07-26",
           "2938 dundas st w, box 70565,toronto, on,canada,m6p 1y8",
           "1186645 Ontario Ltd"
          ],
          [
           "V27-5203355",
           "2022-04-27",
           "2023-07-26",
           "2938 dundas st w, box 70565,toronto, on,canada,m6p 1y8",
           "1186645 Ontario Ltd"
          ],
          [
           "V27-0018299",
           "1987-10-28",
           null,
           "canada,m6k",
           "Slodowy, Andrzej Szczepan"
          ],
          [
           "V27-4537362",
           "2015-06-08",
           null,
           "1601 lake shore blvd w,toronto, on,canada,m6k 3c1",
           "Palais Royale Corp"
          ],
          [
           "V27-5223378",
           "2022-09-20",
           null,
           "canada,m6p",
           "Kalden, Tenzin"
          ],
          [
           "R56-4935639",
           "2019-05-09",
           "2019-11-19",
           "canada,m6s",
           "Mazomenos, Nicolas"
          ]
         ],
         "hovertemplate": "<b>%{hovertext}</b><br><br>AREA_NAME=Parkdale-High Park<br>latitude=%{lat}<br>longitude=%{lon}<br>Licence No.=%{customdata[0]}<br>Issued=%{customdata[1]}<br>Cancel Date=%{customdata[2]}<br>address=%{customdata[3]}<br>Client Name=%{customdata[4]}<extra></extra>",
         "hovertext": [
          null,
          null,
          null,
          null,
          null,
          null,
          null,
          null,
          "Ideal Catering",
          "Mister Softee",
          null,
          "Mr Softee",
          null,
          "Good Pho U",
          "Corny'S Kitchen",
          null,
          "Mata Petisco Bar",
          "Macchina Mobile Cafe",
          "Grand Electric",
          "Mister Softee",
          "Mister Softee",
          null,
          null,
          "Feed The 6",
          "Stage 21",
          null,
          "Stage 21",
          null,
          null,
          "Lolli'S",
          null,
          null,
          null,
          null,
          null,
          null,
          null,
          null,
          null,
          null,
          null,
          null,
          null,
          null,
          "Besse",
          null,
          null,
          null,
          "Mr Softee",
          "Ice-Pop Art",
          "Cositas Services",
          null,
          null,
          null,
          "Frozen Bogin'S",
          null,
          null,
          null,
          "Premium Near Beer",
          null,
          "Coco Bananaz",
          null,
          null,
          "Manipura Doubles",
          null,
          "Little Havana Cafe",
          null,
          null,
          null,
          null,
          "Palais Royale Ballroom",
          "Feed The 6",
          null
         ],
         "lat": [
          43.63794387,
          43.63794387,
          43.63794387,
          43.63794387,
          43.63794387,
          43.63794387,
          43.6501631,
          43.65604332,
          43.66081818,
          43.651163,
          43.66572169,
          43.6501631,
          43.65968861,
          43.63794387,
          43.63794387,
          43.65968861,
          43.63931032,
          43.65957009,
          43.64178708,
          43.6501631,
          43.6501631,
          43.66572169,
          43.66572169,
          43.66081818,
          43.65604332,
          43.66572169,
          43.65604332,
          43.63794387,
          43.63794387,
          43.63794387,
          43.6501631,
          43.6501631,
          43.66081818,
          43.63794387,
          43.63794387,
          43.63794387,
          43.63794387,
          43.63794387,
          43.63794387,
          43.63794387,
          43.63794387,
          43.63794387,
          43.6501631,
          43.63794387,
          43.65337901,
          43.66081818,
          43.64756259,
          43.64359531,
          43.6501631,
          43.63794387,
          43.66081818,
          43.64756259,
          43.63794387,
          43.63794387,
          43.64756259,
          43.64756259,
          43.64756259,
          43.63794387,
          43.65861749,
          43.63794387,
          43.66081818,
          43.63794387,
          43.63794387,
          43.63794387,
          43.63794387,
          43.65535521,
          43.66572169,
          43.66572169,
          43.66572169,
          43.63794387,
          43.63672131,
          43.66081818,
          43.6501631
         ],
         "legendgroup": "Parkdale-High Park",
         "lon": [
          -79.42996248,
          -79.42996248,
          -79.42996248,
          -79.42996248,
          -79.42996248,
          -79.42996248,
          -79.4798903,
          -79.46925769,
          -79.46429777,
          -79.48048256,
          -79.46752213,
          -79.4798903,
          -79.45389349,
          -79.42996248,
          -79.42996248,
          -79.45389349,
          -79.44464222,
          -79.4780032,
          -79.43160274,
          -79.4798903,
          -79.4798903,
          -79.46752213,
          -79.46752213,
          -79.46429777,
          -79.46925769,
          -79.46752213,
          -79.46925769,
          -79.42996248,
          -79.42996248,
          -79.42996248,
          -79.4798903,
          -79.4798903,
          -79.46429777,
          -79.42996248,
          -79.42996248,
          -79.42996248,
          -79.42996248,
          -79.42996248,
          -79.42996248,
          -79.42996248,
          -79.42996248,
          -79.42996248,
          -79.4798903,
          -79.42996248,
          -79.47063844,
          -79.46429777,
          -79.44987589,
          -79.44774226,
          -79.4798903,
          -79.42996248,
          -79.46429777,
          -79.44987589,
          -79.42996248,
          -79.42996248,
          -79.44987589,
          -79.44987589,
          -79.44987589,
          -79.42996248,
          -79.46966236,
          -79.42996248,
          -79.46429777,
          -79.42996248,
          -79.42996248,
          -79.42996248,
          -79.42996248,
          -79.48669087,
          -79.46752213,
          -79.46752213,
          -79.46752213,
          -79.42996248,
          -79.44718101,
          -79.46429777,
          -79.4798903
         ],
         "marker": {
          "color": "#00cc96"
         },
         "mode": "markers",
         "name": "Parkdale-High Park",
         "showlegend": true,
         "subplot": "mapbox",
         "type": "scattermapbox"
        },
        {
         "customdata": [
          [
           "R54-4537727",
           "2015-06-11",
           "2016-01-12",
           "canada,m5t",
           "Caplansky, Zane G"
          ],
          [
           "R54-4703555",
           "2017-01-23",
           "2017-10-10",
           "750 college st,toronto, on,canada,m6g 1c4",
           "Alfaro,Rene Juan/Yumbla Velez,Antonio Luis"
          ],
          [
           "R54-4729252",
           "2017-07-17",
           "2018-03-12",
           "74 ulster st,toronto, on,canada,m5s 1e7",
           "Toronto Grills Jalil Dizaji Inc"
          ],
          [
           "R54-4815468",
           "2018-03-12",
           "2019-01-31",
           "74 ulster st,toronto, on,canada,m5s 1e7",
           "Toronto Grills Jalil Dizaji Inc"
          ],
          [
           "R54-4846219",
           "2018-07-11",
           "2019-01-31",
           "796 bloor st w,toronto, on,canada,m6g 1l7",
           "Toronto Softech Inc"
          ],
          [
           "R54-4935169",
           "2019-05-08",
           "2019-11-16",
           "235 bloor st e, #505,toronto, on,canada,m4w 3y3",
           "Vibes Of Tehran Inc"
          ],
          [
           "R54-4939625",
           "2019-05-24",
           "2019-12-03",
           "74 ulster st,toronto, on,canada,m5s 1e7",
           "Toronto Grills Jalil Dizaji Inc"
          ],
          [
           "R54-4814907",
           "2018-03-08",
           "2020-03-17",
           "440 spadina ave,toronto, on,canada,m5t 2g8",
           "Tasty China Restaurant Corp"
          ],
          [
           "R54-5020370",
           "2020-06-04",
           "2020-12-12",
           "214 augusta ave,toronto, on,canada,m5t 2l6",
           "Pancho'S Bakery Inc"
          ],
          [
           "R54-5022935",
           "2020-07-07",
           "2021-05-14",
           "74 ulster st,toronto, on,canada,m5s 1e7",
           "Toronto Grills Jalil Dizaji Inc"
          ],
          [
           "R54-5030078",
           "2020-08-26",
           "2021-05-14",
           "canada,m5g",
           "Liu, Mingqiang"
          ],
          [
           "R54-5045664",
           "2020-12-03",
           "2021-12-10",
           "18 elm st,toronto, on,canada,m5g 1g7",
           "Bangkok Garden Inc"
          ],
          [
           "R54-5200839",
           "2022-02-04",
           "2022-11-10",
           "18 elm st,toronto, on,canada,m5g 1g7",
           "Bangkok Garden Inc"
          ],
          [
           "R54-5212759",
           "2022-06-15",
           "2022-12-21",
           "canada,m5g",
           "Liu, Mingqiang"
          ],
          [
           "R54-5318463",
           "2023-04-05",
           "2023-10-12",
           "canada,m6g",
           "Kalogridis, Elefterios (Terry)"
          ],
          [
           "R54-5117840",
           "2021-07-16",
           null,
           "74 ulster st,toronto, on,canada,m5s 1e7",
           "Toronto Grills Jalil Dizaji Inc"
          ],
          [
           "R54-5300954",
           "2023-01-11",
           null,
           "203 college st, #1301,toronto, on,canada,m5t 0c8",
           "1000316661 Ontario Corporation"
          ],
          [
           "R54-5315787",
           "2023-04-12",
           null,
           "111 queen's pk,toronto, on,canada,m5s 2c7",
           "The Food Dudes Inc"
          ],
          [
           "R54-5345812",
           "2023-08-04",
           null,
           "241 augusta ave,toronto, on,canada,m5t 2l8",
           "Ton Of Juice Plus Inc"
          ],
          [
           "V15-3365485",
           "2003-08-08",
           "2005-04-02",
           "canada,m5r",
           "Gabrielsson, Hanna Magdalena"
          ],
          [
           "V15-3108262",
           "2000-04-28",
           "2005-07-01",
           "canada,m6g",
           "Dalekos, Georgios Ioannis"
          ],
          [
           "V15-4419353",
           "2014-04-03",
           "2015-07-04",
           "424 college st,toronto, on,canada,m5t 1t3",
           "8793654 Canada Inc"
          ],
          [
           "V15-4189125",
           "2011-11-22",
           "2016-01-12",
           "canada,m6g",
           "Caplansky, Zane G"
          ],
          [
           "V15-4536934",
           "2015-06-12",
           "2017-08-04",
           "canada,m5t",
           "Gallucci, Sebastian Diego"
          ],
          [
           "V15-2018404",
           "1994-06-29",
           "2017-09-29",
           "canada,m6g",
           "Demos, Philip"
          ],
          [
           "V15-4310755",
           "2013-07-22",
           "2017-10-22",
           "canada,m5r",
           "Chaikin, Tamara"
          ],
          [
           "V15-4648847",
           "2016-11-04",
           "2018-02-04",
           "canada,m5t",
           "Caplansky, Zane G"
          ],
          [
           "V15-4688347",
           "2017-01-23",
           "2018-04-25",
           "750 college st,toronto, on,canada,m6g 1c4",
           "Alfaro,Rene Juan/Yumbla Velez,Antonio Luis"
          ],
          [
           "V15-4541536",
           "2016-03-30",
           "2019-06-30",
           "111 queens pk, fl3,toronto, on,canada,m5s 2c7",
           "The Food Dudes Inc"
          ],
          [
           "V15-4655237",
           "2016-08-18",
           "2019-11-18",
           "719 college st,toronto, on,canada,m6g 1c2",
           "Burgatory Food Truck Corp"
          ],
          [
           "V15-1004173",
           "1989-10-06",
           "2020-01-06",
           "canada,m6g",
           "Demos, George"
          ],
          [
           "V15-4306612",
           "2013-04-05",
           "2020-10-14",
           "canada,m6g",
           "Mavromihelakis, John"
          ],
          [
           "V15-4710860",
           "2017-06-22",
           "2020-11-03",
           "38 elm st, #1211,toronto, on,canada,m5g 2k5",
           "Wrap N Roll Ltd"
          ],
          [
           "V15-4844261",
           "2018-07-06",
           "2020-11-03",
           "796 bloor st w,toronto, on,canada,m6g 1l7",
           "Toronto Softech Inc"
          ],
          [
           "V15-4922400",
           "2019-04-11",
           "2020-11-03",
           "235 bloor st e, #505,toronto, on,canada,m4w 3y3",
           "Vibes Of Tehran Inc"
          ],
          [
           "V15-4811038",
           "2018-02-22",
           "2021-07-23",
           "440 spadina ave,toronto, on,canada,m5t 2g8",
           "Tasty China Restaurant Corp"
          ],
          [
           "V15-5025201",
           "2020-08-19",
           "2022-11-18",
           "249 augusta ave,toronto, on,canada,m5t 2l8",
           "1862072 Ontario Inc"
          ],
          [
           "V15-5039087",
           "2020-10-21",
           "2023-01-20",
           "18 elm st,toronto, on,canada,m5g 1g7",
           "Bangkok Garden Inc"
          ],
          [
           "V15-4424178",
           "2014-08-07",
           null,
           "111 queen's pk,toronto, on,canada,m5s 2c7",
           "The Food Dudes Inc"
          ],
          [
           "V15-4653709",
           "2016-07-28",
           null,
           "74 ulster st,toronto, on,canada,m5s 1e7",
           "Toronto Grills Jalil Dizaji Inc"
          ],
          [
           "V15-4744972",
           "2017-10-27",
           null,
           "canada,m6g",
           "Kalogridis, Elefterios (Terry)"
          ],
          [
           "V15-5020236",
           "2020-06-05",
           null,
           "214 augusta ave,toronto, on,canada,m5t 2l6",
           "Pancho'S Bakery Inc"
          ],
          [
           "V15-5238601",
           "2022-12-07",
           null,
           "203 college st, #1301,toronto, on,canada,m5t 0c8",
           "1000316661 Ontario Corporation"
          ],
          [
           "V15-5342611",
           "2023-07-31",
           null,
           "241 augusta ave,toronto, on,canada,m5t 2l8",
           "Ton Of Juice Plus Inc"
          ],
          [
           "V27-3012783",
           "1998-01-16",
           "2003-03-31",
           "canada,m5r",
           "Samimi-Sedeh, Manoochehr"
          ],
          [
           "V27-3113064",
           "2000-11-06",
           "2003-03-31",
           "canada,m6g",
           "Konoi, Abdol Rasoul"
          ],
          [
           "V27-0015337",
           "1986-05-13",
           "2005-04-02",
           "canada,m5s",
           "Karagianis, Nicolaos"
          ],
          [
           "V27-2007916",
           "1992-03-13",
           "2005-04-02",
           "canada,m6g",
           "Sarantakos, Poulikos"
          ],
          [
           "V27-2022819",
           "1995-09-12",
           "2005-04-02",
           "canada,m5t",
           "Tang, Shu Ming"
          ],
          [
           "V27-3244555",
           "2002-06-05",
           "2005-04-02",
           "canada,m5r",
           "Quesnelle, Angelita"
          ],
          [
           "V27-0015444",
           "1986-05-22",
           "2005-07-01",
           "canada,m6g",
           "Manolakos, George"
          ],
          [
           "V27-2012808",
           "1993-04-07",
           "2005-07-01",
           "canada,m6g",
           "Konoi, Abdol Rasoul"
          ],
          [
           "V27-3477575",
           "2004-05-18",
           "2005-07-01",
           "737 euclid ave, bsmt,toronto, on,canada,m6g 2v1",
           "African Springs Inc"
          ],
          [
           "V27-0014397",
           "1985-09-26",
           "2005-12-27",
           "canada,m6g",
           "Kalogridis, Theodoros"
          ],
          [
           "V27-3594920",
           "2005-06-08",
           "2007-10-23",
           "133 yorkville ave,toronto, on,canada,m5r 1c4",
           "Frl Consulting Ltd"
          ],
          [
           "V27-3128581",
           "2001-07-27",
           "2007-10-27",
           "canada,m5r",
           "Esfandiary Yeganeh, Ali"
          ],
          [
           "V27-3113937",
           "2000-10-27",
           "2008-01-27",
           "canada,m5r",
           "Esfandiary Yeganeh, Ali"
          ],
          [
           "V27-2001619",
           "1990-07-03",
           "2008-10-03",
           "canada,m5t",
           "Majrooh, Abdul Khaliq"
          ],
          [
           "V27-3726336",
           "2007-08-21",
           "2008-11-21",
           "canada,m5r",
           "Block, Christina"
          ],
          [
           "V27-0016756",
           "1987-04-23",
           "2009-08-19",
           "canada,m5t",
           "Nowak, Tadeusz"
          ],
          [
           "V27-1002037",
           "1989-04-27",
           "2009-08-19",
           "canada,m6g",
           "Szymczakowska, Lucja"
          ],
          [
           "V27-3952086",
           "2009-05-15",
           "2010-08-15",
           "canada,m5t",
           "Ahmad, Seemab"
          ],
          [
           "V27-3837751",
           "2009-06-09",
           "2013-09-09",
           "canada,m5t",
           "Majrooh, Maryam"
          ],
          [
           "V27-3955107",
           "2009-08-17",
           "2013-10-03",
           "canada,m5t",
           "Wali, Mohammad Zahir"
          ],
          [
           "V27-4314994",
           "2013-10-29",
           "2015-01-29",
           "canada,m5s",
           "Arab, Azam"
          ],
          [
           "V27-4425695",
           "2014-09-26",
           "2015-07-27",
           "canada,m5t",
           "Kamal, Aziz Khan"
          ],
          [
           "V27-4293523",
           "2012-06-15",
           "2015-09-15",
           "canada,m5t",
           "Ahmad, Seemab"
          ],
          [
           "V27-4424898",
           "2014-07-17",
           "2015-10-17",
           "canada,m6g",
           "Prokos, Ioannis"
          ],
          [
           "V27-0010825",
           "1983-06-08",
           "2016-09-01",
           "canada,m6g",
           "Posch, Tony"
          ],
          [
           "V27-4535955",
           "2015-07-23",
           "2016-10-23",
           "99 yorkville ave, #3 lwr lvl,toronto, on,canada,m5r 1c1",
           "Sunshine Organic Juice Company Inc"
          ],
          [
           "V27-0018737",
           "1988-03-16",
           "2017-06-16",
           "canada,m5t",
           "Nowak, Izabela"
          ],
          [
           "V27-4650426",
           "2016-05-31",
           "2017-08-31",
           "618 clinton st,toronto, on,canada,m6g 2z7",
           "Loco Paletas Inc"
          ],
          [
           "V27-4650430",
           "2016-05-31",
           "2017-08-31",
           "618 clinton st,toronto, on,canada,m6g 2z7",
           "Loco Paletas Inc"
          ],
          [
           "V27-2021826",
           "1995-06-02",
           "2019-09-02",
           "canada,m5r",
           "Moroney, Marianne"
          ],
          [
           "V27-4747550",
           "2017-11-13",
           "2020-02-13",
           "canada,m6g",
           "Addesi, Francesco"
          ],
          [
           "V27-4292079",
           "2012-05-29",
           "2020-11-03",
           "canada,m5s",
           "Dizaji, Jalil"
          ],
          [
           "V27-4843326",
           "2018-06-29",
           "2020-11-03",
           "canada,m6g",
           "Harley, James Rupert Lukas"
          ],
          [
           "V27-5115152",
           "2021-05-31",
           "2022-08-30",
           "30 mansfield ave,toronto, on,canada,m6j 2b1",
           "11663372 Canada Inc"
          ],
          [
           "V27-2007910",
           "1992-03-13",
           null,
           "canada,m6g",
           "Prokos, Konstadinos"
          ],
          [
           "V27-2008877",
           "1992-05-12",
           null,
           "canada,m6g",
           "Prokos, Maria"
          ],
          [
           "V27-3598082",
           "2005-09-15",
           null,
           "64 garnet ave,toronto, on,canada,m6g 1v7",
           "1623119 Ontario Inc"
          ],
          [
           "V27-4064324",
           "2010-02-19",
           null,
           "100 st george st,toronto, on,canada,m5s 3g3",
           "1626771 Ontario Inc"
          ],
          [
           "V27-5211320",
           "2022-06-16",
           null,
           "873 bloor st w,toronto, on,canada,m6g 1m4",
           "Bloomer'S Vegan Foods Inc"
          ],
          [
           "R56-4535155",
           "2015-04-14",
           "2017-04-07",
           "canada,m6g",
           "Mavromihelakis, John"
          ],
          [
           "R56-4424332",
           "2014-06-30",
           "2017-09-29",
           "canada,m6g",
           "Demos, Philip"
          ],
          [
           "R56-4715364",
           "2017-04-07",
           "2018-09-10",
           "canada,m6g",
           "Mavromihelakis, John"
          ],
          [
           "R56-4422413",
           "2014-05-16",
           "2019-01-31",
           "canada,m6g",
           "Demos, George"
          ],
          [
           "R56-4826538",
           "2018-04-26",
           "2019-01-31",
           "canada,m6g",
           "Mavromihelakis, John"
          ],
          [
           "R56-4829456",
           "2018-05-08",
           "2019-02-01",
           "canada,m6g",
           "Demos, George"
          ],
          [
           "R56-4928564",
           "2019-04-15",
           "2019-11-13",
           "canada,m6g",
           "Mavromihelakis, John"
          ],
          [
           "R56-4935228",
           "2019-05-09",
           "2020-01-06",
           "canada,m6g",
           "Demos, George"
          ],
          [
           "R56-4830071",
           "2018-05-09",
           "2020-08-05",
           "canada,m6g",
           "Kalogridis, Elefterios (Terry)"
          ],
          [
           "R56-5225753",
           "2022-09-09",
           "2023-09-16",
           "canada,m6g",
           "Kalogridis, Elefterios (Terry)"
          ]
         ],
         "hovertemplate": "<b>%{hovertext}</b><br><br>AREA_NAME=University-Rosedale<br>latitude=%{lat}<br>longitude=%{lon}<br>Licence No.=%{customdata[0]}<br>Issued=%{customdata[1]}<br>Cancel Date=%{customdata[2]}<br>address=%{customdata[3]}<br>Client Name=%{customdata[4]}<extra></extra>",
         "hovertext": [
          null,
          null,
          null,
          null,
          null,
          null,
          null,
          null,
          null,
          null,
          null,
          null,
          null,
          null,
          null,
          "Toronto Grills Jalil Dizaji",
          "U Tea Milk Tea",
          "The Food Dudes",
          "Ton Of Juice Plus",
          "Freja H.M.",
          null,
          "La Loteria",
          "Caplansky'S Delimobile",
          "Che",
          "Dairy Village Treats",
          "Localista",
          "Caplansky'S Deli",
          "Que Rico",
          "The Food Dudes",
          "Burgatory Food Truck",
          "Village Dairy",
          "Dairy Belle",
          "Kitchen Empire",
          "Banjara Indian Cusine",
          "Vibes Of Tehran",
          "98 Aroma Restaurant",
          "Bacon Nation",
          "Bangkok Garden",
          "The Food Dudes",
          "Toronto Grills Jalil Dizaji",
          "Summer Santa Ice Cream",
          null,
          "U Tea Milk Tea",
          "Ton Of Juice Plus",
          null,
          null,
          null,
          null,
          null,
          null,
          "Mano Vending Carts",
          null,
          "African Springs",
          null,
          null,
          null,
          null,
          null,
          null,
          "Smoke Dog",
          null,
          "Toronto A La Cart",
          null,
          null,
          "Azam Arab",
          null,
          null,
          "James Three",
          null,
          "The Good Press",
          null,
          null,
          null,
          null,
          null,
          null,
          null,
          "Tong Mein",
          "James Four",
          "James Five",
          null,
          null,
          "Bloomer'S",
          null,
          null,
          null,
          null,
          null,
          null,
          null,
          null,
          null,
          null
         ],
         "lat": [
          43.65374348,
          43.65532742,
          43.66037199,
          43.66037199,
          43.66315101,
          43.6712768,
          43.66037199,
          43.65700351,
          43.65474211,
          43.66037199,
          43.65676537,
          43.65789522,
          43.65789522,
          43.65676537,
          43.6680462,
          43.66037199,
          43.65857419,
          43.66799382,
          43.6547955,
          43.67176142,
          43.6680462,
          43.65689241,
          43.6680462,
          43.65374348,
          43.6680462,
          43.67176142,
          43.65374348,
          43.65532742,
          43.66799382,
          43.65505501,
          43.6680462,
          43.6680462,
          43.65777598,
          43.66315101,
          43.6712768,
          43.65700351,
          43.65500321,
          43.65789522,
          43.66799382,
          43.66037199,
          43.6680462,
          43.65474211,
          43.65857419,
          43.6547955,
          43.67176142,
          43.6680462,
          43.66348961,
          43.6680462,
          43.65374348,
          43.67176142,
          43.6680462,
          43.6680462,
          43.6655986,
          43.6680462,
          43.67047541,
          43.67176142,
          43.67176142,
          43.65374348,
          43.67176142,
          43.65374348,
          43.6680462,
          43.65374348,
          43.65374348,
          43.65374348,
          43.66348961,
          43.65374348,
          43.65374348,
          43.6680462,
          43.6680462,
          43.6707681,
          43.65374348,
          43.67102769,
          43.67102769,
          43.67176142,
          43.6680462,
          43.66348961,
          43.6680462,
          43.65375309,
          43.6680462,
          43.6680462,
          43.66886591,
          43.66248808,
          43.66187289,
          43.6680462,
          43.6680462,
          43.6680462,
          43.6680462,
          43.6680462,
          43.6680462,
          43.6680462,
          43.6680462,
          43.6680462,
          43.6680462
         ],
         "legendgroup": "University-Rosedale",
         "lon": [
          -79.3982383,
          -79.41960673,
          -79.40744501,
          -79.40744501,
          -79.42191971,
          -79.38090354,
          -79.40744501,
          -79.40005636,
          -79.4023494,
          -79.40744501,
          -79.38606898,
          -79.38274647,
          -79.38274647,
          -79.38606898,
          -79.42076054,
          -79.40744501,
          -79.39532276,
          -79.39351277,
          -79.4018236,
          -79.40317529,
          -79.42076054,
          -79.40707033,
          -79.42076054,
          -79.3982383,
          -79.42076054,
          -79.40317529,
          -79.3982383,
          -79.41960673,
          -79.39351277,
          -79.41856268,
          -79.42076054,
          -79.42076054,
          -79.38329599,
          -79.42191971,
          -79.38090354,
          -79.40005636,
          -79.40197196,
          -79.38274647,
          -79.39351277,
          -79.40744501,
          -79.42076054,
          -79.4023494,
          -79.39532276,
          -79.4018236,
          -79.40317529,
          -79.42076054,
          -79.39939303,
          -79.42076054,
          -79.3982383,
          -79.40317529,
          -79.42076054,
          -79.42076054,
          -79.4150349,
          -79.42076054,
          -79.39364529,
          -79.40317529,
          -79.40317529,
          -79.3982383,
          -79.40317529,
          -79.3982383,
          -79.42076054,
          -79.3982383,
          -79.3982383,
          -79.3982383,
          -79.39939303,
          -79.3982383,
          -79.3982383,
          -79.42076054,
          -79.42076054,
          -79.39187,
          -79.3982383,
          -79.42033017,
          -79.42033017,
          -79.40317529,
          -79.42076054,
          -79.39939303,
          -79.42076054,
          -79.4128971,
          -79.42076054,
          -79.42076054,
          -79.42344447,
          -79.39879396,
          -79.42489839,
          -79.42076054,
          -79.42076054,
          -79.42076054,
          -79.42076054,
          -79.42076054,
          -79.42076054,
          -79.42076054,
          -79.42076054,
          -79.42076054,
          -79.42076054
         ],
         "marker": {
          "color": "#ab63fa"
         },
         "mode": "markers",
         "name": "University-Rosedale",
         "showlegend": true,
         "subplot": "mapbox",
         "type": "scattermapbox"
        },
        {
         "customdata": [
          [
           "R54-4424530",
           "2014-07-04",
           "2016-03-14",
           "983 pharmacy ave,toronto, on,canada,m1r 2g5",
           "2422038 Ontario Inc"
          ],
          [
           "R54-4538587",
           "2015-06-29",
           "2016-09-13",
           "983 pharmacy ave,toronto, on,canada,m1r 2g5",
           "2422038 Ontario Inc"
          ],
          [
           "R54-4647252",
           "2016-03-14",
           "2017-10-10",
           "983 pharmacy ave,toronto, on,canada,m1r 2g5",
           "2422038 Ontario Inc"
          ],
          [
           "R54-4723304",
           "2017-06-02",
           "2018-05-11",
           "29 mooregate ave,toronto, on,canada,m1k 3v9",
           "Apa'S Kitchen Corp"
          ],
          [
           "R54-4724638",
           "2017-06-12",
           "2018-06-18",
           "983 pharmacy ave,toronto, on,canada,m1r 2g5",
           "2422038 Ontario Inc"
          ],
          [
           "R54-4713449",
           "2017-03-24",
           "2018-09-10",
           "canada,m1p",
           "Rodrigues, Matthew Estevano"
          ],
          [
           "R54-4728279",
           "2017-07-10",
           "2018-10-18",
           "canada,m1r",
           "Robinson, Sharon Majorie"
          ],
          [
           "R54-4739075",
           "2017-09-29",
           "2018-11-20",
           "22 burnview cres,toronto, on,canada,m1h 1b5",
           "2566479 Ontario Ltd"
          ],
          [
           "R54-4820406",
           "2018-03-28",
           "2019-01-31",
           "canada,m1p",
           "Rodrigues, Matthew Estevano"
          ],
          [
           "R54-4831877",
           "2018-05-16",
           "2019-01-31",
           "29 mooregate ave,toronto, on,canada,m1k 3v9",
           "Apa'S Kitchen Corp"
          ],
          [
           "R54-4840233",
           "2018-07-17",
           "2019-08-28",
           "983 pharmacy ave,toronto, on,canada,m1r 2g5",
           "2422038 Ontario Inc"
          ],
          [
           "R54-4952162",
           "2019-07-11",
           "2020-08-05",
           "983 pharmacy ave,toronto, on,canada,m1r 2g5",
           "2422038 Ontario Inc"
          ],
          [
           "R54-4954056",
           "2019-07-18",
           "2020-08-05",
           "44a sherwood ave,toronto, on,canada,m1r 1n5",
           "Food From East Express Inc"
          ],
          [
           "R54-5302127",
           "2023-01-25",
           "2023-07-25",
           "983 pharmacy ave,toronto, on,canada,m1r 2g5",
           "2422038 Ontario Inc"
          ],
          [
           "R54-5123830",
           "2021-08-16",
           null,
           "983 pharmacy ave,toronto, on,canada,m1r 2g5",
           "2422038 Ontario Inc"
          ],
          [
           "R54-5132351",
           "2021-09-29",
           null,
           "44a sherwood ave,toronto, on,canada,m1r 1n5",
           "Food From East Express Inc"
          ],
          [
           "R54-5355632",
           "2023-10-10",
           null,
           "983 pharmacy ave,toronto, on,canada,m1r 2g5",
           "2422038 Ontario Inc"
          ],
          [
           "R54-5404297",
           "2024-01-17",
           null,
           "15 ivordale cres,toronto, on,canada,m1r 2w5",
           "1000634120 Ontario Inc"
          ],
          [
           "V15-3110223",
           "2000-06-22",
           "2003-02-11",
           "canada,m1r",
           "Blue, Christopher Francis"
          ],
          [
           "V15-2018528",
           "1994-07-14",
           "2003-05-02",
           "canada,m1j",
           "Zaman, Khan M Habib"
          ],
          [
           "V15-1002938",
           "1989-06-20",
           "2005-07-01",
           "canada,m1p",
           "Ferreira, Octavio David"
          ],
          [
           "V15-3478493",
           "2004-08-10",
           "2005-12-29",
           "1470 birchmount rd,toronto, on,canada,m1p 2g1",
           "Mememe Inc"
          ],
          [
           "V15-0001147",
           "1977-04-27",
           "2006-03-29",
           "canada,m1p",
           "De Leo, Vincenzo"
          ],
          [
           "V15-1002193",
           "1989-05-02",
           "2006-08-02",
           "canada,m1j",
           "Mcbride, Jason Gerald"
          ],
          [
           "V15-3125918",
           "2001-07-10",
           "2006-10-10",
           "canada,m1r",
           "Mcarthur, Christopher Robin"
          ],
          [
           "V15-3592180",
           "2005-04-05",
           "2006-10-27",
           "141 fitzgibbon ave,toronto, on,canada,m1k 4a6",
           "Ioannidis,Anastasios/Labrinos,John"
          ],
          [
           "V15-3608442",
           "2006-05-01",
           "2007-07-25",
           "23 metropolitan rd,toronto, on,canada,m1r 2t5",
           "Star Grazing Inc"
          ],
          [
           "V15-3244281",
           "2002-05-14",
           "2007-08-14",
           "35 manhattan dr,toronto, on,canada,m1r 3v5",
           "701033 Ontario Ltd"
          ],
          [
           "V15-3609325",
           "2006-05-08",
           "2007-09-19",
           "1470 birchmount rd,toronto, on,canada,m1p 2g1",
           "Mememe Inc"
          ],
          [
           "V15-3608153",
           "2006-04-24",
           "2010-07-25",
           "canada,m1p",
           "Deleo, Giovanni"
          ],
          [
           "V15-3123682",
           "2001-04-19",
           "2012-07-20",
           "canada,m1j",
           "Maragoudakis, Evangellos"
          ],
          [
           "V15-3081115",
           "1998-04-15",
           "2012-12-18",
           "7 sherwood ave,toronto, on,canada,m1r 1m7",
           "\"X\" Treme Ice Cream Inc"
          ],
          [
           "V15-3483029",
           "2004-08-19",
           "2013-10-30",
           "canada,m1p",
           "Muktar, Jamilee"
          ],
          [
           "V15-4310497",
           "2013-07-15",
           "2014-10-15",
           "canada,m1r",
           "Ponnuthurai, Sounthararasa"
          ],
          [
           "V15-4538443",
           "2015-06-26",
           "2016-09-26",
           "1617 victoria park ave, #412,toronto, on,canada,m1r 1p5",
           "2304951 Ontario Inc"
          ],
          [
           "V15-4203386",
           "2013-01-03",
           "2018-04-05",
           "22 innisdale dr,toronto, on,canada,m1r 1c3",
           "X-Treme Nick Ice Cream Inc"
          ],
          [
           "V15-4723753",
           "2017-06-12",
           "2018-09-12",
           "1617 victoria park ave, #412,toronto, on,canada,m1r 1p5",
           "2304951 Ontario Inc"
          ],
          [
           "V15-4727042",
           "2017-06-30",
           "2018-10-18",
           "canada,m1r",
           "Robinson, Sharon Majorie"
          ],
          [
           "V15-0000495",
           "1974-05-14",
           "2018-10-23",
           "canada,m1r",
           "Bozonelos, Nick"
          ],
          [
           "V15-4738888",
           "2017-09-29",
           "2018-11-20",
           "22 burnview cres,toronto, on,canada,m1h 1b5",
           "2566479 Ontario Ltd"
          ],
          [
           "V15-4722924",
           "2017-06-02",
           "2019-09-02",
           "29 mooregate ave,toronto, on,canada,m1k 3v9",
           "Apa'S Kitchen Corp"
          ],
          [
           "V15-4423973",
           "2014-07-04",
           "2020-10-14",
           "983 pharmacy ave,toronto, on,canada,m1r 2g5",
           "2422038 Ontario Inc"
          ],
          [
           "V15-4533340",
           "2015-06-15",
           "2020-11-03",
           "983 pharmacy ave,toronto, on,canada,m1r 2g5",
           "2422038 Ontario Inc"
          ],
          [
           "V15-4713052",
           "2017-03-24",
           "2020-11-03",
           "canada,m1p",
           "Rodrigues, Matthew Estevano"
          ],
          [
           "V15-4822395",
           "2018-04-11",
           "2023-07-11",
           "canada,m1r",
           "Douglas, Allan E"
          ],
          [
           "V15-3614674",
           "2006-09-07",
           null,
           "canada,m1r",
           "Sidheri, Sotir"
          ],
          [
           "V15-4876540",
           "2018-10-23",
           null,
           "22 lynvalley cres,toronto, on,canada,m1r 2v3",
           "Mr Softee Ltd"
          ],
          [
           "V15-4941796",
           "2019-06-06",
           null,
           "canada,m1r",
           "Dhasari, Vinod"
          ],
          [
           "V15-4954033",
           "2019-07-18",
           null,
           "44a sherwood ave,toronto, on,canada,m1r 1n5",
           "Food From East Express Inc"
          ],
          [
           "V15-5105604",
           "2021-03-10",
           null,
           "983 pharmacy ave,toronto, on,canada,m1r 2g5",
           "2422038 Ontario Inc"
          ],
          [
           "V15-5237607",
           "2022-11-24",
           null,
           "983 pharmacy ave,toronto, on,canada,m1r 2g5",
           "2422038 Ontario Inc"
          ],
          [
           "V15-5239903",
           "2022-12-01",
           null,
           "16 rosemarie dr,toronto, on,canada,m1r 3t8",
           "2510804 Ontario Inc"
          ],
          [
           "V15-5401238",
           "2024-01-11",
           null,
           "15 ivordale cres,toronto, on,canada,m1r 2w5",
           "1000634120 Ontario Inc"
          ],
          [
           "V27-0009132",
           "1982-07-26",
           "2003-03-31",
           "canada,m1r",
           "Blue, Christopher Francis"
          ],
          [
           "V27-2004699",
           "1991-05-06",
           "2003-03-31",
           "canada,m1r",
           "Rak, Danuta"
          ],
          [
           "V27-3238824",
           "2002-04-01",
           "2003-03-31",
           "canada,m1p",
           "Jawed, Ahmad Yousuf"
          ],
          [
           "V27-3243973",
           "2002-05-15",
           "2003-03-31",
           "canada,m1j",
           "Fazle, Rahim"
          ],
          [
           "V27-3244578",
           "2002-06-25",
           "2003-03-31",
           "canada,m1r",
           "Saar, Mihkel"
          ],
          [
           "V27-0009124",
           "1982-07-26",
           "2004-06-03",
           "canada,m1r",
           "Blue, Christopher Francis"
          ],
          [
           "V27-0015790",
           "1986-07-16",
           "2004-06-03",
           "canada,m1r",
           "Blue, Christopher Francis"
          ],
          [
           "V27-3013860",
           "1998-01-05",
           "2005-04-02",
           "canada,m1p",
           "Rizwana, Shaheen"
          ],
          [
           "V27-3107266",
           "2000-04-01",
           "2005-04-02",
           "canada,m1p",
           "Naseem, Muhammad Atif"
          ],
          [
           "V27-3121117",
           "2001-04-18",
           "2005-04-02",
           "canada,m1r",
           "Fakhri, Alireza"
          ],
          [
           "V27-3361573",
           "2003-06-19",
           "2005-04-02",
           "canada,m1j",
           "Khan, Javed"
          ],
          [
           "V27-2014693",
           "1993-08-06",
           "2005-07-01",
           "canada,m1r",
           "Gueorguiev, Valeri"
          ],
          [
           "V27-2024801",
           "1996-05-01",
           "2005-07-01",
           "canada,m1p",
           "Urdarevik, Slobodan"
          ],
          [
           "V27-3478957",
           "2004-05-14",
           "2005-07-01",
           "canada,m1j",
           "Fazle, Rahim"
          ],
          [
           "V27-3476361",
           "2004-06-03",
           "2006-09-03",
           "37 hexham dr,toronto, on,canada,m1r 1j5",
           "1535640 Ontario Ltd"
          ],
          [
           "V27-2014821",
           "1993-08-17",
           "2006-11-17",
           "canada,m1r",
           "Spirovski, Danijel"
          ],
          [
           "V27-3092732",
           "1999-04-01",
           "2007-07-02",
           "canada,m1p",
           "Jeliazkova, Maria Nikolova"
          ],
          [
           "V27-3613811",
           "2006-08-16",
           "2007-08-28",
           "canada,m1p",
           "Slivinsky, Nicoleta"
          ],
          [
           "V27-3249676",
           "2002-09-30",
           "2008-03-04",
           "canada,m1p",
           "Tran, Ha Thanh Thi"
          ],
          [
           "V27-3080200",
           "1998-01-28",
           "2008-04-29",
           "canada,m1r",
           "Rak, Lukasz Zbiniew"
          ],
          [
           "V27-3590834",
           "2005-04-05",
           "2008-07-06",
           "canada,m1r",
           "Mckenzie, Linda Jean"
          ],
          [
           "V27-3240086",
           "2002-02-13",
           "2009-03-09",
           "canada,m1p",
           "Mihaylou, Jivko T"
          ],
          [
           "V27-3837186",
           "2008-05-05",
           "2009-08-19",
           "canada,m1r",
           "Robinson, Jason Eric"
          ],
          [
           "V27-3835087",
           "2008-03-31",
           "2010-04-30",
           "canada,m1j",
           "Qureshi, Shahzad Ahmad"
          ],
          [
           "V27-3951129",
           "2009-04-16",
           "2011-04-13",
           "canada,m1p",
           "Mihaylova, Nina V"
          ],
          [
           "V27-4180774",
           "2011-05-02",
           "2012-08-02",
           "canada,m1j",
           "Pilo, Miroslav"
          ],
          [
           "V27-2003482",
           "1991-01-25",
           "2013-05-10",
           "canada,m1j",
           "Czesak, Andrzej"
          ],
          [
           "V27-4292156",
           "2012-03-19",
           "2013-06-19",
           "canada,m1r",
           "Ardeshiri Jouneghani, Shahram"
          ],
          [
           "V27-4065303",
           "2010-04-07",
           "2013-07-08",
           "50 thermos rd,toronto, on,canada,m1l 0e6",
           "Belfiore Fine Foods Inc"
          ],
          [
           "V27-4297290",
           "2012-09-13",
           "2013-12-14",
           "canada,m1j",
           "Appelman, John Anthony"
          ],
          [
           "V27-2001861",
           "1990-07-24",
           "2014-10-24",
           "canada,m1r",
           "Rak, Zbigniew"
          ],
          [
           "V27-3591472",
           "2005-03-22",
           "2015-06-22",
           "canada,m1r",
           "Kusakovski, Pece"
          ],
          [
           "V27-4293248",
           "2012-03-23",
           "2015-06-23",
           "168 ellendale dr,toronto, on,canada,m1p 1p1",
           "Marmara Ltd"
          ],
          [
           "V27-4421648",
           "2014-05-16",
           "2015-08-16",
           "canada,m1r",
           "Kusakovski, Ryan Jeffrey"
          ],
          [
           "V27-3111408",
           "2000-09-01",
           "2015-12-02",
           "canada,m1p",
           "Lalmohmad, Ahmed Gul"
          ],
          [
           "V27-4309962",
           "2013-06-24",
           "2016-11-16",
           "canada,m1j",
           "Czesak, Andrzej"
          ],
          [
           "V27-4202849",
           "2012-12-31",
           "2017-04-02",
           "canada,m1p",
           "Mansoori, Wahid"
          ],
          [
           "V27-4544762",
           "2015-12-31",
           "2017-04-02",
           "18 boem ave,toronto, on,canada,m1r 3t1",
           "1945261 Ontario Inc"
          ],
          [
           "V27-4422258",
           "2014-05-15",
           "2017-08-15",
           "canada,m1p",
           "Mihaylou, Jivko T"
          ],
          [
           "V27-4684050",
           "2017-01-05",
           "2018-04-07",
           "canada,m1p",
           "Abdul Samad, Hassib"
          ],
          [
           "V27-4646268",
           "2016-02-22",
           "2018-05-09",
           "75 ashton bee,toronto, on,canada,m1l 4c9",
           "2436413 Ontario Corp"
          ],
          [
           "V27-4307517",
           "2013-04-18",
           "2018-07-19",
           "canada,m1j",
           "Chumkoff, Alexander"
          ],
          [
           "V27-3588839",
           "2005-06-02",
           "2018-09-02",
           "canada,m1j",
           "Sharafkandi, Masoumeh"
          ],
          [
           "V27-2005195",
           "1991-06-12",
           "2018-09-12",
           "canada,m1j",
           "Triantafilidou, Parthena"
          ],
          [
           "V27-3485328",
           "2004-11-26",
           "2019-02-26",
           "canada,m1r",
           "Ardeshiri Jouneghani, Shahram"
          ],
          [
           "V27-3605099",
           "2006-02-21",
           "2019-05-24",
           "canada,m1j",
           "Bashardost, Hamidulla"
          ],
          [
           "V27-4829835",
           "2018-05-10",
           "2020-11-03",
           "canada,m1p",
           "Abdul Samad, Mansor"
          ],
          [
           "V27-4926504",
           "2019-05-07",
           "2020-11-03",
           "canada,m1j",
           "Czesak, Andrzej"
          ],
          [
           "V27-2022559",
           "1995-08-11",
           "2020-11-11",
           "canada,m1p",
           "Boyanov, Nikolay"
          ],
          [
           "V27-3085200",
           "1998-06-12",
           null,
           "canada,m1j",
           "Petrovic Ristic, Zora"
          ],
          [
           "V27-3476369",
           "2004-06-03",
           null,
           "37 hexham dr,toronto, on,canada,m1r 1j5",
           "1535640 Ontario Ltd"
          ],
          [
           "V27-4831937",
           "2018-06-18",
           null,
           "canada,m1j",
           "Piroti, Mohammad"
          ],
          [
           "V27-5200575",
           "2022-04-06",
           null,
           "canada,m1p",
           "Amyan, Kenneth"
          ],
          [
           "V27-5302685",
           "2023-02-01",
           null,
           "1570 midland ave, #1,toronto, on,canada,m1p 3c3",
           "Jbs Kerala Kitchen Inc"
          ],
          [
           "R56-4422831",
           "2014-05-27",
           "2017-05-25",
           "canada,m1r",
           "Bozonelos, Nick"
          ],
          [
           "R56-4720434",
           "2017-05-12",
           "2018-04-05",
           "22 innisdale dr,toronto, on,canada,m1r 1c3",
           "X-Treme Nick Ice Cream Inc"
          ],
          [
           "R56-4722133",
           "2017-05-25",
           "2018-05-14",
           "canada,m1r",
           "Bozonelos, Nick"
          ],
          [
           "R56-4422479",
           "2014-05-16",
           "2018-09-10",
           "22 innisdale dr,toronto, on,canada,m1r 1c3",
           "X-Treme Nick Ice Cream Inc"
          ],
          [
           "R56-4831140",
           "2018-05-14",
           "2018-10-23",
           "canada,m1r",
           "Bozonelos, Nick"
          ],
          [
           "R56-4935973",
           "2019-05-10",
           "2019-11-19",
           "22 lynvalley cres,toronto, on,canada,m1r 2v3",
           "Mr Softee Ltd"
          ],
          [
           "R56-5332289",
           "2023-06-15",
           "2023-12-22",
           "22 lynvalley cres,toronto, on,canada,m1r 2v3",
           "Mr Softee Ltd"
          ]
         ],
         "hovertemplate": "<b>%{hovertext}</b><br><br>AREA_NAME=Scarborough Centre<br>latitude=%{lat}<br>longitude=%{lon}<br>Licence No.=%{customdata[0]}<br>Issued=%{customdata[1]}<br>Cancel Date=%{customdata[2]}<br>address=%{customdata[3]}<br>Client Name=%{customdata[4]}<extra></extra>",
         "hovertext": [
          null,
          null,
          null,
          null,
          null,
          null,
          null,
          null,
          null,
          null,
          null,
          null,
          null,
          null,
          "Ali'S Wraps",
          "Food From East Express",
          "Ali'S Wraps",
          "Chef Fatma'S Kitchen",
          "Mister Cool",
          "Douel Trading Company",
          null,
          "Marcy'S",
          "Tony'S Catering",
          null,
          null,
          "T.J.'S Enterprise",
          "Juicy",
          "701033 Ontario Ltd",
          "Marcy'S",
          "John Deleo Catering",
          "Dairy Bell",
          "\"X\" Treme Ice Cream",
          "Jamilee'S Catering",
          "Cool Breeze Cones",
          "Per'Se Catering And Events",
          "X-Treme Nick Ice Cream",
          "Perse Catering And Events",
          "The Jerk Boss",
          "Mr Softee",
          "Greek Grill",
          "Apa'S Kitchen",
          "Ali'S Wraps",
          "Ali'S Wraps",
          "Curb Crave",
          "Chef Al",
          null,
          "Mr Softee",
          "Preethi Catering",
          "Food From East Express",
          "Ali'S Wraps",
          "Ali'S Wraps",
          "The Poutine Supreme",
          "Chef Fatma'S Kitchen",
          "Mr. Cool",
          null,
          null,
          null,
          null,
          "Mr. Cool",
          "Mr. Cool",
          null,
          null,
          null,
          null,
          null,
          null,
          null,
          null,
          null,
          null,
          null,
          null,
          null,
          null,
          null,
          null,
          "Shahzad A Qureshi",
          null,
          null,
          null,
          null,
          "Belfiore Fine Foods",
          null,
          null,
          null,
          "Marmara Ltd",
          null,
          null,
          null,
          null,
          "1945261 Ontario Inc",
          null,
          null,
          "Hot Doggy Dog",
          "Weiners To Go",
          null,
          null,
          null,
          null,
          "Best Hot Dog",
          null,
          null,
          null,
          null,
          null,
          "Ken'S Chip Truck",
          "Kerala Nook",
          null,
          null,
          null,
          null,
          null,
          null,
          null
         ],
         "lat": [
          43.7359563,
          43.7359563,
          43.7359563,
          43.7406979,
          43.7359563,
          43.76207286,
          43.75133851,
          43.75471211,
          43.76207286,
          43.7406979,
          43.7359563,
          43.7359563,
          43.74128279,
          43.7359563,
          43.7359563,
          43.74128279,
          43.7359563,
          43.75309,
          43.75133851,
          43.74664753,
          43.76207286,
          43.75458349,
          43.76207286,
          43.74664753,
          43.75133851,
          43.74476602,
          43.76735541,
          43.75008999,
          43.75458349,
          43.76207286,
          43.74664753,
          43.74011368,
          43.76207286,
          43.75133851,
          43.73098621,
          43.734603,
          43.73098621,
          43.75133851,
          43.75133851,
          43.75471211,
          43.7406979,
          43.7359563,
          43.7359563,
          43.76207286,
          43.75133851,
          43.75133851,
          43.74879172,
          43.75133851,
          43.74128279,
          43.7359563,
          43.7359563,
          43.749517,
          43.75309,
          43.75133851,
          43.75133851,
          43.76207286,
          43.74664753,
          43.75133851,
          43.75133851,
          43.75133851,
          43.76207286,
          43.76207286,
          43.75133851,
          43.74664753,
          43.75133851,
          43.76207286,
          43.74664753,
          43.73731249,
          43.75133851,
          43.76207286,
          43.76207286,
          43.76207286,
          43.75133851,
          43.75133851,
          43.76207286,
          43.75133851,
          43.74664753,
          43.76207286,
          43.74664753,
          43.74664753,
          43.75133851,
          43.73162411,
          43.74664753,
          43.75133851,
          43.75133851,
          43.75554699,
          43.75133851,
          43.76207286,
          43.74664753,
          43.76207286,
          43.74884909,
          43.76207286,
          43.76207286,
          43.73070998,
          43.74664753,
          43.74664753,
          43.74664753,
          43.75133851,
          43.74664753,
          43.76207286,
          43.74664753,
          43.76207286,
          43.74664753,
          43.73731249,
          43.74664753,
          43.76207286,
          43.75573621,
          43.75133851,
          43.734603,
          43.75133851,
          43.734603,
          43.75133851,
          43.74879172,
          43.74879172
         ],
         "legendgroup": "Scarborough Centre",
         "lon": [
          -79.30127722,
          -79.30127722,
          -79.30127722,
          -79.269385,
          -79.30127722,
          -79.27094275,
          -79.30111804,
          -79.23661109,
          -79.27094275,
          -79.269385,
          -79.30127722,
          -79.30127722,
          -79.29917437,
          -79.30127722,
          -79.30127722,
          -79.29917437,
          -79.30127722,
          -79.31188259,
          -79.30111804,
          -79.23195384,
          -79.27094275,
          -79.28852047,
          -79.27094275,
          -79.23195384,
          -79.30111804,
          -79.26334299,
          -79.30083742,
          -79.29888788,
          -79.28852047,
          -79.27094275,
          -79.23195384,
          -79.30235002,
          -79.27094275,
          -79.30111804,
          -79.30478354,
          -79.30369087,
          -79.30478354,
          -79.30111804,
          -79.30111804,
          -79.23661109,
          -79.269385,
          -79.30127722,
          -79.30127722,
          -79.27094275,
          -79.30111804,
          -79.30111804,
          -79.31024041,
          -79.30111804,
          -79.29917437,
          -79.30127722,
          -79.30127722,
          -79.29922969,
          -79.31188259,
          -79.30111804,
          -79.30111804,
          -79.27094275,
          -79.23195384,
          -79.30111804,
          -79.30111804,
          -79.30111804,
          -79.27094275,
          -79.27094275,
          -79.30111804,
          -79.23195384,
          -79.30111804,
          -79.27094275,
          -79.23195384,
          -79.30066006,
          -79.30111804,
          -79.27094275,
          -79.27094275,
          -79.27094275,
          -79.30111804,
          -79.30111804,
          -79.27094275,
          -79.30111804,
          -79.23195384,
          -79.27094275,
          -79.23195384,
          -79.23195384,
          -79.30111804,
          -79.28294491,
          -79.23195384,
          -79.30111804,
          -79.30111804,
          -79.2778576,
          -79.30111804,
          -79.27094275,
          -79.23195384,
          -79.27094275,
          -79.29840147,
          -79.27094275,
          -79.27094275,
          -79.28978991,
          -79.23195384,
          -79.23195384,
          -79.23195384,
          -79.30111804,
          -79.23195384,
          -79.27094275,
          -79.23195384,
          -79.27094275,
          -79.23195384,
          -79.30066006,
          -79.23195384,
          -79.27094275,
          -79.2669395,
          -79.30111804,
          -79.30369087,
          -79.30111804,
          -79.30369087,
          -79.30111804,
          -79.31024041,
          -79.31024041
         ],
         "marker": {
          "color": "#FFA15A"
         },
         "mode": "markers",
         "name": "Scarborough Centre",
         "showlegend": true,
         "subplot": "mapbox",
         "type": "scattermapbox"
        },
        {
         "customdata": [
          [
           "R54-4536600",
           "2015-05-15",
           "2016-03-21",
           "80 oakwood ave,toronto, on,canada,m6h 2v8",
           "1544562 Ontario Ltd"
          ],
          [
           "R54-4537309",
           "2015-06-02",
           "2016-05-04",
           "178 blackthorn ave,toronto, on,canada,m6n 3h8",
           "1930271 Ontario Inc"
          ],
          [
           "R54-4649242",
           "2016-05-04",
           "2017-04-24",
           "178 blackthorn ave,toronto, on,canada,m6n 3h8",
           "1930271 Ontario Inc"
          ],
          [
           "R54-4654476",
           "2016-07-25",
           "2017-05-09",
           "canada,m6e",
           "Fadil, Hamza Jolan"
          ],
          [
           "R54-4652544",
           "2016-06-28",
           "2017-09-08",
           "173 northcliffe blvd,toronto, on,canada,m6e 3k5",
           "Wanna Burger Ltd"
          ],
          [
           "R54-4645630",
           "2016-01-27",
           "2017-10-10",
           "canada,m6e",
           "Fadil, Hamza Jolan"
          ],
          [
           "R54-4714746",
           "2017-04-03",
           "2017-10-10",
           "80 oakwood ave,toronto, on,canada,m6h 2v8",
           "1544562 Ontario Ltd"
          ],
          [
           "R54-4720788",
           "2017-05-16",
           "2018-02-17",
           "canada,m6e",
           "Selvaggi, Daniel Alfredo"
          ],
          [
           "R54-4717388",
           "2017-04-24",
           "2018-03-16",
           "178 blackthorn ave,toronto, on,canada,m6n 3h8",
           "1930271 Ontario Inc"
          ],
          [
           "R54-4719914",
           "2017-05-09",
           "2018-04-29",
           "canada,m6e",
           "Fadil, Hamza Jolan"
          ],
          [
           "R54-4721903",
           "2017-05-24",
           "2018-09-10",
           "canada,m6h",
           "Buzio, Guillermina Maria"
          ],
          [
           "R54-4537321",
           "2015-06-02",
           "2019-01-31",
           "173 northcliffe blvd,toronto, on,canada,m6e 3k5",
           "1930269 Ontario Ltd"
          ],
          [
           "R54-4811010",
           "2018-02-22",
           "2019-01-31",
           "canada,m6h",
           "Buzio, Guillermina Maria"
          ],
          [
           "R54-4816821",
           "2018-03-15",
           "2019-01-31",
           "178 blackthorn ave,toronto, on,canada,m6n 3h8",
           "1930271 Ontario Inc"
          ],
          [
           "R54-4819072",
           "2018-03-23",
           "2019-01-31",
           "80 oakwood ave,toronto, on,canada,m6h 2v8",
           "1544562 Ontario Ltd"
          ],
          [
           "R54-4837973",
           "2018-06-08",
           "2019-01-31",
           "126 rogers rd,toronto, on,canada,m6e 1p7",
           "Rebozos Inc"
          ],
          [
           "R54-4887703",
           "2018-11-30",
           "2019-06-18",
           "173 northcliffe blvd,toronto, on,canada,m6e 3k5",
           "1930269 Ontario Ltd"
          ],
          [
           "R54-4927612",
           "2019-04-12",
           "2019-11-13",
           "80 oakwood ave,toronto, on,canada,m6h 2v8",
           "1544562 Ontario Ltd"
          ],
          [
           "R54-4936717",
           "2019-05-13",
           "2019-11-21",
           "178 blackthorn ave,toronto, on,canada,m6n 3h8",
           "1930271 Ontario Inc"
          ],
          [
           "R54-4831516",
           "2018-05-15",
           "2019-11-23",
           "173 northcliffe blvd,toronto, on,canada,m6e 3k5",
           "2633252 Ontario Ltd"
          ],
          [
           "R54-4937705",
           "2019-05-16",
           "2019-11-26",
           "canada,m6h",
           "Buzio, Guillermina Maria"
          ],
          [
           "R54-4955262",
           "2019-07-22",
           "2020-08-05",
           "173 northcliffe blvd,toronto, on,canada,m6e 3k5",
           "1930269 Ontario Ltd"
          ],
          [
           "V15-2023320",
           "1995-11-13",
           "2003-02-12",
           "canada,m6e",
           "Norouzi, Mansour"
          ],
          [
           "V15-3110913",
           "2000-06-28",
           "2003-05-01",
           "canada,m6e",
           "Zangari, Rocco"
          ],
          [
           "V15-0019982",
           "1988-06-13",
           "2003-05-02",
           "canada,m6h",
           "Mavromihelakis, Dimitrios James"
          ],
          [
           "V15-2022062",
           "1995-06-23",
           "2003-05-02",
           "canada,m6e",
           "Zangari, Rocco"
          ],
          [
           "V15-3087425",
           "1998-07-28",
           "2003-05-02",
           "canada,m6e",
           "Zangari, Rocco"
          ],
          [
           "V15-0014389",
           "1985-09-23",
           "2004-06-14",
           "canada,m6h",
           "Mavrogianis, John"
          ],
          [
           "V15-2025141",
           "1996-05-31",
           "2004-07-30",
           "1705 st clair ave w,toronto, on,canada,m6n 1j2",
           "Prisma Catering Ltd"
          ],
          [
           "V15-1003571",
           "1989-08-11",
           "2005-08-29",
           "canada,m6h",
           "Ng, Kek-Poo"
          ],
          [
           "V15-0011948",
           "1984-05-25",
           "2008-08-25",
           "canada,m6h",
           "Mavromihelakis, Chris"
          ],
          [
           "V15-0003176",
           "1971-04-02",
           "2010-07-03",
           "canada,m6e",
           "Mavrogiannis, Ted"
          ],
          [
           "V15-3244531",
           "2002-05-13",
           "2011-08-13",
           "canada,m6h",
           "Smirnis, Argirios"
          ],
          [
           "V15-2024564",
           "1996-04-09",
           "2013-04-05",
           "521 st clarens ave,toronto, on,canada,m6h 3w4",
           "Mavromihelakis,Chris/Mavromihelakis,John"
          ],
          [
           "V15-4298793",
           "2012-08-14",
           "2013-11-14",
           "76 dovercourt rd,toronto, on,canada,m6j 3c3",
           "The Food Dudes Inc"
          ],
          [
           "V15-4293214",
           "2012-04-23",
           "2014-04-28",
           "canada,m6h",
           "Smirnis, Argirios"
          ],
          [
           "V15-4298787",
           "2012-09-06",
           "2014-12-07",
           "47 northcote ave,toronto, on,canada,m6j 3k2",
           "2281478 Ontario Inc"
          ],
          [
           "V15-4310681",
           "2013-07-11",
           "2015-10-11",
           "258 brock ave,toronto, on,canada,m6k 2m2",
           "Let'S Be Frank Inc"
          ],
          [
           "V15-4310927",
           "2013-08-19",
           "2015-11-19",
           "1017 dufferin st,toronto, on,canada,m6h 4b5",
           "Pancho'S Bakery Inc"
          ],
          [
           "V15-4316258",
           "2013-11-28",
           "2017-02-28",
           "canada,m6h",
           "Valente, Victor J S"
          ],
          [
           "V15-3836438",
           "2008-04-17",
           "2017-05-09",
           "canada,m6h",
           "Harrabi, Sadok Mohamed"
          ],
          [
           "V15-4180356",
           "2011-05-03",
           "2017-05-09",
           "canada,m6h",
           "Harrabi, Sadok Mohamed"
          ],
          [
           "V15-4181073",
           "2011-05-11",
           "2017-05-09",
           "canada,m6h",
           "Harrabi, Sadok Mohamed"
          ],
          [
           "V15-3836834",
           "2008-07-18",
           "2017-05-26",
           "canada,m6h",
           "Khazabi, Mustafa"
          ],
          [
           "V15-4650020",
           "2016-06-08",
           "2017-09-08",
           "173 northcliffe blvd,toronto, on,canada,m6e 3k5",
           "Wanna Burger Ltd"
          ],
          [
           "V15-4652563",
           "2016-09-09",
           "2017-12-10",
           "1232 college st,toronto, on,canada,m6h 1c2",
           "Badlands Mesquite Ltd"
          ],
          [
           "V15-4657260",
           "2016-11-17",
           "2018-02-17",
           "canada,m6e",
           "Selvaggi, Daniel Alfredo"
          ],
          [
           "V15-4421507",
           "2014-05-02",
           "2018-06-26",
           "canada,m6h",
           "Smirnis, Nikolaos"
          ],
          [
           "V15-4828423",
           "2018-06-11",
           "2019-08-01",
           "1635 dupont st,toronto, on,canada,m6p 3s9",
           "1286257 Ontario Inc"
          ],
          [
           "V15-4312013",
           "2013-08-30",
           "2019-10-22",
           "canada,m6e",
           "Campo Achuri, Gladis Rocio"
          ],
          [
           "V15-0004596",
           "1976-04-08",
           "2020-11-03",
           "canada,m6h",
           "Smirnis, Nikolaos"
          ],
          [
           "V15-4534461",
           "2015-05-27",
           "2020-11-03",
           "178 blackthorn ave,toronto, on,canada,m6n 3h8",
           "1930271 Ontario Inc"
          ],
          [
           "V15-4534462",
           "2015-06-01",
           "2020-11-03",
           "173 northcliffe blvd,toronto, on,canada,m6e 3k5",
           "1930269 Ontario Ltd"
          ],
          [
           "V15-4720632",
           "2017-05-24",
           "2020-11-03",
           "canada,m6h",
           "Buzio, Guillermina Maria"
          ],
          [
           "V15-4885342",
           "2018-11-23",
           "2021-05-12",
           "173 northcliffe blvd,toronto, on,canada,m6e 3k5",
           "Wanna Burger Ltd"
          ],
          [
           "V15-4831173",
           "2018-05-15",
           "2021-10-13",
           "173 northcliffe blvd,toronto, on,canada,m6e 3k5",
           "2633252 Ontario Ltd"
          ],
          [
           "V15-4538877",
           "2016-04-27",
           "2022-07-27",
           "126 rogers rd,toronto, on,canada,m6e 1p7",
           "Rebozos Inc"
          ],
          [
           "V15-0003218",
           "1976-04-09",
           "2023-07-09",
           "canada,m6h",
           "Mavromihelakis, Steve"
          ],
          [
           "V15-3355787",
           "2003-04-01",
           null,
           "80 oakwood ave,toronto, on,canada,m6h 2v8",
           "1544562 Ontario Ltd"
          ],
          [
           "V15-4938738",
           "2019-06-17",
           null,
           "canada,m6h",
           "Smirnis, Nikolaos"
          ],
          [
           "V15-5331164",
           "2023-06-02",
           null,
           "126 rogers rd,toronto, on,canada,m6e 1p7",
           "Rebozos Inc"
          ],
          [
           "V27-0015907",
           "1986-07-29",
           "2003-03-31",
           "canada,m6h",
           "Mavrogiannis, Micheal"
          ],
          [
           "V27-0017556",
           "1987-07-16",
           "2003-03-31",
           "canada,m6h",
           "Alexopoulos, Sofia"
          ],
          [
           "V27-3121286",
           "2001-04-01",
           "2003-03-31",
           "canada,m6h",
           "Zigkos, Valentina"
          ],
          [
           "V27-3126662",
           "2001-09-05",
           "2003-03-31",
           "canada,m6h",
           "Cuello-Gatica, Walter"
          ],
          [
           "V27-2022287",
           "1995-07-14",
           "2005-04-02",
           "canada,m6h",
           "Karigiannis, Evgenia"
          ],
          [
           "V27-2019858",
           "1994-12-08",
           "2005-07-01",
           "canada,m6h",
           "Choe, Usuk"
          ],
          [
           "V27-1003746",
           "1989-08-21",
           "2006-11-21",
           "canada,m6h",
           "Karigiannis, Ioannis"
          ],
          [
           "V27-3609180",
           "2006-05-08",
           "2008-08-08",
           "canada,m6e",
           "Ciyayi, Mithra"
          ],
          [
           "V27-3722497",
           "2007-11-02",
           "2009-02-02",
           "canada,m6h",
           "Khan, Hafsa"
          ],
          [
           "V27-3960479",
           "2010-01-29",
           "2011-05-01",
           "canada,m6e",
           "Maj, Radoslaw"
          ],
          [
           "V27-4310752",
           "2013-07-11",
           "2014-06-03",
           "canada,m6h",
           "Mavrogiannis, John"
          ],
          [
           "V27-3004950",
           "1997-04-10",
           "2016-07-11",
           "canada,m6h",
           "Behkalam, Habib"
          ],
          [
           "V27-2024756",
           "1996-04-26",
           "2018-07-27",
           "18 macaulay ave,toronto, on,canada,m6p 3p6",
           "Majster,Aleksander/Majster,Anna/Majster,Gregory"
          ],
          [
           "V27-4067067",
           "2010-04-20",
           "2020-11-03",
           "canada,m6h",
           "Putkowski, Jan Zbigniew"
          ],
          [
           "V27-0018265",
           "1987-10-27",
           "2021-01-27",
           "canada,m6e",
           "Olszewski, Bozenna"
          ],
          [
           "V27-4877925",
           "2018-11-05",
           "2021-02-05",
           "canada,m6h",
           "Mavrogiannis, John"
          ],
          [
           "V27-2024259",
           "1996-02-27",
           null,
           "canada,m6h",
           "Zigkos, Georgios"
          ],
          [
           "V27-3122899",
           "2002-04-23",
           null,
           "canada,m6h",
           "Alexopoulos, Demetre"
          ],
          [
           "V27-3248822",
           "2002-09-25",
           null,
           "canada,m6h",
           "Mavrogiannis, Micheal"
          ],
          [
           "V27-3356431",
           "2003-04-15",
           null,
           "106 havelock st,toronto, on,canada,m6h 3b6",
           "1548173 Ontario Inc"
          ],
          [
           "V27-3720541",
           "2007-03-16",
           null,
           "canada,m6e",
           "Ieraci-Crimeni, Gina"
          ],
          [
           "V27-5217342",
           "2022-08-02",
           null,
           "659 lansdowne ave,toronto, on,canada,m6h 3y2",
           "Ruru Baked Inc"
          ],
          [
           "V27-5345989",
           "2023-08-04",
           null,
           "126 rogers rd,toronto, on,canada,m6e 1p7",
           "Churros By Rebozos Inc"
          ],
          [
           "R56-4536547",
           "2015-05-14",
           "2015-05-15",
           "80 oakwood ave,toronto, on,canada,m6h 2v8",
           "1544562 Ontario Ltd"
          ],
          [
           "R56-4423167",
           "2014-06-04",
           "2016-03-21",
           "canada,m6h",
           "Harrabi, Sadok Mohamed"
          ],
          [
           "R56-4423281",
           "2014-06-05",
           "2016-03-21",
           "canada,m6h",
           "Mavromihelakis, Steve"
          ],
          [
           "R56-4647546",
           "2016-03-22",
           "2017-03-22",
           "80 oakwood ave,toronto, on,canada,m6h 2v8",
           "1544562 Ontario Ltd"
          ],
          [
           "R56-4654628",
           "2016-07-26",
           "2017-05-09",
           "canada,m6h",
           "Harrabi, Sadok Mohamed"
          ],
          [
           "R56-4654629",
           "2016-07-26",
           "2017-05-09",
           "canada,m6h",
           "Harrabi, Sadok Mohamed"
          ],
          [
           "R56-4654630",
           "2016-07-26",
           "2017-05-09",
           "canada,m6h",
           "Harrabi, Sadok Mohamed"
          ],
          [
           "R56-4648856",
           "2016-04-26",
           "2017-05-10",
           "canada,m6h",
           "Smirnis, Nikolaos"
          ],
          [
           "R56-4650405",
           "2016-06-02",
           "2017-05-26",
           "canada,m6h",
           "Khazabi, Mustafa"
          ],
          [
           "R56-4536541",
           "2015-05-14",
           "2018-04-05",
           "canada,m6h",
           "Smirnis, Nikolaos"
          ],
          [
           "R56-4720032",
           "2017-05-10",
           "2018-04-05",
           "canada,m6h",
           "Smirnis, Nikolaos"
          ],
          [
           "R56-4424905",
           "2014-07-14",
           "2018-09-10",
           "canada,m6h",
           "Khazabi, Mustafa"
          ]
         ],
         "hovertemplate": "<b>%{hovertext}</b><br><br>AREA_NAME=Davenport<br>latitude=%{lat}<br>longitude=%{lon}<br>Licence No.=%{customdata[0]}<br>Issued=%{customdata[1]}<br>Cancel Date=%{customdata[2]}<br>address=%{customdata[3]}<br>Client Name=%{customdata[4]}<extra></extra>",
         "hovertext": [
          null,
          null,
          null,
          null,
          null,
          null,
          null,
          null,
          null,
          null,
          null,
          null,
          null,
          null,
          null,
          null,
          null,
          null,
          null,
          null,
          null,
          null,
          null,
          "Mr Creamy",
          null,
          "Mr. Creamy",
          "Mr Creamy",
          "Freezer Fresh",
          "Prisma Catering Ltd",
          "Sam'S Coffee Wagon",
          "Dairy Belle",
          "Mr Softee",
          null,
          "Dairy Belle",
          "The Food Dudes",
          "Dairy King",
          "Stuft",
          "Let'S Be Frank",
          "Pancho'S Bakery",
          "We Got Balls",
          null,
          null,
          null,
          "Yummy Ice Cream",
          "Wanna Burger Ltd",
          "Badlands Mesquite Ltd",
          "Pronto Pasta & Catering",
          "Dairy King",
          "Rancho Relaxo To Go",
          "Deli' Campo",
          "Dairy King",
          null,
          "Vesta Lunch On Wheels",
          "Queen Arepa",
          "Wanna Burger",
          "Golden Grill",
          "Rebozos",
          "Dairy Belle",
          "Freezer Fresh",
          null,
          "Rebozos Taqueria",
          null,
          null,
          null,
          "Yaro 1",
          null,
          null,
          null,
          null,
          null,
          "Maj Zappi Factory",
          null,
          null,
          "Anna'S Food Service",
          null,
          null,
          null,
          null,
          null,
          null,
          null,
          null,
          "Ruru Baked",
          "Churros By Rebozos",
          null,
          null,
          null,
          null,
          null,
          null,
          null,
          null,
          null,
          null,
          null,
          null
         ],
         "lat": [
          43.6770127,
          43.67858418,
          43.67858418,
          43.68806215,
          43.68118752,
          43.68806215,
          43.6770127,
          43.68806215,
          43.67858418,
          43.68806215,
          43.66482999,
          43.68118752,
          43.66482999,
          43.67858418,
          43.6770127,
          43.68481349,
          43.68118752,
          43.6770127,
          43.67858418,
          43.68118752,
          43.66482999,
          43.68118752,
          43.68806215,
          43.68806215,
          43.66482999,
          43.68806215,
          43.68806215,
          43.66482999,
          43.67406219,
          43.66482999,
          43.66482999,
          43.68806215,
          43.66482999,
          43.66078769,
          43.64243618,
          43.66482999,
          43.64428858,
          43.64916639,
          43.66038452,
          43.66482999,
          43.66482999,
          43.66482999,
          43.66482999,
          43.66482999,
          43.68118752,
          43.6516906,
          43.68806215,
          43.66482999,
          43.66460941,
          43.68806215,
          43.66482999,
          43.67858418,
          43.68118752,
          43.66482999,
          43.68118752,
          43.68118752,
          43.68481349,
          43.66482999,
          43.6770127,
          43.66482999,
          43.68481349,
          43.66482999,
          43.66482999,
          43.66482999,
          43.66482999,
          43.66482999,
          43.66482999,
          43.66482999,
          43.68806215,
          43.66482999,
          43.68806215,
          43.66482999,
          43.66482999,
          43.66189531,
          43.66482999,
          43.68806215,
          43.66482999,
          43.66482999,
          43.66482999,
          43.66482999,
          43.65535931,
          43.68806215,
          43.65828762,
          43.68481349,
          43.6770127,
          43.66482999,
          43.66482999,
          43.6770127,
          43.66482999,
          43.66482999,
          43.66482999,
          43.66482999,
          43.66482999,
          43.66482999,
          43.66482999,
          43.66482999
         ],
         "legendgroup": "Davenport",
         "lon": [
          -79.43512389,
          -79.4606364,
          -79.4606364,
          -79.45042016,
          -79.44163127,
          -79.45042016,
          -79.43512389,
          -79.45042016,
          -79.4606364,
          -79.45042016,
          -79.43770318,
          -79.44163127,
          -79.43770318,
          -79.4606364,
          -79.43512389,
          -79.44962978,
          -79.44163127,
          -79.43512389,
          -79.4606364,
          -79.44163127,
          -79.43770318,
          -79.44163127,
          -79.45042016,
          -79.45042016,
          -79.43770318,
          -79.45042016,
          -79.45042016,
          -79.43770318,
          -79.4594056,
          -79.43770318,
          -79.43770318,
          -79.45042016,
          -79.43770318,
          -79.44237499,
          -79.42222574,
          -79.43770318,
          -79.4262374,
          -79.43555213,
          -79.43520361,
          -79.43770318,
          -79.43770318,
          -79.43770318,
          -79.43770318,
          -79.43770318,
          -79.44163127,
          -79.43779923,
          -79.45042016,
          -79.43770318,
          -79.45553299,
          -79.45042016,
          -79.43770318,
          -79.4606364,
          -79.44163127,
          -79.43770318,
          -79.44163127,
          -79.44163127,
          -79.44962978,
          -79.43770318,
          -79.43512389,
          -79.43770318,
          -79.44962978,
          -79.43770318,
          -79.43770318,
          -79.43770318,
          -79.43770318,
          -79.43770318,
          -79.43770318,
          -79.43770318,
          -79.45042016,
          -79.43770318,
          -79.45042016,
          -79.43770318,
          -79.43770318,
          -79.45200857,
          -79.43770318,
          -79.45042016,
          -79.43770318,
          -79.43770318,
          -79.43770318,
          -79.43770318,
          -79.43065282,
          -79.45042016,
          -79.4424506,
          -79.44962978,
          -79.43512389,
          -79.43770318,
          -79.43770318,
          -79.43512389,
          -79.43770318,
          -79.43770318,
          -79.43770318,
          -79.43770318,
          -79.43770318,
          -79.43770318,
          -79.43770318,
          -79.43770318
         ],
         "marker": {
          "color": "#19d3f3"
         },
         "mode": "markers",
         "name": "Davenport",
         "showlegend": true,
         "subplot": "mapbox",
         "type": "scattermapbox"
        },
        {
         "customdata": [
          [
           "R54-4536544",
           "2015-05-14",
           "2016-03-29",
           "canada,m1b",
           "Navaratnam, Shantharuban"
          ],
          [
           "R54-4647758",
           "2016-03-29",
           "2017-10-10",
           "canada,m1b",
           "Navaratnam, Shantharuban"
          ],
          [
           "R54-4826529",
           "2018-04-24",
           "2019-11-30",
           "canada,m1b",
           "Kangal, Vinod Randy"
          ],
          [
           "R54-4948411",
           "2019-06-27",
           "2020-01-04",
           "canada,m1b",
           "Namunane, Samali Jayne"
          ],
          [
           "R54-5027810",
           "2020-08-28",
           "2021-05-14",
           "canada,m1b",
           "Namunane, Samali Jayne"
          ],
          [
           "R54-5201507",
           "2022-03-01",
           "2022-09-07",
           "12 gristone cres,toronto, on,canada,m1x 1v1",
           "The New Republic Inc La Nouvelle Republique Inc"
          ],
          [
           "R54-5221298",
           "2022-08-08",
           "2023-02-15",
           "12 tefft rd,toronto, on,canada,m1e 3j1",
           "13858405 Canada Inc"
          ],
          [
           "V15-0005205",
           "2068-04-19",
           "2003-11-05",
           "canada,m1b",
           "Whelan, David Robert"
          ],
          [
           "V15-3724473",
           "2007-06-13",
           "2008-09-13",
           "canada,m1c",
           "Thompson, Eugene"
          ],
          [
           "V15-3837592",
           "2008-05-15",
           "2009-06-08",
           "94 wickson trail,toronto, on,canada,m1b 1p3",
           "6298745 Canada Inc"
          ],
          [
           "V15-3837593",
           "2008-05-15",
           "2009-06-08",
           "94 wickson trail,toronto, on,canada,m1b 1p3",
           "6298745 Canada Inc"
          ],
          [
           "V15-3723587",
           "2007-06-26",
           "2009-09-26",
           "37 megan ave,toronto, on,canada,m1e 4a6",
           "Kabi Auto Inc"
          ],
          [
           "V15-3840867",
           "2008-08-13",
           "2011-11-13",
           "37 megan ave,toronto, on,canada,m1e 4a6",
           "Kabi Auto Inc"
          ],
          [
           "V15-3953746",
           "2009-06-12",
           "2012-09-12",
           "canada,m1c",
           "Whalen, Mark S"
          ],
          [
           "V15-3121212",
           "2001-04-01",
           "2013-07-02",
           "canada,m1c",
           "Mehmet, Susan Jean"
          ],
          [
           "V15-0005056",
           "1974-03-27",
           "2016-01-25",
           "canada,m1b",
           "Tutton, Roland Edward"
          ],
          [
           "V15-4317170",
           "2013-12-30",
           "2016-03-31",
           "canada,m1b",
           "Kangal, Vinod Randy"
          ],
          [
           "V15-4535357",
           "2015-04-29",
           "2018-06-19",
           "canada,m1b",
           "Kangal, Vinod Randy"
          ],
          [
           "V15-4297620",
           "2012-07-18",
           "2019-10-18",
           "46 mantis rd,toronto, on,canada,m1x 1w3",
           "2182592 Ontario Inc"
          ],
          [
           "V15-4297618",
           "2012-07-25",
           "2019-10-25",
           "46 mantis rd,toronto, on,canada,m1x 1w3",
           "2182592 Ontario Inc"
          ],
          [
           "V15-4733913",
           "2017-09-01",
           "2019-11-05",
           "canada,m1c",
           "Liyanage, Nalaka Devindra"
          ],
          [
           "V15-4425641",
           "2014-08-18",
           "2019-11-18",
           "46 mantis rd,toronto, on,canada,m1x 1w3",
           "2182592 Ontario Inc"
          ],
          [
           "V15-4860357",
           "2018-08-30",
           "2019-11-30",
           "canada,m1b",
           "Kangal, Vinod Randy"
          ],
          [
           "V15-5200327",
           "2022-02-14",
           "2023-05-15",
           "12 gristone cres,toronto, on,canada,m1x 1v1",
           "The New Republic Inc La Nouvelle Republique Inc"
          ],
          [
           "V15-5218780",
           "2022-07-28",
           "2023-10-26",
           "12 tefft rd,toronto, on,canada,m1e 3j1",
           "13858405 Canada Inc"
          ],
          [
           "V15-3727881",
           "2007-08-17",
           null,
           "64 satchell blvd,toronto, on,canada,m1c 3b4",
           "1666812 Ontario Ltd"
          ],
          [
           "V15-4948158",
           "2019-06-25",
           null,
           "canada,m1b",
           "Namunane, Samali Jayne"
          ],
          [
           "V15-5022490",
           "2020-06-29",
           null,
           "canada,m1b",
           "Kangal, Vinod Randy"
          ],
          [
           "V27-2018276",
           "1994-06-20",
           "2003-03-31",
           "canada,m1b",
           "Studeny, Mary-Lee"
          ],
          [
           "V27-3241885",
           "2002-04-23",
           "2003-03-31",
           "canada,m1b",
           "Selliah, Sivarajah"
          ],
          [
           "V27-3608406",
           "2006-05-24",
           "2007-08-24",
           "canada,m1b",
           "Khan, Abdul S"
          ],
          [
           "V27-3366129",
           "2003-10-20",
           "2008-01-20",
           "canada,m1b",
           "Hamodeh, Taleb Ahmad"
          ],
          [
           "V27-3725492",
           "2007-06-20",
           "2008-09-20",
           "canada,m1b",
           "Devanesam, Jerry T"
          ],
          [
           "V27-2024850",
           "1996-05-06",
           "2009-05-08",
           "canada,m1x",
           "Raufi, Abdul Rasool"
          ],
          [
           "V27-3592840",
           "2005-07-12",
           "2009-10-12",
           "canada,m1b",
           "Gordon, Gilbert Anthony"
          ],
          [
           "V27-3360980",
           "2003-07-14",
           "2009-10-14",
           "101 copperfield rd,toronto, on,canada,m1e 5g7",
           "1555184 Ontario Inc"
          ],
          [
           "V27-3360984",
           "2003-07-14",
           "2009-10-14",
           "101 copperfield rd,toronto, on,canada,m1e 5g7",
           "1555184 Ontario Inc"
          ],
          [
           "V27-3364080",
           "2003-07-17",
           "2009-10-17",
           "canada,m1c",
           "Morrison, Maxine M"
          ],
          [
           "V27-3841234",
           "2008-08-19",
           "2009-11-19",
           "111 rylander blvd,toronto, on,canada,m1b 4x3",
           "Bright Management Inc"
          ],
          [
           "V27-3957249",
           "2009-09-10",
           "2010-12-11",
           "111 rylander blvd, pof,toronto, on,canada,m1b 4x3",
           "Ag Group Inc"
          ],
          [
           "V27-4422642",
           "2014-05-30",
           "2015-08-30",
           "canada,m1b",
           "Digat, Yilian M"
          ],
          [
           "V27-4424810",
           "2014-09-11",
           "2015-12-12",
           "canada,m1c",
           "Rahman, Zohra Sana"
          ],
          [
           "V27-4537476",
           "2015-06-26",
           "2016-09-26",
           "canada,m1c",
           "Afridi, Abdul Majid Ali"
          ],
          [
           "V27-4650910",
           "2016-07-19",
           "2017-10-19",
           "10 dean park rd, #1003,toronto, on,canada,m1b 3g8",
           "9756884 Canada Inc"
          ],
          [
           "V27-3614010",
           "2006-08-22",
           null,
           "canada,m1b",
           "Al Huttam, Nasir Ahmed A"
          ],
          [
           "V27-4419903",
           "2014-05-29",
           null,
           "canada,m1b",
           "Dimitrova, Daniela"
          ],
          [
           "V27-5144693",
           "2021-12-06",
           null,
           "canada,m1b",
           "Ibrahim, Muna Ahmed"
          ]
         ],
         "hovertemplate": "<b>%{hovertext}</b><br><br>AREA_NAME=Scarborough-Rouge Park<br>latitude=%{lat}<br>longitude=%{lon}<br>Licence No.=%{customdata[0]}<br>Issued=%{customdata[1]}<br>Cancel Date=%{customdata[2]}<br>address=%{customdata[3]}<br>Client Name=%{customdata[4]}<extra></extra>",
         "hovertext": [
          null,
          null,
          null,
          null,
          null,
          null,
          null,
          "Whelan'S Catering",
          null,
          "Delight Ice Cream",
          "Mr Creamy",
          "Kabi Auto Inc",
          null,
          null,
          null,
          "Tutton'S Catering",
          null,
          "Randy'S Roti & Double'S",
          "Gta Icecream",
          "Gta Icecream",
          "Spring Loaded Toronto",
          "Gta Icecream",
          "Randy'S Roti & Double'S",
          "The Republic",
          "Bengal Street",
          "D And M Catering",
          "Cafe Asante",
          "Randy'S Curb Side",
          null,
          null,
          null,
          null,
          "Jerry Mobile Caterers",
          null,
          null,
          null,
          "1555184 Ontario",
          "Kool Kats Catering Service",
          null,
          "Ag Group",
          null,
          "Fast Bite",
          "Fms Hotdog Corner",
          null,
          null,
          null,
          null
         ],
         "lat": [
          43.80929263,
          43.80929263,
          43.80929263,
          43.80929263,
          43.80929263,
          43.82226082,
          43.77359369,
          43.80929263,
          43.78776803,
          43.80151389,
          43.80151389,
          43.7747182,
          43.7747182,
          43.78776803,
          43.78776803,
          43.80929263,
          43.80929263,
          43.80929263,
          43.82289499,
          43.82289499,
          43.78776803,
          43.82289499,
          43.80929263,
          43.82226082,
          43.77359369,
          43.7882678,
          43.80929263,
          43.80929263,
          43.80929263,
          43.80929263,
          43.80929263,
          43.80929263,
          43.80929263,
          43.83482678,
          43.80929263,
          43.76163908,
          43.76163908,
          43.78776803,
          43.7969621,
          43.7969621,
          43.80929263,
          43.78776803,
          43.78776803,
          43.8028793,
          43.80929263,
          43.80929263,
          43.80929263
         ],
         "legendgroup": "Scarborough-Rouge Park",
         "lon": [
          -79.19322535,
          -79.19322535,
          -79.19322535,
          -79.19322535,
          -79.19322535,
          -79.217872,
          -79.18676869,
          -79.19322535,
          -79.15615166,
          -79.21084478,
          -79.21084478,
          -79.17142738,
          -79.17142738,
          -79.15615166,
          -79.15615166,
          -79.19322535,
          -79.19322535,
          -79.19322535,
          -79.22252061,
          -79.22252061,
          -79.15615166,
          -79.22252061,
          -79.19322535,
          -79.217872,
          -79.18676869,
          -79.15692543,
          -79.19322535,
          -79.19322535,
          -79.19322535,
          -79.19322535,
          -79.19322535,
          -79.19322535,
          -79.19322535,
          -79.20482257,
          -79.19322535,
          -79.15684228,
          -79.15684228,
          -79.15615166,
          -79.15374466,
          -79.15374466,
          -79.19322535,
          -79.15615166,
          -79.15615166,
          -79.1698732,
          -79.19322535,
          -79.19322535,
          -79.19322535
         ],
         "marker": {
          "color": "#FF6692"
         },
         "mode": "markers",
         "name": "Scarborough-Rouge Park",
         "showlegend": true,
         "subplot": "mapbox",
         "type": "scattermapbox"
        },
        {
         "customdata": [
          [
           "R54-4540533",
           "2015-08-18",
           "2016-05-17",
           "32 camrose cres,toronto, on,canada,m1l 2b6",
           "Donkey Kone Inc"
          ],
          [
           "R54-4539167",
           "2015-07-13",
           "2016-06-06",
           "58 raleigh ave,toronto, on,canada,m1k 1a3",
           "Master Soft & Delight Dairy Products Inc"
          ],
          [
           "R54-4727802",
           "2017-07-07",
           "2018-05-07",
           "32 camrose cres,toronto, on,canada,m1l 2b6",
           "Donkey Kone Inc"
          ],
          [
           "R54-4729396",
           "2017-07-19",
           "2018-05-07",
           "32 camrose cres,toronto, on,canada,m1l 2b6",
           "Donkey Kone Inc"
          ],
          [
           "R54-4812149",
           "2018-02-27",
           "2019-01-31",
           "canada,m1l",
           "Jones, Frank Henry"
          ],
          [
           "R54-4831182",
           "2018-05-14",
           "2019-01-31",
           "canada,m1n",
           "Tsetar, Karma"
          ],
          [
           "R54-4922857",
           "2019-03-27",
           "2019-11-13",
           "2609 eglinton ave e,toronto, on,canada,m1k 2s2",
           "Mexican Bowl Inc"
          ],
          [
           "R54-5019142",
           "2020-03-17",
           "2020-09-25",
           "25 arden cres,toronto, on,canada,m1l 3r6",
           "2720940 Ontario Inc"
          ],
          [
           "V15-0007169",
           "1969-01-01",
           "2003-02-12",
           "canada,m1k",
           "Tanevski, Stergio"
          ],
          [
           "V15-2023161",
           "1995-10-24",
           "2003-03-31",
           "canada,m1n",
           "Mallia, Gaetano Paul"
          ],
          [
           "V15-3121884",
           "2001-04-01",
           "2003-03-31",
           "canada,m1k",
           "Evagelelis, Chris"
          ],
          [
           "V15-2023251",
           "1995-11-03",
           "2003-05-02",
           "canada,m1k",
           "Hartung, Eric"
          ],
          [
           "V15-3007928",
           "1997-06-27",
           "2003-05-02",
           "canada,m1l",
           "Karadimas, Chris"
          ],
          [
           "V15-3098098",
           "1999-05-21",
           "2003-05-02",
           "canada,m1l",
           "Karadimas, Chris"
          ],
          [
           "V15-3109216",
           "2000-05-19",
           "2003-05-02",
           "canada,m1l",
           "Karadimas, Chris"
          ],
          [
           "V15-0016392",
           "1987-03-23",
           "2003-12-19",
           "canada,m1m",
           "Curry, Samuel"
          ],
          [
           "V15-3087444",
           "1998-08-19",
           "2004-05-13",
           "canada,m1l",
           "Karadimas, Chris"
          ],
          [
           "V15-2025720",
           "1996-07-10",
           "2005-04-02",
           "canada,m1n",
           "Stamcoff, Mark Stephen"
          ],
          [
           "V15-3006300",
           "1997-05-05",
           "2005-04-02",
           "canada,m1k",
           "Arfanis, Michael"
          ],
          [
           "V15-0002582",
           "2066-05-12",
           "2005-04-04",
           "canada,m1k",
           "Labrinos, John"
          ],
          [
           "V15-3109653",
           "2000-05-24",
           "2005-05-09",
           "canada,m1l",
           "Karadimas, Chris"
          ],
          [
           "V15-1001310",
           "1989-02-28",
           "2005-07-01",
           "canada,m1k",
           "Hamilton, James Calvin"
          ],
          [
           "V15-2004195",
           "1991-04-02",
           "2005-07-01",
           "canada,m1k",
           "Evagelelis, Chris"
          ],
          [
           "V15-3004007",
           "1997-04-01",
           "2005-07-01",
           "canada,m1k",
           "Bougadis, Antonia"
          ],
          [
           "V15-3085935",
           "1998-06-30",
           "2005-07-01",
           "canada,m1l",
           "Karadimas, Chris"
          ],
          [
           "V15-3122936",
           "2001-04-05",
           "2005-07-01",
           "canada,m1k",
           "Evagelelis, Chris"
          ],
          [
           "V15-3122948",
           "2001-04-05",
           "2005-07-01",
           "canada,m1k",
           "Evagelelis, Chris"
          ],
          [
           "V15-3246164",
           "2002-06-07",
           "2005-07-01",
           "canada,m1l",
           "Karadimas, Chris"
          ],
          [
           "V15-3246510",
           "2002-06-14",
           "2005-07-01",
           "canada,m1l",
           "Karadimas, Chris"
          ],
          [
           "V15-3360916",
           "2003-06-23",
           "2005-07-01",
           "canada,m1l",
           "Karadimas, Chris"
          ],
          [
           "V15-3363502",
           "2003-08-08",
           "2005-07-01",
           "canada,m1l",
           "Karadimas, Chris"
          ],
          [
           "V15-3087124",
           "1998-07-24",
           "2005-08-19",
           "canada,m1l",
           "Karadimas, Chris"
          ],
          [
           "V15-3005704",
           "1997-05-23",
           "2006-05-12",
           "canada,m1l",
           "Karadimas, Chris"
          ],
          [
           "V15-1001872",
           "1989-04-13",
           "2006-05-23",
           "canada,m1k",
           "Arfanis, Michael"
          ],
          [
           "V15-3006643",
           "1997-05-28",
           "2006-08-28",
           "758 midland ave,toronto, on,canada,m1k 4c8",
           "Samna Taxi Ltd"
          ],
          [
           "V15-3109651",
           "2000-05-24",
           "2007-05-03",
           "canada,m1l",
           "Karadimas, Chris"
          ],
          [
           "V15-3360785",
           "2003-06-27",
           "2008-09-27",
           "canada,m1m",
           "Hards, Kelly"
          ],
          [
           "V15-3729920",
           "2008-02-28",
           "2009-05-31",
           "canada,m1m",
           "Mcarthur, Christopher Robin"
          ],
          [
           "V15-3595679",
           "2005-07-08",
           "2013-10-08",
           "canada,m1l",
           "Tsialafos, Niki"
          ],
          [
           "V15-3727171",
           "2007-07-27",
           "2013-10-27",
           "32 camrose cres,toronto, on,canada,m1l 2b6",
           "Donkey Kone Inc"
          ],
          [
           "V15-3609486",
           "2006-05-12",
           "2014-08-12",
           "32 camrose cres,toronto, on,canada,m1l 2b6",
           "Johnny Cones Inc"
          ],
          [
           "V15-4417763",
           "2014-02-11",
           "2015-05-14",
           "canada,m1l",
           "Jackson, Stephen Arthur"
          ],
          [
           "V15-3118662",
           "2001-04-01",
           "2015-07-02",
           "canada,m1k",
           "Stavreski, Naumce"
          ],
          [
           "V15-4425498",
           "2014-09-08",
           "2015-10-29",
           "canada,m1k",
           "Boughachiche, Hichem"
          ],
          [
           "V15-2000780",
           "1990-05-09",
           "2016-08-09",
           "canada,m1k",
           "Roe, Stephen"
          ],
          [
           "V15-3107622",
           "2000-04-01",
           "2017-07-02",
           "canada,m1m",
           "Stalker, Scott W"
          ],
          [
           "V15-4427371",
           "2016-06-20",
           "2017-09-20",
           "canada,m1m",
           "Brnjosevic, Gregory Chad"
          ],
          [
           "V15-3598295",
           "2005-08-19",
           "2017-11-19",
           "32 camrose cres,toronto, on,canada,m1l 2b6",
           "Johnny Cones Inc"
          ],
          [
           "V15-3598963",
           "2005-09-02",
           "2017-12-03",
           "32 camrose cres,toronto, on,canada,m1l 2b6",
           "Donkey Kone Inc"
          ],
          [
           "V15-3727192",
           "2007-09-07",
           "2017-12-08",
           "32 camrose cres,toronto, on,canada,m1l 2b6",
           "Donkey Kone Inc"
          ],
          [
           "V15-4745752",
           "2017-11-14",
           "2019-02-14",
           "canada,m1l",
           "Stephens, Christopher"
          ],
          [
           "V15-4830496",
           "2018-05-14",
           "2019-08-14",
           "canada,m1n",
           "Tsetar, Karma"
          ],
          [
           "V15-4812145",
           "2018-02-27",
           "2020-09-29",
           "canada,m1l",
           "Jones, Frank Henry"
          ],
          [
           "V15-4649551",
           "2016-08-05",
           "2020-10-14",
           "canada,m1m",
           "Lewis, Michael"
          ],
          [
           "V15-4818078",
           "2018-03-20",
           "2020-10-14",
           "2609 eglinton ave e,toronto, on,canada,m1k 2s2",
           "Mexican Bowl Inc"
          ],
          [
           "V15-2004871",
           "1991-05-17",
           "2020-11-03",
           "canada,m1k",
           "Lee, Kok-Houa"
          ],
          [
           "V15-4752304",
           "2017-12-01",
           "2021-05-12",
           "32 camrose cres,toronto, on,canada,m1l 2b6",
           "Johnny Cones Inc"
          ],
          [
           "V15-4423798",
           "2014-08-21",
           "2022-01-19",
           "canada,m1l",
           "Jones, Frank Henry"
          ],
          [
           "V15-5019131",
           "2020-03-17",
           "2022-06-16",
           "25 arden cres,toronto, on,canada,m1l 3r6",
           "2720940 Ontario Inc"
          ],
          [
           "V15-2004755",
           "1991-05-08",
           "2022-08-09",
           "canada,m1l",
           "Tsialafos, Konstantinos"
          ],
          [
           "V15-0013373",
           "1985-04-15",
           null,
           "58 raleigh ave,toronto, on,canada,m1k 1a3",
           "Master Soft & Delight Dairy Products Inc"
          ],
          [
           "V15-0015634",
           "1986-06-20",
           null,
           "58 raleigh ave,toronto, on,canada,m1k 1a3",
           "Master Soft & Delight Dairy Products Inc"
          ],
          [
           "V15-2025178",
           "1996-06-05",
           null,
           "58 raleigh ave,toronto, on,canada,m1k 1a3",
           "Master Soft & Delight Dairy Products Inc"
          ],
          [
           "V15-3106604",
           "2000-04-27",
           null,
           "canada,m1l",
           "Tsialafos, Niki"
          ],
          [
           "V15-3592904",
           "2005-04-22",
           null,
           "32 camrose cres,toronto, on,canada,m1l 2b6",
           "Donkey Kone Inc"
          ],
          [
           "V15-3593121",
           "2005-04-29",
           null,
           "32 camrose cres,toronto, on,canada,m1l 2b6",
           "Donkey Kone Inc"
          ],
          [
           "V15-3593465",
           "2005-05-09",
           null,
           "32 camrose cres,toronto, on,canada,m1l 2b6",
           "Donkey Kone Inc"
          ],
          [
           "V15-3593813",
           "2005-05-13",
           null,
           "32 camrose cres,toronto, on,canada,m1l 2b6",
           "Donkey Kone Inc"
          ],
          [
           "V15-3610190",
           "2006-06-30",
           null,
           "32 camrose cres,toronto, on,canada,m1l 2b6",
           "Donkey Kone Inc"
          ],
          [
           "V15-3723774",
           "2007-05-04",
           null,
           "32 camrose cres,toronto, on,canada,m1l 2b6",
           "Donkey Kone Inc"
          ],
          [
           "V15-3724822",
           "2007-06-05",
           null,
           "32 camrose cres,toronto, on,canada,m1l 2b6",
           "Donkey Kone Inc"
          ],
          [
           "V15-3726966",
           "2007-07-26",
           null,
           "32 camrose cres,toronto, on,canada,m1l 2b6",
           "Johnny Cones Inc"
          ],
          [
           "V15-4067735",
           "2010-05-06",
           null,
           "32 camrose cres,toronto, on,canada,m1l 2b6",
           "Johnny Cones Inc"
          ],
          [
           "V15-4068861",
           "2010-06-21",
           null,
           "32 camrose cres,toronto, on,canada,m1l 2b6",
           "Donkey Kone Inc"
          ],
          [
           "V15-4069336",
           "2010-06-24",
           null,
           "32 camrose cres,toronto, on,canada,m1l 2b6",
           "Donkey Kone Inc"
          ],
          [
           "V15-4296562",
           "2012-06-08",
           null,
           "32 camrose cres,toronto, on,canada,m1l 2b6",
           "Donkey Kone Inc"
          ],
          [
           "V15-4423411",
           "2014-06-26",
           null,
           "32 camrose cres,toronto, on,canada,m1l 2b6",
           "Donkey Kone Inc"
          ],
          [
           "V15-4539551",
           "2015-07-29",
           null,
           "32 camrose cres,toronto, on,canada,m1l 2b6",
           "Donkey Kone Inc"
          ],
          [
           "V15-4539553",
           "2015-07-24",
           null,
           "32 camrose cres,toronto, on,canada,m1l 2b6",
           "Donkey Kone Inc"
          ],
          [
           "V15-4971842",
           "2019-09-24",
           null,
           "canada,m1k",
           "Salih, Alamin Sulieman Mohammed"
          ],
          [
           "V15-5031443",
           "2021-06-01",
           null,
           "32 camrose cres,toronto, on,canada,m1l 2b6",
           "Johnny Cones Inc"
          ],
          [
           "V15-5117341",
           "2021-06-29",
           null,
           "62 arden cres,toronto, on,canada,m1l 3r5",
           "Mister Soft & Delight Inc"
          ],
          [
           "V15-5118393",
           "2021-07-13",
           null,
           "62 arden cres,toronto, on,canada,m1l 3r5",
           "Mister Soft & Delight Inc"
          ],
          [
           "V15-5125164",
           "2021-11-05",
           null,
           "32 camrose cres,toronto, on,canada,m1l 2b6",
           "Donkey Kone Inc"
          ],
          [
           "V15-5130029",
           "2021-10-08",
           null,
           "32 camrose cres,toronto, on,canada,m1l 2b6",
           "Donkey Kone Inc"
          ],
          [
           "V15-5144318",
           "2021-11-15",
           null,
           "canada,m1m",
           "Lewis, Michael"
          ],
          [
           "V15-5200527",
           "2022-02-14",
           null,
           "canada,m1n",
           "Tsetar, Karma"
          ],
          [
           "V15-5200557",
           "2022-04-06",
           null,
           "32 camrose cres,toronto, on,canada,m1l 2b6",
           "Johnny Cones Inc"
          ],
          [
           "V15-5219034",
           "2022-07-28",
           null,
           "canada,m1k",
           "Andrews, Denise Melissa"
          ],
          [
           "V15-5301557",
           "2023-03-13",
           null,
           "32 camrose cres,toronto, on,canada,m1l 2b6",
           "Donkey Kone Inc"
          ],
          [
           "V15-5331153",
           "2023-06-06",
           null,
           "32 camrose cres,toronto, on,canada,m1l 2b6",
           "Donkey Kone Inc"
          ],
          [
           "V15-5331141",
           "2023-06-22",
           null,
           "32 camrose cres,toronto, on,canada,m1l 2b6",
           "Johnny Cones Inc"
          ],
          [
           "V15-5359082",
           "2023-10-03",
           null,
           "32 camrose cres,toronto, on,canada,m1l 2b6",
           "Donkey Kone Inc"
          ],
          [
           "V15-5371511",
           "2023-11-22",
           null,
           "canada,m1l",
           "Tsialafos, Konstantinos"
          ],
          [
           "V27-2001527",
           "1990-06-27",
           "2003-03-31",
           "canada,m1k",
           "Jamshidnia, Hossein"
          ],
          [
           "V27-3128632",
           "2001-07-31",
           "2003-03-31",
           "canada,m1k",
           "Barkhordar, Jalal"
          ],
          [
           "V27-3244037",
           "2002-04-29",
           "2003-03-31",
           "canada,m1k",
           "Barkhordar, Jalal"
          ],
          [
           "V27-3248927",
           "2002-08-09",
           "2003-03-31",
           "143 bexhill ave,toronto, on,canada,m1l 3c5",
           "Emajen Inc"
          ],
          [
           "V27-2022352",
           "1995-07-20",
           "2005-04-01",
           "canada,m1l",
           "Tsialafos, Konstantinos"
          ],
          [
           "V27-1003068",
           "1989-06-26",
           "2005-04-02",
           "canada,m1n",
           "Studeny Sr, John"
          ],
          [
           "V27-2011290",
           "1992-11-27",
           "2005-04-02",
           "canada,m1m",
           "Mozol, Mariusz"
          ],
          [
           "V27-3098572",
           "1999-07-02",
           "2005-04-02",
           "canada,m1m",
           "Mozol, Mariusz"
          ],
          [
           "V27-3357758",
           "2003-05-02",
           "2005-04-02",
           "canada,m1k",
           "Amin, Laila Abd Alla"
          ],
          [
           "V27-3249072",
           "2002-08-23",
           "2005-07-01",
           "canada,m1k",
           "Wilson, James V"
          ],
          [
           "V27-3359225",
           "2003-05-26",
           "2005-07-01",
           "canada,m1m",
           "Andonov, Kristiana"
          ],
          [
           "V27-3592814",
           "2005-05-19",
           "2006-08-19",
           "canada,m1m",
           "Yogarajah, Navaratnam"
          ],
          [
           "V27-3478992",
           "2004-05-27",
           "2006-10-05",
           "canada,m1l",
           "Ahmadi, Hussein"
          ],
          [
           "V27-3359185",
           "2003-10-06",
           "2007-01-06",
           "canada,m1m",
           "Piroti, Mohammad"
          ],
          [
           "V27-3604764",
           "2006-03-20",
           "2007-06-20",
           "canada,m1l",
           "O'Shaughnessy, Laurie A"
          ],
          [
           "V27-3362601",
           "2003-08-06",
           "2007-11-06",
           "canada,m1k",
           "Chorafios, Nikolaos"
          ],
          [
           "V27-1004215",
           "1989-10-12",
           "2008-03-18",
           "canada,m1k",
           "Bougadis, Peter"
          ],
          [
           "V27-3619087",
           "2007-03-02",
           "2008-06-02",
           "canada,m1m",
           "Lotfi, Hamzeh"
          ],
          [
           "V27-3608747",
           "2006-05-04",
           "2008-08-04",
           "canada,m1k",
           "Hanna, Sobhy N"
          ],
          [
           "V27-3838217",
           "2008-06-09",
           "2009-09-09",
           "canada,m1l",
           "Stoyanov, Rossen"
          ],
          [
           "V27-3844389",
           "2008-11-05",
           "2011-02-05",
           "6 argate pl,toronto, on,canada,m1k 2j9",
           "1435943 Ontario Ltd"
          ],
          [
           "V27-3731915",
           "2007-12-21",
           "2011-03-23",
           "15 anson ave,toronto, on,canada,m1m 1x2",
           "2155968 Ontario Corp"
          ],
          [
           "V27-4071457",
           "2010-11-12",
           "2012-02-12",
           "682 warden ave, #1411,toronto, on,canada,m1l 3z9",
           "Bulcha,Ejigayehu Abera/Hassen,Hanane Abdlla"
          ],
          [
           "V27-3839302",
           "2009-01-20",
           "2012-04-21",
           "canada,m1n",
           "Rahman, Md Moshiur"
          ],
          [
           "V27-4185012",
           "2011-08-05",
           "2012-10-02",
           "canada,m1m",
           "David, Trevor"
          ],
          [
           "V27-3837789",
           "2008-07-17",
           "2012-10-17",
           "canada,m1k",
           "Bougadis, Peter"
          ],
          [
           "V27-2017730",
           "1994-05-12",
           "2013-07-26",
           "canada,m1l",
           "Karadimas, Kaliope"
          ],
          [
           "V27-4066190",
           "2010-04-01",
           "2014-07-02",
           "29 etienne st,toronto, on,canada,m1l 0a4",
           "Safe Corp"
          ],
          [
           "V27-4311608",
           "2013-08-01",
           "2014-11-01",
           "canada,m1k",
           "Siddiqi, Salwa"
          ],
          [
           "V27-3612475",
           "2007-04-10",
           "2016-07-11",
           "7 brimley rd s,toronto, on,canada,m1m 3w3",
           "Paul & Roland A La Carte Food Management Inc"
          ],
          [
           "V27-3612482",
           "2007-04-10",
           "2016-07-11",
           "7 brimley rd s,toronto, on,canada,m1m 3w3",
           "Paul & Roland A La Carte Food Management Inc"
          ],
          [
           "V27-3611099",
           "2006-06-27",
           "2016-09-27",
           "canada,m1l",
           "Amirbakhsh, Mohammad Eisa"
          ],
          [
           "V27-4542510",
           "2015-10-26",
           "2017-09-08",
           "canada,m1l",
           "Raghav, Ajay Singh"
          ],
          [
           "V27-2005749",
           "1991-07-30",
           "2017-10-30",
           "canada,m1m",
           "Karopoulos, George"
          ],
          [
           "V27-4200080",
           "2012-10-12",
           "2018-12-29",
           "canada,m1k",
           "Rahman, Sheikh Morshadur"
          ],
          [
           "V27-4829762",
           "2018-05-24",
           "2019-08-24",
           "canada,m1m",
           "Macoon, Abigale"
          ],
          [
           "V27-2020705",
           "1995-03-01",
           "2020-10-04",
           "canada,m1k",
           "Valtcheva, Zlatka"
          ],
          [
           "V27-0017853",
           "1987-08-11",
           null,
           "canada,m1l",
           "Karadimas, Chris"
          ],
          [
           "V27-4311811",
           "2013-08-07",
           null,
           "canada,m1l",
           "Karadimas, Kaliope"
          ],
          [
           "V27-4825656",
           "2018-04-24",
           null,
           "canada,m1n",
           "Jabbar, Majid"
          ],
          [
           "R56-4422772",
           "2014-05-26",
           "2015-07-02",
           "canada,m1k",
           "Stavreski, Naumce"
          ],
          [
           "R56-4422408",
           "2014-05-15",
           "2015-07-13",
           "58 raleigh ave,toronto, on,canada,m1k 1a3",
           "Master Soft & Delight Dairy Products Inc"
          ],
          [
           "R56-4423407",
           "2014-06-06",
           "2016-05-17",
           "32 camrose cres,toronto, on,canada,m1l 2b6",
           "Donkey Kone Inc"
          ],
          [
           "R56-4537925",
           "2015-06-16",
           "2016-05-17",
           "32 camrose cres,toronto, on,canada,m1l 2b6",
           "Johnny Cones Inc"
          ],
          [
           "R56-4650619",
           "2016-05-27",
           "2017-04-13",
           "58 raleigh ave,toronto, on,canada,m1k 1a3",
           "Master Soft & Delight Dairy Products Inc"
          ],
          [
           "R56-4423290",
           "2014-06-05",
           "2017-05-04",
           "canada,m1l",
           "Tsialafos, Niki"
          ],
          [
           "R56-4649745",
           "2016-05-17",
           "2017-05-17",
           "32 camrose cres,toronto, on,canada,m1l 2b6",
           "Donkey Kone Inc"
          ],
          [
           "R56-4649813",
           "2016-05-17",
           "2017-05-17",
           "32 camrose cres,toronto, on,canada,m1l 2b6",
           "Donkey Kone Inc"
          ],
          [
           "R56-4649814",
           "2016-05-17",
           "2017-05-17",
           "32 camrose cres,toronto, on,canada,m1l 2b6",
           "Donkey Kone Inc"
          ],
          [
           "R56-4649815",
           "2016-05-17",
           "2017-05-17",
           "32 camrose cres,toronto, on,canada,m1l 2b6",
           "Donkey Kone Inc"
          ],
          [
           "R56-4649816",
           "2016-05-17",
           "2017-05-17",
           "32 camrose cres,toronto, on,canada,m1l 2b6",
           "Donkey Kone Inc"
          ],
          [
           "R56-4649817",
           "2016-05-17",
           "2017-05-17",
           "32 camrose cres,toronto, on,canada,m1l 2b6",
           "Donkey Kone Inc"
          ],
          [
           "R56-4649818",
           "2016-05-17",
           "2017-05-17",
           "32 camrose cres,toronto, on,canada,m1l 2b6",
           "Donkey Kone Inc"
          ],
          [
           "R56-4649819",
           "2016-05-17",
           "2017-05-17",
           "32 camrose cres,toronto, on,canada,m1l 2b6",
           "Donkey Kone Inc"
          ],
          [
           "R56-4649820",
           "2016-05-17",
           "2017-05-17",
           "32 camrose cres,toronto, on,canada,m1l 2b6",
           "Donkey Kone Inc"
          ],
          [
           "R56-4649821",
           "2016-05-17",
           "2017-05-17",
           "32 camrose cres,toronto, on,canada,m1l 2b6",
           "Donkey Kone Inc"
          ],
          [
           "R56-4649822",
           "2016-05-17",
           "2017-05-17",
           "32 camrose cres,toronto, on,canada,m1l 2b6",
           "Johnny Cones Inc"
          ],
          [
           "R56-4650133",
           "2016-05-20",
           "2017-05-17",
           "32 camrose cres,toronto, on,canada,m1l 2b6",
           "Donkey Kone Inc"
          ],
          [
           "R56-4650134",
           "2016-05-20",
           "2017-05-17",
           "32 camrose cres,toronto, on,canada,m1l 2b6",
           "Donkey Kone Inc"
          ],
          [
           "R56-4650135",
           "2016-05-20",
           "2017-05-17",
           "32 camrose cres,toronto, on,canada,m1l 2b6",
           "Johnny Cones Inc"
          ],
          [
           "R56-4651983",
           "2016-06-16",
           "2017-05-17",
           "32 camrose cres,toronto, on,canada,m1l 2b6",
           "Johnny Cones Inc"
          ],
          [
           "R56-4651984",
           "2016-06-16",
           "2017-05-17",
           "32 camrose cres,toronto, on,canada,m1l 2b6",
           "Donkey Kone Inc"
          ],
          [
           "R56-4721017",
           "2017-05-17",
           "2017-11-19",
           "32 camrose cres,toronto, on,canada,m1l 2b6",
           "Johnny Cones Inc"
          ],
          [
           "R56-4721008",
           "2017-05-17",
           "2017-12-08",
           "32 camrose cres,toronto, on,canada,m1l 2b6",
           "Donkey Kone Inc"
          ],
          [
           "R56-4721013",
           "2017-05-17",
           "2018-03-13",
           "32 camrose cres,toronto, on,canada,m1l 2b6",
           "Donkey Kone Inc"
          ],
          [
           "R56-4716240",
           "2017-04-13",
           "2018-04-13",
           "58 raleigh ave,toronto, on,canada,m1k 1a3",
           "Master Soft & Delight Dairy Products Inc"
          ],
          [
           "R56-4720862",
           "2017-05-17",
           "2018-04-18",
           "canada,m1k",
           "Lee, Kok-Houa"
          ],
          [
           "R56-4719173",
           "2017-05-04",
           "2018-04-23",
           "canada,m1l",
           "Tsialafos, Niki"
          ],
          [
           "R56-4720989",
           "2017-05-17",
           "2018-05-07",
           "32 camrose cres,toronto, on,canada,m1l 2b6",
           "Donkey Kone Inc"
          ],
          [
           "R56-4720990",
           "2017-05-17",
           "2018-05-07",
           "32 camrose cres,toronto, on,canada,m1l 2b6",
           "Donkey Kone Inc"
          ],
          [
           "R56-4720992",
           "2017-05-17",
           "2018-05-07",
           "32 camrose cres,toronto, on,canada,m1l 2b6",
           "Donkey Kone Inc"
          ],
          [
           "R56-4720993",
           "2017-05-17",
           "2018-05-07",
           "32 camrose cres,toronto, on,canada,m1l 2b6",
           "Donkey Kone Inc"
          ],
          [
           "R56-4720997",
           "2017-05-17",
           "2018-05-07",
           "32 camrose cres,toronto, on,canada,m1l 2b6",
           "Donkey Kone Inc"
          ],
          [
           "R56-4720998",
           "2017-05-17",
           "2018-05-07",
           "32 camrose cres,toronto, on,canada,m1l 2b6",
           "Donkey Kone Inc"
          ],
          [
           "R56-4721002",
           "2017-05-17",
           "2018-05-07",
           "32 camrose cres,toronto, on,canada,m1l 2b6",
           "Donkey Kone Inc"
          ],
          [
           "R56-4721004",
           "2017-05-17",
           "2018-05-07",
           "32 camrose cres,toronto, on,canada,m1l 2b6",
           "Johnny Cones Inc"
          ],
          [
           "R56-4721007",
           "2017-05-17",
           "2018-05-07",
           "32 camrose cres,toronto, on,canada,m1l 2b6",
           "Donkey Kone Inc"
          ],
          [
           "R56-4721009",
           "2017-05-17",
           "2018-05-07",
           "32 camrose cres,toronto, on,canada,m1l 2b6",
           "Donkey Kone Inc"
          ],
          [
           "R56-4721010",
           "2017-05-17",
           "2018-05-07",
           "32 camrose cres,toronto, on,canada,m1l 2b6",
           "Donkey Kone Inc"
          ],
          [
           "R56-4721011",
           "2017-05-17",
           "2018-05-07",
           "32 camrose cres,toronto, on,canada,m1l 2b6",
           "Donkey Kone Inc"
          ],
          [
           "R56-4721016",
           "2017-05-17",
           "2018-05-07",
           "32 camrose cres,toronto, on,canada,m1l 2b6",
           "Johnny Cones Inc"
          ],
          [
           "R56-4724405",
           "2017-06-09",
           "2018-05-07",
           "32 camrose cres,toronto, on,canada,m1l 2b6",
           "Donkey Kone Inc"
          ],
          [
           "R56-4724406",
           "2017-06-09",
           "2018-05-07",
           "32 camrose cres,toronto, on,canada,m1l 2b6",
           "Donkey Kone Inc"
          ],
          [
           "R56-4649812",
           "2016-05-17",
           "2018-09-10",
           "32 camrose cres,toronto, on,canada,m1l 2b6",
           "Donkey Kone Inc"
          ],
          [
           "R56-4722295",
           "2017-06-02",
           "2018-09-10",
           "58 raleigh ave,toronto, on,canada,m1k 1a3",
           "Master Soft & Delight Dairy Products Inc"
          ],
          [
           "R56-4823731",
           "2018-04-16",
           "2018-10-16",
           "canada,m1l",
           "Tsialafos, Niki"
          ],
          [
           "R56-4829377",
           "2018-05-07",
           "2018-11-07",
           "32 camrose cres,toronto, on,canada,m1l 2b6",
           "Donkey Kone Inc"
          ],
          [
           "R56-4829389",
           "2018-05-07",
           "2018-11-07",
           "32 camrose cres,toronto, on,canada,m1l 2b6",
           "Donkey Kone Inc"
          ],
          [
           "R56-4829392",
           "2018-05-07",
           "2018-11-07",
           "32 camrose cres,toronto, on,canada,m1l 2b6",
           "Johnny Cones Inc"
          ],
          [
           "R56-4823545",
           "2018-04-13",
           "2019-01-31",
           "58 raleigh ave,toronto, on,canada,m1k 1a3",
           "Master Soft & Delight Dairy Products Inc"
          ],
          [
           "R56-4824665",
           "2018-04-18",
           "2019-01-31",
           "canada,m1k",
           "Lee, Kok-Houa"
          ],
          [
           "R56-4829375",
           "2018-05-07",
           "2019-02-01",
           "32 camrose cres,toronto, on,canada,m1l 2b6",
           "Donkey Kone Inc"
          ],
          [
           "R56-4829376",
           "2018-05-07",
           "2019-02-01",
           "32 camrose cres,toronto, on,canada,m1l 2b6",
           "Donkey Kone Inc"
          ],
          [
           "R56-4829378",
           "2018-05-07",
           "2019-02-01",
           "32 camrose cres,toronto, on,canada,m1l 2b6",
           "Donkey Kone Inc"
          ],
          [
           "R56-4829380",
           "2018-05-07",
           "2019-02-01",
           "32 camrose cres,toronto, on,canada,m1l 2b6",
           "Donkey Kone Inc"
          ],
          [
           "R56-4829381",
           "2018-05-07",
           "2019-02-01",
           "32 camrose cres,toronto, on,canada,m1l 2b6",
           "Donkey Kone Inc"
          ],
          [
           "R56-4829382",
           "2018-05-07",
           "2019-02-01",
           "32 camrose cres,toronto, on,canada,m1l 2b6",
           "Donkey Kone Inc"
          ],
          [
           "R56-4829383",
           "2018-05-07",
           "2019-02-01",
           "32 camrose cres,toronto, on,canada,m1l 2b6",
           "Donkey Kone Inc"
          ],
          [
           "R56-4829384",
           "2018-05-07",
           "2019-02-01",
           "32 camrose cres,toronto, on,canada,m1l 2b6",
           "Donkey Kone Inc"
          ],
          [
           "R56-4829385",
           "2018-05-07",
           "2019-02-01",
           "32 camrose cres,toronto, on,canada,m1l 2b6",
           "Donkey Kone Inc"
          ],
          [
           "R56-4829387",
           "2018-05-07",
           "2019-02-01",
           "32 camrose cres,toronto, on,canada,m1l 2b6",
           "Donkey Kone Inc"
          ],
          [
           "R56-4829388",
           "2018-05-07",
           "2019-02-01",
           "32 camrose cres,toronto, on,canada,m1l 2b6",
           "Donkey Kone Inc"
          ],
          [
           "R56-4829390",
           "2018-05-07",
           "2019-02-01",
           "32 camrose cres,toronto, on,canada,m1l 2b6",
           "Johnny Cones Inc"
          ],
          [
           "R56-4829391",
           "2018-05-07",
           "2019-07-15",
           "32 camrose cres,toronto, on,canada,m1l 2b6",
           "Johnny Cones Inc"
          ],
          [
           "R56-4928615",
           "2019-04-15",
           "2019-11-13",
           "canada,m1l",
           "Tsialafos, Niki"
          ],
          [
           "R56-4929044",
           "2019-04-16",
           "2019-11-13",
           "58 raleigh ave,toronto, on,canada,m1k 1a3",
           "Master Soft & Delight Dairy Products Inc"
          ],
          [
           "R56-4929453",
           "2019-04-17",
           "2019-11-13",
           "canada,m1k",
           "Lee, Kok-Houa"
          ],
          [
           "R56-4934148",
           "2019-05-06",
           "2019-11-14",
           "32 camrose cres,toronto, on,canada,m1l 2b6",
           "Donkey Kone Inc"
          ],
          [
           "R56-4934149",
           "2019-05-06",
           "2019-11-14",
           "32 camrose cres,toronto, on,canada,m1l 2b6",
           "Donkey Kone Inc"
          ],
          [
           "R56-4934150",
           "2019-05-06",
           "2019-11-14",
           "32 camrose cres,toronto, on,canada,m1l 2b6",
           "Donkey Kone Inc"
          ],
          [
           "R56-4934151",
           "2019-05-06",
           "2019-11-14",
           "32 camrose cres,toronto, on,canada,m1l 2b6",
           "Donkey Kone Inc"
          ],
          [
           "R56-4934152",
           "2019-05-06",
           "2019-11-14",
           "32 camrose cres,toronto, on,canada,m1l 2b6",
           "Donkey Kone Inc"
          ],
          [
           "R56-4934153",
           "2019-05-06",
           "2019-11-14",
           "32 camrose cres,toronto, on,canada,m1l 2b6",
           "Johnny Cones Inc"
          ],
          [
           "R56-4934589",
           "2019-05-07",
           "2019-11-15",
           "32 camrose cres,toronto, on,canada,m1l 2b6",
           "Donkey Kone Inc"
          ],
          [
           "R56-4936016",
           "2019-05-10",
           "2019-11-19",
           "32 camrose cres,toronto, on,canada,m1l 2b6",
           "Donkey Kone Inc"
          ],
          [
           "R56-4936017",
           "2019-05-10",
           "2019-11-19",
           "32 camrose cres,toronto, on,canada,m1l 2b6",
           "Donkey Kone Inc"
          ],
          [
           "R56-4936018",
           "2019-05-10",
           "2019-11-19",
           "32 camrose cres,toronto, on,canada,m1l 2b6",
           "Donkey Kone Inc"
          ],
          [
           "R56-4937064",
           "2019-05-14",
           "2019-11-22",
           "32 camrose cres,toronto, on,canada,m1l 2b6",
           "Donkey Kone Inc"
          ],
          [
           "R56-4937069",
           "2019-05-14",
           "2019-11-22",
           "32 camrose cres,toronto, on,canada,m1l 2b6",
           "Johnny Cones Inc"
          ],
          [
           "R56-4941544",
           "2019-05-30",
           "2019-12-10",
           "32 camrose cres,toronto, on,canada,m1l 2b6",
           "Donkey Kone Inc"
          ],
          [
           "R56-4941546",
           "2019-05-30",
           "2019-12-10",
           "32 camrose cres,toronto, on,canada,m1l 2b6",
           "Donkey Kone Inc"
          ],
          [
           "R56-5020231",
           "2020-07-15",
           "2020-12-11",
           "58 raleigh ave,toronto, on,canada,m1k 1a3",
           "Master Soft & Delight Dairy Products Inc"
          ],
          [
           "R56-5021552",
           "2020-06-10",
           "2020-12-18",
           "canada,m1k",
           "Salih, Alamin Sulieman Mohammed"
          ],
          [
           "R56-5032790",
           "2020-09-22",
           "2021-05-03",
           "32 camrose cres,toronto, on,canada,m1l 2b6",
           "Donkey Kone Inc"
          ],
          [
           "R56-5032796",
           "2020-09-22",
           "2021-05-03",
           "32 camrose cres,toronto, on,canada,m1l 2b6",
           "Donkey Kone Inc"
          ],
          [
           "R56-5032797",
           "2020-09-22",
           "2021-05-03",
           "32 camrose cres,toronto, on,canada,m1l 2b6",
           "Donkey Kone Inc"
          ],
          [
           "R56-5032801",
           "2020-09-22",
           "2021-05-03",
           "32 camrose cres,toronto, on,canada,m1l 2b6",
           "Donkey Kone Inc"
          ],
          [
           "R56-5032799",
           "2020-09-22",
           "2021-05-06",
           "32 camrose cres,toronto, on,canada,m1l 2b6",
           "Donkey Kone Inc"
          ],
          [
           "R56-5032775",
           "2020-09-11",
           "2021-05-14",
           "32 camrose cres,toronto, on,canada,m1l 2b6",
           "Johnny Cones Inc"
          ],
          [
           "R56-5032776",
           "2020-09-11",
           "2021-05-14",
           "32 camrose cres,toronto, on,canada,m1l 2b6",
           "Johnny Cones Inc"
          ],
          [
           "R56-5032788",
           "2020-09-22",
           "2021-05-14",
           "32 camrose cres,toronto, on,canada,m1l 2b6",
           "Donkey Kone Inc"
          ],
          [
           "R56-5032792",
           "2020-09-22",
           "2021-05-14",
           "32 camrose cres,toronto, on,canada,m1l 2b6",
           "Donkey Kone Inc"
          ],
          [
           "R56-5110449",
           "2021-04-07",
           "2021-10-15",
           "canada,m1k",
           "Salih, Alamin Sulieman Mohammed"
          ],
          [
           "R56-5111962",
           "2021-04-21",
           "2021-10-29",
           "32 camrose cres,toronto, on,canada,m1l 2b6",
           "Donkey Kone Inc"
          ],
          [
           "R56-5111969",
           "2021-04-21",
           "2021-10-29",
           "32 camrose cres,toronto, on,canada,m1l 2b6",
           "Donkey Kone Inc"
          ],
          [
           "R56-5113291",
           "2021-05-05",
           "2021-11-13",
           "32 camrose cres,toronto, on,canada,m1l 2b6",
           "Donkey Kone Inc"
          ],
          [
           "R56-5113292",
           "2021-05-05",
           "2021-11-13",
           "32 camrose cres,toronto, on,canada,m1l 2b6",
           "Donkey Kone Inc"
          ],
          [
           "R56-5113293",
           "2021-05-05",
           "2021-11-13",
           "32 camrose cres,toronto, on,canada,m1l 2b6",
           "Donkey Kone Inc"
          ],
          [
           "R56-5113294",
           "2021-05-05",
           "2021-11-13",
           "32 camrose cres,toronto, on,canada,m1l 2b6",
           "Donkey Kone Inc"
          ],
          [
           "R56-5113434",
           "2021-05-07",
           "2021-11-16",
           "32 camrose cres,toronto, on,canada,m1l 2b6",
           "Donkey Kone Inc"
          ],
          [
           "R56-5114515",
           "2021-05-19",
           "2021-11-27",
           "32 camrose cres,toronto, on,canada,m1l 2b6",
           "Donkey Kone Inc"
          ],
          [
           "R56-5114516",
           "2021-05-19",
           "2021-11-27",
           "32 camrose cres,toronto, on,canada,m1l 2b6",
           "Donkey Kone Inc"
          ],
          [
           "R56-5114517",
           "2021-05-19",
           "2021-11-27",
           "32 camrose cres,toronto, on,canada,m1l 2b6",
           "Donkey Kone Inc"
          ],
          [
           "R56-5114518",
           "2021-06-07",
           "2021-11-27",
           "32 camrose cres,toronto, on,canada,m1l 2b6",
           "Johnny Cones Inc"
          ],
          [
           "R56-5115607",
           "2021-06-02",
           "2021-12-10",
           "32 camrose cres,toronto, on,canada,m1l 2b6",
           "Donkey Kone Inc"
          ],
          [
           "R56-5115767",
           "2021-06-04",
           "2021-12-14",
           "32 camrose cres,toronto, on,canada,m1l 2b6",
           "Johnny Cones Inc"
          ],
          [
           "R56-5116586",
           "2021-06-17",
           "2021-12-24",
           "32 camrose cres,toronto, on,canada,m1l 2b6",
           "Donkey Kone Inc"
          ],
          [
           "R56-5117036",
           "2021-06-22",
           "2021-12-30",
           "32 camrose cres,toronto, on,canada,m1l 2b6",
           "Johnny Cones Inc"
          ],
          [
           "R56-5118367",
           "2021-07-19",
           "2022-01-25",
           "62 arden cres,toronto, on,canada,m1l 3r5",
           "Mister Soft & Delight Inc"
          ],
          [
           "R56-5121031",
           "2021-07-29",
           "2022-02-05",
           "62 arden cres,toronto, on,canada,m1l 3r5",
           "Mister Soft & Delight Inc"
          ],
          [
           "R56-5202865",
           "2022-04-20",
           "2022-10-27",
           "canada,m1k",
           "Salih, Alamin Sulieman Mohammed"
          ],
          [
           "R56-5203736",
           "2022-05-06",
           "2022-11-15",
           "32 camrose cres,toronto, on,canada,m1l 2b6",
           "Donkey Kone Inc"
          ],
          [
           "R56-5203738",
           "2022-05-06",
           "2022-11-15",
           "32 camrose cres,toronto, on,canada,m1l 2b6",
           "Donkey Kone Inc"
          ],
          [
           "R56-5203739",
           "2022-05-06",
           "2022-11-15",
           "32 camrose cres,toronto, on,canada,m1l 2b6",
           "Donkey Kone Inc"
          ],
          [
           "R56-5203740",
           "2022-06-27",
           "2022-11-15",
           "32 camrose cres,toronto, on,canada,m1l 2b6",
           "Donkey Kone Inc"
          ],
          [
           "R56-5203741",
           "2022-05-06",
           "2022-11-15",
           "32 camrose cres,toronto, on,canada,m1l 2b6",
           "Donkey Kone Inc"
          ],
          [
           "R56-5222809",
           "2022-08-19",
           "2023-02-28",
           "32 camrose cres,toronto, on,canada,m1l 2b6",
           "Donkey Kone Inc"
          ],
          [
           "R56-5222810",
           "2022-08-19",
           "2023-02-28",
           "32 camrose cres,toronto, on,canada,m1l 2b6",
           "Donkey Kone Inc"
          ],
          [
           "R56-5222811",
           "2022-08-19",
           "2023-02-28",
           "32 camrose cres,toronto, on,canada,m1l 2b6",
           "Donkey Kone Inc"
          ],
          [
           "R56-5222812",
           "2022-08-19",
           "2023-02-28",
           "32 camrose cres,toronto, on,canada,m1l 2b6",
           "Donkey Kone Inc"
          ],
          [
           "R56-5222813",
           "2022-08-19",
           "2023-02-28",
           "32 camrose cres,toronto, on,canada,m1l 2b6",
           "Donkey Kone Inc"
          ],
          [
           "R56-5222814",
           "2022-08-19",
           "2023-02-28",
           "32 camrose cres,toronto, on,canada,m1l 2b6",
           "Donkey Kone Inc"
          ],
          [
           "R56-5222815",
           "2022-08-19",
           "2023-02-28",
           "32 camrose cres,toronto, on,canada,m1l 2b6",
           "Donkey Kone Inc"
          ],
          [
           "R56-5222816",
           "2022-08-19",
           "2023-02-28",
           "32 camrose cres,toronto, on,canada,m1l 2b6",
           "Donkey Kone Inc"
          ],
          [
           "R56-5222817",
           "2022-08-19",
           "2023-02-28",
           "32 camrose cres,toronto, on,canada,m1l 2b6",
           "Donkey Kone Inc"
          ],
          [
           "R56-5223333",
           "2022-08-19",
           "2023-02-28",
           "32 camrose cres,toronto, on,canada,m1l 2b6",
           "Johnny Cones Inc"
          ],
          [
           "R56-5223335",
           "2022-08-19",
           "2023-02-28",
           "32 camrose cres,toronto, on,canada,m1l 2b6",
           "Johnny Cones Inc"
          ],
          [
           "R56-5223336",
           "2022-08-19",
           "2023-02-28",
           "32 camrose cres,toronto, on,canada,m1l 2b6",
           "Donkey Kone Inc"
          ],
          [
           "R56-5321846",
           "2023-05-01",
           "2023-11-02",
           "canada,m1k",
           "Salih, Alamin Sulieman Mohammed"
          ],
          [
           "R56-5343744",
           "2023-07-26",
           null,
           "58 raleigh ave,toronto, on,canada,m1k 1a3",
           "Master Soft & Delight Dairy Products Inc"
          ]
         ],
         "hovertemplate": "<b>%{hovertext}</b><br><br>AREA_NAME=Scarborough Southwest<br>latitude=%{lat}<br>longitude=%{lon}<br>Licence No.=%{customdata[0]}<br>Issued=%{customdata[1]}<br>Cancel Date=%{customdata[2]}<br>address=%{customdata[3]}<br>Client Name=%{customdata[4]}<extra></extra>",
         "hovertext": [
          null,
          null,
          null,
          null,
          null,
          null,
          null,
          null,
          null,
          "Mallia'S Catering",
          "Mister Softee The Very Best",
          "Eric'S Food Service",
          null,
          null,
          null,
          "S & R Catering",
          null,
          null,
          null,
          "Mr Softee",
          null,
          null,
          "Evagelelis, Chris",
          "Master Soft & Delight Dairy Products",
          null,
          "Mister Suftee The Very Best",
          "Mister Suftee The Very Best",
          null,
          null,
          null,
          null,
          null,
          null,
          null,
          "Softy Dairy",
          null,
          "Kelly Hards",
          null,
          null,
          "Donkey Kone",
          "Johnny Cones",
          "Steve Jackson Foods",
          "Dairy Ice Cream",
          "Happy Hours",
          "Rolling Gourmet",
          null,
          "Cool Breeze Ice Cream",
          "Johnny Cones",
          "Donkey Kone",
          "Donkey Kone",
          "Fire House Grill",
          "Himalayanfood.Ca",
          "H&H Sachet",
          "Corny'S Kitchen",
          "Mexican Bowl",
          "Hawaiian Dairy",
          "Johnny Cones",
          "H & H Sachet",
          "The Smoke Stop",
          null,
          "Master Soft & Delight Dairy Products",
          "Master Soft & Delight Dairy Products",
          "Master Soft & Delight Dairy Products",
          null,
          "Donkey Kone",
          "Donkey Kone",
          "Donkey Kone",
          "Donkey Kone",
          "Donkey Kone",
          "Donkey Kone",
          "Donkey Kone",
          "Johnny Cones",
          null,
          "Donkey Kone",
          "Donkey Kone",
          "Donkey Kone",
          null,
          "Donkey Kone",
          "Donkey Kone",
          "Polar Bear Ice Cream",
          "Johnny Cones",
          "Mister Soft & Delight",
          "Mister Soft & Delight",
          "Donkey Kone",
          "Donkey Kone",
          "Corny'S Kitchen",
          "Himalayanfood.Ca",
          "Johnny Cones",
          "Communal Eats",
          "Donkey Kone",
          "Donkey Kone",
          "Johnny Cones",
          "Donkey Kone",
          "Mr Soft Twist",
          null,
          null,
          null,
          "E And E Vending",
          null,
          null,
          null,
          null,
          null,
          null,
          null,
          null,
          null,
          null,
          null,
          null,
          null,
          null,
          null,
          null,
          "1435943 Ontario",
          "2155968 Ontario Corp",
          "Gh-View Services",
          "Asian Food Market",
          null,
          null,
          null,
          "Safe Corp",
          "Salwa Siddiqi",
          "Paul & Roland A La Carte Food Management",
          "Paul & Roland A La Carte Food Management",
          null,
          null,
          null,
          "Famous Hotdog And Corn",
          "Chow Mania",
          null,
          null,
          null,
          null,
          null,
          null,
          null,
          null,
          null,
          null,
          null,
          null,
          null,
          null,
          null,
          null,
          null,
          null,
          null,
          null,
          null,
          null,
          null,
          null,
          null,
          null,
          null,
          null,
          null,
          null,
          null,
          null,
          null,
          null,
          null,
          null,
          null,
          null,
          null,
          null,
          null,
          null,
          null,
          null,
          null,
          null,
          null,
          null,
          null,
          null,
          null,
          null,
          null,
          null,
          null,
          null,
          null,
          null,
          null,
          null,
          null,
          null,
          null,
          null,
          null,
          null,
          null,
          null,
          null,
          null,
          null,
          null,
          null,
          null,
          null,
          null,
          null,
          null,
          null,
          null,
          null,
          null,
          null,
          null,
          null,
          null,
          null,
          null,
          null,
          null,
          null,
          null,
          null,
          null,
          null,
          null,
          null,
          null,
          null,
          null,
          null,
          null,
          null,
          null,
          null,
          null,
          null,
          null,
          null,
          null,
          null,
          null,
          null,
          null,
          null,
          null,
          null,
          null,
          null,
          null,
          null,
          null,
          null,
          null,
          null,
          null,
          null,
          null,
          null,
          null,
          null,
          null,
          null,
          "Master Soft & Delight Dairy Products"
         ],
         "lat": [
          43.71676631,
          43.70427501,
          43.71676631,
          43.71676631,
          43.71346037,
          43.69573518,
          43.7352093,
          43.71244452,
          43.72968298,
          43.69573518,
          43.72968298,
          43.72968298,
          43.71346037,
          43.71346037,
          43.71346037,
          43.72512013,
          43.71346037,
          43.69573518,
          43.72968298,
          43.72968298,
          43.71346037,
          43.72968298,
          43.72968298,
          43.72968298,
          43.71346037,
          43.72968298,
          43.72968298,
          43.71346037,
          43.71346037,
          43.71346037,
          43.71346037,
          43.71346037,
          43.71346037,
          43.72968298,
          43.7305392,
          43.71346037,
          43.72512013,
          43.72512013,
          43.71346037,
          43.71676631,
          43.71676631,
          43.71346037,
          43.72968298,
          43.72968298,
          43.72968298,
          43.72512013,
          43.72512013,
          43.71676631,
          43.71676631,
          43.71676631,
          43.71346037,
          43.69573518,
          43.71346037,
          43.72512013,
          43.7352093,
          43.72968298,
          43.71676631,
          43.71346037,
          43.71244452,
          43.71346037,
          43.70427501,
          43.70427501,
          43.70427501,
          43.71346037,
          43.71676631,
          43.71676631,
          43.71676631,
          43.71676631,
          43.71676631,
          43.71676631,
          43.71676631,
          43.71676631,
          43.71676631,
          43.71676631,
          43.71676631,
          43.71676631,
          43.71676631,
          43.71676631,
          43.71676631,
          43.72968298,
          43.71676631,
          43.71356832,
          43.71356832,
          43.71676631,
          43.71676631,
          43.72512013,
          43.69573518,
          43.71676631,
          43.72968298,
          43.71676631,
          43.71676631,
          43.71676631,
          43.71676631,
          43.71346037,
          43.72968298,
          43.72968298,
          43.72968298,
          43.70888451,
          43.71346037,
          43.69573518,
          43.72512013,
          43.72512013,
          43.72968298,
          43.72968298,
          43.72512013,
          43.72512013,
          43.71346037,
          43.72512013,
          43.71346037,
          43.72968298,
          43.72968298,
          43.72512013,
          43.72968298,
          43.71346037,
          43.72536128,
          43.72467581,
          43.70595332,
          43.69573518,
          43.72512013,
          43.72968298,
          43.71346037,
          43.70641608,
          43.72968298,
          43.7062764,
          43.7062764,
          43.71346037,
          43.71346037,
          43.72512013,
          43.72968298,
          43.72512013,
          43.72968298,
          43.71346037,
          43.71346037,
          43.69573518,
          43.72968298,
          43.70427501,
          43.71676631,
          43.71676631,
          43.70427501,
          43.71346037,
          43.71676631,
          43.71676631,
          43.71676631,
          43.71676631,
          43.71676631,
          43.71676631,
          43.71676631,
          43.71676631,
          43.71676631,
          43.71676631,
          43.71676631,
          43.71676631,
          43.71676631,
          43.71676631,
          43.71676631,
          43.71676631,
          43.71676631,
          43.71676631,
          43.71676631,
          43.70427501,
          43.72968298,
          43.71346037,
          43.71676631,
          43.71676631,
          43.71676631,
          43.71676631,
          43.71676631,
          43.71676631,
          43.71676631,
          43.71676631,
          43.71676631,
          43.71676631,
          43.71676631,
          43.71676631,
          43.71676631,
          43.71676631,
          43.71676631,
          43.71676631,
          43.70427501,
          43.71346037,
          43.71676631,
          43.71676631,
          43.71676631,
          43.70427501,
          43.72968298,
          43.71676631,
          43.71676631,
          43.71676631,
          43.71676631,
          43.71676631,
          43.71676631,
          43.71676631,
          43.71676631,
          43.71676631,
          43.71676631,
          43.71676631,
          43.71676631,
          43.71676631,
          43.71346037,
          43.70427501,
          43.72968298,
          43.71676631,
          43.71676631,
          43.71676631,
          43.71676631,
          43.71676631,
          43.71676631,
          43.71676631,
          43.71676631,
          43.71676631,
          43.71676631,
          43.71676631,
          43.71676631,
          43.71676631,
          43.71676631,
          43.70427501,
          43.72968298,
          43.71676631,
          43.71676631,
          43.71676631,
          43.71676631,
          43.71676631,
          43.71676631,
          43.71676631,
          43.71676631,
          43.71676631,
          43.72968298,
          43.71676631,
          43.71676631,
          43.71676631,
          43.71676631,
          43.71676631,
          43.71676631,
          43.71676631,
          43.71676631,
          43.71676631,
          43.71676631,
          43.71676631,
          43.71676631,
          43.71676631,
          43.71676631,
          43.71676631,
          43.71356832,
          43.71356832,
          43.72968298,
          43.71676631,
          43.71676631,
          43.71676631,
          43.71676631,
          43.71676631,
          43.71676631,
          43.71676631,
          43.71676631,
          43.71676631,
          43.71676631,
          43.71676631,
          43.71676631,
          43.71676631,
          43.71676631,
          43.71676631,
          43.71676631,
          43.71676631,
          43.72968298,
          43.70427501
         ],
         "legendgroup": "Scarborough Southwest",
         "lon": [
          -79.29120477,
          -79.26484637,
          -79.29120477,
          -79.29120477,
          -79.28478254,
          -79.26414944,
          -79.2526647,
          -79.28829508,
          -79.26381008,
          -79.26414944,
          -79.26381008,
          -79.26381008,
          -79.28478254,
          -79.28478254,
          -79.28478254,
          -79.23062686,
          -79.28478254,
          -79.26414944,
          -79.26381008,
          -79.26381008,
          -79.28478254,
          -79.26381008,
          -79.26381008,
          -79.26381008,
          -79.28478254,
          -79.26381008,
          -79.26381008,
          -79.28478254,
          -79.28478254,
          -79.28478254,
          -79.28478254,
          -79.28478254,
          -79.28478254,
          -79.26381008,
          -79.25674233,
          -79.28478254,
          -79.23062686,
          -79.23062686,
          -79.28478254,
          -79.29120477,
          -79.29120477,
          -79.28478254,
          -79.26381008,
          -79.26381008,
          -79.26381008,
          -79.23062686,
          -79.23062686,
          -79.29120477,
          -79.29120477,
          -79.29120477,
          -79.28478254,
          -79.26414944,
          -79.28478254,
          -79.23062686,
          -79.2526647,
          -79.26381008,
          -79.29120477,
          -79.28478254,
          -79.28829508,
          -79.28478254,
          -79.26484637,
          -79.26484637,
          -79.26484637,
          -79.28478254,
          -79.29120477,
          -79.29120477,
          -79.29120477,
          -79.29120477,
          -79.29120477,
          -79.29120477,
          -79.29120477,
          -79.29120477,
          -79.29120477,
          -79.29120477,
          -79.29120477,
          -79.29120477,
          -79.29120477,
          -79.29120477,
          -79.29120477,
          -79.26381008,
          -79.29120477,
          -79.28749184,
          -79.28749184,
          -79.29120477,
          -79.29120477,
          -79.23062686,
          -79.26414944,
          -79.29120477,
          -79.26381008,
          -79.29120477,
          -79.29120477,
          -79.29120477,
          -79.29120477,
          -79.28478254,
          -79.26381008,
          -79.26381008,
          -79.26381008,
          -79.29140979,
          -79.28478254,
          -79.26414944,
          -79.23062686,
          -79.23062686,
          -79.26381008,
          -79.26381008,
          -79.23062686,
          -79.23062686,
          -79.28478254,
          -79.23062686,
          -79.28478254,
          -79.26381008,
          -79.26381008,
          -79.23062686,
          -79.26381008,
          -79.28478254,
          -79.26948299,
          -79.24080011,
          -79.27904456,
          -79.26414944,
          -79.23062686,
          -79.26381008,
          -79.28478254,
          -79.27422002,
          -79.26381008,
          -79.23186249,
          -79.23186249,
          -79.28478254,
          -79.28478254,
          -79.23062686,
          -79.26381008,
          -79.23062686,
          -79.26381008,
          -79.28478254,
          -79.28478254,
          -79.26414944,
          -79.26381008,
          -79.26484637,
          -79.29120477,
          -79.29120477,
          -79.26484637,
          -79.28478254,
          -79.29120477,
          -79.29120477,
          -79.29120477,
          -79.29120477,
          -79.29120477,
          -79.29120477,
          -79.29120477,
          -79.29120477,
          -79.29120477,
          -79.29120477,
          -79.29120477,
          -79.29120477,
          -79.29120477,
          -79.29120477,
          -79.29120477,
          -79.29120477,
          -79.29120477,
          -79.29120477,
          -79.29120477,
          -79.26484637,
          -79.26381008,
          -79.28478254,
          -79.29120477,
          -79.29120477,
          -79.29120477,
          -79.29120477,
          -79.29120477,
          -79.29120477,
          -79.29120477,
          -79.29120477,
          -79.29120477,
          -79.29120477,
          -79.29120477,
          -79.29120477,
          -79.29120477,
          -79.29120477,
          -79.29120477,
          -79.29120477,
          -79.26484637,
          -79.28478254,
          -79.29120477,
          -79.29120477,
          -79.29120477,
          -79.26484637,
          -79.26381008,
          -79.29120477,
          -79.29120477,
          -79.29120477,
          -79.29120477,
          -79.29120477,
          -79.29120477,
          -79.29120477,
          -79.29120477,
          -79.29120477,
          -79.29120477,
          -79.29120477,
          -79.29120477,
          -79.29120477,
          -79.28478254,
          -79.26484637,
          -79.26381008,
          -79.29120477,
          -79.29120477,
          -79.29120477,
          -79.29120477,
          -79.29120477,
          -79.29120477,
          -79.29120477,
          -79.29120477,
          -79.29120477,
          -79.29120477,
          -79.29120477,
          -79.29120477,
          -79.29120477,
          -79.29120477,
          -79.26484637,
          -79.26381008,
          -79.29120477,
          -79.29120477,
          -79.29120477,
          -79.29120477,
          -79.29120477,
          -79.29120477,
          -79.29120477,
          -79.29120477,
          -79.29120477,
          -79.26381008,
          -79.29120477,
          -79.29120477,
          -79.29120477,
          -79.29120477,
          -79.29120477,
          -79.29120477,
          -79.29120477,
          -79.29120477,
          -79.29120477,
          -79.29120477,
          -79.29120477,
          -79.29120477,
          -79.29120477,
          -79.29120477,
          -79.29120477,
          -79.28749184,
          -79.28749184,
          -79.26381008,
          -79.29120477,
          -79.29120477,
          -79.29120477,
          -79.29120477,
          -79.29120477,
          -79.29120477,
          -79.29120477,
          -79.29120477,
          -79.29120477,
          -79.29120477,
          -79.29120477,
          -79.29120477,
          -79.29120477,
          -79.29120477,
          -79.29120477,
          -79.29120477,
          -79.29120477,
          -79.26381008,
          -79.26484637
         ],
         "marker": {
          "color": "#B6E880"
         },
         "mode": "markers",
         "name": "Scarborough Southwest",
         "showlegend": true,
         "subplot": "mapbox",
         "type": "scattermapbox"
        },
        {
         "customdata": [
          [
           "R54-4423646",
           "2014-06-12",
           "2016-05-19",
           "canada,m1e",
           "Vikneswaran, Jeyaverni"
          ],
          [
           "R54-4728227",
           "2017-07-10",
           "2018-05-01",
           "canada,m1e",
           "Vikneswaran, Jeyaverni"
          ],
          [
           "V15-0006963",
           "1981-04-10",
           "2005-07-01",
           "canada,m1h",
           "Boileau, Roger"
          ],
          [
           "V15-2007421",
           "1992-01-21",
           "2006-04-23",
           "canada,m1g",
           "Bhatti, Latif Ahmad"
          ],
          [
           "V15-4537040",
           "2015-06-26",
           "2016-09-26",
           "3750 kingston rd,toronto, on,canada,m1j 3h5",
           "2210791 Ontario Ltd"
          ],
          [
           "V15-5112102",
           "2021-04-22",
           "2023-07-22",
           "4190 kingston rd, #6,toronto, on,canada,m1e 4w1",
           "The Hungry Moon Inc"
          ],
          [
           "V15-5224712",
           "2022-09-22",
           null,
           "51 nelson st,toronto, on,canada,m1j 2v4",
           "Luri'S Bakery Corp"
          ],
          [
           "V15-5326935",
           "2023-05-17",
           null,
           "16 millmere dr,toronto, on,canada,m1g 2b1",
           "Papa Cone Softy Inc"
          ],
          [
           "V27-3124944",
           "2001-07-18",
           "2003-03-31",
           "canada,m1e",
           "Razaiy, Manoochehr"
          ],
          [
           "V27-3133638",
           "2001-11-21",
           "2003-03-31",
           "canada,m1e",
           "Jiang, Yue Xia"
          ],
          [
           "V27-3252149",
           "2002-10-25",
           "2005-04-02",
           "canada,m1h",
           "Akhgar, Mohammed Yusuf"
          ],
          [
           "V27-3366814",
           "2003-10-03",
           "2005-04-02",
           "canada,m1e",
           "Smith, Steven D"
          ],
          [
           "V27-3011557",
           "1997-10-23",
           "2005-07-01",
           "canada,m1g",
           "Mohammad, Amin"
          ],
          [
           "V27-3127525",
           "2001-07-12",
           "2006-01-05",
           "canada,m1e",
           "Mancev, Blagoja"
          ],
          [
           "V27-3481502",
           "2004-07-21",
           "2006-06-28",
           "canada,m1e",
           "Wafasharefe, Zaman"
          ],
          [
           "V27-2008649",
           "1992-04-24",
           "2006-07-25",
           "canada,m1h",
           "Gholamali, Manzor"
          ],
          [
           "V27-3594854",
           "2005-06-14",
           "2006-09-14",
           "canada,m1h",
           "Bashardost, Hamidulla"
          ],
          [
           "V27-1000981",
           "1988-11-01",
           "2007-02-01",
           "canada,m1g",
           "Tzortzis, Sotiria Georgas"
          ],
          [
           "V27-3606709",
           "2006-03-31",
           "2007-07-01",
           "canada,m1e",
           "Lin, Xue Wen"
          ],
          [
           "V27-3086835",
           "1998-07-24",
           "2007-10-24",
           "canada,m1e",
           "Mancev, Blagoja"
          ],
          [
           "V27-3611723",
           "2006-10-23",
           "2008-01-23",
           "canada,m1e",
           "Nualart, Maria Jannet"
          ],
          [
           "V27-3953865",
           "2009-08-10",
           "2010-11-10",
           "canada,m1e",
           "Nur Muhammad, Nurogho"
          ],
          [
           "V27-3952317",
           "2009-08-20",
           "2010-11-20",
           "canada,m1e",
           "Jayatunge, Meegama Archari"
          ],
          [
           "V27-4067496",
           "2010-05-13",
           "2012-08-13",
           "canada,m1e",
           "Nur Muhammad, Nurogho"
          ],
          [
           "V27-4182334",
           "2011-06-03",
           "2012-09-03",
           "canada,m1e",
           "Ibrahim, Mohamed Ishmael"
          ],
          [
           "V27-3720711",
           "2007-04-03",
           "2013-07-04",
           "canada,m1g",
           "Jafary, Ahmad Yama"
          ],
          [
           "V27-4202432",
           "2012-11-28",
           "2014-02-28",
           "canada,m1e",
           "Hashimy, Mohammad Najim"
          ],
          [
           "V27-4190275",
           "2011-12-28",
           "2014-03-30",
           "canada,m1e",
           "Nur Muhammad, Nurogho"
          ],
          [
           "V27-4429439",
           "2014-11-03",
           "2017-02-03",
           "90 dale ave, ph 8,toronto, on,canada,m1j 3n4",
           "2436413 Ontario Corp"
          ],
          [
           "V27-4202461",
           "2012-12-05",
           "2017-03-07",
           "canada,m1e",
           "Abniki, Amir"
          ],
          [
           "V27-4429434",
           "2014-11-03",
           "2018-02-03",
           "90 dale ave, ph 8,toronto, on,canada,m1j 3n4",
           "2436413 Ontario Corp"
          ],
          [
           "V27-4429438",
           "2014-11-03",
           "2018-02-03",
           "90 dale ave, ph 8,toronto, on,canada,m1j 3n4",
           "2436413 Ontario Corp"
          ],
          [
           "V27-4540564",
           "2015-08-21",
           "2020-01-15",
           "canada,m1g",
           "Mughal, Zafar Mahmood"
          ],
          [
           "V27-1000155",
           "1988-05-30",
           null,
           "canada,m1g",
           "Tzortzis, Christos"
          ],
          [
           "R56-4423645",
           "2014-06-12",
           "2016-05-19",
           "canada,m1e",
           "Vikneswaran, Jeyaverni"
          ],
          [
           "R56-4649978",
           "2016-05-19",
           "2018-05-01",
           "canada,m1e",
           "Vikneswaran, Jeyaverni"
          ],
          [
           "R56-4723961",
           "2017-06-13",
           "2018-05-01",
           "canada,m1e",
           "Vikneswaran, Jeyaverni"
          ],
          [
           "R56-4828086",
           "2018-05-01",
           "2019-02-01",
           "canada,m1e",
           "Vikneswaran, Jeyaverni"
          ],
          [
           "R56-4931825",
           "2019-04-26",
           "2019-11-13",
           "canada,m1e",
           "Vikneswaran, Jeyaverni"
          ],
          [
           "R56-5330947",
           "2023-06-01",
           "2023-12-08",
           "16 millmere dr,toronto, on,canada,m1g 2b1",
           "Papa Cone Softy Inc"
          ]
         ],
         "hovertemplate": "<b>%{hovertext}</b><br><br>AREA_NAME=Scarborough-Guildwood<br>latitude=%{lat}<br>longitude=%{lon}<br>Licence No.=%{customdata[0]}<br>Issued=%{customdata[1]}<br>Cancel Date=%{customdata[2]}<br>address=%{customdata[3]}<br>Client Name=%{customdata[4]}<extra></extra>",
         "hovertext": [
          null,
          null,
          "Roger Catering",
          null,
          "The Rolling Stone",
          "The Hungry Moon Inc",
          "Super Churros",
          "Papa Cone Softy",
          null,
          null,
          null,
          null,
          null,
          null,
          null,
          null,
          null,
          null,
          null,
          null,
          "Janual",
          null,
          null,
          null,
          null,
          "Hot Dog Vendor",
          "Fresh Hotdog",
          null,
          "2436413 Ontario Corp",
          null,
          "2436413 Ontario Corp",
          "2436413 Ontario Corp",
          null,
          null,
          null,
          null,
          null,
          null,
          null,
          null
         ],
         "lat": [
          43.76814595,
          43.76814595,
          43.76857202,
          43.77063258,
          43.7469342,
          43.75962881,
          43.7466545,
          43.76825328,
          43.76814595,
          43.76814595,
          43.76857202,
          43.76814595,
          43.77063258,
          43.76814595,
          43.76814595,
          43.76857202,
          43.76857202,
          43.77063258,
          43.76814595,
          43.76814595,
          43.76814595,
          43.76814595,
          43.76814595,
          43.76814595,
          43.76814595,
          43.77063258,
          43.76814595,
          43.76814595,
          43.7516888,
          43.76814595,
          43.7516888,
          43.7516888,
          43.77063258,
          43.77063258,
          43.76814595,
          43.76814595,
          43.76814595,
          43.76814595,
          43.76814595,
          43.76825328
         ],
         "legendgroup": "Scarborough-Guildwood",
         "lon": [
          -79.1873825,
          -79.1873825,
          -79.23867997,
          -79.21670016,
          -79.2091296,
          -79.19799147,
          -79.22952042,
          -79.22084213,
          -79.1873825,
          -79.1873825,
          -79.23867997,
          -79.1873825,
          -79.21670016,
          -79.1873825,
          -79.1873825,
          -79.23867997,
          -79.23867997,
          -79.21670016,
          -79.1873825,
          -79.1873825,
          -79.1873825,
          -79.1873825,
          -79.1873825,
          -79.1873825,
          -79.1873825,
          -79.21670016,
          -79.1873825,
          -79.1873825,
          -79.2046058,
          -79.1873825,
          -79.2046058,
          -79.2046058,
          -79.21670016,
          -79.21670016,
          -79.1873825,
          -79.1873825,
          -79.1873825,
          -79.1873825,
          -79.1873825,
          -79.22084213
         ],
         "marker": {
          "color": "#FF97FF"
         },
         "mode": "markers",
         "name": "Scarborough-Guildwood",
         "showlegend": true,
         "subplot": "mapbox",
         "type": "scattermapbox"
        },
        {
         "customdata": [
          [
           "R54-4651785",
           "2016-06-13",
           "2016-07-12",
           "523 finch ave w, #231,toronto, on,canada,m2r 1n4",
           "2505771 Ontario Inc"
          ],
          [
           "R54-4648642",
           "2016-04-21",
           "2017-04-06",
           "144 clifton ave,toronto, on,canada,m3h 4l5",
           "Mrs Softy Inc"
          ],
          [
           "R54-4715302",
           "2017-04-06",
           "2017-10-10",
           "144 clifton ave,toronto, on,canada,m3h 4l5",
           "Mrs Softy Inc"
          ],
          [
           "R54-4727089",
           "2017-06-30",
           "2018-09-10",
           "131 torresdale ave, #1202,toronto, on,canada,m2r 3t1",
           "El Callejon Del Taco Inc"
          ],
          [
           "R54-4422367",
           "2014-05-15",
           "2019-01-31",
           "canada,m3j",
           "Traya, Jay G"
          ],
          [
           "R54-5213586",
           "2022-06-26",
           "2023-06-29",
           "1177 finch ave w, #22,toronto, on,canada,m3j 2e9",
           "Pauls Coffee Ltd"
          ],
          [
           "V15-0004984",
           "1980-04-22",
           "2003-03-31",
           "234 epsom downs dr,toronto, on,canada,m3m 1t4",
           "Classic Catering Ltd"
          ],
          [
           "V15-3097760",
           "1999-05-27",
           "2003-03-31",
           "680 petrolia rd,toronto, on,canada,m3j 2v2",
           "The Rolling Cones Ice Cream Corp"
          ],
          [
           "V15-3097772",
           "1999-05-21",
           "2003-03-31",
           "680 petrolia rd,toronto, on,canada,m3j 2v2",
           "The Rolling Cones Ice Cream Corp"
          ],
          [
           "V15-3098573",
           "1999-07-06",
           "2003-03-31",
           "680 petrolia rd,toronto, on,canada,m3j 2v2",
           "The Rolling Cones Ice Cream Corp"
          ],
          [
           "V15-0015402",
           "1986-05-20",
           "2003-05-02",
           "canada,m3m",
           "Desimone, Frank J"
          ],
          [
           "V15-0020345",
           "1988-08-29",
           "2004-12-07",
           "canada,m3m",
           "Crescenzi, Armando"
          ],
          [
           "V15-3365993",
           "2003-08-22",
           "2005-07-01",
           "canada,m3j",
           "Khan, Bibi Amena"
          ],
          [
           "V15-0006971",
           "1979-08-30",
           "2008-11-30",
           "canada,m3m",
           "Minnella, Armando"
          ],
          [
           "V15-3722698",
           "2007-05-07",
           "2009-08-19",
           "131 torresdale ave, #1701,toronto, on,canada,m2r 3t1",
           "Iazovtsky,Martin/Rubtsov,Boris"
          ],
          [
           "V15-3839410",
           "2008-06-20",
           "2013-09-20",
           "3460 keele st, #209,toronto, on,canada,m3j 1l9",
           "1532272 Ontario Corp"
          ],
          [
           "V15-4307647",
           "2013-06-13",
           "2015-08-05",
           "144 clifton ave,toronto, on,canada,m3h 4l5",
           "King Kone Inc"
          ],
          [
           "V15-4422836",
           "2014-06-19",
           "2015-08-11",
           "144 clifton ave,toronto, on,canada,m3h 4l5",
           "King Kone Inc"
          ],
          [
           "V15-4307645",
           "2013-06-21",
           "2015-08-13",
           "144 clifton ave,toronto, on,canada,m3h 4l5",
           "King Kone Inc"
          ],
          [
           "V15-3836950",
           "2008-05-28",
           "2017-08-28",
           "canada,m3l",
           "Abreu Casilla, Guillermo"
          ],
          [
           "V15-4725907",
           "2017-06-30",
           "2019-09-30",
           "131 torresdale ave, #1202,toronto, on,canada,m2r 3t1",
           "El Callejon Del Taco Inc"
          ],
          [
           "V15-0017739",
           "1987-07-28",
           "2020-11-03",
           "canada,m3m",
           "Minnella, Armando"
          ],
          [
           "V15-4991237",
           "2019-12-06",
           "2021-05-12",
           "9 picton cres,toronto, on,canada,m3k 1w4",
           "La Fritanga Inc"
          ],
          [
           "V15-4421294",
           "2014-05-09",
           "2021-10-07",
           "canada,m3j",
           "Traya, Jay G"
          ],
          [
           "V15-3474981",
           "2004-04-01",
           null,
           "1 de boers dr, #206,toronto, on,canada,m3j 0g6",
           "1606990 Ontario Inc"
          ],
          [
           "V15-3607808",
           "2006-06-09",
           null,
           "1 de boers dr, #206,toronto, on,canada,m3j 0g6",
           "701033 Ontario Ltd"
          ],
          [
           "V15-3834105",
           "2008-02-29",
           null,
           "144 clifton ave,toronto, on,canada,m3h 4l5",
           "Mrs Softy Inc"
          ],
          [
           "V15-3834106",
           "2008-02-29",
           null,
           "144 clifton ave,toronto, on,canada,m3h 4l5",
           "Mrs Softy Inc"
          ],
          [
           "V15-3834107",
           "2008-02-29",
           null,
           "144 clifton ave,toronto, on,canada,m3h 4l5",
           "Mrs Softy Inc"
          ],
          [
           "V15-3834108",
           "2008-02-29",
           null,
           "144 clifton ave,toronto, on,canada,m3h 4l5",
           "Mrs Softy Inc"
          ],
          [
           "V15-3834109",
           "2008-02-29",
           null,
           "144 clifton ave,toronto, on,canada,m3h 4l5",
           "Mrs Softy Inc"
          ],
          [
           "V15-4063961",
           "2010-03-12",
           null,
           "144 clifton ave,toronto, on,canada,m3h 4l5",
           "Mrs Softy Inc"
          ],
          [
           "V15-4177849",
           "2011-03-09",
           null,
           "144 clifton ave,toronto, on,canada,m3h 4l5",
           "Mrs Softy Inc"
          ],
          [
           "V15-4293362",
           "2012-04-20",
           null,
           "144 clifton ave,toronto, on,canada,m3h 4l5",
           "King Kone Inc"
          ],
          [
           "V15-4293364",
           "2012-04-10",
           null,
           "144 clifton ave,toronto, on,canada,m3h 4l5",
           "King Kone Inc"
          ],
          [
           "V15-4293365",
           "2012-04-10",
           null,
           "144 clifton ave,toronto, on,canada,m3h 4l5",
           "King Kone Inc"
          ],
          [
           "V15-4293366",
           "2012-04-20",
           null,
           "144 clifton ave,toronto, on,canada,m3h 4l5",
           "King Kone Inc"
          ],
          [
           "V15-4307643",
           "2013-05-23",
           null,
           "144 clifton ave,toronto, on,canada,m3h 4l5",
           "King Kone Inc"
          ],
          [
           "V15-4307646",
           "2013-06-13",
           null,
           "144 clifton ave,toronto, on,canada,m3h 4l5",
           "King Kone Inc"
          ],
          [
           "V15-4422014",
           "2014-06-03",
           null,
           "144 clifton ave,toronto, on,canada,m3h 4l5",
           "Mrs Softy Inc"
          ],
          [
           "V15-4648792",
           "2016-06-09",
           null,
           "144 clifton ave,toronto, on,canada,m3h 4l5",
           "King Kone Inc"
          ],
          [
           "V15-4648793",
           "2016-05-27",
           null,
           "144 clifton ave,toronto, on,canada,m3h 4l5",
           "King Kone Inc"
          ],
          [
           "V15-4822931",
           "2018-06-06",
           null,
           "144 clifton ave,toronto, on,canada,m3h 4l5",
           "King Kone Inc"
          ],
          [
           "V15-4837520",
           "2018-06-06",
           null,
           "144 clifton ave,toronto, on,canada,m3h 4l5",
           "Mrs Softy Inc"
          ],
          [
           "V15-4927972",
           "2019-04-24",
           null,
           "144 clifton ave,toronto, on,canada,m3h 4l5",
           "Mrs Softy Inc"
          ],
          [
           "V15-4927977",
           "2019-04-24",
           null,
           "144 clifton ave,toronto, on,canada,m3h 4l5",
           "Mrs Softy Inc"
          ],
          [
           "V15-4932736",
           "2019-05-01",
           null,
           "144 clifton ave,toronto, on,canada,m3h 4l5",
           "King Kone Inc"
          ],
          [
           "V15-5342676",
           "2023-08-15",
           null,
           "canada,m2r",
           "Ozdemir, Salim"
          ],
          [
           "V27-2023299",
           "1995-11-10",
           "2003-03-31",
           "canada,m3j",
           "Momeni, Ali"
          ],
          [
           "V27-3109192",
           "2000-06-27",
           "2003-03-31",
           "680 petrolia rd,toronto, on,canada,m3j 2v2",
           "The Rolling Cones Ice Cream Corp"
          ],
          [
           "V27-3109196",
           "2000-06-27",
           "2003-03-31",
           "680 petrolia rd,toronto, on,canada,m3j 2v2",
           "The Rolling Cones Ice Cream Corp"
          ],
          [
           "V27-3109198",
           "2000-06-27",
           "2003-03-31",
           "680 petrolia rd,toronto, on,canada,m3j 2v2",
           "The Rolling Cones Ice Cream Corp"
          ],
          [
           "V27-3109199",
           "2000-06-27",
           "2003-03-31",
           "680 petrolia rd,toronto, on,canada,m3j 2v2",
           "The Rolling Cones Ice Cream Corp"
          ],
          [
           "V27-3109205",
           "2000-06-27",
           "2003-03-31",
           "680 petrolia rd,toronto, on,canada,m3j 2v2",
           "The Rolling Cones Ice Cream Corp"
          ],
          [
           "V27-3109206",
           "2000-06-27",
           "2003-03-31",
           "680 petrolia rd,toronto, on,canada,m3j 2v2",
           "The Rolling Cones Ice Cream Corp"
          ],
          [
           "V27-3245250",
           "2002-06-03",
           "2003-03-31",
           "canada,m2r",
           "Tichina, Lidia"
          ],
          [
           "V27-3091032",
           "1999-01-20",
           "2005-04-02",
           "canada,m3h",
           "Jalili Haghighi, Haji Esmaeil"
          ],
          [
           "V27-3107136",
           "2000-04-12",
           "2005-04-02",
           "canada,m3m",
           "Topyurek, Ali"
          ],
          [
           "V27-3361600",
           "2003-06-03",
           "2005-04-02",
           "canada,m3j",
           "Khmel, Petro"
          ],
          [
           "V27-3476332",
           "2004-04-01",
           "2005-07-01",
           "canada,m3k",
           "Topyurek, Erdogan"
          ],
          [
           "V27-3476334",
           "2004-04-01",
           "2005-07-01",
           "canada,m3k",
           "Topyurek, Erdogan"
          ],
          [
           "V27-1004751",
           "1990-02-08",
           "2007-07-25",
           "canada,m3h",
           "Lemonis, Modestos"
          ],
          [
           "V27-3609038",
           "2006-05-04",
           "2008-08-04",
           "canada,m2r",
           "Abdi, Kiumars"
          ],
          [
           "V27-3501850",
           "2005-12-16",
           "2009-03-18",
           "canada,m3k",
           "Topyurek, Erdogan"
          ],
          [
           "V27-2021040",
           "1995-04-01",
           "2009-08-04",
           "canada,m3j",
           "Momeni, Ali"
          ],
          [
           "V27-3839261",
           "2008-06-27",
           "2009-09-27",
           "canada,m3m",
           "Villa, Claudio Hugo"
          ],
          [
           "V27-3730379",
           "2008-02-15",
           "2010-05-18",
           "canada,m3l",
           "Nikmard, Behzad"
          ],
          [
           "V27-3846066",
           "2009-04-06",
           "2010-07-07",
           "canada,m3l",
           "Arias De Gunter, Gladys"
          ],
          [
           "V27-3953143",
           "2009-06-19",
           "2010-09-19",
           "canada,m3h",
           "Noory, Wias Mohammed"
          ],
          [
           "V27-3836660",
           "2008-04-18",
           "2011-06-08",
           "canada,m3k",
           "Topyurek, Erdogan"
          ],
          [
           "V27-3478471",
           "2004-05-07",
           "2011-08-07",
           "canada,m3h",
           "Ishani Afousi, Sohrab Afousi"
          ],
          [
           "V27-4067948",
           "2010-06-08",
           "2011-09-08",
           "canada,m2r",
           "Kiamehr, Sara"
          ],
          [
           "V27-4070688",
           "2010-07-16",
           "2012-10-16",
           "canada,m3m",
           "Ortiz, Luis Edgardo"
          ],
          [
           "V27-4295209",
           "2012-05-17",
           "2013-08-17",
           "canada,m3h",
           "Koc, Rukiye"
          ],
          [
           "V27-4295292",
           "2012-06-15",
           "2013-09-15",
           "canada,m3h",
           "Tator, Robin H"
          ],
          [
           "V27-4183764",
           "2011-07-06",
           "2013-10-06",
           "canada,m3m",
           "Racz, Jeno"
          ],
          [
           "V27-4425633",
           "2014-08-01",
           "2015-11-01",
           "canada,m3l",
           "Migwans, Holly Jo"
          ],
          [
           "V27-4423859",
           "2014-06-27",
           "2016-04-25",
           "canada,m3h",
           "Tator, Robin H"
          ],
          [
           "V27-4180246",
           "2011-04-19",
           "2016-07-20",
           "canada,m3k",
           "Topyurek, Erdogan"
          ],
          [
           "V27-4538157",
           "2015-07-06",
           "2016-10-06",
           "canada,m3h",
           "Turner Bob, David"
          ],
          [
           "V27-3479935",
           "2004-07-28",
           "2016-10-28",
           "canada,m2r",
           "Katchoura, Tatiana"
          ],
          [
           "V27-2020923",
           "1995-03-21",
           "2018-06-21",
           "canada,m3h",
           "Andonova, Iordanka"
          ],
          [
           "V27-2013008",
           "1993-04-20",
           "2020-11-03",
           "canada,m3k",
           "Atanassov, Georgi"
          ],
          [
           "V27-4717998",
           "2017-05-18",
           "2020-11-03",
           "2133 jane st, #1,toronto, on,canada,m3m 1a2",
           "Pho Tien Phat Inc"
          ],
          [
           "V27-3486229",
           "2005-03-31",
           "2021-08-29",
           "canada,m2r",
           "Marinka, Marton"
          ],
          [
           "V27-1004900",
           "1990-03-07",
           null,
           "canada,m3h",
           "Lemonis, Efstratios"
          ],
          [
           "V27-2002062",
           "1990-08-15",
           null,
           "canada,m3h",
           "Lemonis, Charito"
          ],
          [
           "V27-2020729",
           "1995-03-02",
           null,
           "canada,m3h",
           "Lemonis, Maria"
          ],
          [
           "V27-2902670",
           "1996-11-04",
           null,
           "canada,m3h",
           "Andonov, Anton Kirilov"
          ],
          [
           "V27-3007092",
           "1997-07-04",
           null,
           "canada,m3j",
           "Kader, Najjat"
          ],
          [
           "V27-3361237",
           "2003-06-19",
           null,
           "canada,m2r",
           "Mitova, Roumiana"
          ],
          [
           "V27-3719931",
           "2007-02-02",
           null,
           "canada,m2r",
           "Mitov, Valeri"
          ],
          [
           "V27-3834549",
           "2008-04-16",
           null,
           "canada,m3h",
           "Andonov, Kiril"
          ],
          [
           "V27-5329022",
           "2023-05-23",
           null,
           "canada,m3h",
           "Noory, Wias Mohammed"
          ],
          [
           "R56-4424004",
           "2014-06-23",
           "2016-03-10",
           "3460 keele st, #209,toronto, on,canada,m3j 1l9",
           "1532272 Ontario Corp"
          ],
          [
           "R56-4422346",
           "2014-05-15",
           "2016-05-24",
           "canada,m3l",
           "Abreu Casilla, Guillermo"
          ],
          [
           "R56-4648801",
           "2016-04-25",
           "2017-01-05",
           "144 clifton ave,toronto, on,canada,m3h 4l5",
           "King Kone Inc"
          ],
          [
           "R56-4534223",
           "2015-03-20",
           "2017-04-06",
           "144 clifton ave,toronto, on,canada,m3h 4l5",
           "Mrs Softy Inc"
          ],
          [
           "R56-4647313",
           "2016-03-15",
           "2017-04-06",
           "144 clifton ave,toronto, on,canada,m3h 4l5",
           "Mrs Softy Inc"
          ],
          [
           "R56-4647314",
           "2016-03-15",
           "2017-04-06",
           "144 clifton ave,toronto, on,canada,m3h 4l5",
           "Mrs Softy Inc"
          ],
          [
           "R56-4647315",
           "2016-03-15",
           "2017-04-06",
           "144 clifton ave,toronto, on,canada,m3h 4l5",
           "Mrs Softy Inc"
          ],
          [
           "R56-4647316",
           "2016-03-15",
           "2017-04-06",
           "144 clifton ave,toronto, on,canada,m3h 4l5",
           "Mrs Softy Inc"
          ],
          [
           "R56-4647317",
           "2016-03-15",
           "2017-04-06",
           "144 clifton ave,toronto, on,canada,m3h 4l5",
           "Mrs Softy Inc"
          ],
          [
           "R56-4647318",
           "2016-03-15",
           "2017-04-06",
           "144 clifton ave,toronto, on,canada,m3h 4l5",
           "Mrs Softy Inc"
          ],
          [
           "R56-4647319",
           "2016-03-15",
           "2017-04-06",
           "144 clifton ave,toronto, on,canada,m3h 4l5",
           "Mrs Softy Inc"
          ],
          [
           "R56-4648800",
           "2016-04-25",
           "2017-05-01",
           "144 clifton ave,toronto, on,canada,m3h 4l5",
           "King Kone Inc"
          ],
          [
           "R56-4648802",
           "2016-04-25",
           "2017-05-01",
           "144 clifton ave,toronto, on,canada,m3h 4l5",
           "King Kone Inc"
          ],
          [
           "R56-4648804",
           "2016-04-25",
           "2017-05-01",
           "144 clifton ave,toronto, on,canada,m3h 4l5",
           "King Kone Inc"
          ],
          [
           "R56-4650504",
           "2016-05-27",
           "2017-05-01",
           "144 clifton ave,toronto, on,canada,m3h 4l5",
           "King Kone Inc"
          ],
          [
           "R56-4650214",
           "2016-05-24",
           "2017-08-28",
           "canada,m3l",
           "Abreu Casilla, Guillermo"
          ],
          [
           "R56-4715305",
           "2017-04-06",
           "2018-04-25",
           "144 clifton ave,toronto, on,canada,m3h 4l5",
           "Mrs Softy Inc"
          ],
          [
           "R56-4715307",
           "2017-04-06",
           "2018-04-25",
           "144 clifton ave,toronto, on,canada,m3h 4l5",
           "Mrs Softy Inc"
          ],
          [
           "R56-4715308",
           "2017-04-06",
           "2018-04-25",
           "144 clifton ave,toronto, on,canada,m3h 4l5",
           "Mrs Softy Inc"
          ],
          [
           "R56-4715310",
           "2017-04-06",
           "2018-04-25",
           "144 clifton ave,toronto, on,canada,m3h 4l5",
           "Mrs Softy Inc"
          ],
          [
           "R56-4715311",
           "2017-04-06",
           "2018-04-25",
           "144 clifton ave,toronto, on,canada,m3h 4l5",
           "Mrs Softy Inc"
          ],
          [
           "R56-4715312",
           "2017-04-06",
           "2018-04-25",
           "144 clifton ave,toronto, on,canada,m3h 4l5",
           "Mrs Softy Inc"
          ],
          [
           "R56-4715314",
           "2017-04-06",
           "2018-04-25",
           "144 clifton ave,toronto, on,canada,m3h 4l5",
           "Mrs Softy Inc"
          ],
          [
           "R56-4718442",
           "2017-05-01",
           "2018-04-25",
           "144 clifton ave,toronto, on,canada,m3h 4l5",
           "King Kone Inc"
          ],
          [
           "R56-4718443",
           "2017-05-01",
           "2018-04-25",
           "144 clifton ave,toronto, on,canada,m3h 4l5",
           "King Kone Inc"
          ],
          [
           "R56-4718446",
           "2017-05-01",
           "2018-04-25",
           "144 clifton ave,toronto, on,canada,m3h 4l5",
           "King Kone Inc"
          ],
          [
           "R56-4718447",
           "2017-05-01",
           "2018-04-25",
           "144 clifton ave,toronto, on,canada,m3h 4l5",
           "King Kone Inc"
          ],
          [
           "R56-4718449",
           "2017-05-01",
           "2018-04-25",
           "144 clifton ave,toronto, on,canada,m3h 4l5",
           "King Kone Inc"
          ],
          [
           "R56-4718450",
           "2017-05-01",
           "2018-04-25",
           "144 clifton ave,toronto, on,canada,m3h 4l5",
           "King Kone Inc"
          ],
          [
           "R56-4718453",
           "2017-05-01",
           "2018-04-25",
           "144 clifton ave,toronto, on,canada,m3h 4l5",
           "King Kone Inc"
          ],
          [
           "R56-4726279",
           "2017-06-23",
           "2018-04-25",
           "144 clifton ave,toronto, on,canada,m3h 4l5",
           "King Kone Inc"
          ],
          [
           "R56-4826637",
           "2018-04-25",
           "2019-01-31",
           "144 clifton ave,toronto, on,canada,m3h 4l5",
           "King Kone Inc"
          ],
          [
           "R56-4826639",
           "2018-04-25",
           "2019-01-31",
           "144 clifton ave,toronto, on,canada,m3h 4l5",
           "Mrs Softy Inc"
          ],
          [
           "R56-4826640",
           "2018-04-25",
           "2019-01-31",
           "144 clifton ave,toronto, on,canada,m3h 4l5",
           "King Kone Inc"
          ],
          [
           "R56-4826641",
           "2018-04-25",
           "2019-01-31",
           "144 clifton ave,toronto, on,canada,m3h 4l5",
           "Mrs Softy Inc"
          ],
          [
           "R56-4826642",
           "2018-04-25",
           "2019-01-31",
           "144 clifton ave,toronto, on,canada,m3h 4l5",
           "Mrs Softy Inc"
          ],
          [
           "R56-4826643",
           "2018-04-25",
           "2019-01-31",
           "144 clifton ave,toronto, on,canada,m3h 4l5",
           "King Kone Inc"
          ],
          [
           "R56-4826645",
           "2018-04-25",
           "2019-01-31",
           "144 clifton ave,toronto, on,canada,m3h 4l5",
           "Mrs Softy Inc"
          ],
          [
           "R56-4826646",
           "2018-04-25",
           "2019-01-31",
           "144 clifton ave,toronto, on,canada,m3h 4l5",
           "Mrs Softy Inc"
          ],
          [
           "R56-4826647",
           "2018-04-25",
           "2019-01-31",
           "144 clifton ave,toronto, on,canada,m3h 4l5",
           "King Kone Inc"
          ],
          [
           "R56-4826648",
           "2018-04-25",
           "2019-01-31",
           "144 clifton ave,toronto, on,canada,m3h 4l5",
           "Mrs Softy Inc"
          ],
          [
           "R56-4826649",
           "2018-04-25",
           "2019-01-31",
           "144 clifton ave,toronto, on,canada,m3h 4l5",
           "Mrs Softy Inc"
          ],
          [
           "R56-4826650",
           "2018-04-25",
           "2019-01-31",
           "144 clifton ave,toronto, on,canada,m3h 4l5",
           "Mrs Softy Inc"
          ],
          [
           "R56-4826651",
           "2018-04-25",
           "2019-01-31",
           "144 clifton ave,toronto, on,canada,m3h 4l5",
           "King Kone Inc"
          ],
          [
           "R56-4826652",
           "2018-04-25",
           "2019-01-31",
           "144 clifton ave,toronto, on,canada,m3h 4l5",
           "King Kone Inc"
          ],
          [
           "R56-4826653",
           "2018-04-25",
           "2019-01-31",
           "144 clifton ave,toronto, on,canada,m3h 4l5",
           "King Kone Inc"
          ],
          [
           "R56-4826654",
           "2018-04-25",
           "2019-01-31",
           "144 clifton ave,toronto, on,canada,m3h 4l5",
           "King Kone Inc"
          ],
          [
           "R56-4839061",
           "2018-06-12",
           "2019-02-01",
           "144 clifton ave,toronto, on,canada,m3h 4l5",
           "Mrs Softy Inc"
          ],
          [
           "R56-4839063",
           "2018-06-12",
           "2019-02-01",
           "144 clifton ave,toronto, on,canada,m3h 4l5",
           "King Kone Inc"
          ],
          [
           "R56-4930617",
           "2019-04-23",
           "2019-11-13",
           "144 clifton ave,toronto, on,canada,m3h 4l5",
           "Mrs Softy Inc"
          ],
          [
           "R56-4930619",
           "2019-04-23",
           "2019-11-13",
           "144 clifton ave,toronto, on,canada,m3h 4l5",
           "Mrs Softy Inc"
          ],
          [
           "R56-4930620",
           "2019-04-23",
           "2019-11-13",
           "144 clifton ave,toronto, on,canada,m3h 4l5",
           "Mrs Softy Inc"
          ],
          [
           "R56-4930621",
           "2019-04-23",
           "2019-11-13",
           "144 clifton ave,toronto, on,canada,m3h 4l5",
           "Mrs Softy Inc"
          ],
          [
           "R56-4930622",
           "2019-04-23",
           "2019-11-13",
           "144 clifton ave,toronto, on,canada,m3h 4l5",
           "Mrs Softy Inc"
          ],
          [
           "R56-4930623",
           "2019-04-23",
           "2019-11-13",
           "144 clifton ave,toronto, on,canada,m3h 4l5",
           "Mrs Softy Inc"
          ],
          [
           "R56-4930624",
           "2019-04-23",
           "2019-11-13",
           "144 clifton ave,toronto, on,canada,m3h 4l5",
           "Mrs Softy Inc"
          ],
          [
           "R56-4930625",
           "2019-04-23",
           "2019-11-13",
           "144 clifton ave,toronto, on,canada,m3h 4l5",
           "Mrs Softy Inc"
          ],
          [
           "R56-4930627",
           "2019-04-23",
           "2019-11-13",
           "144 clifton ave,toronto, on,canada,m3h 4l5",
           "Mrs Softy Inc"
          ],
          [
           "R56-4930696",
           "2019-04-24",
           "2019-11-13",
           "144 clifton ave,toronto, on,canada,m3h 4l5",
           "Mrs Softy Inc"
          ],
          [
           "R56-4930951",
           "2019-04-24",
           "2019-11-13",
           "144 clifton ave,toronto, on,canada,m3h 4l5",
           "Mrs Softy Inc"
          ],
          [
           "R56-4933044",
           "2019-05-01",
           "2019-11-13",
           "144 clifton ave,toronto, on,canada,m3h 4l5",
           "King Kone Inc"
          ],
          [
           "R56-4933055",
           "2019-05-01",
           "2019-11-13",
           "144 clifton ave,toronto, on,canada,m3h 4l5",
           "King Kone Inc"
          ],
          [
           "R56-4933056",
           "2019-05-01",
           "2019-11-13",
           "144 clifton ave,toronto, on,canada,m3h 4l5",
           "King Kone Inc"
          ],
          [
           "R56-4933057",
           "2019-05-01",
           "2019-11-13",
           "144 clifton ave,toronto, on,canada,m3h 4l5",
           "King Kone Inc"
          ],
          [
           "R56-4933058",
           "2019-05-01",
           "2019-11-13",
           "144 clifton ave,toronto, on,canada,m3h 4l5",
           "King Kone Inc"
          ],
          [
           "R56-4933060",
           "2019-05-01",
           "2019-11-13",
           "144 clifton ave,toronto, on,canada,m3h 4l5",
           "King Kone Inc"
          ],
          [
           "R56-4933061",
           "2019-05-01",
           "2019-11-13",
           "144 clifton ave,toronto, on,canada,m3h 4l5",
           "King Kone Inc"
          ],
          [
           "R56-4933062",
           "2019-05-01",
           "2019-11-13",
           "144 clifton ave,toronto, on,canada,m3h 4l5",
           "King Kone Inc"
          ],
          [
           "R56-4933063",
           "2019-05-01",
           "2019-11-13",
           "144 clifton ave,toronto, on,canada,m3h 4l5",
           "King Kone Inc"
          ],
          [
           "R56-4933064",
           "2019-05-01",
           "2019-11-13",
           "144 clifton ave,toronto, on,canada,m3h 4l5",
           "King Kone Inc"
          ],
          [
           "R56-5209851",
           "2022-06-02",
           "2022-12-08",
           "144 clifton ave,toronto, on,canada,m3h 4l5",
           "Mrs Softy Inc"
          ],
          [
           "R56-5209857",
           "2022-06-02",
           "2022-12-08",
           "144 clifton ave,toronto, on,canada,m3h 4l5",
           "Mrs Softy Inc"
          ],
          [
           "R56-5209858",
           "2022-06-02",
           "2022-12-08",
           "144 clifton ave,toronto, on,canada,m3h 4l5",
           "Mrs Softy Inc"
          ],
          [
           "R56-5209861",
           "2022-06-02",
           "2022-12-08",
           "144 clifton ave,toronto, on,canada,m3h 4l5",
           "Mrs Softy Inc"
          ],
          [
           "R56-5322075",
           "2023-04-26",
           "2023-11-01",
           "144 clifton ave,toronto, on,canada,m3h 4l5",
           "Mrs Softy Inc"
          ],
          [
           "R56-5322078",
           "2023-04-26",
           "2023-11-01",
           "144 clifton ave,toronto, on,canada,m3h 4l5",
           "Mrs Softy Inc"
          ],
          [
           "R56-5322088",
           "2023-04-26",
           "2023-11-01",
           "144 clifton ave,toronto, on,canada,m3h 4l5",
           "Mrs Softy Inc"
          ],
          [
           "R56-5322090",
           "2023-04-26",
           "2023-11-01",
           "144 clifton ave,toronto, on,canada,m3h 4l5",
           "Mrs Softy Inc"
          ],
          [
           "R56-5322569",
           "2023-04-26",
           "2023-11-01",
           "144 clifton ave,toronto, on,canada,m3h 4l5",
           "King Kone Inc"
          ],
          [
           "R56-5322571",
           "2023-04-26",
           "2023-11-01",
           "144 clifton ave,toronto, on,canada,m3h 4l5",
           "King Kone Inc"
          ],
          [
           "R56-5322979",
           "2023-05-04",
           "2023-11-10",
           "144 clifton ave,toronto, on,canada,m3h 4l5",
           "Mrs Softy Inc"
          ],
          [
           "R56-5324086",
           "2023-05-10",
           "2023-11-10",
           "144 clifton ave,toronto, on,canada,m3h 4l5",
           "Mrs Softy Inc"
          ],
          [
           "R56-5322972",
           "2023-05-10",
           "2023-11-11",
           "144 clifton ave,toronto, on,canada,m3h 4l5",
           "King Kone Inc"
          ],
          [
           "R56-5326402",
           "2023-05-17",
           "2023-11-18",
           "144 clifton ave,toronto, on,canada,m3h 4l5",
           "Mrs Softy Inc"
          ],
          [
           "R56-5326384",
           "2023-05-18",
           "2023-11-25",
           "144 clifton ave,toronto, on,canada,m3h 4l5",
           "King Kone Inc"
          ],
          [
           "R56-5326395",
           "2023-05-18",
           "2023-11-25",
           "144 clifton ave,toronto, on,canada,m3h 4l5",
           "King Kone Inc"
          ],
          [
           "R56-5329173",
           "2023-05-29",
           "2023-12-06",
           "144 clifton ave,toronto, on,canada,m3h 4l5",
           "King Kone Inc"
          ],
          [
           "R56-5330068",
           "2023-06-07",
           "2023-12-14",
           "144 clifton ave,toronto, on,canada,m3h 4l5",
           "Mrs Softy Inc"
          ],
          [
           "R56-5342113",
           "2023-07-26",
           null,
           "144 clifton ave,toronto, on,canada,m3h 4l5",
           "Mrs Softy Inc"
          ]
         ],
         "hovertemplate": "<b>%{hovertext}</b><br><br>AREA_NAME=York Centre<br>latitude=%{lat}<br>longitude=%{lon}<br>Licence No.=%{customdata[0]}<br>Issued=%{customdata[1]}<br>Cancel Date=%{customdata[2]}<br>address=%{customdata[3]}<br>Client Name=%{customdata[4]}<extra></extra>",
         "hovertext": [
          null,
          null,
          null,
          null,
          null,
          null,
          null,
          "The Rolling Cones Ice Cream Corp",
          "The Rolling Cones Ice Cream Corp",
          "The Rolling Cones Ice Cream",
          "Toryork Catering",
          "Irresistable Caterers",
          "Avalanche Rush",
          "Caledonia Catering",
          "Lickwid Life",
          "Sweet Summer Soft Ice",
          "King Kone Inc",
          "King Kone",
          "King Kone Inc",
          "Memo'S Freezes",
          "El Callejon Del Taco",
          "Caledonia Catering",
          "La Fritanga",
          "Prince Edwards Fries",
          null,
          "701033 Ontario Ltd",
          "Mrs Softy",
          "Mrs Softy",
          "Mrs Softy",
          "Mrs Softy",
          "Mrs Softy",
          "Mrs Softy",
          "Mrs Softy",
          "King Kone Inc",
          "King Kone Inc",
          "King Kone Inc",
          "King Kone Inc",
          "King Kone Inc",
          "King Kone Inc",
          "Mrs Softy",
          "King Kone",
          "King Kone",
          "King Kone Inc",
          "Mrs Softy",
          "Mrs Softy",
          "Mrs Softy",
          "King Kone",
          "Sal'S Treat",
          null,
          "The Rolling Cones Ice Cream",
          "The Rollong Cones Ice Cream",
          "The Rolling Cones Ice Cream",
          "The Rolling Cones Ice Cream",
          "The Rolling Cones Ice Cream",
          "The Rolling Cones Ice Cream",
          null,
          null,
          null,
          null,
          null,
          null,
          null,
          null,
          null,
          null,
          null,
          "The Hot Dog King",
          null,
          null,
          null,
          null,
          null,
          "Yummy Hotdogs",
          "Toronto Hotdog",
          "Mojo Company",
          null,
          "Bbq Pit Catering & Special Events",
          "Mojo Company",
          null,
          "Trueboost",
          null,
          null,
          "Georgi Atanassov",
          "Mobile Spring Rolls",
          null,
          null,
          null,
          null,
          null,
          null,
          null,
          null,
          null,
          "Yummy Hot Dogs",
          null,
          null,
          null,
          null,
          null,
          null,
          null,
          null,
          null,
          null,
          null,
          null,
          null,
          null,
          null,
          null,
          null,
          null,
          null,
          null,
          null,
          null,
          null,
          null,
          null,
          null,
          null,
          null,
          null,
          null,
          null,
          null,
          null,
          null,
          null,
          null,
          null,
          null,
          null,
          null,
          null,
          null,
          null,
          null,
          null,
          null,
          null,
          null,
          null,
          null,
          null,
          null,
          null,
          null,
          null,
          null,
          null,
          null,
          null,
          null,
          null,
          null,
          null,
          null,
          null,
          null,
          null,
          null,
          null,
          null,
          null,
          null,
          null,
          null,
          null,
          null,
          null,
          null,
          null,
          null,
          null,
          null,
          null,
          null,
          null,
          null,
          null,
          null,
          "Mrs Softy"
         ],
         "lat": [
          43.77273718,
          43.75978349,
          43.75978349,
          43.77800801,
          43.76573603,
          43.76498652,
          43.72323408,
          43.77775559,
          43.77775559,
          43.77775559,
          43.72654095,
          43.72654095,
          43.76573603,
          43.72654095,
          43.77800801,
          43.7511607,
          43.75978349,
          43.75978349,
          43.75978349,
          43.74016744,
          43.77800801,
          43.72654095,
          43.73018,
          43.76573603,
          43.75122771,
          43.75122771,
          43.75978349,
          43.75978349,
          43.75978349,
          43.75978349,
          43.75978349,
          43.75978349,
          43.75978349,
          43.75978349,
          43.75978349,
          43.75978349,
          43.75978349,
          43.75978349,
          43.75978349,
          43.75978349,
          43.75978349,
          43.75978349,
          43.75978349,
          43.75978349,
          43.75978349,
          43.75978349,
          43.75978349,
          43.77813012,
          43.76573603,
          43.77775559,
          43.77775559,
          43.77775559,
          43.77775559,
          43.77775559,
          43.77775559,
          43.77813012,
          43.74749011,
          43.72654095,
          43.76573603,
          43.73893185,
          43.73893185,
          43.74749011,
          43.77813012,
          43.73893185,
          43.76573603,
          43.72654095,
          43.74016744,
          43.74016744,
          43.74749011,
          43.73893185,
          43.74749011,
          43.77813012,
          43.72654095,
          43.74749011,
          43.74749011,
          43.72654095,
          43.74016744,
          43.74749011,
          43.73893185,
          43.74749011,
          43.77813012,
          43.74749011,
          43.73893185,
          43.7197457,
          43.77813012,
          43.74749011,
          43.74749011,
          43.74749011,
          43.74749011,
          43.76573603,
          43.77813012,
          43.77813012,
          43.74749011,
          43.74749011,
          43.7511607,
          43.74016744,
          43.75978349,
          43.75978349,
          43.75978349,
          43.75978349,
          43.75978349,
          43.75978349,
          43.75978349,
          43.75978349,
          43.75978349,
          43.75978349,
          43.75978349,
          43.75978349,
          43.75978349,
          43.74016744,
          43.75978349,
          43.75978349,
          43.75978349,
          43.75978349,
          43.75978349,
          43.75978349,
          43.75978349,
          43.75978349,
          43.75978349,
          43.75978349,
          43.75978349,
          43.75978349,
          43.75978349,
          43.75978349,
          43.75978349,
          43.75978349,
          43.75978349,
          43.75978349,
          43.75978349,
          43.75978349,
          43.75978349,
          43.75978349,
          43.75978349,
          43.75978349,
          43.75978349,
          43.75978349,
          43.75978349,
          43.75978349,
          43.75978349,
          43.75978349,
          43.75978349,
          43.75978349,
          43.75978349,
          43.75978349,
          43.75978349,
          43.75978349,
          43.75978349,
          43.75978349,
          43.75978349,
          43.75978349,
          43.75978349,
          43.75978349,
          43.75978349,
          43.75978349,
          43.75978349,
          43.75978349,
          43.75978349,
          43.75978349,
          43.75978349,
          43.75978349,
          43.75978349,
          43.75978349,
          43.75978349,
          43.75978349,
          43.75978349,
          43.75978349,
          43.75978349,
          43.75978349,
          43.75978349,
          43.75978349,
          43.75978349,
          43.75978349,
          43.75978349,
          43.75978349,
          43.75978349,
          43.75978349,
          43.75978349,
          43.75978349,
          43.75978349,
          43.75978349,
          43.75978349,
          43.75978349,
          43.75978349
         ],
         "legendgroup": "York Centre",
         "lon": [
          -79.44405448,
          -79.45999166,
          -79.45999166,
          -79.45271734,
          -79.48918963,
          -79.48117751,
          -79.50228859,
          -79.48854327,
          -79.48854327,
          -79.48854327,
          -79.49858956,
          -79.49858956,
          -79.48918963,
          -79.49858956,
          -79.45271734,
          -79.48856171,
          -79.45999166,
          -79.45999166,
          -79.45999166,
          -79.50610635,
          -79.45271734,
          -79.49858956,
          -79.48085883,
          -79.48918963,
          -79.46411338,
          -79.46411338,
          -79.45999166,
          -79.45999166,
          -79.45999166,
          -79.45999166,
          -79.45999166,
          -79.45999166,
          -79.45999166,
          -79.45999166,
          -79.45999166,
          -79.45999166,
          -79.45999166,
          -79.45999166,
          -79.45999166,
          -79.45999166,
          -79.45999166,
          -79.45999166,
          -79.45999166,
          -79.45999166,
          -79.45999166,
          -79.45999166,
          -79.45999166,
          -79.44461448,
          -79.48918963,
          -79.48854327,
          -79.48854327,
          -79.48854327,
          -79.48854327,
          -79.48854327,
          -79.48854327,
          -79.44461448,
          -79.44442275,
          -79.49858956,
          -79.48918963,
          -79.47093192,
          -79.47093192,
          -79.44442275,
          -79.44461448,
          -79.47093192,
          -79.48918963,
          -79.49858956,
          -79.50610635,
          -79.50610635,
          -79.44442275,
          -79.47093192,
          -79.44442275,
          -79.44461448,
          -79.49858956,
          -79.44442275,
          -79.44442275,
          -79.49858956,
          -79.50610635,
          -79.44442275,
          -79.47093192,
          -79.44442275,
          -79.44461448,
          -79.44442275,
          -79.47093192,
          -79.50768578,
          -79.44461448,
          -79.44442275,
          -79.44442275,
          -79.44442275,
          -79.44442275,
          -79.48918963,
          -79.44461448,
          -79.44461448,
          -79.44442275,
          -79.44442275,
          -79.48856171,
          -79.50610635,
          -79.45999166,
          -79.45999166,
          -79.45999166,
          -79.45999166,
          -79.45999166,
          -79.45999166,
          -79.45999166,
          -79.45999166,
          -79.45999166,
          -79.45999166,
          -79.45999166,
          -79.45999166,
          -79.45999166,
          -79.50610635,
          -79.45999166,
          -79.45999166,
          -79.45999166,
          -79.45999166,
          -79.45999166,
          -79.45999166,
          -79.45999166,
          -79.45999166,
          -79.45999166,
          -79.45999166,
          -79.45999166,
          -79.45999166,
          -79.45999166,
          -79.45999166,
          -79.45999166,
          -79.45999166,
          -79.45999166,
          -79.45999166,
          -79.45999166,
          -79.45999166,
          -79.45999166,
          -79.45999166,
          -79.45999166,
          -79.45999166,
          -79.45999166,
          -79.45999166,
          -79.45999166,
          -79.45999166,
          -79.45999166,
          -79.45999166,
          -79.45999166,
          -79.45999166,
          -79.45999166,
          -79.45999166,
          -79.45999166,
          -79.45999166,
          -79.45999166,
          -79.45999166,
          -79.45999166,
          -79.45999166,
          -79.45999166,
          -79.45999166,
          -79.45999166,
          -79.45999166,
          -79.45999166,
          -79.45999166,
          -79.45999166,
          -79.45999166,
          -79.45999166,
          -79.45999166,
          -79.45999166,
          -79.45999166,
          -79.45999166,
          -79.45999166,
          -79.45999166,
          -79.45999166,
          -79.45999166,
          -79.45999166,
          -79.45999166,
          -79.45999166,
          -79.45999166,
          -79.45999166,
          -79.45999166,
          -79.45999166,
          -79.45999166,
          -79.45999166,
          -79.45999166,
          -79.45999166,
          -79.45999166,
          -79.45999166,
          -79.45999166,
          -79.45999166,
          -79.45999166
         ],
         "marker": {
          "color": "#FECB52"
         },
         "mode": "markers",
         "name": "York Centre",
         "showlegend": true,
         "subplot": "mapbox",
         "type": "scattermapbox"
        },
        {
         "customdata": [
          [
           "R54-4537774",
           "2015-06-12",
           "2016-07-20",
           "canada,m1s",
           "Jayakumaran, Kathirgamathamby"
          ],
          [
           "R54-4735566",
           "2017-09-05",
           "2018-04-05",
           "12 peppermill pl,toronto, on,canada,m1v 2b8",
           "Superchicken Food Truck Inc"
          ],
          [
           "R54-4828417",
           "2018-05-03",
           "2019-06-18",
           "canada,m1v",
           "Chen, Wen Hui"
          ],
          [
           "R54-4948940",
           "2019-06-28",
           "2020-08-05",
           "canada,m1v",
           "Chen, Wen Hui"
          ],
          [
           "R54-5129996",
           "2021-09-16",
           null,
           "canada,m1v",
           "Chen, Wen Hui"
          ],
          [
           "V15-2010376",
           "1992-09-02",
           "2003-05-02",
           "canada,m1s",
           "Vitale, Michael Mark"
          ],
          [
           "V15-0001691",
           "1974-05-15",
           "2005-04-01",
           "canada,m1s",
           "Fournier, Henry J"
          ],
          [
           "V15-3095935",
           "1999-04-09",
           "2006-01-26",
           "canada,m1s",
           "Khalid, Mubshir Ahmad"
          ],
          [
           "V15-2018660",
           "1994-07-28",
           "2006-10-28",
           "canada,m1s",
           "Tsakalidis, M-Avraam"
          ],
          [
           "V15-3589874",
           "2005-03-04",
           "2008-06-04",
           "canada,m1s",
           "Li, Feng"
          ],
          [
           "V15-3834130",
           "2008-03-05",
           "2009-06-05",
           "canada,m1v",
           "Wu, Wai Man"
          ],
          [
           "V15-3836424",
           "2008-04-18",
           "2009-08-19",
           "canada,m1s",
           "Wong, Ka Yan"
          ],
          [
           "V15-3084383",
           "1998-05-05",
           "2010-08-05",
           "canada,m1s",
           "Hussain, Khadim"
          ],
          [
           "V15-3841665",
           "2008-08-29",
           "2011-11-29",
           "16 hutcherson sq,toronto, on,canada,m1b 1c6",
           "2182592 Ontario Inc"
          ],
          [
           "V15-4064932",
           "2010-11-04",
           "2012-02-04",
           "canada,m1s",
           "Mcarthur, Christopher Robin"
          ],
          [
           "V15-4293660",
           "2012-04-18",
           "2012-06-19",
           "canada,m1s",
           "Mcarthur, Christopher Robin"
          ],
          [
           "V15-4310536",
           "2013-07-15",
           "2015-10-15",
           "46 hyacinth cres,toronto, on,canada,m1x 1w9",
           "1897076 Ontario Inc"
          ],
          [
           "V15-4422370",
           "2014-07-21",
           "2016-07-20",
           "canada,m1s",
           "Jayakumaran, Kathirgamathamby"
          ],
          [
           "V15-4657897",
           "2017-01-03",
           "2018-04-05",
           "12 peppermill pl,toronto, on,canada,m1v 2b8",
           "Superchicken Food Truck Inc"
          ],
          [
           "V15-3729364",
           "2007-10-18",
           "2019-01-18",
           "canada,m1s",
           "Lluka, Dorien"
          ],
          [
           "V15-4828403",
           "2018-05-03",
           null,
           "canada,m1v",
           "Chen, Wen Hui"
          ],
          [
           "V15-5230227",
           "2022-10-03",
           null,
           "canada,m1v",
           "Miller, Leon A"
          ],
          [
           "V15-5360787",
           "2023-11-03",
           null,
           "canada,m1v",
           "Chen, Wen Hui"
          ],
          [
           "V27-3239279",
           "2002-04-01",
           "2005-04-02",
           "canada,m1v",
           "Azizi, Hakim Nasrat"
          ],
          [
           "V27-2024635",
           "1996-04-15",
           "2006-07-16",
           "2593 midland ave,toronto, on,canada,m1s 1r3",
           "Marinescu,George/Marinescu,Oltea"
          ],
          [
           "V27-3137585",
           "2002-01-04",
           "2007-04-06",
           "canada,m1v",
           "Raufi, Abdul Ghafoor"
          ],
          [
           "V27-3595218",
           "2005-06-30",
           "2007-09-30",
           "canada,m1v",
           "Sangarapillai, Sathiyaseelan"
          ],
          [
           "V27-4295788",
           "2012-06-20",
           "2014-06-04",
           "canada,m1s",
           "Harper, Zaid Abu Hassan"
          ],
          [
           "V27-4296008",
           "2012-06-14",
           "2014-09-14",
           "canada,m1v",
           "Sangarapillai, Sathiyaseelan"
          ],
          [
           "V27-4423221",
           "2014-06-16",
           "2015-09-16",
           "canada,m1s",
           "Harper, Zaid Abu Hassan"
          ],
          [
           "V27-4293979",
           "2012-05-18",
           "2018-08-18",
           "canada,m1s",
           "Bruneau, Richard Ernest"
          ],
          [
           "V27-2017175",
           "1994-03-30",
           "2020-11-03",
           "canada,m1s",
           "Mintchev, Ivan Anguelov"
          ],
          [
           "V27-4721905",
           "2017-07-25",
           "2020-11-03",
           "canada,m1v",
           "Miller, Leon A"
          ],
          [
           "V27-4920611",
           "2019-03-19",
           "2021-08-17",
           "canada,m1s",
           "Bashardost, Folura"
          ],
          [
           "V27-2022686",
           "1995-08-28",
           null,
           "canada,m1s",
           "Mintcheva, Elena Anguelova"
          ],
          [
           "V27-5236191",
           "2022-11-07",
           null,
           "3480 mcnicoll ave, #10,toronto, on,canada,m1v 5a7",
           "Sun Set Hut Caribbean Inc"
          ],
          [
           "V27-5349014",
           "2023-09-15",
           null,
           "canada,m1s",
           "Bashardost, Folura"
          ],
          [
           "R56-4422353",
           "2014-05-15",
           "2018-09-10",
           "canada,m1s",
           "Lee, Kok-Houa"
          ]
         ],
         "hovertemplate": "<b>%{hovertext}</b><br><br>AREA_NAME=Scarborough North<br>latitude=%{lat}<br>longitude=%{lon}<br>Licence No.=%{customdata[0]}<br>Issued=%{customdata[1]}<br>Cancel Date=%{customdata[2]}<br>address=%{customdata[3]}<br>Client Name=%{customdata[4]}<extra></extra>",
         "hovertext": [
          null,
          null,
          null,
          null,
          "Luchi Recipe",
          null,
          "Hank'S Food Service",
          null,
          "Cuisine Machine",
          "Leo Li Coffee",
          "Leo Li Coffee",
          "Antz Ice Cream",
          null,
          "2182592 Ontario Inc",
          null,
          null,
          "Aaa Cool Bar",
          "Bread On Wheels",
          "Superchicken Food Truck Inc",
          null,
          "Luchi Recipe",
          "Leon Sunset Hut Caribbean Coffee Truck",
          "Luchi Recipe",
          null,
          null,
          null,
          null,
          "Toronto Mobile Roast Corn",
          null,
          "Toronto Mobile Roast Corn",
          "Fat Louie'S Bbq",
          null,
          "Sunset Hut Caribbean Take Out",
          null,
          null,
          "Sun Set Hut Caribbean",
          "Fast Food Cart",
          null
         ],
         "lat": [
          43.79411889,
          43.82608209,
          43.81787496,
          43.81787496,
          43.81787496,
          43.79411889,
          43.79411889,
          43.79411889,
          43.79411889,
          43.79411889,
          43.81787496,
          43.79411889,
          43.79411889,
          43.79878851,
          43.79411889,
          43.79411889,
          43.82962499,
          43.79411889,
          43.82608209,
          43.79411889,
          43.81787496,
          43.81787496,
          43.81787496,
          43.81787496,
          43.78711801,
          43.81787496,
          43.81787496,
          43.79411889,
          43.81787496,
          43.79411889,
          43.79411889,
          43.79411889,
          43.81787496,
          43.79411889,
          43.79411889,
          43.82321128,
          43.79411889,
          43.79411889
         ],
         "legendgroup": "Scarborough North",
         "lon": [
          -79.26559072,
          -79.26759186,
          -79.28021845,
          -79.28021845,
          -79.28021845,
          -79.26559072,
          -79.26559072,
          -79.26559072,
          -79.26559072,
          -79.26559072,
          -79.28021845,
          -79.26559072,
          -79.26559072,
          -79.22033679,
          -79.26559072,
          -79.26559072,
          -79.23574046,
          -79.26559072,
          -79.26759186,
          -79.26559072,
          -79.28021845,
          -79.28021845,
          -79.28021845,
          -79.28021845,
          -79.27900441,
          -79.28021845,
          -79.28021845,
          -79.26559072,
          -79.28021845,
          -79.26559072,
          -79.26559072,
          -79.26559072,
          -79.28021845,
          -79.26559072,
          -79.26559072,
          -79.25304012,
          -79.26559072,
          -79.26559072
         ],
         "marker": {
          "color": "#636efa"
         },
         "mode": "markers",
         "name": "Scarborough North",
         "showlegend": true,
         "subplot": "mapbox",
         "type": "scattermapbox"
        },
        {
         "customdata": [
          [
           "R54-4422347",
           "2014-05-15",
           "2016-08-15",
           "77 mervyn ave,toronto, on,canada,m9b 1n4",
           "Duale,Ahmed Hussein/Mohamed,Aisha Ahmed"
          ],
          [
           "R54-4650175",
           "2016-05-24",
           "2017-08-24",
           "canada,m9a",
           "Park, Joon Woo"
          ],
          [
           "R54-4684955",
           "2016-11-14",
           "2017-10-10",
           "240 markland dr, #301,toronto, on,canada,m9c 1r3",
           "8449856 Canada Inc"
          ],
          [
           "R54-4832636",
           "2018-05-18",
           "2019-01-31",
           "canada,m9r",
           "Hudson Blake, Yvonne E"
          ],
          [
           "R54-4833744",
           "2018-05-25",
           "2019-01-31",
           "canada,m9c",
           "Rizzo, Gavin Victor"
          ],
          [
           "R54-4941151",
           "2019-05-29",
           "2019-12-07",
           "canada,m9r",
           "Hudson Blake, Yvonne E"
          ],
          [
           "R54-4937935",
           "2019-05-17",
           "2021-11-25",
           "canada,m9r",
           "Chang, Dae-Yong"
          ],
          [
           "R54-5341539",
           "2023-07-25",
           null,
           "55 dryden way,toronto, on,canada,m9r 0b2",
           "1000394418 Ontario Ltd"
          ],
          [
           "V15-0012045",
           "1984-05-29",
           "2003-02-12",
           "canada,m9p",
           "Nikolakakis, Frank"
          ],
          [
           "V15-0003465",
           "2066-04-26",
           "2003-07-04",
           "canada,m9p",
           "Nikolakakis, Frank"
          ],
          [
           "V15-0016749",
           "1987-04-23",
           "2005-04-02",
           "canada,m9c",
           "Hughes, Robert Bernard"
          ],
          [
           "V15-2026046",
           "1996-08-13",
           "2005-04-02",
           "canada,m9p",
           "Chung, Dae-Yung"
          ],
          [
           "V15-0000222",
           "1973-06-28",
           "2005-07-01",
           "canada,m9b",
           "Archer, Gary Arnold"
          ],
          [
           "V15-3004992",
           "1997-04-01",
           "2005-07-01",
           "canada,m9c",
           "Ogilvie, Sandra"
          ],
          [
           "V15-3359514",
           "2003-05-20",
           "2005-07-01",
           "canada,m9c",
           "Polito, Pietro A"
          ],
          [
           "V15-0014595",
           "1985-12-19",
           "2006-02-21",
           "canada,m9p",
           "Foo, Sze-Kee"
          ],
          [
           "V15-3608222",
           "2006-04-28",
           "2006-07-25",
           "canada,m9r",
           "Gureye, Ahmed Ali"
          ],
          [
           "V15-0012037",
           "1984-05-29",
           "2009-08-31",
           "canada,m9r",
           "Nikolakakis, Andris"
          ],
          [
           "V15-3501880",
           "2005-11-24",
           "2010-05-04",
           "canada,m9c",
           "Ogilvie, Sandra"
          ],
          [
           "V15-4069788",
           "2010-07-06",
           "2013-10-06",
           "60 saskatoon dr,toronto, on,canada,m9p 2g2",
           "Heavenly Dreams Ice Cream Inc"
          ],
          [
           "V15-2017582",
           "1994-05-02",
           "2014-05-17",
           "canada,m9c",
           "Koutsaris, George"
          ],
          [
           "V15-4428464",
           "2014-10-30",
           "2016-01-30",
           "canada,m9c",
           "Roberts, Michele A"
          ],
          [
           "V15-4420106",
           "2014-05-15",
           "2016-08-15",
           "77 mervyn ave,toronto, on,canada,m9b 1n4",
           "Duale,Ahmed Hussein/Mohamed,Aisha Ahmed"
          ],
          [
           "V15-4647683",
           "2016-05-24",
           "2017-08-24",
           "canada,m9a",
           "Park, Joon Woo"
          ],
          [
           "V15-4682521",
           "2016-11-03",
           "2018-02-03",
           "240 markland dr, #301,toronto, on,canada,m9c 1r3",
           "8449856 Canada Inc"
          ],
          [
           "V15-4824662",
           "2018-04-18",
           "2019-07-19",
           "canada,m9r",
           "Foster, Al B"
          ],
          [
           "V15-4651534",
           "2016-07-07",
           "2019-10-07",
           "canada,m9c",
           "Rizzo, Gavin Victor"
          ],
          [
           "V15-3835344",
           "2008-04-09",
           "2020-10-14",
           "canada,m9c",
           "Prajza, Joseph"
          ],
          [
           "V15-4921459",
           "2019-03-26",
           "2020-10-14",
           "canada,m9p",
           "Pham, Thinh Thai"
          ],
          [
           "V15-4649473",
           "2016-05-24",
           "2020-11-03",
           "canada,m9r",
           "Hudson Blake, Yvonne E"
          ],
          [
           "V15-4947620",
           "2019-06-24",
           "2020-11-03",
           "21 sigmont rd,toronto, on,canada,m9c 4k6",
           "Ontario Ice Cream Inc"
          ],
          [
           "V15-4950427",
           "2019-07-04",
           "2020-11-03",
           "315 dixon rd, #401,toronto, on,canada,m9r 1s1",
           "Abdurahim,Sami/Salih,Mohammed Alamin"
          ],
          [
           "V15-3609606",
           "2006-05-04",
           "2021-10-02",
           "60 saskatoon dr,toronto, on,canada,m9p 2g2",
           "Heavenly Dreams Ice Cream Inc"
          ],
          [
           "V15-3609610",
           "2006-05-04",
           "2021-10-02",
           "60 saskatoon dr,toronto, on,canada,m9p 2g2",
           "Heavenly Dreams Ice Cream Inc"
          ],
          [
           "V15-0002665",
           "1979-03-30",
           null,
           "canada,m9c",
           "Koutsaris, George"
          ],
          [
           "V15-0010809",
           "1983-06-03",
           null,
           "canada,m9c",
           "Kazanis, Stratos"
          ],
          [
           "V15-3003986",
           "1997-04-25",
           null,
           "canada,m9a",
           "Do, Thuoc Van"
          ],
          [
           "V15-3951884",
           "2009-04-29",
           null,
           "60 saskatoon dr,toronto, on,canada,m9p 2g2",
           "Heavenly Dreams Ice Cream Inc"
          ],
          [
           "V15-4293641",
           "2012-04-19",
           null,
           "60 saskatoon dr,toronto, on,canada,m9p 2g2",
           "Heavenly Dreams Ice Cream Inc"
          ],
          [
           "V15-4306105",
           "2013-04-18",
           null,
           "60 saskatoon dr,toronto, on,canada,m9p 2g2",
           "Heavenly Dreams Ice Cream Inc"
          ],
          [
           "V15-4421236",
           "2014-04-28",
           null,
           "69 markland dr,toronto, on,canada,m9c 1n4",
           "1817758 Ontario Ltd"
          ],
          [
           "V15-4715184",
           "2017-05-26",
           null,
           "25 richview rd, #1508,toronto, on,canada,m9a 4y3",
           "416 Softee Inc"
          ],
          [
           "V15-4822046",
           "2018-04-10",
           null,
           "60 saskatoon dr,toronto, on,canada,m9p 2g2",
           "Heavenly Dreams Ice Cream Inc"
          ],
          [
           "V15-4925880",
           "2019-05-09",
           null,
           "25 richview rd, #1508,toronto, on,canada,m9a 4y3",
           "416 Softee Inc"
          ],
          [
           "V15-4935689",
           "2019-05-17",
           null,
           "canada,m9r",
           "Chang, Dae-Yong"
          ],
          [
           "V15-5210904",
           "2022-06-30",
           null,
           "60 saskatoon dr,toronto, on,canada,m9p 2g2",
           "Heavenly Dreams Ice Cream Inc"
          ],
          [
           "V15-5216774",
           "2022-07-14",
           null,
           "60 saskatoon dr,toronto, on,canada,m9p 2g2",
           "Heavenly Dreams Ice Cream Inc"
          ],
          [
           "V15-5313331",
           "2023-03-24",
           null,
           "387 burnhamthorpe rd,toronto, on,canada,m9b 2a7",
           "2766911 Ontario Ltd"
          ],
          [
           "V15-5329006",
           "2023-05-30",
           null,
           "55 dryden way,toronto, on,canada,m9r 0b2",
           "1000394418 Ontario Ltd"
          ],
          [
           "V15-5356590",
           "2023-11-03",
           null,
           "104 smithwood dr,toronto, on,canada,m9b 4s4",
           "Vatra'S Rolling Stoves Inc"
          ],
          [
           "V27-3243050",
           "2002-04-29",
           "2003-03-31",
           "canada,m9r",
           "Bogdan, Ilie Ioan"
          ],
          [
           "V27-1000866",
           "1988-09-13",
           "2005-04-02",
           "canada,m9r",
           "Katsieris, Athanassios"
          ],
          [
           "V27-2001869",
           "1990-07-25",
           "2005-04-02",
           "canada,m9b",
           "Mitropoulos, Ageliki"
          ],
          [
           "V27-3095056",
           "1999-04-08",
           "2005-07-01",
           "canada,m9c",
           "Hristoskova, Tzvetanka"
          ],
          [
           "V27-2001295",
           "1990-06-13",
           "2006-09-13",
           "canada,m9p",
           "Tsiopanas, Fotios"
          ],
          [
           "V27-3614749",
           "2006-10-05",
           "2008-01-05",
           "canada,m9p",
           "Alatas, George"
          ],
          [
           "V27-2008792",
           "1996-04-01",
           "2008-07-02",
           "canada,m9b",
           "Jodiss, Waclaw H"
          ],
          [
           "V27-2020664",
           "1995-04-01",
           "2008-07-02",
           "canada,m9p",
           "Vassilev, Todor"
          ],
          [
           "V27-3003872",
           "1997-04-01",
           "2008-07-02",
           "canada,m9p",
           "Vassilev, Todor"
          ],
          [
           "V27-2024411",
           "1996-04-01",
           "2008-11-12",
           "canada,m9r",
           "Miller, Zenon"
          ],
          [
           "V27-2024412",
           "1996-03-18",
           "2008-11-12",
           "canada,m9r",
           "Miller, Zenon"
          ],
          [
           "V27-2002295",
           "1990-09-05",
           "2008-12-06",
           "canada,m9b",
           "Hurtado Garrido, Juan Enrique"
          ],
          [
           "V27-3834317",
           "2008-02-28",
           "2009-05-31",
           "canada,m9c",
           "Kiurski, Veselin"
          ],
          [
           "V27-1003878",
           "1989-08-30",
           "2009-11-30",
           "canada,m9a",
           "Perivolaris, Nikos"
          ],
          [
           "V27-3951893",
           "2009-04-28",
           "2010-07-29",
           "canada,m9b",
           "Mitropoulos, Nectarios"
          ],
          [
           "V27-3950147",
           "2009-04-29",
           "2010-07-30",
           "canada,m9c",
           "Hristoskova, Tzvetanka"
          ],
          [
           "V27-2024413",
           "1996-04-01",
           "2011-07-02",
           "canada,m9r",
           "Miller, Zenon"
          ],
          [
           "V27-3107395",
           "2000-04-13",
           "2011-07-14",
           "canada,m9r",
           "Miller, Zenon"
          ],
          [
           "V27-2005030",
           "1991-05-30",
           "2011-08-30",
           "canada,m9b",
           "Mitropoulos, Ioannis"
          ],
          [
           "V27-4066870",
           "2010-06-16",
           "2011-09-16",
           "canada,m9a",
           "Haidary, Homa"
          ],
          [
           "V27-4295412",
           "2012-06-29",
           "2013-09-29",
           "canada,m9c",
           "Bettencourt, Michael Branco"
          ],
          [
           "V27-4420914",
           "2014-04-17",
           "2015-07-18",
           "canada,m9c",
           "Bettencourt, Michael Branco"
          ],
          [
           "V27-4421337",
           "2014-08-21",
           "2015-11-21",
           "114 crendon dr,toronto, on,canada,m9c 3h6",
           "Midway Movers Inc"
          ],
          [
           "V27-4418763",
           "2014-04-01",
           "2016-07-02",
           "canada,m9b",
           "Kartashova, Nadya"
          ],
          [
           "V27-4536795",
           "2015-05-25",
           "2016-08-25",
           "canada,m9r",
           "St John, Stevie F"
          ],
          [
           "V27-2007955",
           "1992-03-17",
           null,
           "canada,m9b",
           "Mitropoulos, Charalambe"
          ],
          [
           "V27-5036387",
           "2020-10-06",
           null,
           "387 burnhamthorpe rd,toronto, on,canada,m9b 2a7",
           "2766911 Ontario Ltd"
          ],
          [
           "V27-5109240",
           "2021-03-30",
           null,
           "60 saskatoon dr,toronto, on,canada,m9p 2g2",
           "Heavenly Dreams Ice Cream Inc"
          ],
          [
           "V27-5113825",
           "2021-05-13",
           null,
           "canada,m9b",
           "Marciniak, Joanne Caroline"
          ],
          [
           "R56-4423541",
           "2014-06-11",
           "2016-03-21",
           "69 markland dr,toronto, on,canada,m9c 1n4",
           "1817758 Ontario Ltd"
          ],
          [
           "R56-4536593",
           "2015-05-20",
           "2016-04-07",
           "60 saskatoon dr,toronto, on,canada,m9p 2g2",
           "Heavenly Dreams Ice Cream Inc"
          ],
          [
           "R56-4536594",
           "2015-05-20",
           "2016-04-07",
           "60 saskatoon dr,toronto, on,canada,m9p 2g2",
           "Heavenly Dreams Ice Cream Inc"
          ],
          [
           "R56-4536595",
           "2015-05-20",
           "2016-04-07",
           "60 saskatoon dr,toronto, on,canada,m9p 2g2",
           "Heavenly Dreams Ice Cream Inc"
          ],
          [
           "R56-4536596",
           "2015-05-20",
           "2016-04-07",
           "60 saskatoon dr,toronto, on,canada,m9p 2g2",
           "Heavenly Dreams Ice Cream Inc"
          ],
          [
           "R56-4422722",
           "2014-05-23",
           "2016-07-04",
           "60 saskatoon dr,toronto, on,canada,m9p 2g2",
           "Heavenly Dreams Ice Cream Inc"
          ],
          [
           "R56-4648055",
           "2016-04-07",
           "2017-04-18",
           "60 saskatoon dr,toronto, on,canada,m9p 2g2",
           "Heavenly Dreams Ice Cream Inc"
          ],
          [
           "R56-4648056",
           "2016-04-07",
           "2017-04-18",
           "60 saskatoon dr,toronto, on,canada,m9p 2g2",
           "Heavenly Dreams Ice Cream Inc"
          ],
          [
           "R56-4648057",
           "2016-04-07",
           "2017-04-18",
           "60 saskatoon dr,toronto, on,canada,m9p 2g2",
           "Heavenly Dreams Ice Cream Inc"
          ],
          [
           "R56-4648058",
           "2016-04-07",
           "2017-04-18",
           "60 saskatoon dr,toronto, on,canada,m9p 2g2",
           "Heavenly Dreams Ice Cream Inc"
          ],
          [
           "R56-4648059",
           "2016-04-07",
           "2017-04-18",
           "60 saskatoon dr,toronto, on,canada,m9p 2g2",
           "Heavenly Dreams Ice Cream Inc"
          ],
          [
           "R56-4722281",
           "2017-05-26",
           "2018-04-23",
           "25 richview rd, #1508,toronto, on,canada,m9a 4y3",
           "416 Softee Inc"
          ],
          [
           "R56-4716560",
           "2017-04-18",
           "2018-09-10",
           "60 saskatoon dr,toronto, on,canada,m9p 2g2",
           "Heavenly Dreams Ice Cream Inc"
          ],
          [
           "R56-4716561",
           "2017-04-18",
           "2018-09-10",
           "60 saskatoon dr,toronto, on,canada,m9p 2g2",
           "Heavenly Dreams Ice Cream Inc"
          ],
          [
           "R56-4716562",
           "2017-04-18",
           "2018-09-10",
           "60 saskatoon dr,toronto, on,canada,m9p 2g2",
           "Heavenly Dreams Ice Cream Inc"
          ],
          [
           "R56-4716563",
           "2017-04-18",
           "2018-09-10",
           "60 saskatoon dr,toronto, on,canada,m9p 2g2",
           "Heavenly Dreams Ice Cream Inc"
          ],
          [
           "R56-4716565",
           "2017-04-18",
           "2018-09-10",
           "60 saskatoon dr,toronto, on,canada,m9p 2g2",
           "Heavenly Dreams Ice Cream Inc"
          ],
          [
           "R56-4823077",
           "2018-04-10",
           "2019-01-31",
           "60 saskatoon dr,toronto, on,canada,m9p 2g2",
           "Heavenly Dreams Ice Cream Inc"
          ],
          [
           "R56-4823078",
           "2018-04-10",
           "2019-01-31",
           "60 saskatoon dr,toronto, on,canada,m9p 2g2",
           "Heavenly Dreams Ice Cream Inc"
          ],
          [
           "R56-4823079",
           "2018-04-10",
           "2019-01-31",
           "60 saskatoon dr,toronto, on,canada,m9p 2g2",
           "Heavenly Dreams Ice Cream Inc"
          ],
          [
           "R56-4826198",
           "2018-04-23",
           "2019-01-31",
           "25 richview rd, #1508,toronto, on,canada,m9a 4y3",
           "416 Softee Inc"
          ],
          [
           "R56-4829025",
           "2018-05-04",
           "2019-02-01",
           "60 saskatoon dr,toronto, on,canada,m9p 2g2",
           "Heavenly Dreams Ice Cream Inc"
          ],
          [
           "R56-4830035",
           "2018-05-09",
           "2019-02-01",
           "canada,m9c",
           "Prajza, Joseph"
          ],
          [
           "R56-4927124",
           "2019-04-10",
           "2019-11-13",
           "60 saskatoon dr,toronto, on,canada,m9p 2g2",
           "Heavenly Dreams Ice Cream Inc"
          ],
          [
           "R56-4927125",
           "2019-04-10",
           "2019-11-13",
           "60 saskatoon dr,toronto, on,canada,m9p 2g2",
           "Heavenly Dreams Ice Cream Inc"
          ],
          [
           "R56-4929799",
           "2019-04-18",
           "2019-11-13",
           "25 richview rd, #1508,toronto, on,canada,m9a 4y3",
           "416 Softee Inc"
          ],
          [
           "R56-4931400",
           "2019-04-29",
           "2019-11-13",
           "canada,m9c",
           "Prajza, Joseph"
          ],
          [
           "R56-4931774",
           "2019-04-26",
           "2019-11-13",
           "60 saskatoon dr,toronto, on,canada,m9p 2g2",
           "Heavenly Dreams Ice Cream Inc"
          ],
          [
           "R56-4931775",
           "2019-04-26",
           "2019-11-13",
           "60 saskatoon dr,toronto, on,canada,m9p 2g2",
           "Heavenly Dreams Ice Cream Inc"
          ],
          [
           "R56-4935623",
           "2019-05-09",
           "2019-11-19",
           "25 richview rd, #1508,toronto, on,canada,m9a 4y3",
           "416 Softee Inc"
          ],
          [
           "R56-4950435",
           "2019-07-04",
           "2020-01-14",
           "315 dixon rd, #401,toronto, on,canada,m9r 1s1",
           "Abdurahim,Sami/Salih,Mohammed Alamin"
          ],
          [
           "R56-4922430",
           "2019-03-26",
           "2020-10-14",
           "canada,m9p",
           "Pham, Thinh Thai"
          ],
          [
           "R56-5114552",
           "2021-05-25",
           "2021-11-27",
           "25 richview rd, #1508,toronto, on,canada,m9a 4y3",
           "416 Softee Inc"
          ],
          [
           "R56-5116613",
           "2021-07-05",
           "2022-01-25",
           "25 richview rd, #1508,toronto, on,canada,m9a 4y3",
           "416 Softee Inc"
          ],
          [
           "R56-5211099",
           "2022-06-17",
           "2022-12-22",
           "canada,m9a",
           "Do, Thuoc Van"
          ],
          [
           "R56-5314404",
           "2023-04-12",
           "2024-01-19",
           "canada,m9a",
           "Do, Thuoc Van"
          ]
         ],
         "hovertemplate": "<b>%{hovertext}</b><br><br>AREA_NAME=Etobicoke Centre<br>latitude=%{lat}<br>longitude=%{lon}<br>Licence No.=%{customdata[0]}<br>Issued=%{customdata[1]}<br>Cancel Date=%{customdata[2]}<br>address=%{customdata[3]}<br>Client Name=%{customdata[4]}<extra></extra>",
         "hovertext": [
          null,
          null,
          null,
          null,
          null,
          null,
          null,
          "Vinnys Woodburning Oven Pizza",
          "Dairy Bell",
          "Dairy Bell",
          "Captain Fries",
          null,
          "Gary'S Catering",
          null,
          "Sicilian Lunch Box",
          "Kee'S Fine Foods",
          "Guureeye Ice Cream",
          null,
          null,
          "Heavenly Dreams Ice Cream",
          "Mr Softee",
          "Michele Roberts Services",
          "Kal Mooy",
          "The Urban Asian",
          "No Forks",
          "What A Jerk!",
          "Burger City",
          null,
          "Happy Corner",
          "Purity One Stop (A Taste Of Jamaica)",
          "Ontario Ice Cream",
          "A&S Icecream",
          "Heavenly Dreams Ice Cream Inc",
          "Heavenly Dreams Ice Cream Inc",
          "J J Dairy Cool",
          null,
          "King Of Cones",
          "Heavenly Dreams Ice Cream Inc",
          "Heavenly Dreams Ice Cream",
          "Heavenly Dreams Ice Cream",
          "Mr Softee",
          "416 Softee",
          "Heavenly Dreams Ice Cream",
          "416 Softee Inc",
          "Chinese Gourmet Express",
          "Heavenly Dreams Ice Cream",
          "Heavenly Dreams Ice Cream",
          "Tropical South",
          "Vinnys Woodburning Oven Pizza",
          "Vatra'S Rolling Stoves",
          null,
          null,
          null,
          null,
          null,
          null,
          null,
          null,
          null,
          null,
          null,
          null,
          null,
          null,
          null,
          null,
          null,
          null,
          null,
          null,
          "Jah International",
          "Jah International",
          "Midway Movers",
          null,
          "Island Ting",
          null,
          "The Cuban Thing",
          "Heavenly Dreams Ice Cream",
          "Tourist",
          null,
          null,
          null,
          null,
          null,
          null,
          null,
          null,
          null,
          null,
          null,
          null,
          null,
          null,
          null,
          null,
          null,
          null,
          null,
          null,
          null,
          null,
          null,
          null,
          null,
          null,
          null,
          null,
          null,
          null,
          null,
          null,
          null,
          null,
          null,
          null
         ],
         "lat": [
          43.64208858,
          43.6662914,
          43.62913439,
          43.68716603,
          43.64254993,
          43.68716603,
          43.68716603,
          43.67778602,
          43.69279988,
          43.69279988,
          43.64254993,
          43.69279988,
          43.65244136,
          43.64254993,
          43.64254993,
          43.69279988,
          43.68716603,
          43.68716603,
          43.64254993,
          43.69447208,
          43.64254993,
          43.64254993,
          43.64208858,
          43.6662914,
          43.62913439,
          43.68716603,
          43.64254993,
          43.64254993,
          43.69279988,
          43.68716603,
          43.6607257,
          43.6947315,
          43.69447208,
          43.69447208,
          43.64254993,
          43.64254993,
          43.6662914,
          43.69447208,
          43.69447208,
          43.69447208,
          43.63745351,
          43.68465922,
          43.69447208,
          43.68465922,
          43.68716603,
          43.69447208,
          43.69447208,
          43.64754139,
          43.67778602,
          43.63932708,
          43.68716603,
          43.68716603,
          43.65244136,
          43.64254993,
          43.69279988,
          43.69279988,
          43.65244136,
          43.69279988,
          43.69279988,
          43.68716603,
          43.68716603,
          43.65244136,
          43.64254993,
          43.6662914,
          43.65244136,
          43.64254993,
          43.68716603,
          43.68716603,
          43.65244136,
          43.6662914,
          43.64254993,
          43.64254993,
          43.64732228,
          43.65244136,
          43.68716603,
          43.65244136,
          43.64754139,
          43.69447208,
          43.65244136,
          43.63745351,
          43.69447208,
          43.69447208,
          43.69447208,
          43.69447208,
          43.69447208,
          43.69447208,
          43.69447208,
          43.69447208,
          43.69447208,
          43.69447208,
          43.68465922,
          43.69447208,
          43.69447208,
          43.69447208,
          43.69447208,
          43.69447208,
          43.69447208,
          43.69447208,
          43.69447208,
          43.68465922,
          43.69447208,
          43.64254993,
          43.69447208,
          43.69447208,
          43.68465922,
          43.64254993,
          43.69447208,
          43.69447208,
          43.68465922,
          43.6947315,
          43.69279988,
          43.68465922,
          43.68465922,
          43.6662914,
          43.6662914
         ],
         "legendgroup": "Etobicoke Centre",
         "lon": [
          -79.54349176,
          -79.52844798,
          -79.57875057,
          -79.55863592,
          -79.5762856,
          -79.55863592,
          -79.55863592,
          -79.5500988,
          -79.53289089,
          -79.53289089,
          -79.5762856,
          -79.53289089,
          -79.55378502,
          -79.5762856,
          -79.5762856,
          -79.53289089,
          -79.55863592,
          -79.55863592,
          -79.5762856,
          -79.54027696,
          -79.5762856,
          -79.5762856,
          -79.54349176,
          -79.52844798,
          -79.57875057,
          -79.55863592,
          -79.5762856,
          -79.5762856,
          -79.53289089,
          -79.55863592,
          -79.57600801,
          -79.55470909,
          -79.54027696,
          -79.54027696,
          -79.5762856,
          -79.5762856,
          -79.52844798,
          -79.54027696,
          -79.54027696,
          -79.54027696,
          -79.57544852,
          -79.51396743,
          -79.54027696,
          -79.51396743,
          -79.55863592,
          -79.54027696,
          -79.54027696,
          -79.55550764,
          -79.5500988,
          -79.55002981,
          -79.55863592,
          -79.55863592,
          -79.55378502,
          -79.5762856,
          -79.53289089,
          -79.53289089,
          -79.55378502,
          -79.53289089,
          -79.53289089,
          -79.55863592,
          -79.55863592,
          -79.55378502,
          -79.5762856,
          -79.52844798,
          -79.55378502,
          -79.5762856,
          -79.55863592,
          -79.55863592,
          -79.55378502,
          -79.52844798,
          -79.5762856,
          -79.5762856,
          -79.57984047,
          -79.55378502,
          -79.55863592,
          -79.55378502,
          -79.55550764,
          -79.54027696,
          -79.55378502,
          -79.57544852,
          -79.54027696,
          -79.54027696,
          -79.54027696,
          -79.54027696,
          -79.54027696,
          -79.54027696,
          -79.54027696,
          -79.54027696,
          -79.54027696,
          -79.54027696,
          -79.51396743,
          -79.54027696,
          -79.54027696,
          -79.54027696,
          -79.54027696,
          -79.54027696,
          -79.54027696,
          -79.54027696,
          -79.54027696,
          -79.51396743,
          -79.54027696,
          -79.5762856,
          -79.54027696,
          -79.54027696,
          -79.51396743,
          -79.5762856,
          -79.54027696,
          -79.54027696,
          -79.51396743,
          -79.55470909,
          -79.53289089,
          -79.51396743,
          -79.51396743,
          -79.52844798,
          -79.52844798
         ],
         "marker": {
          "color": "#EF553B"
         },
         "mode": "markers",
         "name": "Etobicoke Centre",
         "showlegend": true,
         "subplot": "mapbox",
         "type": "scattermapbox"
        },
        {
         "customdata": [
          [
           "R54-4423906",
           "2014-06-19",
           "2016-09-19",
           "100 front st e,toronto, on,canada,m5a 1e1",
           "B Good Canada Ulc"
          ],
          [
           "R54-4648664",
           "2016-04-21",
           "2017-10-10",
           "canada,m4x",
           "Kim, Kiwon"
          ],
          [
           "R54-4723580",
           "2017-06-05",
           "2018-07-21",
           "canada,m4x",
           "Kim, Kiwon"
          ],
          [
           "R54-5222826",
           "2022-08-17",
           "2023-08-24",
           "181 dundas st e, #3811,toronto, on,canada,m5a 0n5",
           "Quickie Pastry Inc"
          ],
          [
           "R54-5358718",
           "2023-11-01",
           null,
           "666 ontario st, #1515,toronto, on,canada,m4x 1n1",
           "13114694 Canada Inc"
          ],
          [
           "V15-3254328",
           "2003-01-21",
           "2003-03-31",
           "canada,m4x",
           "Stott, Tavis J"
          ],
          [
           "V15-0010544",
           "1983-05-27",
           "2011-05-19",
           "canada,m4y",
           "Mcintosh, Robert Dale"
          ],
          [
           "V15-4419329",
           "2014-03-14",
           "2015-06-14",
           "500 sherbourne st, #1801,toronto, on,canada,m4x 1l1",
           "2216312 Ontario Ltd"
          ],
          [
           "V15-4648103",
           "2016-04-20",
           "2018-07-21",
           "canada,m4x",
           "Kim, Kiwon"
          ],
          [
           "V15-4908289",
           "2019-02-28",
           "2021-04-12",
           "91 front st e,toronto, on,canada,m5e 1c4",
           "2661386 Ontario Inc"
          ],
          [
           "V15-4686859",
           "2016-12-06",
           "2021-05-12",
           "34 river st,toronto, on,canada,m5a 3n9",
           "Chester Copperpot Holdings Inc"
          ],
          [
           "V15-4948702",
           "2019-06-27",
           "2021-11-25",
           "50 richmond st e, #200,toronto, on,canada,m5c 1n7",
           "El Bosco Inc"
          ],
          [
           "V15-4991240",
           "2019-12-06",
           "2022-05-06",
           "101 charles st e, #2605,toronto, on,canada,m4y 0a9",
           "Lyst Inc"
          ],
          [
           "V15-5221936",
           "2022-08-11",
           "2023-11-09",
           "181 dundas st e, #3811,toronto, on,canada,m5a 0n5",
           "Quickie Pastry Inc"
          ],
          [
           "V15-5330293",
           "2023-06-09",
           null,
           "455 front st e, s219,toronto, on,canada,m5a 0g2",
           "Feasto Foods Inc"
          ],
          [
           "V15-5355265",
           "2023-09-20",
           null,
           "666 ontario st, #1515,toronto, on,canada,m4x 1n1",
           "13114694 Canada Inc"
          ],
          [
           "V27-2020291",
           "1995-01-23",
           "2003-03-31",
           "canada,m4x",
           "Kayhan, Sezai"
          ],
          [
           "V27-2020647",
           "1995-04-01",
           "2003-03-31",
           "canada,m5a",
           "Nafary-Nejad Khalsi, Fatemeh"
          ],
          [
           "V27-3097491",
           "1999-05-06",
           "2003-03-31",
           "canada,m4x",
           "Parvazi, Ghorban-Ali"
          ],
          [
           "V27-3108178",
           "2000-05-01",
           "2003-03-31",
           "canada,m4x",
           "Kiani, Ebrahim"
          ],
          [
           "V27-3127042",
           "2001-08-17",
           "2003-03-31",
           "canada,m5a",
           "Monir, Jahed"
          ],
          [
           "V27-3237945",
           "2002-01-21",
           "2003-03-31",
           "canada,m5a",
           "Hendou, Hossein"
          ],
          [
           "V27-3241580",
           "2002-04-01",
           "2003-03-31",
           "canada,m5a",
           "Quirk, Joseph"
          ],
          [
           "V27-3243541",
           "2002-05-01",
           "2003-03-31",
           "canada,m4x",
           "Ghini, Raul Antelo"
          ],
          [
           "V27-3107408",
           "2000-04-12",
           "2005-03-30",
           "canada,m4x",
           "Marinova, Daniela A"
          ],
          [
           "V27-3242449",
           "2002-05-23",
           "2005-04-02",
           "canada,m5a",
           "Md, Abul Kalam Azad"
          ],
          [
           "V27-3243449",
           "2002-05-31",
           "2005-04-02",
           "canada,m5b",
           "Gun, Sezai"
          ],
          [
           "V27-3361208",
           "2003-06-13",
           "2005-04-02",
           "canada,m4y",
           "Morin, Cindy"
          ],
          [
           "V27-3355732",
           "2003-04-01",
           "2005-07-01",
           "canada,m5a",
           "Cao, Yong"
          ],
          [
           "V27-3363635",
           "2003-07-03",
           "2005-07-01",
           "canada,m5a",
           "Qoshja, Gezim"
          ],
          [
           "V27-3479811",
           "2004-06-24",
           "2005-07-01",
           "canada,m4y",
           "Illes, Ferenc"
          ],
          [
           "V27-3484224",
           "2004-09-28",
           "2005-12-29",
           "canada,m5a",
           "Monir, Jahed"
          ],
          [
           "V27-3012873",
           "1997-12-03",
           "2006-06-08",
           "canada,m5a",
           "Medina Ravelo, Marisabel"
          ],
          [
           "V27-3594969",
           "2005-08-05",
           "2006-11-05",
           "591 sherbourne st, main,toronto, on,canada,m4x 1k7",
           "1640423 Ontario Inc"
          ],
          [
           "V27-3133074",
           "2001-11-08",
           "2007-05-16",
           "canada,m5a",
           "Talukder, S M Mamun"
          ],
          [
           "V27-3599546",
           "2005-11-22",
           "2008-02-22",
           "canada,m4x",
           "Bavington, David Mark"
          ],
          [
           "V27-3095070",
           "1999-04-01",
           "2008-04-08",
           "canada,m4y",
           "Tiholova, Neli Arsova"
          ],
          [
           "V27-3110664",
           "2000-06-22",
           "2009-09-22",
           "canada,m4y",
           "Khazaineh, Yahya Arab"
          ],
          [
           "V27-2020482",
           "1995-02-08",
           "2011-05-11",
           "canada,m5a",
           "Jabbar, Fereidoun"
          ],
          [
           "V27-3951849",
           "2009-05-26",
           "2011-12-14",
           "canada,m4y",
           "Ashtarieh, Issa"
          ],
          [
           "V27-4183510",
           "2011-07-20",
           "2012-10-20",
           "231 mutual st,toronto, on,canada,m5b 2b4",
           "Oasis Aqualounge Ltd"
          ],
          [
           "V27-3955178",
           "2009-09-23",
           "2012-11-20",
           "380 victoria st,toronto, on,canada,m5b 1w7",
           "Toronto Metropolitan University"
          ],
          [
           "V27-4076443",
           "2010-12-31",
           "2013-04-02",
           "canada,m5a",
           "Jabbar, Majid"
          ],
          [
           "V27-3129266",
           "2001-08-08",
           "2013-11-08",
           "canada,m4y",
           "Jovanov, Milanco"
          ],
          [
           "V27-4298751",
           "2012-08-10",
           "2013-11-10",
           "canada,m4y",
           "Ashtarieh, Issa"
          ],
          [
           "V27-4306844",
           "2013-04-04",
           "2014-07-05",
           "canada,m5a",
           "Jabbar, Fereidoun"
          ],
          [
           "V27-4309841",
           "2013-07-03",
           "2014-10-03",
           "canada,m5b",
           "Harris, David C"
          ],
          [
           "V27-4295110",
           "2012-10-15",
           "2015-01-15",
           "500 sherbourne st, #1801,toronto, on,canada,m4x 1l1",
           "2216312 Ontario Ltd"
          ],
          [
           "V27-4421805",
           "2014-06-26",
           "2015-08-26",
           "510 king st e,toronto, on,canada,m5a 0e5",
           "1915563 Ontario Inc"
          ],
          [
           "V27-3111844",
           "2000-08-24",
           "2015-11-24",
           "canada,m5a",
           "Calinoiu, Gheorghe"
          ],
          [
           "V27-4420042",
           "2014-04-15",
           "2016-07-16",
           "canada,m5a",
           "Jabbar, Majid"
          ],
          [
           "V27-3083984",
           "1998-05-07",
           "2016-08-07",
           "canada,m4y",
           "Tiholov, Stefan"
          ],
          [
           "V27-4536617",
           "2015-06-15",
           "2016-09-15",
           "365 bay st,toronto, on,canada,m5h 2v1",
           "The Duke Brothers Corp"
          ],
          [
           "V27-4418652",
           "2014-03-12",
           "2017-06-12",
           "canada,m4y",
           "Ashtarieh, Issa"
          ],
          [
           "V27-4648702",
           "2016-04-27",
           "2018-07-28",
           "canada,m5a",
           "Jabbar, Fereidoun"
          ],
          [
           "V27-4649419",
           "2016-05-13",
           "2018-08-13",
           "canada,m4x",
           "Mahamat, Youssouf Ali"
          ],
          [
           "V27-5116366",
           "2021-06-17",
           "2022-09-15",
           "canada,m5c",
           "Hamid, Majid"
          ],
          [
           "V27-4811043",
           "2018-07-06",
           "2022-10-05",
           "335 yonge st,toronto, on,canada,m5b 1r7",
           "2395925 Ontario Inc"
          ],
          [
           "V27-2012207",
           "1993-02-25",
           null,
           "canada,m4y",
           "Khazaineh, Yahya Arab"
          ]
         ],
         "hovertemplate": "<b>%{hovertext}</b><br><br>AREA_NAME=Toronto Centre<br>latitude=%{lat}<br>longitude=%{lon}<br>Licence No.=%{customdata[0]}<br>Issued=%{customdata[1]}<br>Cancel Date=%{customdata[2]}<br>address=%{customdata[3]}<br>Client Name=%{customdata[4]}<extra></extra>",
         "hovertext": [
          null,
          null,
          null,
          null,
          "Sams Grill N Thrill",
          "Dim Sum On Wheels",
          null,
          "Coffee Stop",
          "Sushitto On The Road",
          "Johnny Briskets",
          "The Poutine Supreme",
          "El Bosco Catering",
          "Don Tito'S",
          "Quickie Pastry",
          "Feasto Foods Inc",
          "Sams Grill N Thrill",
          null,
          null,
          null,
          null,
          null,
          null,
          null,
          null,
          null,
          null,
          null,
          null,
          null,
          null,
          null,
          null,
          null,
          "Handy Variety",
          null,
          null,
          null,
          null,
          null,
          "Toronto A La Cart",
          "Oasis Aqualounge",
          "Ryerson University",
          null,
          null,
          null,
          null,
          "Imperial Ice Cream Toronto",
          "Coffee Stop",
          null,
          null,
          null,
          null,
          "The Duke Brothers",
          null,
          "F Jabbar",
          "Youssouf M",
          "Eats On East Desi Fusion Kitchen",
          "Steak & Cheese Factory + Quick Pita",
          null
         ],
         "lat": [
          43.64985182,
          43.66824618,
          43.66824618,
          43.65696902,
          43.6694811,
          43.66824618,
          43.66646083,
          43.66798481,
          43.66824618,
          43.64901899,
          43.65826729,
          43.65243529,
          43.66964271,
          43.65696902,
          43.65269299,
          43.6694811,
          43.66824618,
          43.65520104,
          43.66824618,
          43.66824618,
          43.65520104,
          43.65520104,
          43.65520104,
          43.66824618,
          43.66824618,
          43.65520104,
          43.65769384,
          43.66646083,
          43.65520104,
          43.65520104,
          43.66646083,
          43.65520104,
          43.65520104,
          43.670902,
          43.65520104,
          43.66824618,
          43.66646083,
          43.66646083,
          43.65520104,
          43.66646083,
          43.66191731,
          43.65843698,
          43.65520104,
          43.66646083,
          43.66646083,
          43.65520104,
          43.65769384,
          43.66798481,
          43.65655122,
          43.65520104,
          43.65520104,
          43.66646083,
          43.6510032,
          43.66646083,
          43.65520104,
          43.66824618,
          43.65143463,
          43.65734679,
          43.66646083
         ],
         "legendgroup": "Toronto Centre",
         "lon": [
          -79.37114407,
          -79.36817815,
          -79.36817815,
          -79.37412216,
          -79.37329177,
          -79.36817815,
          -79.38135579,
          -79.37557617,
          -79.36817815,
          -79.37188763,
          -79.35717479,
          -79.37683304,
          -79.38055469,
          -79.37412216,
          -79.35653509,
          -79.37329177,
          -79.36817815,
          -79.3630158,
          -79.36817815,
          -79.36817815,
          -79.3630158,
          -79.3630158,
          -79.3630158,
          -79.36817815,
          -79.36817815,
          -79.3630158,
          -79.37835216,
          -79.38135579,
          -79.3630158,
          -79.3630158,
          -79.38135579,
          -79.3630158,
          -79.3630158,
          -79.37601706,
          -79.3630158,
          -79.36817815,
          -79.38135579,
          -79.38135579,
          -79.3630158,
          -79.38135579,
          -79.37759898,
          -79.38081972,
          -79.3630158,
          -79.38135579,
          -79.38135579,
          -79.3630158,
          -79.37835216,
          -79.37557617,
          -79.35748392,
          -79.3630158,
          -79.3630158,
          -79.38135579,
          -79.38092542,
          -79.38135579,
          -79.3630158,
          -79.36817815,
          -79.37565849,
          -79.38097068,
          -79.38135579
         ],
         "marker": {
          "color": "#00cc96"
         },
         "mode": "markers",
         "name": "Toronto Centre",
         "showlegend": true,
         "subplot": "mapbox",
         "type": "scattermapbox"
        },
        {
         "customdata": [
          [
           "R54-4424284",
           "2014-06-27",
           "2016-10-12",
           "157 ashdale ave,toronto, on,canada,m4l 2y8",
           "Shahzor Ice Cream Inc"
          ],
          [
           "R54-4536668",
           "2015-05-19",
           "2016-11-14",
           "157 ashdale ave,toronto, on,canada,m4l 2y8",
           "Flash Trans Inc"
          ],
          [
           "R54-4648537",
           "2016-04-19",
           "2017-04-18",
           "94 boultbee ave,toronto, on,canada,m4j 1b3",
           "Feasto Foods Inc"
          ],
          [
           "R54-4650920",
           "2016-06-01",
           "2017-08-24",
           "canada,m4j",
           "Lee, Ming Hua"
          ],
          [
           "R54-4422352",
           "2014-05-15",
           "2017-10-10",
           "canada,m4j",
           "Lee, Ming Hua"
          ],
          [
           "R54-4716573",
           "2017-04-18",
           "2018-05-14",
           "94 boultbee ave,toronto, on,canada,m4j 1b3",
           "Feasto Foods Inc"
          ],
          [
           "R54-4831151",
           "2018-05-14",
           "2019-01-31",
           "94 boultbee ave,toronto, on,canada,m4j 1b3",
           "Feasto Foods Inc"
          ],
          [
           "R54-4935705",
           "2019-05-10",
           "2019-11-19",
           "94 boultbee ave,toronto, on,canada,m4j 1b3",
           "Feasto Foods Inc"
          ],
          [
           "R54-5343871",
           "2023-07-27",
           null,
           "908 queen st e,toronto, on,canada,m4m 1j5",
           "Craig'S Cookies Inc"
          ],
          [
           "V15-3103806",
           "1999-12-23",
           "2003-02-07",
           "canada,m4j",
           "Sharma, Vinod Kumar"
          ],
          [
           "V15-2000157",
           "1990-03-29",
           "2003-03-27",
           "58 hamilton st,toronto, on,canada,m4m 2c8",
           "Chao,Ju-Chih/Fung,Siu-Tong"
          ],
          [
           "V15-2015883",
           "1993-11-12",
           "2003-03-31",
           "canada,m4j",
           "Liakopoulos, Ioannis"
          ],
          [
           "V15-3244748",
           "2002-05-16",
           "2004-07-30",
           "1176 danforth ave,toronto, on,canada,m4j 1m3",
           "1487330 Ontario Inc"
          ],
          [
           "V15-3360541",
           "2003-05-01",
           "2004-07-30",
           "1176 danforth ave,toronto, on,canada,m4j 1m3",
           "1487330 Ontario Inc"
          ],
          [
           "V15-3113668",
           "2000-12-01",
           "2005-04-02",
           "canada,m4j",
           "Khalili, Atalla"
          ],
          [
           "V15-2017248",
           "1994-04-07",
           "2005-07-01",
           "455 pape ave,toronto, on,canada,m4k 3p6",
           "Waffle World Inc"
          ],
          [
           "V15-3359914",
           "2003-05-01",
           "2005-07-01",
           "112 cadorna ave,toronto, on,canada,m4j 3x2",
           "J J Elas Inc"
          ],
          [
           "V15-3096426",
           "1999-04-15",
           "2010-07-16",
           "canada,m4j",
           "Soultanis, Andrea"
          ],
          [
           "V15-3723720",
           "2007-05-03",
           "2010-08-03",
           "canada,m4m",
           "Psavka, Boris"
          ],
          [
           "V15-3101335",
           "1999-09-03",
           "2010-12-04",
           "canada,m4j",
           "Khalili, Khalil Atalla"
          ],
          [
           "V15-3960313",
           "2009-11-24",
           "2015-02-24",
           "253 hiawatha rd,toronto, on,canada,m4l 2y3",
           "1796381 Ontario Ltd"
          ],
          [
           "V15-4424260",
           "2014-06-27",
           "2016-09-27",
           "201 carlaw ave, #302,toronto, on,canada,m4m 2s3",
           "The Shaved Ice Company Ltd"
          ],
          [
           "V15-4182887",
           "2011-06-15",
           "2016-10-12",
           "157 ashdale ave,toronto, on,canada,m4l 2y8",
           "Shahzor Ice Cream Inc"
          ],
          [
           "V15-3726590",
           "2007-07-27",
           "2016-11-14",
           "157 ashdale ave,toronto, on,canada,m4l 2y8",
           "Flash Trans Inc"
          ],
          [
           "V15-1001195",
           "1989-02-13",
           "2017-05-16",
           "canada,m4m",
           "Ho, Kim-Wan Ken"
          ],
          [
           "V15-3110696",
           "2000-07-04",
           "2017-08-24",
           "canada,m4j",
           "Lee, Ming Hua"
          ],
          [
           "V15-3591845",
           "2005-04-12",
           "2018-07-13",
           "1176 danforth ave,toronto, on,canada,m4j 1m3",
           "1487330 Ontario Inc"
          ],
          [
           "V15-3591851",
           "2005-04-12",
           "2018-07-13",
           "1176 danforth ave,toronto, on,canada,m4j 1m3",
           "1487330 Ontario Inc"
          ],
          [
           "V15-3360540",
           "2003-04-30",
           "2018-07-31",
           "1176 danforth ave,toronto, on,canada,m4j 1m3",
           "1487330 Ontario Inc"
          ],
          [
           "V15-3360543",
           "2003-04-30",
           "2018-07-31",
           "1176 danforth ave,toronto, on,canada,m4j 1m3",
           "1487330 Ontario Inc"
          ],
          [
           "V15-4423087",
           "2014-06-25",
           "2018-09-25",
           "165 monarch park ave,toronto, on,canada,m4j 4r7",
           "1911656 Ontario Inc"
          ],
          [
           "V15-3592251",
           "2005-04-12",
           "2020-11-03",
           "canada,m4j",
           "Tsialafos, Ioannis"
          ],
          [
           "V15-4935168",
           "2019-05-08",
           "2021-10-06",
           "canada,m4k",
           "Cetin, Tarik"
          ],
          [
           "V15-4535433",
           "2015-04-28",
           "2022-07-28",
           "94 boultbee ave,toronto, on,canada,m4j 1b3",
           "Feasto Foods Inc"
          ],
          [
           "V15-0012771",
           "1984-07-26",
           null,
           "canada,m4m",
           "Restituto, Juan Manuel"
          ],
          [
           "V15-3004643",
           "1997-05-01",
           null,
           "canada,m4j",
           "Mastoris, Spiro"
          ],
          [
           "V15-5113728",
           "2021-05-12",
           null,
           "14 cadorna ave,toronto, on,canada,m4j 3w8",
           "Follow The Star Ltd"
          ],
          [
           "V15-5304564",
           "2023-03-10",
           null,
           "908 queen st e,toronto, on,canada,m4m 1j5",
           "Craig'S Cookies Inc"
          ],
          [
           "V27-3010569",
           "1997-09-22",
           "2003-03-31",
           "canada,m4k",
           "Mansouri, Farideh"
          ],
          [
           "V27-3125528",
           "2001-09-17",
           "2005-03-07",
           "14 cadorna ave,toronto, on,canada,m4j 3w8",
           "Follow The Star Ltd"
          ],
          [
           "V27-3107034",
           "2000-04-01",
           "2005-04-02",
           "canada,m4k",
           "Gueorguiev, Gueorgui"
          ],
          [
           "V27-3241459",
           "2002-04-23",
           "2005-04-02",
           "canada,m4j",
           "Panayotov, Nikolay"
          ],
          [
           "V27-3249474",
           "2002-08-19",
           "2005-04-02",
           "canada,m4j",
           "Marinova, Fanka"
          ],
          [
           "V27-3106118",
           "2000-04-01",
           "2005-07-01",
           "canada,m4k",
           "Vassilev, Stoitcho"
          ],
          [
           "V27-3474842",
           "2004-04-02",
           "2005-07-01",
           "canada,m4k",
           "Nika, Mihal"
          ],
          [
           "V27-3127928",
           "2001-07-13",
           "2005-10-13",
           "canada,m4m",
           "Jamshidy Dolat Abadi, Eshagh"
          ],
          [
           "V27-3009613",
           "1997-07-30",
           "2005-10-30",
           "canada,m4k",
           "Ivanov, Stoyan"
          ],
          [
           "V27-3083761",
           "1998-05-05",
           "2006-08-05",
           "canada,m4j",
           "Dimitropoulos, Mary"
          ],
          [
           "V27-3124651",
           "2001-06-21",
           "2007-01-11",
           "canada,m4m",
           "Jamshidy Dolat Abadi, Eshagh"
          ],
          [
           "V27-3597934",
           "2005-10-11",
           "2007-01-11",
           "canada,m4j",
           "Manasra, Adnan M"
          ],
          [
           "V27-3605953",
           "2006-03-08",
           "2007-06-08",
           "498 jones ave,toronto, on,canada,m4j 3g3",
           "Dar,Munir Ahmed/Dar,Riffat Munir"
          ],
          [
           "V27-0018844",
           "1988-03-25",
           "2007-06-25",
           "canada,m4k",
           "Catsiliras, Athanasios"
          ],
          [
           "V27-0018851",
           "1988-03-25",
           "2007-06-25",
           "canada,m4k",
           "Catsiliras, Athanasios"
          ],
          [
           "V27-1001534",
           "1989-03-29",
           "2007-06-29",
           "canada,m4k",
           "Catsiliras, Panagiota"
          ],
          [
           "V27-2020669",
           "1995-04-01",
           "2007-07-02",
           "canada,m4m",
           "Bangipour, Haiedeh"
          ],
          [
           "V27-1004421",
           "1989-11-14",
           "2008-02-14",
           "canada,m4j",
           "Psarologos, Konstantinos"
          ],
          [
           "V27-2006975",
           "1991-11-26",
           "2008-02-26",
           "canada,m4j",
           "Dimitropoulos, Vassilios"
          ],
          [
           "V27-3721066",
           "2007-05-08",
           "2008-08-08",
           "canada,m4m",
           "Dowson, Richard"
          ],
          [
           "V27-3725038",
           "2007-07-04",
           "2008-10-04",
           "canada,m4m",
           "Jamshidy Dolat Abadi, Eshagh"
          ],
          [
           "V27-3595638",
           "2005-07-15",
           "2009-08-12",
           "canada,m4k",
           "Huseynov, Nizami"
          ],
          [
           "V27-3836799",
           "2008-06-02",
           "2009-09-02",
           "canada,m4j",
           "Soultanis, Andrea"
          ],
          [
           "V27-3106769",
           "2000-06-07",
           "2009-09-07",
           "canada,m4k",
           "Kovatchev, Stanka"
          ],
          [
           "V27-3953414",
           "2009-05-27",
           "2010-08-27",
           "canada,m4j",
           "Moutsanas, Athanasios"
          ],
          [
           "V27-3103187",
           "1999-12-21",
           "2010-10-20",
           "canada,m4k",
           "Mantis, Vicky"
          ],
          [
           "V27-2026609",
           "1996-10-21",
           "2011-01-21",
           "canada,m4k",
           "Mantis, Nanci"
          ],
          [
           "V27-3243146",
           "2002-05-13",
           "2012-08-13",
           "canada,m4k",
           "Petrov, Velichka Georgieva"
          ],
          [
           "V27-4308937",
           "2013-06-06",
           "2014-09-06",
           "canada,m4k",
           "De Clippeleir, Kevin"
          ],
          [
           "V27-4297360",
           "2012-07-27",
           "2014-10-27",
           "canada,m4j",
           "Dimitropoulos, Andre"
          ],
          [
           "V27-3485172",
           "2004-11-30",
           "2015-03-31",
           "14 cadorna ave,toronto, on,canada,m4j 3w8",
           "Follow The Star Ltd"
          ],
          [
           "V27-3837654",
           "2008-05-21",
           "2015-08-21",
           "canada,m4j",
           "Dimitropoulos, Vassilios"
          ],
          [
           "V27-4421973",
           "2014-07-02",
           "2015-10-02",
           "canada,m4k",
           "Skelly, William Adamson"
          ],
          [
           "V27-4071168",
           "2010-07-29",
           "2015-10-06",
           "1209 queen st e, #34,toronto, on,canada,m4m 3h4",
           "Dog'S King Corp"
          ],
          [
           "V27-3084466",
           "1998-06-03",
           "2016-09-03",
           "canada,m4k",
           "Robertson, David Hugh"
          ],
          [
           "V27-4538647",
           "2015-07-10",
           "2016-10-10",
           "canada,m4k",
           "Alcantara Moreno, Luis"
          ],
          [
           "V27-3123944",
           "2001-07-25",
           "2016-10-25",
           "canada,m4k",
           "Luciano, Emilia Vassileva"
          ],
          [
           "V27-3728501",
           "2007-11-06",
           "2017-02-06",
           "canada,m4k",
           "Catsiliras, Ekaterine"
          ],
          [
           "V27-4536219",
           "2015-05-15",
           "2017-03-21",
           "14 cadorna ave,toronto, on,canada,m4j 3w8",
           "Follow The Star Ltd"
          ],
          [
           "V27-4650924",
           "2016-06-21",
           "2017-09-21",
           "canada,m4k",
           "Phillips, Peter Nathaniel Pineau"
          ],
          [
           "V27-2017030",
           "1994-03-16",
           "2018-06-16",
           "canada,m4k",
           "Vatchourov, Marko Dontchev"
          ],
          [
           "V27-4535645",
           "2015-05-07",
           "2018-08-07",
           "59 langley ave,toronto, on,canada,m4k 1b4",
           "Be Good Gelato Inc"
          ],
          [
           "V27-4886623",
           "2019-01-11",
           "2019-05-06",
           "canada,m4m",
           "Nazari, Noor Ali"
          ],
          [
           "V27-3125525",
           "2001-07-09",
           "2019-10-09",
           "14 cadorna ave,toronto, on,canada,m4j 3w8",
           "Follow The Star Ltd"
          ],
          [
           "V27-3010346",
           "1997-10-29",
           "2020-01-29",
           "14 cadorna ave,toronto, on,canada,m4j 3w8",
           "Follow The Star Ltd"
          ],
          [
           "V27-0020048",
           "1988-06-27",
           "2020-11-03",
           "canada,m4j",
           "Catsiliras, Ioanna"
          ],
          [
           "V27-3084467",
           "1998-06-16",
           "2020-11-03",
           "canada,m4k",
           "Hou, Teddy Chun-I"
          ],
          [
           "V27-4180468",
           "2011-06-01",
           "2021-10-30",
           "14 cadorna ave,toronto, on,canada,m4j 3w8",
           "2257029 Ontario Inc"
          ],
          [
           "V27-4075295",
           "2010-11-24",
           "2022-06-28",
           "canada,m4k",
           "Mantis, Vicky"
          ],
          [
           "V27-3084465",
           "1998-06-03",
           "2023-02-10",
           "canada,m4k",
           "Schooley, David Ronald"
          ],
          [
           "V27-3130129",
           "2001-09-06",
           "2023-06-20",
           "canada,m4k",
           "Mantis, Nanci"
          ],
          [
           "V27-5233581",
           "2022-10-27",
           "2024-01-25",
           "1355 gerrard st e,toronto, on,canada,m4l 1y8",
           "Amsterdam Fries Ltd"
          ],
          [
           "V27-0020394",
           "1988-09-19",
           null,
           "canada,m4k",
           "Catsiliras, Panagiota"
          ],
          [
           "V27-2011467",
           "1992-12-10",
           null,
           "canada,m4j",
           "Catsiliras, Loucas"
          ],
          [
           "V27-2013480",
           "1993-05-17",
           null,
           "canada,m4k",
           "Pachova, Tihomira"
          ],
          [
           "V27-3080306",
           "1998-04-01",
           null,
           "canada,m4k",
           "Vatchourov, Milka"
          ],
          [
           "V27-4304355",
           "2013-02-13",
           null,
           "canada,m4k",
           "Marjanovic, Sinisa"
          ],
          [
           "V27-5214459",
           "2022-06-30",
           null,
           "61 fairview blvd,toronto, on,canada,m4k 1l8",
           "2847858 Ontario Inc"
          ],
          [
           "V27-5307671",
           "2023-02-13",
           null,
           "61 fairview blvd,toronto, on,canada,m4k 1l8",
           "1000404567 Ontario Inc"
          ],
          [
           "V27-5330480",
           "2023-06-20",
           null,
           "61 fairview blvd,toronto, on,canada,m4k 1l8",
           "1794479 Ontario Inc"
          ],
          [
           "V27-5338382",
           "2023-07-20",
           null,
           "393 woodfield rd,toronto, on,canada,m4l 2x2",
           "Good Behaviour Ice Cream Inc"
          ],
          [
           "R56-4422349",
           "2014-05-15",
           "2016-03-21",
           "1176 danforth ave,toronto, on,canada,m4j 1m3",
           "1487330 Ontario Inc"
          ],
          [
           "R56-4426131",
           "2014-08-11",
           "2016-04-18",
           "canada,m4j",
           "Tsialafos, Ioannis"
          ],
          [
           "R56-4422374",
           "2014-05-15",
           "2016-04-26",
           "canada,m4j",
           "Mastoris, Spiro"
          ],
          [
           "R56-4424301",
           "2014-06-27",
           "2016-09-27",
           "201 carlaw ave, #302,toronto, on,canada,m4m 2s3",
           "The Shaved Ice Company Ltd"
          ],
          [
           "R56-4423659",
           "2014-06-13",
           "2016-10-12",
           "157 ashdale ave,toronto, on,canada,m4l 2y8",
           "Shahzor Ice Cream Inc"
          ],
          [
           "R56-4422562",
           "2014-05-21",
           "2016-11-14",
           "157 ashdale ave,toronto, on,canada,m4l 2y8",
           "Flash Trans Inc"
          ],
          [
           "R56-4648441",
           "2016-04-18",
           "2017-04-05",
           "canada,m4j",
           "Tsialafos, Ioannis"
          ],
          [
           "R56-4648872",
           "2016-04-26",
           "2017-04-27",
           "canada,m4j",
           "Mastoris, Spiro"
          ],
          [
           "R56-4422354",
           "2014-05-15",
           "2017-08-24",
           "canada,m4j",
           "Lee, Ming Hua"
          ],
          [
           "R56-4717977",
           "2017-04-27",
           "2018-05-03",
           "canada,m4j",
           "Mastoris, Spiro"
          ],
          [
           "R56-4715204",
           "2017-04-05",
           "2018-09-10",
           "canada,m4j",
           "Tsialafos, Ioannis"
          ],
          [
           "R56-4825648",
           "2018-04-20",
           "2019-01-31",
           "canada,m4j",
           "Tsialafos, Ioannis"
          ],
          [
           "R56-4828444",
           "2018-05-03",
           "2019-02-01",
           "canada,m4j",
           "Mastoris, Spiro"
          ],
          [
           "R56-4931797",
           "2019-04-26",
           "2019-11-13",
           "canada,m4j",
           "Mastoris, Spiro"
          ],
          [
           "R56-4929493",
           "2019-05-06",
           "2019-11-14",
           "canada,m4j",
           "Tsialafos, Ioannis"
          ],
          [
           "R56-5111692",
           "2021-05-04",
           "2021-11-06",
           "canada,m4j",
           "Mastoris, Spiro"
          ],
          [
           "R56-5203015",
           "2022-04-25",
           "2022-10-28",
           "canada,m4j",
           "Mastoris, Spiro"
          ],
          [
           "R56-5319578",
           "2023-04-26",
           "2023-10-25",
           "canada,m4j",
           "Mastoris, Spiro"
          ]
         ],
         "hovertemplate": "<b>%{hovertext}</b><br><br>AREA_NAME=Toronto-Danforth<br>latitude=%{lat}<br>longitude=%{lon}<br>Licence No.=%{customdata[0]}<br>Issued=%{customdata[1]}<br>Cancel Date=%{customdata[2]}<br>address=%{customdata[3]}<br>Client Name=%{customdata[4]}<extra></extra>",
         "hovertext": [
          null,
          null,
          null,
          null,
          null,
          null,
          null,
          null,
          "Craig'S Cookies",
          null,
          "Yummy Yummy Kitchen",
          null,
          "The Hotdog Company",
          "The Hotdog Company",
          null,
          "Waffle World Inc",
          "J J Elas",
          "Chill Out",
          "E D Services",
          null,
          null,
          "Sweet Snow Shave Ice",
          "Mr Soft & Delight",
          "Mr Soft & Delight",
          "Ken'S Snack Services",
          "Polar Express 1",
          null,
          "The Hotdog Company",
          "The Hotdog Company",
          null,
          "Rancho Gourmet Food Trucks",
          "Mr.Frosty Ice Cream",
          "Follow The Star Ltd",
          "Feasto",
          "Don Juan'S",
          "Eskimo Breeze",
          "Follow The Star",
          "Craig'S Cookies",
          null,
          "Follow The Star",
          null,
          null,
          null,
          null,
          null,
          null,
          "Hot Dogs & More",
          null,
          "Cosmo Clean",
          null,
          "Royal Foods",
          null,
          null,
          null,
          null,
          null,
          null,
          "Strategic Developments",
          null,
          null,
          null,
          null,
          null,
          null,
          null,
          null,
          null,
          null,
          "Follow The Star",
          null,
          "Stoke Stack",
          "Dog'S King",
          null,
          "Dogs And More",
          null,
          null,
          "Follow The Star",
          "Icicle Tricycle Co.",
          null,
          "Be Good Gelato",
          null,
          "Follow The Star",
          "Follow The Star",
          null,
          null,
          null,
          null,
          null,
          null,
          "Amsterdam Fries",
          null,
          null,
          null,
          null,
          "Sanny Hotdogs",
          null,
          null,
          null,
          "Good Behaviour Ice Cream",
          null,
          null,
          null,
          null,
          null,
          null,
          null,
          null,
          null,
          null,
          null,
          null,
          null,
          null,
          null,
          null,
          null,
          null
         ],
         "lat": [
          43.6696163,
          43.6696163,
          43.67371141,
          43.68652393,
          43.68652393,
          43.67371141,
          43.67371141,
          43.67371141,
          43.660712,
          43.68652393,
          43.66033418,
          43.68652393,
          43.6816111,
          43.6816111,
          43.68652393,
          43.67175151,
          43.69448201,
          43.68652393,
          43.65832971,
          43.68652393,
          43.67573379,
          43.66252479,
          43.6696163,
          43.6696163,
          43.65832971,
          43.68652393,
          43.6816111,
          43.6816111,
          43.6816111,
          43.6816111,
          43.6843739,
          43.68652393,
          43.68044855,
          43.67371141,
          43.65832971,
          43.68652393,
          43.69045388,
          43.660712,
          43.68044855,
          43.69045388,
          43.68044855,
          43.68652393,
          43.68652393,
          43.68044855,
          43.68044855,
          43.65832971,
          43.68044855,
          43.68652393,
          43.65832971,
          43.68652393,
          43.67645811,
          43.68044855,
          43.68044855,
          43.68044855,
          43.65832971,
          43.68652393,
          43.68652393,
          43.65832971,
          43.65832971,
          43.68044855,
          43.68652393,
          43.68044855,
          43.68652393,
          43.68044855,
          43.68044855,
          43.68044855,
          43.68044855,
          43.68652393,
          43.69045388,
          43.68652393,
          43.68044855,
          43.6622075,
          43.68044855,
          43.68044855,
          43.68044855,
          43.68044855,
          43.69045388,
          43.68044855,
          43.68044855,
          43.66827641,
          43.65832971,
          43.69045388,
          43.69045388,
          43.68652393,
          43.68044855,
          43.69045388,
          43.68044855,
          43.68044855,
          43.68044855,
          43.67119851,
          43.68044855,
          43.68652393,
          43.68044855,
          43.68044855,
          43.68044855,
          43.67545551,
          43.67545551,
          43.67545551,
          43.6745996,
          43.6816111,
          43.68652393,
          43.68652393,
          43.66252479,
          43.6696163,
          43.6696163,
          43.68652393,
          43.68652393,
          43.68652393,
          43.68652393,
          43.68652393,
          43.68652393,
          43.68652393,
          43.68652393,
          43.68652393,
          43.68652393,
          43.68652393,
          43.68652393
         ],
         "legendgroup": "Toronto-Danforth",
         "lon": [
          -79.32046558,
          -79.32046558,
          -79.33521152,
          -79.33668246,
          -79.33668246,
          -79.33521152,
          -79.33521152,
          -79.33521152,
          -79.3424058,
          -79.33668246,
          -79.35173159,
          -79.33668246,
          -79.33283743,
          -79.33283743,
          -79.33668246,
          -79.34151648,
          -79.3411216,
          -79.33668246,
          -79.34568472,
          -79.33668246,
          -79.32431572,
          -79.34004042,
          -79.32046558,
          -79.32046558,
          -79.34568472,
          -79.33668246,
          -79.33283743,
          -79.33283743,
          -79.33283743,
          -79.33283743,
          -79.32769287,
          -79.33668246,
          -79.35324169,
          -79.33521152,
          -79.34568472,
          -79.33668246,
          -79.33944464,
          -79.3424058,
          -79.35324169,
          -79.33944464,
          -79.35324169,
          -79.33668246,
          -79.33668246,
          -79.35324169,
          -79.35324169,
          -79.34568472,
          -79.35324169,
          -79.33668246,
          -79.34568472,
          -79.33668246,
          -79.33892823,
          -79.35324169,
          -79.35324169,
          -79.35324169,
          -79.34568472,
          -79.33668246,
          -79.33668246,
          -79.34568472,
          -79.34568472,
          -79.35324169,
          -79.33668246,
          -79.35324169,
          -79.33668246,
          -79.35324169,
          -79.35324169,
          -79.35324169,
          -79.35324169,
          -79.33668246,
          -79.33944464,
          -79.33668246,
          -79.35324169,
          -79.33036226,
          -79.35324169,
          -79.35324169,
          -79.35324169,
          -79.35324169,
          -79.33944464,
          -79.35324169,
          -79.35324169,
          -79.35024606,
          -79.34568472,
          -79.33944464,
          -79.33944464,
          -79.33668246,
          -79.35324169,
          -79.33944464,
          -79.35324169,
          -79.35324169,
          -79.35324169,
          -79.3251747,
          -79.35324169,
          -79.33668246,
          -79.35324169,
          -79.35324169,
          -79.35324169,
          -79.35349631,
          -79.35349631,
          -79.35349631,
          -79.32485786,
          -79.33283743,
          -79.33668246,
          -79.33668246,
          -79.34004042,
          -79.32046558,
          -79.32046558,
          -79.33668246,
          -79.33668246,
          -79.33668246,
          -79.33668246,
          -79.33668246,
          -79.33668246,
          -79.33668246,
          -79.33668246,
          -79.33668246,
          -79.33668246,
          -79.33668246,
          -79.33668246
         ],
         "marker": {
          "color": "#ab63fa"
         },
         "mode": "markers",
         "name": "Toronto-Danforth",
         "showlegend": true,
         "subplot": "mapbox",
         "type": "scattermapbox"
        },
        {
         "customdata": [
          [
           "R54-4540142",
           "2015-08-10",
           "2016-10-25",
           "58 pinewood ave,toronto, on,canada,m6c 2v1",
           "1908280 Ontario Ltd"
          ],
          [
           "R54-4650443",
           "2016-05-26",
           "2017-03-13",
           "canada,m6c",
           "Manfe, Noor Sabah"
          ],
          [
           "R54-4536543",
           "2015-05-14",
           "2017-03-27",
           "421 glenholme ave,toronto, on,canada,m6e 3e8",
           "The Egg Man Inc"
          ],
          [
           "R54-4536555",
           "2015-05-14",
           "2017-10-10",
           "44 ardmore rd, #2b,toronto, on,canada,m5p 1w1",
           "Chimney Stax Baking Corp"
          ],
          [
           "R54-4539934",
           "2015-07-31",
           "2017-10-10",
           "310 tweedsmuir ave, #317,toronto, on,canada,m5p 2y2",
           "Untamed Chef Inc"
          ],
          [
           "R54-4711549",
           "2017-03-13",
           "2017-10-10",
           "canada,m6c",
           "Manfe, Noor Sabah"
          ],
          [
           "R54-4713790",
           "2017-03-27",
           "2017-10-10",
           "421 glenholme ave,toronto, on,canada,m6e 3e8",
           "The Egg Man Inc"
          ],
          [
           "R54-4727765",
           "2018-03-20",
           "2019-01-31",
           "890 mount pleasant rd, #1903,toronto, on,canada,m4p 2l4",
           "10180505 Canada Inc"
          ],
          [
           "R54-4736644",
           "2017-09-13",
           "2019-01-31",
           "canada,m6c",
           "Manfe, Noor Sabah"
          ],
          [
           "R54-4748804",
           "2017-11-17",
           "2019-01-31",
           "canada,m6c",
           "Taguiam, Herbert Sacun"
          ],
          [
           "R54-4828285",
           "2018-05-02",
           "2019-01-31",
           "canada,m6c",
           "Manfe, Noor Sabah"
          ],
          [
           "R54-4839066",
           "2018-06-13",
           "2019-01-31",
           "421 glenholme ave,toronto, on,canada,m6e 3e8",
           "The Egg Man Inc"
          ],
          [
           "R54-4937058",
           "2019-05-14",
           "2019-11-22",
           "421 glenholme ave,toronto, on,canada,m6e 3e8",
           "The Egg Man Inc"
          ],
          [
           "R54-4947622",
           "2019-06-24",
           "2020-08-05",
           "881 eglinton ave w, #7,toronto, on,canada,m6c 2c1",
           "18 Feet Inc"
          ],
          [
           "R54-5021003",
           "2020-06-05",
           "2020-12-15",
           "421 glenholme ave,toronto, on,canada,m6e 3e8",
           "The Egg Man Inc"
          ],
          [
           "R54-5112901",
           "2021-05-05",
           "2021-11-11",
           "25 lascelles blvd, #1409,toronto, on,canada,m4v 2c1",
           "Orange Oven Ltd"
          ],
          [
           "V15-2024683",
           "1996-04-19",
           "2003-05-02",
           "canada,m6c",
           "Melo, Joao"
          ],
          [
           "V15-3241727",
           "2002-04-08",
           "2004-04-19",
           "312 atlas ave,toronto, on,canada,m6c 3p9",
           "Olympic Softee Inc"
          ],
          [
           "V15-3241736",
           "2002-04-08",
           "2004-04-19",
           "312 atlas ave,toronto, on,canada,m6c 3p9",
           "Olympic Softee Inc"
          ],
          [
           "V15-3241741",
           "2002-04-08",
           "2004-04-19",
           "312 atlas ave,toronto, on,canada,m6c 3p9",
           "Olympic Softee Inc"
          ],
          [
           "V15-3358151",
           "2003-04-08",
           "2004-04-19",
           "312 atlas ave,toronto, on,canada,m6c 3p9",
           "Olympic Softee Inc"
          ],
          [
           "V15-3358147",
           "2003-04-08",
           "2005-04-01",
           "312 atlas ave,toronto, on,canada,m6c 3p9",
           "Olympic Softee Inc"
          ],
          [
           "V15-3598390",
           "2005-10-12",
           "2007-01-12",
           "canada,m6c",
           "Norouzi, Mansour"
          ],
          [
           "V15-3723442",
           "2007-05-18",
           "2009-08-19",
           "229 robina ave,toronto, on,canada,m6c 3y9",
           "2132776 Ontario Inc"
          ],
          [
           "V15-4424139",
           "2014-07-07",
           "2016-08-02",
           "canada,m4v",
           "Van Peteghem, Kristen"
          ],
          [
           "V15-4425280",
           "2014-07-25",
           "2016-10-25",
           "58 pinewood ave,toronto, on,canada,m6c 2v1",
           "1908280 Ontario Ltd"
          ],
          [
           "V15-4426800",
           "2014-08-28",
           "2017-11-28",
           "44 ardmore rd, #2b,toronto, on,canada,m5p 1w1",
           "Chimney Stax Baking Corp"
          ],
          [
           "V15-4537159",
           "2015-07-31",
           "2018-10-31",
           "63 oriole gdns,toronto, on,canada,m4v 1v9",
           "Untamed Chef Inc"
          ],
          [
           "V15-4744623",
           "2017-11-15",
           "2019-02-15",
           "canada,m6c",
           "Taguiam, Herbert Sacun"
          ],
          [
           "V15-3241720",
           "2002-04-08",
           "2019-07-09",
           "312 atlas ave,toronto, on,canada,m6c 3p9",
           "Olympic Softee Inc"
          ],
          [
           "V15-3241722",
           "2002-04-08",
           "2019-07-09",
           "312 atlas ave,toronto, on,canada,m6c 3p9",
           "Olympic Softee Inc"
          ],
          [
           "V15-3241729",
           "2002-04-08",
           "2019-07-09",
           "312 atlas ave,toronto, on,canada,m6c 3p9",
           "Olympic Softee Inc"
          ],
          [
           "V15-3241733",
           "2002-04-08",
           "2019-07-09",
           "312 atlas ave,toronto, on,canada,m6c 3p9",
           "Olympic Softee Inc"
          ],
          [
           "V15-3241737",
           "2002-04-08",
           "2019-07-09",
           "312 atlas ave,toronto, on,canada,m6c 3p9",
           "Olympic Softee Inc"
          ],
          [
           "V15-3241742",
           "2002-04-08",
           "2019-07-09",
           "312 atlas ave,toronto, on,canada,m6c 3p9",
           "Olympic Softee Inc"
          ],
          [
           "V15-3241746",
           "2002-04-08",
           "2019-07-09",
           "312 atlas ave,toronto, on,canada,m6c 3p9",
           "Olympic Softee Inc"
          ],
          [
           "V15-4306328",
           "2013-04-19",
           "2019-07-20",
           "312 atlas ave,toronto, on,canada,m6c 3p9",
           "Olympic Softee Inc"
          ],
          [
           "V15-4646240",
           "2016-05-24",
           "2019-08-24",
           "canada,m6c",
           "Manfe, Noor Sabah"
          ],
          [
           "V15-4722297",
           "2017-05-29",
           "2019-08-29",
           "58 pinewood ave,toronto, on,canada,m6c 2v1",
           "1908280 Ontario Ltd"
          ],
          [
           "V15-3724611",
           "2007-07-05",
           "2019-10-05",
           "312 atlas ave,toronto, on,canada,m6c 3p9",
           "Olympic Softee Inc"
          ],
          [
           "V15-4947391",
           "2019-06-21",
           "2020-11-03",
           "881 eglinton ave w, #7,toronto, on,canada,m6c 2c1",
           "18 Feet Inc"
          ],
          [
           "V15-4535220",
           "2015-05-01",
           "2021-09-29",
           "421 glenholme ave,toronto, on,canada,m6e 3e8",
           "The Egg Man Inc"
          ],
          [
           "V15-0015683",
           "1986-07-30",
           "2021-12-28",
           "canada,m6c",
           "Horvath, Ioan"
          ],
          [
           "V15-5032434",
           "2020-09-10",
           "2022-02-08",
           "25 lascelles blvd, #1409,toronto, on,canada,m4v 2c1",
           "Orange Oven Ltd"
          ],
          [
           "V15-4727076",
           "2017-07-06",
           null,
           "890 mount pleasant rd, #1903,toronto, on,canada,m4p 2l4",
           "10180505 Canada Inc"
          ],
          [
           "V15-5101173",
           "2021-01-19",
           null,
           "83 redpath ave, #509,toronto, on,canada,m4s 0a2",
           "12465043 Canada Inc"
          ],
          [
           "V15-5112919",
           "2021-06-03",
           null,
           "16 vaughan rd,toronto, on,canada,m6g 2n1",
           "Booyah Inc"
          ],
          [
           "V27-2003699",
           "1991-02-18",
           "2003-03-31",
           "canada,m6c",
           "Sanchez, Ernesto"
          ],
          [
           "V27-3361046",
           "2003-08-19",
           "2005-04-02",
           "canada,m6c",
           "Schillaci, Michael D"
          ],
          [
           "V27-1003597",
           "1989-08-14",
           "2008-11-14",
           "canada,m6c",
           "Vrentas, Alexandra Sarantakos"
          ],
          [
           "V27-1004629",
           "1990-01-02",
           "2009-08-19",
           "canada,m6c",
           "Vrentas, Christina"
          ],
          [
           "V27-2016994",
           "1994-03-15",
           "2012-03-07",
           "canada,m5p",
           "Mohammadzadeh-Arabi, Sima"
          ],
          [
           "V27-4201983",
           "2012-11-26",
           "2014-02-26",
           "380 macpherson ave,toronto, on,canada,m4v 3e3",
           "The Chef'S Wagon Ltd"
          ],
          [
           "V27-4650753",
           "2016-06-03",
           "2017-09-03",
           "canada,m4v",
           "Kleovoulos, Jillian Elizabeth"
          ],
          [
           "V27-4655773",
           "2016-08-09",
           "2017-11-09",
           "295 russell hill rd,toronto, on,canada,m4v 2t7",
           "Lyte Beverages Ltd"
          ],
          [
           "V27-4537210",
           "2015-06-26",
           "2018-09-26",
           "canada,m4v",
           "Kleovoulos, Jillian Elizabeth"
          ],
          [
           "V27-1000387",
           "1988-07-13",
           "2018-10-13",
           "120 benson ave,toronto, on,canada,m6g 2j1",
           "Papadakos,Konstandinos/Rodopoulos,John C"
          ],
          [
           "V27-3612107",
           "2006-07-25",
           "2018-10-25",
           "canada,m6c",
           "Vrentas, Panagiute"
          ],
          [
           "V27-4840232",
           "2018-06-18",
           "2020-11-03",
           "canada,m5p",
           "Vezer, Sandor Anthony"
          ],
          [
           "V27-4948970",
           "2019-06-28",
           "2020-11-03",
           "30 roehampton ave, #1609,toronto, on,canada,m4p 0b9",
           "Kaylun Inc"
          ],
          [
           "V27-5144723",
           "2021-12-06",
           "2023-03-06",
           "canada,m6c",
           "Dalgliesh-Switzer, Alexander Wolfbear"
          ],
          [
           "V27-2005495",
           "1991-07-09",
           null,
           "canada,m6c",
           "Vrentas, Vasiliki"
          ],
          [
           "V27-4995264",
           "2019-12-20",
           null,
           "canada,m5p",
           "Morozov, Michael"
          ],
          [
           "R56-4427339",
           "2014-09-05",
           "2015-08-10",
           "58 pinewood ave,toronto, on,canada,m6c 2v1",
           "1908280 Ontario Ltd"
          ],
          [
           "R56-4534564",
           "2015-03-30",
           "2017-04-10",
           "312 atlas ave,toronto, on,canada,m6c 3p9",
           "Olympic Softee Inc"
          ],
          [
           "R56-4647631",
           "2016-03-23",
           "2017-04-10",
           "312 atlas ave,toronto, on,canada,m6c 3p9",
           "Olympic Softee Inc"
          ],
          [
           "R56-4647632",
           "2016-03-23",
           "2017-04-10",
           "312 atlas ave,toronto, on,canada,m6c 3p9",
           "Olympic Softee Inc"
          ],
          [
           "R56-4647633",
           "2016-03-23",
           "2017-04-10",
           "312 atlas ave,toronto, on,canada,m6c 3p9",
           "Olympic Softee Inc"
          ],
          [
           "R56-4647634",
           "2016-03-23",
           "2017-04-10",
           "312 atlas ave,toronto, on,canada,m6c 3p9",
           "Olympic Softee Inc"
          ],
          [
           "R56-4647635",
           "2016-03-23",
           "2017-04-10",
           "312 atlas ave,toronto, on,canada,m6c 3p9",
           "Olympic Softee Inc"
          ],
          [
           "R56-4647636",
           "2016-03-23",
           "2017-04-10",
           "312 atlas ave,toronto, on,canada,m6c 3p9",
           "Olympic Softee Inc"
          ],
          [
           "R56-4647637",
           "2016-03-23",
           "2017-04-10",
           "312 atlas ave,toronto, on,canada,m6c 3p9",
           "Olympic Softee Inc"
          ],
          [
           "R56-4715628",
           "2017-04-10",
           "2018-09-10",
           "312 atlas ave,toronto, on,canada,m6c 3p9",
           "Olympic Softee Inc"
          ],
          [
           "R56-4715630",
           "2017-04-10",
           "2018-09-10",
           "312 atlas ave,toronto, on,canada,m6c 3p9",
           "Olympic Softee Inc"
          ],
          [
           "R56-4715631",
           "2017-04-10",
           "2018-09-10",
           "312 atlas ave,toronto, on,canada,m6c 3p9",
           "Olympic Softee Inc"
          ],
          [
           "R56-4715632",
           "2017-04-10",
           "2018-09-10",
           "312 atlas ave,toronto, on,canada,m6c 3p9",
           "Olympic Softee Inc"
          ],
          [
           "R56-4715633",
           "2017-04-10",
           "2018-09-10",
           "312 atlas ave,toronto, on,canada,m6c 3p9",
           "Olympic Softee Inc"
          ],
          [
           "R56-4715634",
           "2017-04-10",
           "2018-09-10",
           "312 atlas ave,toronto, on,canada,m6c 3p9",
           "Olympic Softee Inc"
          ],
          [
           "R56-4715635",
           "2017-04-10",
           "2018-09-10",
           "312 atlas ave,toronto, on,canada,m6c 3p9",
           "Olympic Softee Inc"
          ],
          [
           "R56-4717055",
           "2017-04-21",
           "2018-09-10",
           "312 atlas ave,toronto, on,canada,m6c 3p9",
           "Olympic Softee Inc"
          ],
          [
           "R56-4720783",
           "2017-05-16",
           "2018-09-10",
           "312 atlas ave,toronto, on,canada,m6c 3p9",
           "Olympic Softee Inc"
          ],
          [
           "R56-4823710",
           "2018-04-16",
           "2019-01-31",
           "312 atlas ave,toronto, on,canada,m6c 3p9",
           "Olympic Softee Inc"
          ],
          [
           "R56-4823711",
           "2018-04-16",
           "2019-01-31",
           "312 atlas ave,toronto, on,canada,m6c 3p9",
           "Olympic Softee Inc"
          ],
          [
           "R56-4823712",
           "2018-04-16",
           "2019-01-31",
           "312 atlas ave,toronto, on,canada,m6c 3p9",
           "Olympic Softee Inc"
          ],
          [
           "R56-4823713",
           "2018-04-16",
           "2019-01-31",
           "312 atlas ave,toronto, on,canada,m6c 3p9",
           "Olympic Softee Inc"
          ],
          [
           "R56-4823714",
           "2018-04-16",
           "2019-01-31",
           "312 atlas ave,toronto, on,canada,m6c 3p9",
           "Olympic Softee Inc"
          ],
          [
           "R56-4823715",
           "2018-04-16",
           "2019-01-31",
           "312 atlas ave,toronto, on,canada,m6c 3p9",
           "Olympic Softee Inc"
          ],
          [
           "R56-4823716",
           "2018-04-16",
           "2019-01-31",
           "312 atlas ave,toronto, on,canada,m6c 3p9",
           "Olympic Softee Inc"
          ],
          [
           "R56-4823718",
           "2018-04-16",
           "2019-01-31",
           "312 atlas ave,toronto, on,canada,m6c 3p9",
           "Olympic Softee Inc"
          ],
          [
           "R56-4823719",
           "2018-04-16",
           "2019-01-31",
           "312 atlas ave,toronto, on,canada,m6c 3p9",
           "Olympic Softee Inc"
          ]
         ],
         "hovertemplate": "<b>%{hovertext}</b><br><br>AREA_NAME=Toronto-St. Paul's<br>latitude=%{lat}<br>longitude=%{lon}<br>Licence No.=%{customdata[0]}<br>Issued=%{customdata[1]}<br>Cancel Date=%{customdata[2]}<br>address=%{customdata[3]}<br>Client Name=%{customdata[4]}<extra></extra>",
         "hovertext": [
          null,
          null,
          null,
          null,
          null,
          null,
          null,
          null,
          null,
          null,
          null,
          null,
          null,
          null,
          null,
          null,
          "Mr Ice Cream",
          "Olympic Softee Inc",
          "Olympic Softee Inc",
          "Olympic Softee Inc",
          "Olympic Softee Inc",
          "Olympic Softee",
          null,
          null,
          "Burgatory",
          "Bar Ape",
          "Chimney Stax Baking Corp",
          "Untamed Chef",
          "Wowsilog",
          "Olympic Softee",
          "Olympic Softee Inc",
          "Olympic Softee Inc",
          "Olympic Softee Inc",
          "Olympic Softee Inc",
          "Olympic Softee Inc",
          "Olympic Softee Inc",
          "Mr. Soft",
          "Romi'S",
          "Bar Ape",
          "Olympic Softee",
          "18 Feet",
          "The Egg Man Inc",
          "King Of The Fast Food",
          "Orange Oven",
          "Dang Smoke Bbq",
          "Grill Dudes",
          "Booyah Inc",
          null,
          null,
          null,
          null,
          null,
          "The Chef'S Wagon",
          "The Upperhand",
          "Lyte Beverages",
          "The Upperhand",
          null,
          null,
          "Visca Orxata",
          "Foxes Love Milk",
          "Switzer'S",
          null,
          null,
          null,
          null,
          null,
          null,
          null,
          null,
          null,
          null,
          null,
          null,
          null,
          null,
          null,
          null,
          null,
          null,
          null,
          null,
          null,
          null,
          null,
          null,
          null,
          null,
          null,
          null,
          null
         ],
         "lat": [
          43.68439209,
          43.69173393,
          43.68974129,
          43.69394591,
          43.68531179,
          43.69173393,
          43.68974129,
          43.7107287,
          43.69173393,
          43.69173393,
          43.69173393,
          43.68974129,
          43.68974129,
          43.70048342,
          43.68974129,
          43.69594461,
          43.69173393,
          43.69084079,
          43.69084079,
          43.69084079,
          43.69084079,
          43.69084079,
          43.69173393,
          43.6878676,
          43.68651641,
          43.68439209,
          43.69394591,
          43.6903261,
          43.69173393,
          43.69084079,
          43.69084079,
          43.69084079,
          43.69084079,
          43.69084079,
          43.69084079,
          43.69084079,
          43.69084079,
          43.69173393,
          43.68439209,
          43.69084079,
          43.70048342,
          43.68974129,
          43.69173393,
          43.69594461,
          43.7107287,
          43.70652371,
          43.68155029,
          43.69173393,
          43.69173393,
          43.69173393,
          43.69173393,
          43.70034738,
          43.6765411,
          43.68651641,
          43.68783571,
          43.68651641,
          43.67968091,
          43.69173393,
          43.70034738,
          43.70847958,
          43.69173393,
          43.69173393,
          43.70034738,
          43.68439209,
          43.69084079,
          43.69084079,
          43.69084079,
          43.69084079,
          43.69084079,
          43.69084079,
          43.69084079,
          43.69084079,
          43.69084079,
          43.69084079,
          43.69084079,
          43.69084079,
          43.69084079,
          43.69084079,
          43.69084079,
          43.69084079,
          43.69084079,
          43.69084079,
          43.69084079,
          43.69084079,
          43.69084079,
          43.69084079,
          43.69084079,
          43.69084079,
          43.69084079,
          43.69084079
         ],
         "legendgroup": "Toronto-St. Paul's",
         "lon": [
          -79.42578151,
          -79.43080797,
          -79.44274992,
          -79.42253117,
          -79.41442403,
          -79.43080797,
          -79.44274992,
          -79.39146566,
          -79.43080797,
          -79.43080797,
          -79.43080797,
          -79.44274992,
          -79.44274992,
          -79.4267746,
          -79.44274992,
          -79.39929067,
          -79.43080797,
          -79.43517779,
          -79.43517779,
          -79.43517779,
          -79.43517779,
          -79.43517779,
          -79.43080797,
          -79.43767157,
          -79.40241783,
          -79.42578151,
          -79.42253117,
          -79.39982301,
          -79.43080797,
          -79.43517779,
          -79.43517779,
          -79.43517779,
          -79.43517779,
          -79.43517779,
          -79.43517779,
          -79.43517779,
          -79.43517779,
          -79.43080797,
          -79.42578151,
          -79.43517779,
          -79.4267746,
          -79.44274992,
          -79.43080797,
          -79.39929067,
          -79.39146566,
          -79.39202121,
          -79.4183367,
          -79.43080797,
          -79.43080797,
          -79.43080797,
          -79.43080797,
          -79.40406129,
          -79.40560786,
          -79.40241783,
          -79.40848093,
          -79.40241783,
          -79.4277567,
          -79.43080797,
          -79.40406129,
          -79.39752134,
          -79.43080797,
          -79.43080797,
          -79.40406129,
          -79.42578151,
          -79.43517779,
          -79.43517779,
          -79.43517779,
          -79.43517779,
          -79.43517779,
          -79.43517779,
          -79.43517779,
          -79.43517779,
          -79.43517779,
          -79.43517779,
          -79.43517779,
          -79.43517779,
          -79.43517779,
          -79.43517779,
          -79.43517779,
          -79.43517779,
          -79.43517779,
          -79.43517779,
          -79.43517779,
          -79.43517779,
          -79.43517779,
          -79.43517779,
          -79.43517779,
          -79.43517779,
          -79.43517779,
          -79.43517779
         ],
         "marker": {
          "color": "#FFA15A"
         },
         "mode": "markers",
         "name": "Toronto-St. Paul's",
         "showlegend": true,
         "subplot": "mapbox",
         "type": "scattermapbox"
        },
        {
         "customdata": [
          [
           "R54-4536567",
           "2015-05-14",
           "2016-12-05",
           "195 bentworth ave, #10,toronto, on,canada,m6a 1p9",
           "The Bbq Gourmet Food Company Ltd"
          ],
          [
           "R54-4724139",
           "2017-06-08",
           "2018-09-10",
           "2700 dufferin st, #13,toronto, on,canada,m6b 4j3",
           "Toben Food By Design Inc"
          ],
          [
           "V15-0008605",
           "1982-05-31",
           "2011-08-31",
           "canada,m5m",
           "Barlas, Bill"
          ],
          [
           "V15-4294838",
           "2012-05-15",
           "2014-08-15",
           "650 eglinton ave w, #205,toronto, on,canada,m5n 1c2",
           "2306073 Ontario Ltd"
          ],
          [
           "V15-4201890",
           "2012-11-30",
           "2015-03-02",
           "101 yonge blvd,toronto, on,canada,m5m 3g8",
           "Crossroads Diner Inc"
          ],
          [
           "V15-4299310",
           "2012-09-04",
           "2016-12-05",
           "195 bentworth ave, #10,toronto, on,canada,m6a 1p9",
           "The Bbq Gourmet Food Company Ltd"
          ],
          [
           "V15-4830462",
           "2018-06-06",
           "2019-09-06",
           "302 bridgeland ave, #5,toronto, on,canada,m6a 1z4",
           "The Crane Express Catering And Co Ltd"
          ],
          [
           "V15-4298632",
           "2012-08-17",
           "2020-11-17",
           "15 burncrest dr,toronto, on,canada,m5m 2z2",
           "2303182 Ontario Inc"
          ],
          [
           "V15-4711072",
           "2017-03-27",
           "2021-08-25",
           "195 bentworth ave, #10,toronto, on,canada,m6a 1p9",
           "The Bbq Gourmet Food Company Ltd"
          ],
          [
           "V15-4294203",
           "2012-04-16",
           "2021-09-14",
           "837 roselawn ave, #705,toronto, on,canada,m6b 1b5",
           "Sarema Iceberg Inc"
          ],
          [
           "V15-4066592",
           "2010-04-12",
           "2022-07-12",
           "837 roselawn ave, #705,toronto, on,canada,m6b 1b5",
           "Sarema Iceberg Inc"
          ],
          [
           "V15-5210515",
           "2022-07-28",
           "2023-10-26",
           "canada,m6a",
           "Tejfel, Laszlo"
          ],
          [
           "V15-0018000",
           "1987-09-09",
           null,
           "901 briar hill ave,toronto, on,canada,m6b 1m1",
           "De Marco,Judita/De Marco,Michele"
          ],
          [
           "V15-4837847",
           "2018-06-07",
           null,
           "16 risa blvd,toronto, on,canada,m6b 1s3",
           "Choco Churros Corp"
          ],
          [
           "V15-5330880",
           "2023-06-05",
           null,
           "837 roselawn ave, #705,toronto, on,canada,m6b 1b5",
           "Sarema Iceberg Inc"
          ],
          [
           "V27-3137657",
           "2002-04-01",
           "2003-03-31",
           "canada,m6b",
           "Cong, Xiao-Guang"
          ],
          [
           "V27-3360168",
           "2003-05-12",
           "2006-09-13",
           "canada,m6a",
           "Raffoul, Sarkis"
          ],
          [
           "V27-3589835",
           "2005-02-28",
           "2007-05-31",
           "canada,m6a",
           "Baraki, Benafsha Taiba"
          ],
          [
           "V27-0016509",
           "1987-04-07",
           "2008-07-08",
           "3300 dufferin st,toronto, on,canada,m6a 2t5",
           "663202 Ontario Ltd"
          ],
          [
           "V27-0016517",
           "1987-04-07",
           "2008-07-08",
           "3300 dufferin st,toronto, on,canada,m6a 2t5",
           "663202 Ontario Ltd"
          ],
          [
           "V27-0016525",
           "1987-04-07",
           "2008-07-08",
           "3300 dufferin st,toronto, on,canada,m6a 2t5",
           "663202 Ontario Ltd"
          ],
          [
           "V27-0016533",
           "1987-04-07",
           "2008-07-08",
           "3300 dufferin st,toronto, on,canada,m6a 2t5",
           "663202 Ontario Ltd"
          ],
          [
           "V27-0016541",
           "1987-04-07",
           "2008-07-08",
           "3300 dufferin st,toronto, on,canada,m6a 2t5",
           "663202 Ontario Ltd"
          ],
          [
           "V27-0016558",
           "1987-04-07",
           "2008-07-08",
           "3300 dufferin st,toronto, on,canada,m6a 2t5",
           "663202 Ontario Ltd"
          ],
          [
           "V27-3604389",
           "2006-03-15",
           "2010-06-15",
           "canada,m6a",
           "Nazif, Ahmed Nassar"
          ],
          [
           "V27-4202665",
           "2012-12-11",
           "2013-10-25",
           "canada,m6a",
           "Cabral, Daniel Samson"
          ],
          [
           "V27-4309191",
           "2013-07-09",
           "2015-10-09",
           "canada,m6b",
           "Tafari, Moyo M Wamba"
          ],
          [
           "V27-3593857",
           "2005-05-18",
           "2016-08-18",
           "canada,m6a",
           "Baraki, Benafsha Taiba"
          ],
          [
           "V27-4647824",
           "2016-04-18",
           "2017-07-19",
           "canada,m6b",
           "Nadarajasundaram, Jeyathilagan"
          ],
          [
           "V27-4647795",
           "2016-05-16",
           "2017-08-16",
           "canada,m5m",
           "Soriano, Carolyn Castillo"
          ],
          [
           "V27-4200164",
           "2012-11-20",
           "2018-02-20",
           "canada,m6b",
           "Rodriguez Herrera, Claudia"
          ],
          [
           "V27-4719155",
           "2017-05-16",
           "2018-08-16",
           "405 deloraine ave,toronto, on,canada,m5m 2b9",
           "Steinberg,Rachel Dara/Zuckerman,Jaimie Anne"
          ],
          [
           "V27-4729251",
           "2017-07-19",
           "2018-10-19",
           "canada,m6a",
           "Sallai, Aniko Ilona"
          ],
          [
           "V27-4684453",
           "2016-11-25",
           "2018-10-31",
           "canada,m6b",
           "Nadarajasundaram, Jeyathilagan"
          ],
          [
           "V27-4808018",
           "2018-04-03",
           "2019-07-04",
           "canada,m5m",
           "Van Dyk, Tammie Lynn"
          ],
          [
           "V27-4958440",
           "2019-08-02",
           "2020-11-03",
           "19 meadowbrook rd, #4,toronto, on,canada,m6b 2s3",
           "1990618 Ontario Inc"
          ],
          [
           "V27-2006641",
           "1991-10-28",
           "2021-01-28",
           "canada,m6b",
           "Costellis, John"
          ],
          [
           "V27-4878969",
           "2018-10-31",
           "2023-01-30",
           "100 lotherton ptway, #204,toronto, on,canada,m6b 2g8",
           "5003651 Ontario Inc"
          ],
          [
           "V27-5144808",
           "2021-12-01",
           "2023-03-01",
           "120 shelborne ave, #1602,toronto, on,canada,m6b 2m7",
           "5054948 Ontario Inc"
          ],
          [
           "V27-4831198",
           "2018-05-23",
           "2023-08-22",
           "405 deloraine ave,toronto, on,canada,m5m 2b9",
           "Brewing Bean Inc"
          ],
          [
           "V27-5209481",
           "2022-07-05",
           "2023-10-03",
           "16 risa blvd,toronto, on,canada,m6b 1s3",
           "Choco Churros Corp"
          ],
          [
           "R56-4422356",
           "2014-05-15",
           "2016-03-21",
           "837 roselawn ave, #705,toronto, on,canada,m6b 1b5",
           "Sarema Iceberg Inc"
          ],
          [
           "R56-4718196",
           "2017-04-28",
           "2018-09-10",
           "837 roselawn ave, #705,toronto, on,canada,m6b 1b5",
           "Sarema Iceberg Inc"
          ],
          [
           "R56-4718204",
           "2017-04-28",
           "2018-09-10",
           "837 roselawn ave, #705,toronto, on,canada,m6b 1b5",
           "Sarema Iceberg Inc"
          ],
          [
           "R56-4827395",
           "2018-04-27",
           "2019-02-01",
           "837 roselawn ave, #705,toronto, on,canada,m6b 1b5",
           "Sarema Iceberg Inc"
          ],
          [
           "R56-4827397",
           "2018-04-27",
           "2019-02-01",
           "837 roselawn ave, #705,toronto, on,canada,m6b 1b5",
           "Sarema Iceberg Inc"
          ],
          [
           "R56-4929027",
           "2019-04-16",
           "2019-11-13",
           "837 roselawn ave, #705,toronto, on,canada,m6b 1b5",
           "Sarema Iceberg Inc"
          ],
          [
           "R56-4929028",
           "2019-04-16",
           "2019-11-13",
           "837 roselawn ave, #705,toronto, on,canada,m6b 1b5",
           "Sarema Iceberg Inc"
          ]
         ],
         "hovertemplate": "<b>%{hovertext}</b><br><br>AREA_NAME=Eglinton-Lawrence<br>latitude=%{lat}<br>longitude=%{lon}<br>Licence No.=%{customdata[0]}<br>Issued=%{customdata[1]}<br>Cancel Date=%{customdata[2]}<br>address=%{customdata[3]}<br>Client Name=%{customdata[4]}<extra></extra>",
         "hovertext": [
          null,
          null,
          null,
          "Gourmet B1Tches",
          "Crossroads Diner",
          "Urban Smoke Food Truck",
          "The Crane Express Catering And Co",
          "Fidel Gastro'S",
          "Urban Smoke Food Truck",
          null,
          "Sarema Iceberg",
          "Sunnysicecream",
          "Taste Of Toronto",
          "Choco Churros",
          "Sarema Iceberg",
          null,
          "Ontario Corn Roasters",
          null,
          "Katz'S Gourmet Hot Dogs",
          "Katz'S Gourmet Hot Dogs",
          "Katz'S Gourmet Hot Dogs",
          "Katz'S Gourmet Hot Dogs",
          "Katz'S Gourmet Hot Dogs",
          "Katz'S Gourmet Hot Dogs",
          null,
          null,
          "Chill Ville Refreshments",
          null,
          null,
          null,
          "Chocochurros",
          "Brewing Bean",
          "Small Girl",
          "Smokin'S Joe",
          "Barker & Snouts",
          null,
          null,
          "Smokin'S Joe",
          "Carne Cartel",
          "Brewing Bean",
          "Choco Churros",
          null,
          null,
          null,
          null,
          null,
          null,
          null
         ],
         "lat": [
          43.7189029,
          43.7017135,
          43.73301287,
          43.7026301,
          43.73672262,
          43.7189029,
          43.72414008,
          43.73822692,
          43.7189029,
          43.70229332,
          43.70229332,
          43.72208628,
          43.70435891,
          43.70500491,
          43.70229332,
          43.70773413,
          43.72208628,
          43.72208628,
          43.72146361,
          43.72146361,
          43.72146361,
          43.72146361,
          43.72146361,
          43.72146361,
          43.72208628,
          43.72208628,
          43.70773413,
          43.72208628,
          43.70773413,
          43.73301287,
          43.70773413,
          43.73049888,
          43.72208628,
          43.70773413,
          43.73301287,
          43.71436049,
          43.70773413,
          43.70639781,
          43.716259,
          43.73049888,
          43.70500491,
          43.70229332,
          43.70229332,
          43.70229332,
          43.70229332,
          43.70229332,
          43.70229332,
          43.70229332
         ],
         "legendgroup": "Eglinton-Lawrence",
         "lon": [
          -79.46970067,
          -79.4539929,
          -79.41769401,
          -79.41922099,
          -79.40946982,
          -79.46970067,
          -79.47157813,
          -79.42424888,
          -79.46970067,
          -79.43965959,
          -79.43965959,
          -79.45045694,
          -79.44263483,
          -79.44932879,
          -79.43965959,
          -79.44769529,
          -79.45045694,
          -79.45045694,
          -79.45690586,
          -79.45690586,
          -79.45690586,
          -79.45690586,
          -79.45690586,
          -79.45690586,
          -79.45045694,
          -79.45045694,
          -79.44769529,
          -79.45045694,
          -79.44769529,
          -79.41769401,
          -79.44769529,
          -79.41993153,
          -79.45045694,
          -79.44769529,
          -79.41769401,
          -79.43979773,
          -79.44769529,
          -79.46776864,
          -79.42985201,
          -79.41993153,
          -79.44932879,
          -79.43965959,
          -79.43965959,
          -79.43965959,
          -79.43965959,
          -79.43965959,
          -79.43965959,
          -79.43965959
         ],
         "marker": {
          "color": "#19d3f3"
         },
         "mode": "markers",
         "name": "Eglinton-Lawrence",
         "showlegend": true,
         "subplot": "mapbox",
         "type": "scattermapbox"
        },
        {
         "customdata": [
          [
           "R54-4649513",
           "2016-05-11",
           "2017-03-09",
           "canada,m4l",
           "Shamoon, Razia"
          ],
          [
           "R54-4655830",
           "2016-08-05",
           "2017-04-20",
           "19 tucker st,toronto, on,canada,m4b 3n9",
           "The Spicy Ethiopian Inc"
          ],
          [
           "R54-4651037",
           "2016-06-02",
           "2017-04-25",
           "canada,m4l",
           "Khokhar, Fayyaz Hussain"
          ],
          [
           "R54-4538611",
           "2015-07-01",
           "2017-06-30",
           "44 hammersmith ave,toronto, on,canada,m4e 2w4",
           "2452836 Ontario Inc"
          ],
          [
           "R54-4722717",
           "2017-05-30",
           "2018-04-23",
           "canada,m4l",
           "Shamoon, Razia"
          ],
          [
           "R54-4649677",
           "2016-05-16",
           "2018-05-05",
           "canada,m4l",
           "Khokhar, Fayyaz Hussain"
          ],
          [
           "R54-4723343",
           "2017-06-02",
           "2018-09-02",
           "canada,m4l",
           "Khokhar, Fayyaz Hussain"
          ],
          [
           "R54-4716769",
           "2017-04-20",
           "2018-09-10",
           "19 tucker st,toronto, on,canada,m4b 3n9",
           "The Spicy Ethiopian Inc"
          ],
          [
           "R54-4826220",
           "2018-04-23",
           "2019-01-31",
           "canada,m4l",
           "Shamoon, Razia"
          ],
          [
           "R54-4831444",
           "2018-05-15",
           "2019-01-31",
           "canada,m4l",
           "Yousaf, Saif"
          ],
          [
           "R54-4837517",
           "2018-06-06",
           "2019-01-31",
           "canada,m4l",
           "Nikitin, Jennifer P"
          ],
          [
           "R54-4937358",
           "2019-05-15",
           "2019-11-23",
           "canada,m4l",
           "Yousaf, Saif"
          ],
          [
           "R54-4938785",
           "2019-05-21",
           "2019-11-29",
           "canada,m4l",
           "Shamoon, Razia"
          ],
          [
           "R54-5116318",
           "2021-06-11",
           "2021-12-21",
           "canada,m4c",
           "Aslikhah-Kochesfahani, Amir"
          ],
          [
           "V15-2025936",
           "1996-07-31",
           "2003-05-02",
           "canada,m4l",
           "Karadimas, Martha M"
          ],
          [
           "V15-3005651",
           "1997-08-18",
           "2005-04-02",
           "canada,m4l",
           "Chand, Jonathan D A"
          ],
          [
           "V15-3005653",
           "1997-08-18",
           "2005-07-01",
           "canada,m4b",
           "De Faria, Paulo"
          ],
          [
           "V15-3124287",
           "2001-08-30",
           "2005-07-01",
           "canada,m4l",
           "Chand, Rabindar"
          ],
          [
           "V15-3244738",
           "2002-05-30",
           "2005-07-01",
           "canada,m4l",
           "Karabetsos, Evangelos George"
          ],
          [
           "V15-3362517",
           "2003-06-18",
           "2005-07-01",
           "canada,m4c",
           "Berbatiotis, Andreas"
          ],
          [
           "V15-3478682",
           "2004-08-19",
           "2005-11-19",
           "canada,m4c",
           "Dewji, Azim Popat"
          ],
          [
           "V15-3238983",
           "2002-04-01",
           "2006-07-02",
           "canada,m4l",
           "Laplante, Sean Michael"
          ],
          [
           "V15-3108581",
           "2000-06-01",
           "2006-09-01",
           "canada,m4e",
           "Roe, David Bruce"
          ],
          [
           "V15-3598691",
           "2005-08-30",
           "2007-08-17",
           "24 glenburn ave,toronto, on,canada,m4b 2x2",
           "1666812 Ontario Ltd"
          ],
          [
           "V15-3482324",
           "2004-07-28",
           "2008-08-20",
           "canada,m4l",
           "Khokhar, Fayyaz Hussain"
          ],
          [
           "V15-3245615",
           "2002-06-11",
           "2011-09-11",
           "2112 danforth ave, #107,toronto, on,canada,m4c 1j9",
           "Good Food & Taste Corp"
          ],
          [
           "V15-4307785",
           "2013-05-09",
           "2014-07-29",
           "11 bonefield ave, main,toronto, on,canada,m4e 1b9",
           "Beach Boys Food Truck Co Inc"
          ],
          [
           "V15-4312934",
           "2013-09-23",
           "2014-12-24",
           "canada,m4c",
           "Watson, Sean Patrick"
          ],
          [
           "V15-4542548",
           "2015-11-06",
           "2017-05-16",
           "canada,m4l",
           "Khokhar, Fayyaz Hussain"
          ],
          [
           "V15-4542550",
           "2015-11-17",
           "2017-05-16",
           "canada,m4l",
           "Shamoon, Razia"
          ],
          [
           "V15-4537577",
           "2015-06-24",
           "2017-09-24",
           "44 hammersmith ave,toronto, on,canada,m4e 2w4",
           "2452836 Ontario Inc"
          ],
          [
           "V15-4542552",
           "2016-02-02",
           "2018-05-05",
           "canada,m4l",
           "Khokhar, Fayyaz Hussain"
          ],
          [
           "V15-4720820",
           "2017-06-02",
           "2018-09-02",
           "canada,m4l",
           "Khokhar, Fayyaz Hussain"
          ],
          [
           "V15-2022017",
           "1995-06-20",
           "2018-09-20",
           "canada,m4l",
           "Karabetsos, Antonios"
          ],
          [
           "V15-4655604",
           "2016-08-05",
           "2018-11-05",
           "19 tucker st,toronto, on,canada,m4b 3n9",
           "The Spicy Ethiopian Inc"
          ],
          [
           "V15-4711523",
           "2017-05-04",
           "2019-06-25",
           "119 kingsmount park rd,toronto, on,canada,m4l 3l6",
           "Get Skewered Ltd"
          ],
          [
           "V15-4720824",
           "2017-05-30",
           "2020-10-14",
           "canada,m4l",
           "Shamoon, Razia"
          ],
          [
           "V15-4830045",
           "2018-05-15",
           "2020-11-03",
           "canada,m4l",
           "Yousaf, Saif"
          ],
          [
           "V15-4951742",
           "2019-07-09",
           "2020-11-03",
           "119 kingsmount park rd,toronto, on,canada,m4l 3l6",
           "Get Skewered Ltd"
          ],
          [
           "V15-4544288",
           "2016-03-04",
           "2021-08-02",
           "263 coxwell ave,toronto, on,canada,m4l 3b5",
           "Wander Toronto Inc"
          ],
          [
           "V15-5113769",
           "2021-05-13",
           "2022-08-12",
           "canada,m4c",
           "Aslikhah-Kochesfahani, Amir"
          ],
          [
           "V15-3135004",
           "2001-10-30",
           null,
           "73 furnival rd,toronto, on,canada,m4b 1w6",
           "701449 Ontario Ltd"
          ],
          [
           "V15-3604545",
           "2006-01-19",
           null,
           "canada,m4e",
           "Walker, Douglas W"
          ],
          [
           "V15-5137815",
           "2021-10-19",
           null,
           "canada,m4l",
           "Shamoon, Razia"
          ],
          [
           "V15-5200810",
           "2022-02-15",
           null,
           "1400 o'connor dr, #4-5,toronto, on,canada,m4b 2t8",
           "Slayer Burger Inc"
          ],
          [
           "V27-0016608",
           "1987-04-16",
           "2003-03-31",
           "canada,m4c",
           "Cournoyer, Nathalie"
          ],
          [
           "V27-2000082",
           "1990-03-23",
           "2005-04-02",
           "canada,m4c",
           "Notis, Panagiotis"
          ],
          [
           "V27-2013081",
           "1993-04-23",
           "2005-04-02",
           "canada,m4c",
           "Notis, Georgis"
          ],
          [
           "V27-3010471",
           "1998-07-08",
           "2005-04-02",
           "canada,m4e",
           "Yousifi-Fazil, Davood"
          ],
          [
           "V27-3083350",
           "1998-04-21",
           "2005-04-02",
           "canada,m4c",
           "Salonia, Lucyna"
          ],
          [
           "V27-3361617",
           "2003-06-05",
           "2005-04-02",
           "canada,m4b",
           "Kostov, Cvetomir"
          ],
          [
           "V27-3363054",
           "2003-07-22",
           "2005-04-02",
           "canada,m4b",
           "Taylor, Douglas Herbert"
          ],
          [
           "V27-2015843",
           "1993-11-10",
           "2005-07-01",
           "canada,m4c",
           "Salonia, Corrado"
          ],
          [
           "V27-2021784",
           "1995-05-31",
           "2005-07-01",
           "canada,m4c",
           "Salonia, Lucyna"
          ],
          [
           "V27-3248234",
           "2002-11-05",
           "2005-07-01",
           "canada,m4c",
           "Manning, Harvey Wellington"
          ],
          [
           "V27-3477216",
           "2004-06-21",
           "2005-07-01",
           "canada,m4c",
           "Short, Norman"
          ],
          [
           "V27-3366274",
           "2003-10-16",
           "2006-01-16",
           "canada,m4l",
           "To, Anson Yun"
          ],
          [
           "V27-3092175",
           "1999-01-29",
           "2006-05-01",
           "canada,m4c",
           "Ardeshiri Jouneghani, Shahram"
          ],
          [
           "V27-3481212",
           "2004-07-30",
           "2006-06-28",
           "canada,m4e",
           "Harris, Peter"
          ],
          [
           "V27-3481216",
           "2004-07-30",
           "2006-06-28",
           "canada,m4e",
           "Harris, Peter"
          ],
          [
           "V27-3089361",
           "1998-12-09",
           "2007-03-11",
           "91 barker ave,toronto, on,canada,m4c 2n7",
           "Great Tasting Hot Dog Corp"
          ],
          [
           "V27-1001419",
           "1989-03-14",
           "2008-06-14",
           "canada,m4c",
           "Chekroun, Hamza"
          ],
          [
           "V27-1001542",
           "1989-03-29",
           "2008-06-29",
           "canada,m4c",
           "Ashtarjani, Mahmud Kiani"
          ],
          [
           "V27-2010006",
           "1992-07-24",
           "2008-10-24",
           "canada,m4c",
           "Iliadis, John"
          ],
          [
           "V27-3612849",
           "2006-07-26",
           "2008-10-26",
           "canada,m4c",
           "Bedard, Andrew Clement"
          ],
          [
           "V27-3501868",
           "2006-02-09",
           "2009-05-12",
           "canada,m4c",
           "Short, Norman"
          ],
          [
           "V27-3595601",
           "2005-06-27",
           "2009-09-27",
           "canada,m4b",
           "Somlev, Alexandre I"
          ],
          [
           "V27-3952070",
           "2009-05-12",
           "2010-08-12",
           "canada,m4b",
           "Merzanazar, Khodainazar"
          ],
          [
           "V27-3098485",
           "1999-08-17",
           "2010-11-17",
           "2112 danforth ave, #107,toronto, on,canada,m4c 1j9",
           "Great Tasting Food Corp"
          ],
          [
           "V27-3098482",
           "1999-08-05",
           "2011-01-07",
           "2112 danforth ave, #107,toronto, on,canada,m4c 1j9",
           "Great Tasting Hot Dogs And Sausages Corp"
          ],
          [
           "V27-2024457",
           "1996-04-01",
           "2011-07-02",
           "canada,m4c",
           "Zangeneh, Sadegh"
          ],
          [
           "V27-4187323",
           "2011-11-17",
           "2011-11-17",
           "91 barker ave,toronto, on,canada,m4c 2n7",
           "Great Tasting Hot Dog Corp"
          ],
          [
           "V27-3136036",
           "2002-04-01",
           "2012-01-03",
           "91 barker ave,toronto, on,canada,m4c 2n7",
           "Lidia Ivanova Inc"
          ],
          [
           "V27-3014661",
           "1998-01-16",
           "2012-04-17",
           "91 barker ave,toronto, on,canada,m4c 2n7",
           "Hello Hot Dog Corp"
          ],
          [
           "V27-2026072",
           "1996-08-19",
           "2012-11-19",
           "canada,m4c",
           "Moskova, Elisaveta Petrova"
          ],
          [
           "V27-3087579",
           "1998-09-10",
           "2012-12-11",
           "2112 danforth ave, #107,toronto, on,canada,m4c 1j9",
           "Great Tasting Sausage Corp"
          ],
          [
           "V27-4073108",
           "2010-10-06",
           "2013-01-06",
           "390 dawes rd, #414,toronto, on,canada,m4b 2e5",
           "1833856 Ontario Corp"
          ],
          [
           "V27-4073109",
           "2010-10-06",
           "2013-01-06",
           "390 dawes rd, #414,toronto, on,canada,m4b 2e5",
           "1833856 Ontario Corp"
          ],
          [
           "V27-4185490",
           "2011-09-08",
           "2013-01-16",
           "canada,m4l",
           "Dar, Mubeen Ahmed"
          ],
          [
           "V27-3111802",
           "2000-10-27",
           "2013-01-27",
           "2112 danforth ave, #107,toronto, on,canada,m4c 1j9",
           "Big Bite Sausage Corp"
          ],
          [
           "V27-3112957",
           "2000-10-27",
           "2013-01-27",
           "2112 danforth ave, #107,toronto, on,canada,m4c 1j9",
           "Beefeater'S Hot Dog Corp"
          ],
          [
           "V27-4304967",
           "2013-02-20",
           "2014-05-23",
           "canada,m4b",
           "Pecorella, Corrado"
          ],
          [
           "V27-1003019",
           "1989-06-23",
           "2014-09-23",
           "canada,m4c",
           "Notis, Konstantinos"
          ],
          [
           "V27-2005613",
           "1991-07-18",
           "2015-03-31",
           "canada,m4c",
           "Pitret, Alexandru"
          ],
          [
           "V27-4309730",
           "2013-07-09",
           "2015-10-09",
           "canada,m4e",
           "Voychev, Andrey"
          ],
          [
           "V27-4189084",
           "2011-11-17",
           "2016-02-17",
           "2112 danforth ave, #107,toronto, on,canada,m4c 1j9",
           "Beefeater'S Hot Dog Corp"
          ],
          [
           "V27-4539051",
           "2015-09-24",
           "2016-12-25",
           "canada,m4l",
           "Zentner, Laura Elizabeth"
          ],
          [
           "V27-4650267",
           "2016-06-03",
           "2017-09-03",
           "canada,m4e",
           "Tal, Oren"
          ],
          [
           "V27-4536431",
           "2015-06-25",
           "2017-09-25",
           "2075 queen st e,toronto, on,canada,m4l 1j1",
           "2407723 Ontario Inc"
          ],
          [
           "V27-4652465",
           "2016-07-08",
           "2017-10-08",
           "2096 queen st e,toronto, on,canada,m4e 1e1",
           "1908842 Ontario Inc"
          ],
          [
           "V27-4652972",
           "2016-07-12",
           "2017-10-12",
           "28 coatsworth cres,toronto, on,canada,m4c 5p5",
           "Big Dee Ice Cream Inc"
          ],
          [
           "V27-4652973",
           "2016-07-12",
           "2017-10-12",
           "28 coatsworth cres,toronto, on,canada,m4c 5p5",
           "Big Dee Ice Cream Inc"
          ],
          [
           "V27-4652974",
           "2016-07-12",
           "2017-10-12",
           "28 coatsworth cres,toronto, on,canada,m4c 5p5",
           "Big Dee Ice Cream Inc"
          ],
          [
           "V27-4652975",
           "2016-07-12",
           "2017-10-12",
           "28 coatsworth cres,toronto, on,canada,m4c 5p5",
           "Big Dee Ice Cream Inc"
          ],
          [
           "V27-4652976",
           "2016-07-12",
           "2017-10-12",
           "28 coatsworth cres,toronto, on,canada,m4c 5p5",
           "Big Dee Ice Cream Inc"
          ],
          [
           "V27-4652977",
           "2016-07-12",
           "2017-10-12",
           "28 coatsworth cres,toronto, on,canada,m4c 5p5",
           "Big Dee Ice Cream Inc"
          ],
          [
           "V27-4649760",
           "2016-07-18",
           "2017-10-18",
           "2075 queen st e,toronto, on,canada,m4l 1j1",
           "2407723 Ontario Inc"
          ],
          [
           "V27-3126123",
           "2001-06-13",
           "2018-09-13",
           "canada,m4c",
           "Shidfar, Majeed"
          ],
          [
           "V27-4727843",
           "2017-07-07",
           "2018-10-07",
           "canada,m4l",
           "Ceh, Robert J"
          ],
          [
           "V27-4829056",
           "2018-05-07",
           "2019-08-07",
           "canada,m4b",
           "Slater, Kari Lyn"
          ],
          [
           "V27-3245351",
           "2002-06-06",
           "2020-10-14",
           "2133 danforth ave,toronto, on,canada,m4c 1k2",
           "Big Boy Hot Dog Inc"
          ],
          [
           "V27-4931815",
           "2019-06-07",
           "2020-11-03",
           "canada,m4l",
           "Akin, Can Berk"
          ],
          [
           "V27-3124017",
           "2001-05-02",
           null,
           "canada,m4b",
           "Simpraga, Sandra"
          ],
          [
           "V27-4814893",
           "2018-04-17",
           null,
           "2075 queen st e,toronto, on,canada,m4l 1j1",
           "2561013 Ontario Inc"
          ],
          [
           "V27-4814894",
           "2018-04-17",
           null,
           "2075 queen st e,toronto, on,canada,m4l 1j1",
           "2561013 Ontario Inc"
          ],
          [
           "V27-5003771",
           "2020-01-15",
           null,
           "canada,m4e",
           "Siddiqui, Nadia"
          ],
          [
           "V27-5115037",
           "2021-05-27",
           null,
           "2075 queen st e,toronto, on,canada,m4l 1j1",
           "2561013 Ontario Inc"
          ],
          [
           "V27-5216155",
           "2022-06-28",
           null,
           "canada,m4l",
           "Fullerton, Julian Kenton"
          ],
          [
           "R56-4538154",
           "2015-06-19",
           "2018-09-10",
           "canada,m4l",
           "Karabetsos, Antonios"
          ],
          [
           "R56-4650048",
           "2016-05-20",
           "2018-09-10",
           "canada,m4l",
           "Karabetsos, Antonios"
          ],
          [
           "R56-4721063",
           "2017-05-17",
           "2018-09-10",
           "canada,m4l",
           "Karabetsos, Antonios"
          ],
          [
           "R56-4826218",
           "2018-04-23",
           "2018-10-23",
           "canada,m4l",
           "Shamoon, Razia"
          ],
          [
           "R56-4831437",
           "2018-05-15",
           "2019-02-01",
           "canada,m4l",
           "Shamoon, Razia"
          ],
          [
           "R56-4831443",
           "2018-05-15",
           "2019-02-01",
           "canada,m4l",
           "Yousaf, Saif"
          ],
          [
           "R56-4937356",
           "2019-05-15",
           "2019-11-23",
           "canada,m4l",
           "Yousaf, Saif"
          ],
          [
           "R56-4938787",
           "2019-05-21",
           "2019-11-29",
           "canada,m4l",
           "Shamoon, Razia"
          ]
         ],
         "hovertemplate": "<b>%{hovertext}</b><br><br>AREA_NAME=Beaches-East York<br>latitude=%{lat}<br>longitude=%{lon}<br>Licence No.=%{customdata[0]}<br>Issued=%{customdata[1]}<br>Cancel Date=%{customdata[2]}<br>address=%{customdata[3]}<br>Client Name=%{customdata[4]}<extra></extra>",
         "hovertext": [
          null,
          null,
          null,
          null,
          null,
          null,
          null,
          null,
          null,
          null,
          null,
          null,
          null,
          null,
          null,
          null,
          null,
          null,
          null,
          "Mr. T'S Icecream",
          "Azim Dewji",
          "S Laplante Catering",
          null,
          "Sam'S Coffee Wagon",
          null,
          "Good Food & Taste Corp",
          "Beach Boys Food Truck",
          null,
          "Mr. Soft & Delight",
          "Mr.Soft & Delight",
          "Jacked Up Coffee",
          "Golden Fryer",
          "Mr. Soft & Delight",
          null,
          "The Spicy Ethiopian Inc",
          "Get Skewered",
          "Mr. Soft & Delight",
          "Mr Soft And Delight",
          "Get Skewered",
          "Fully Loaded T.O",
          "Kimis Kabab & Shawarma",
          "701449 Ontario Ltd",
          null,
          "Mr Soft & Delight",
          "Slayer Burger",
          "Sam'S Gourmet",
          null,
          null,
          null,
          null,
          null,
          null,
          null,
          null,
          null,
          null,
          null,
          null,
          "Peter Harris Ice Cream Sales",
          "Peter Harris Ice Cream Sales",
          "Great Tasting Hot Dog",
          "Sam'S Gourmet",
          null,
          null,
          null,
          null,
          null,
          null,
          "Great Tasting Foods",
          "Great Tasting Hot Dogs And Sausages",
          null,
          "Great Tasting Hot Dog",
          "Lidia Ivanova",
          "Hello Hot Dog",
          null,
          "Great Tasting Sausage",
          null,
          null,
          "Royal Foods",
          "Big Bite Sausage",
          "Beefeater'S Hot Dog Corp",
          "Corrado'S Authentic Italian Food",
          null,
          null,
          null,
          null,
          "Ii Captain",
          "Thank The Cow Ice Cream",
          "Beaches N'Cream",
          "Sannas Farmacia",
          "Big Dee Ice Cream",
          "Big Dee Ice Cream",
          "Big Dee Ice Cream",
          "Big Dee Ice Cream",
          "Big Dee Ice Cream",
          "Big Dee Ice Cream",
          "Beaches N'Cream",
          null,
          null,
          "Sweet Ride",
          "Big Boy Hot Dog",
          "Oha",
          null,
          "Beaches N'Cream",
          "Beaches N'Cream",
          null,
          "Beaches N' Cream",
          "The Good Eats By Julian",
          null,
          null,
          null,
          null,
          null,
          null,
          null,
          null
         ],
         "lat": [
          43.66938437,
          43.71604182,
          43.66938437,
          43.66925802,
          43.66938437,
          43.66938437,
          43.66938437,
          43.71604182,
          43.66938437,
          43.66938437,
          43.66938437,
          43.66938437,
          43.66938437,
          43.69166266,
          43.66938437,
          43.66938437,
          43.7064533,
          43.66938437,
          43.66938437,
          43.69166266,
          43.69166266,
          43.66938437,
          43.6782199,
          43.70723089,
          43.66938437,
          43.68614969,
          43.670226,
          43.69166266,
          43.66938437,
          43.66938437,
          43.66925802,
          43.66938437,
          43.66938437,
          43.66938437,
          43.71604182,
          43.67900131,
          43.66938437,
          43.66938437,
          43.67900131,
          43.6732437,
          43.69166266,
          43.71112529,
          43.6782199,
          43.66938437,
          43.71358542,
          43.69166266,
          43.69166266,
          43.69166266,
          43.6782199,
          43.69166266,
          43.7064533,
          43.7064533,
          43.69166266,
          43.69166266,
          43.69166266,
          43.69166266,
          43.66938437,
          43.69166266,
          43.6782199,
          43.6782199,
          43.69334392,
          43.69166266,
          43.69166266,
          43.69166266,
          43.69166266,
          43.69166266,
          43.7064533,
          43.7064533,
          43.68614969,
          43.68614969,
          43.69166266,
          43.69334392,
          43.69334392,
          43.69334392,
          43.69166266,
          43.68614969,
          43.70020359,
          43.70020359,
          43.66938437,
          43.68614969,
          43.68614969,
          43.7064533,
          43.69166266,
          43.69166266,
          43.6782199,
          43.68614969,
          43.66938437,
          43.6782199,
          43.66999818,
          43.67108762,
          43.6796507,
          43.6796507,
          43.6796507,
          43.6796507,
          43.6796507,
          43.6796507,
          43.66999818,
          43.69166266,
          43.66938437,
          43.7064533,
          43.68575432,
          43.66938437,
          43.7064533,
          43.66999818,
          43.66999818,
          43.6782199,
          43.66999818,
          43.66938437,
          43.66938437,
          43.66938437,
          43.66938437,
          43.66938437,
          43.66938437,
          43.66938437,
          43.66938437,
          43.66938437
         ],
         "legendgroup": "Beaches-East York",
         "lon": [
          -79.31558904,
          -79.3058172,
          -79.31558904,
          -79.29400877,
          -79.31558904,
          -79.31558904,
          -79.31558904,
          -79.3058172,
          -79.31558904,
          -79.31558904,
          -79.31558904,
          -79.31558904,
          -79.31558904,
          -79.31139705,
          -79.31558904,
          -79.31558904,
          -79.30998497,
          -79.31558904,
          -79.31558904,
          -79.31139705,
          -79.31139705,
          -79.31558904,
          -79.29375068,
          -79.29798489,
          -79.31558904,
          -79.31198033,
          -79.290999,
          -79.31139705,
          -79.31558904,
          -79.31558904,
          -79.29400877,
          -79.31558904,
          -79.31558904,
          -79.31558904,
          -79.3058172,
          -79.31204168,
          -79.31558904,
          -79.31558904,
          -79.31204168,
          -79.31916429,
          -79.31139705,
          -79.30148979,
          -79.29375068,
          -79.31558904,
          -79.30789867,
          -79.31139705,
          -79.31139705,
          -79.31139705,
          -79.29375068,
          -79.31139705,
          -79.30998497,
          -79.30998497,
          -79.31139705,
          -79.31139705,
          -79.31139705,
          -79.31139705,
          -79.31558904,
          -79.31139705,
          -79.29375068,
          -79.29375068,
          -79.31962261,
          -79.31139705,
          -79.31139705,
          -79.31139705,
          -79.31139705,
          -79.31139705,
          -79.30998497,
          -79.30998497,
          -79.31198033,
          -79.31198033,
          -79.31139705,
          -79.31962261,
          -79.31962261,
          -79.31962261,
          -79.31139705,
          -79.31198033,
          -79.29820031,
          -79.29820031,
          -79.31558904,
          -79.31198033,
          -79.31198033,
          -79.30998497,
          -79.31139705,
          -79.31139705,
          -79.29375068,
          -79.31198033,
          -79.31558904,
          -79.29375068,
          -79.29929582,
          -79.2960879,
          -79.32053423,
          -79.32053423,
          -79.32053423,
          -79.32053423,
          -79.32053423,
          -79.32053423,
          -79.29929582,
          -79.31139705,
          -79.31558904,
          -79.30998497,
          -79.3113552,
          -79.31558904,
          -79.30998497,
          -79.29929582,
          -79.29929582,
          -79.29375068,
          -79.29929582,
          -79.31558904,
          -79.31558904,
          -79.31558904,
          -79.31558904,
          -79.31558904,
          -79.31558904,
          -79.31558904,
          -79.31558904,
          -79.31558904
         ],
         "marker": {
          "color": "#FF6692"
         },
         "mode": "markers",
         "name": "Beaches-East York",
         "showlegend": true,
         "subplot": "mapbox",
         "type": "scattermapbox"
        },
        {
         "customdata": [
          [
           "R54-4649022",
           "2016-04-29",
           "2017-04-28",
           "112 talbot rd,toronto, on,canada,m2m 4a4",
           "Momma'S Boy Food Inc"
          ],
          [
           "R54-4542159",
           "2015-10-07",
           "2017-10-10",
           "canada,m2n",
           "Moon, Narae"
          ],
          [
           "R54-4710726",
           "2017-03-07",
           "2017-10-10",
           "188 hollywood ave,toronto, on,canada,m2n 3k5",
           "Peymski Food Truck Inc"
          ],
          [
           "R54-4723353",
           "2017-06-05",
           "2018-03-16",
           "6307 yonge st,toronto, on,canada,m2m 3x7",
           "Lets Taco Bout It Inc"
          ],
          [
           "R54-4718207",
           "2017-04-28",
           "2018-09-10",
           "112 talbot rd,toronto, on,canada,m2m 4a4",
           "Momma'S Boy Food Inc"
          ],
          [
           "R54-4534068",
           "2015-03-19",
           "2019-01-31",
           "188 hollywood ave,toronto, on,canada,m2n 3k5",
           "Peymski Food Truck Inc"
          ],
          [
           "R54-4939336",
           "2019-05-23",
           "2019-12-03",
           "198 patricia ave,toronto, on,canada,m2m 1j5",
           "Osca Trading Inc"
          ],
          [
           "R54-5200307",
           "2022-01-17",
           "2022-07-21",
           "5 harnish cres,toronto, on,canada,m2m 2c2",
           "Tasto Inc"
          ],
          [
           "R54-5339524",
           "2023-07-10",
           "2024-01-17",
           "38 lawnview dr,toronto, on,canada,m2n 5j8",
           "12583097 Canada Ltd"
          ],
          [
           "R54-5314210",
           "2023-04-04",
           null,
           "1 avondale ave, #612,toronto, on,canada,m2n 7j1",
           "Zaen Inc"
          ],
          [
           "V15-3728252",
           "2007-08-31",
           "2008-12-01",
           "canada,m2n",
           "Whalen, Mark S"
          ],
          [
           "V15-4651224",
           "2016-06-13",
           "2016-07-12",
           "61 horsham ave,toronto, on,canada,m2n 1z8",
           "2505771 Ontario Inc"
          ],
          [
           "V15-4655801",
           "2016-08-24",
           "2017-08-21",
           "295 ellerslie ave,toronto, on,canada,m2r 1b6",
           "Bossy Cakes Inc"
          ],
          [
           "V15-4648684",
           "2016-04-28",
           "2019-07-29",
           "112 talbot rd,toronto, on,canada,m2m 4a4",
           "Momma'S Boy Food Inc"
          ],
          [
           "V15-4938982",
           "2019-05-22",
           "2020-11-03",
           "198 patricia ave,toronto, on,canada,m2m 1j5",
           "Osca Trading Inc"
          ],
          [
           "V15-4430083",
           "2015-03-17",
           "2020-11-13",
           "188 hollywood ave,toronto, on,canada,m2n 3k5",
           "Peymski Food Truck Inc"
          ],
          [
           "V15-4670993",
           "2017-03-15",
           "2020-11-13",
           "188 hollywood ave,toronto, on,canada,m2n 3k5",
           "Peymski Food Truck Inc"
          ],
          [
           "V15-5145094",
           "2021-12-23",
           "2023-03-23",
           "5 harnish cres,toronto, on,canada,m2m 2c2",
           "Tasto Inc"
          ],
          [
           "V15-4544366",
           "2015-12-15",
           null,
           "189 wedgewood dr,toronto, on,canada,m2m 2h8",
           "Delight Bite Inc"
          ],
          [
           "V15-5130903",
           "2021-10-08",
           null,
           "38 lawnview dr,toronto, on,canada,m2n 5j8",
           "12583097 Canada Ltd"
          ],
          [
           "V15-5210943",
           "2022-06-07",
           null,
           "canada,m2m",
           "Lee, Jay"
          ],
          [
           "V15-5312378",
           "2023-03-08",
           null,
           "1 avondale ave, #612,toronto, on,canada,m2n 7j1",
           "Zaen Inc"
          ],
          [
           "V15-5340940",
           "2023-07-20",
           null,
           "1 avondale ave, #612,toronto, on,canada,m2n 7j1",
           "Zaen Inc"
          ],
          [
           "V27-2024335",
           "1996-03-07",
           "2003-03-31",
           "canada,m2m",
           "Bermah, Mehran Agha"
          ],
          [
           "V27-3081307",
           "1998-04-01",
           "2003-03-31",
           "canada,m2n",
           "Kiriakova, Sonia Kirilova"
          ],
          [
           "V27-3241077",
           "2002-04-01",
           "2003-06-19",
           "222 harlandale ave,toronto, on,canada,m2n 1p7",
           "Mitova,Roumiana Mladenova/Mitov,Valeri"
          ],
          [
           "V27-3123141",
           "2001-04-11",
           "2005-04-02",
           "canada,m2m",
           "Motazedian, Habibollah"
          ],
          [
           "V27-3239810",
           "2002-04-01",
           "2005-04-02",
           "canada,m2n",
           "Chifor, Florentina"
          ],
          [
           "V27-2013361",
           "1993-05-07",
           "2005-07-01",
           "canada,m2n",
           "Vournakis, Georgios"
          ],
          [
           "V27-3360898",
           "2003-07-17",
           "2005-07-01",
           "canada,m2n",
           "Chifor, Florentina"
          ],
          [
           "V27-3363668",
           "2003-07-10",
           "2005-07-01",
           "canada,m2n",
           "Khoshdooz-Masouleh, Mahsa"
          ],
          [
           "V27-3356886",
           "2003-04-01",
           "2006-07-02",
           "canada,m2m",
           "Heydari, Abbas"
          ],
          [
           "V27-3359776",
           "2003-05-02",
           "2008-08-02",
           "canada,m2n",
           "Farshidfar, Farshad"
          ],
          [
           "V27-3958222",
           "2010-04-28",
           "2011-07-29",
           "canada,m2m",
           "Ardakani, Abbas"
          ],
          [
           "V27-4183683",
           "2011-07-15",
           "2012-10-15",
           "22 olive ave, #1503,toronto, on,canada,m2n 7g6",
           "1852996 Ontario Inc"
          ],
          [
           "V27-4714190",
           "2017-06-05",
           "2018-07-26",
           "15b finch ave w,toronto, on,canada,m2n 7k4",
           "Park,Hee Jun/Yoon,Jisoo"
          ],
          [
           "V27-4730013",
           "2017-07-27",
           "2018-10-27",
           "canada,m2n",
           "Mahmoudian, Bijan"
          ],
          [
           "V27-4428222",
           "2014-12-09",
           "2019-03-11",
           "canada,m2n",
           "Ozmen, Murat"
          ],
          [
           "V27-4732561",
           "2017-08-14",
           "2019-11-14",
           "5 everson dr, #1503,toronto, on,canada,m2n 7c3",
           "Wheelys Cafe Toronto Inc"
          ],
          [
           "V27-1004017",
           "1989-09-18",
           "2020-12-19",
           "canada,m2m",
           "Ardakani, Hamid"
          ],
          [
           "V27-5105210",
           "2021-02-25",
           "2022-05-27",
           "canada,m2m",
           "Ardakani, Hamid"
          ],
          [
           "V27-3952315",
           "2009-05-22",
           null,
           "canada,m2n",
           "Kim, Young Jin"
          ],
          [
           "V27-5201825",
           "2022-04-04",
           null,
           "183 finch ave w,toronto, on,canada,m2r 1n2",
           "Pure Maya Coffee Corp"
          ],
          [
           "V27-5377789",
           "2023-12-18",
           null,
           "canada,m2n",
           "Baldeo, Peter Tony"
          ]
         ],
         "hovertemplate": "<b>%{hovertext}</b><br><br>AREA_NAME=Willowdale<br>latitude=%{lat}<br>longitude=%{lon}<br>Licence No.=%{customdata[0]}<br>Issued=%{customdata[1]}<br>Cancel Date=%{customdata[2]}<br>address=%{customdata[3]}<br>Client Name=%{customdata[4]}<extra></extra>",
         "hovertext": [
          null,
          null,
          null,
          null,
          null,
          null,
          null,
          null,
          null,
          "Fiyu Food Truck",
          null,
          "Bistro Burger",
          "Bossy Cakes",
          "Momma'S Boy",
          "Grilland",
          "Road Grill",
          "Crispy Craves",
          "Tasto",
          "Delight Bite Inc",
          "Lee Kee Cha Don",
          "Dog And Cheese",
          "Fiyu Food Truck",
          "Mr Zen",
          null,
          null,
          null,
          null,
          null,
          null,
          null,
          null,
          null,
          null,
          null,
          null,
          "Mr.Chu",
          null,
          null,
          "Wheelys Cafe Toronto",
          null,
          null,
          "Kim'S A La Cart",
          "Pure Maya Coffee",
          "Bee Box Foods"
         ],
         "lat": [
          43.7834314,
          43.76759718,
          43.76805999,
          43.79573222,
          43.7834314,
          43.76805999,
          43.78832161,
          43.7858109,
          43.78077358,
          43.75813792,
          43.76759718,
          43.77381358,
          43.76797991,
          43.7834314,
          43.78832161,
          43.76805999,
          43.76805999,
          43.7858109,
          43.7915072,
          43.78077358,
          43.79163278,
          43.75813792,
          43.75813792,
          43.79163278,
          43.76759718,
          43.75999681,
          43.79163278,
          43.76759718,
          43.76759718,
          43.76759718,
          43.76759718,
          43.79163278,
          43.76759718,
          43.79163278,
          43.77970791,
          43.77921819,
          43.76759718,
          43.76759718,
          43.75754729,
          43.79163278,
          43.79163278,
          43.76759718,
          43.77604179,
          43.76759718
         ],
         "legendgroup": "Willowdale",
         "lon": [
          -79.42366868,
          -79.41027601,
          -79.40223247,
          -79.41915444,
          -79.42366868,
          -79.40223247,
          -79.42789501,
          -79.40744006,
          -79.3945062,
          -79.40956269,
          -79.41027601,
          -79.41735954,
          -79.428441,
          -79.42366868,
          -79.42789501,
          -79.40223247,
          -79.40223247,
          -79.40744006,
          -79.4035185,
          -79.3945062,
          -79.41017862,
          -79.40956269,
          -79.40956269,
          -79.41017862,
          -79.41027601,
          -79.42258188,
          -79.41017862,
          -79.41027601,
          -79.41027601,
          -79.41027601,
          -79.41027601,
          -79.41017862,
          -79.41027601,
          -79.41017862,
          -79.41459913,
          -79.41705008,
          -79.41027601,
          -79.41027601,
          -79.40675031,
          -79.41017862,
          -79.41017862,
          -79.41027601,
          -79.43129286,
          -79.41027601
         ],
         "marker": {
          "color": "#B6E880"
         },
         "mode": "markers",
         "name": "Willowdale",
         "showlegend": true,
         "subplot": "mapbox",
         "type": "scattermapbox"
        },
        {
         "customdata": [
          [
           "R54-4537833",
           "2015-06-12",
           "2017-08-04",
           "canada,m8z",
           "Gallucci, Sebastian Diego"
          ],
          [
           "R54-4649938",
           "2016-05-20",
           "2017-08-18",
           "342 munster ave,toronto, on,canada,m8z 3c5",
           "Rhoddy Design Inc"
          ],
          [
           "R54-4647223",
           "2016-03-11",
           "2017-10-10",
           "2200 lake shore blvd w, #1002,toronto, on,canada,m8v 1a4",
           "Gotham Grill Inc"
          ],
          [
           "R54-4702603",
           "2017-01-18",
           "2018-05-16",
           "215 sherway gardens rd, #1501,toronto, on,canada,m9c 0a4",
           "Mr Pierogi Inc"
          ],
          [
           "R54-4720807",
           "2017-05-16",
           "2018-06-11",
           "25 portland st,toronto, on,canada,m8y 1a6",
           "Fresh N Cool Inc"
          ],
          [
           "R54-4831898",
           "2018-05-16",
           "2019-01-31",
           "215 sherway gardens rd, #1501,toronto, on,canada,m9c 0a4",
           "Mr Pierogi Inc"
          ],
          [
           "R54-4858162",
           "2018-08-24",
           "2019-08-16",
           "23 evans ave, #2,toronto, on,canada,m8z 1h4",
           "Norbu Sangpo Ltd"
          ],
          [
           "R54-4933842",
           "2019-05-03",
           "2019-11-13",
           "23 evans ave, #2,toronto, on,canada,m8z 1h4",
           "Norbu Sangpo Ltd"
          ],
          [
           "R54-4940517",
           "2019-05-27",
           "2019-12-05",
           "2495 lake shore blvd w, #115,toronto, on,canada,m8v 1c5",
           "Himalayan Momo Inc"
          ],
          [
           "R54-5333414",
           "2023-07-12",
           "2024-01-19",
           "25 portland st,toronto, on,canada,m8y 1a6",
           "Fresh N Cool Inc"
          ],
          [
           "R54-4430503",
           "2014-11-24",
           null,
           "4 hill heights rd, #204,toronto, on,canada,m8y 1z1",
           "1921116 Ontario Inc"
          ],
          [
           "R54-5336623",
           "2023-07-05",
           null,
           "canada,m8z",
           "Liu, Mingqiang"
          ],
          [
           "R54-5348742",
           "2023-08-28",
           null,
           "20 lockport ave, k33,toronto, on,canada,m8z 2r7",
           "Bj'S Burgery Inc"
          ],
          [
           "R54-5349938",
           "2023-09-01",
           null,
           "88 palace pier crt, #103,toronto, on,canada,m8v 4c2",
           "Pauls Coffee Ltd"
          ],
          [
           "V15-3085823",
           "1998-06-29",
           "2003-02-07",
           "canada,m8y",
           "Kolev, Kantcho Stefanov"
          ],
          [
           "V15-2013534",
           "1993-05-19",
           "2003-02-12",
           "canada,m8w",
           "Kazanis, Stratos"
          ],
          [
           "V15-0001816",
           "1976-03-16",
           "2003-03-31",
           "canada,m8w",
           "Gallant, Pius J"
          ],
          [
           "V15-2016083",
           "1993-12-02",
           "2005-02-11",
           "canada,m8v",
           "Petrus, Andrzej"
          ],
          [
           "V15-3249387",
           "2003-01-08",
           "2005-04-02",
           "canada,m8v",
           "Rodriques, Paul Fitchet"
          ],
          [
           "V15-3365972",
           "2003-09-22",
           "2005-12-23",
           "canada,m8y",
           "Kolev, Kantcho Stefanov"
          ],
          [
           "V15-3725893",
           "2007-08-02",
           "2008-11-02",
           "2 coney rd,toronto, on,canada,m8z 2k2",
           "505707 Ontario Ltd"
          ],
          [
           "V15-3006225",
           "1997-06-10",
           "2012-09-10",
           "canada,m8y",
           "Tsiktsiris, Georgeos"
          ],
          [
           "V15-4422723",
           "2014-05-28",
           "2015-08-28",
           "3 saunders cres,toronto, on,canada,m8y 2p7",
           "Acai Dreamzz Imports Inc"
          ],
          [
           "V15-4421527",
           "2014-05-16",
           "2016-08-16",
           "165 legion rd n, #2129,toronto, on,canada,m8y 0b3",
           "Paul'S Funnel Cake Inc"
          ],
          [
           "V15-4654057",
           "2016-07-26",
           "2017-05-17",
           "8 akron rd,toronto, on,canada,m8w 1t2",
           "2441375 Ontario Inc"
          ],
          [
           "V15-4647434",
           "2016-03-21",
           "2017-06-21",
           "75 the east mall,toronto, on,canada,m8z 5w3",
           "Skynex Transport & Brokerage Inc"
          ],
          [
           "V15-4648660",
           "2016-05-18",
           "2017-08-18",
           "342 munster ave,toronto, on,canada,m8z 3c5",
           "Rhoddy Design Inc"
          ],
          [
           "V15-4542388",
           "2016-01-26",
           "2018-04-28",
           "8 akron rd,toronto, on,canada,m8w 1t2",
           "2441375 Ontario Inc"
          ],
          [
           "V15-0014884",
           "1986-04-08",
           "2018-07-09",
           "canada,m8w",
           "Kocleyda, Ryszard"
          ],
          [
           "V15-4719928",
           "2017-05-16",
           "2018-08-08",
           "25 portland st,toronto, on,canada,m8y 1a6",
           "Fresh N Cool Inc"
          ],
          [
           "V15-4719924",
           "2017-05-16",
           "2019-08-16",
           "25 portland st,toronto, on,canada,m8y 1a6",
           "Fresh N Cool Inc"
          ],
          [
           "V15-4702181",
           "2017-01-18",
           "2020-09-04",
           "215 sherway gardens rd, #1501,toronto, on,canada,m9c 0a4",
           "Mr Pierogi Inc"
          ],
          [
           "V15-3086075",
           "1998-07-22",
           "2020-10-14",
           "canada,m8y",
           "Tsiktsiris, Elias Louis"
          ],
          [
           "V15-4928584",
           "2019-05-10",
           "2020-11-03",
           "25 portland st,toronto, on,canada,m8y 1a6",
           "Fresh N Cool Inc"
          ],
          [
           "V15-4939609",
           "2019-05-27",
           "2020-11-03",
           "2495 lake shore blvd w, #115,toronto, on,canada,m8v 1c5",
           "Himalayan Momo Inc"
          ],
          [
           "V15-4730344",
           "2017-08-09",
           "2020-11-09",
           "3797 lake shore blvd w,toronto, on,canada,m8w 1r2",
           "Woodfire Group Ltd"
          ],
          [
           "V15-4756986",
           "2018-01-30",
           "2021-06-30",
           "817 kipling ave,toronto, on,canada,m8z 5g8",
           "8167087 Canada Ltd"
          ],
          [
           "V15-4719923",
           "2017-05-16",
           "2021-10-15",
           "25 portland st,toronto, on,canada,m8y 1a6",
           "Fresh N Cool Inc"
          ],
          [
           "V15-4846522",
           "2018-08-16",
           "2022-01-14",
           "23 evans ave, #2,toronto, on,canada,m8z 1h4",
           "Norbu Sangpo Ltd"
          ],
          [
           "V15-3606245",
           "2006-02-27",
           null,
           "9 colwyn rd,toronto, on,canada,m8z 3r8",
           "1687376 Ontario Ltd"
          ],
          [
           "V15-4426495",
           "2014-11-24",
           null,
           "4 hill heights rd, #204,toronto, on,canada,m8y 1z1",
           "1921116 Ontario Inc"
          ],
          [
           "V15-5026148",
           "2020-07-29",
           null,
           "canada,m8z",
           "Liu, Mingqiang"
          ],
          [
           "V15-5032672",
           "2020-09-11",
           null,
           "25 portland st,toronto, on,canada,m8y 1a6",
           "Fresh N Cool Inc"
          ],
          [
           "V15-5113316",
           "2021-05-06",
           null,
           "2938 bloor st w,toronto, on,canada,m8x 1b6",
           "505707 Ontario Ltd"
          ],
          [
           "V15-5208715",
           "2022-05-19",
           null,
           "88 palace pier crt, #103,toronto, on,canada,m8v 4c2",
           "Pauls Coffee Ltd"
          ],
          [
           "V15-5211716",
           "2022-06-16",
           null,
           "25 portland st,toronto, on,canada,m8y 1a6",
           "Fresh N Cool Inc"
          ],
          [
           "V15-5214027",
           "2022-07-11",
           null,
           "25 portland st,toronto, on,canada,m8y 1a6",
           "Fresh N Cool Inc"
          ],
          [
           "V15-5345236",
           "2023-08-14",
           null,
           "20 lockport ave, k33,toronto, on,canada,m8z 2r7",
           "Bj'S Burgery Inc"
          ],
          [
           "V15-5327325",
           "2023-08-15",
           null,
           "289a horner ave,toronto, on,canada,m8z 4y4",
           "9773223 Canada Inc"
          ],
          [
           "V27-0019313",
           "1988-04-26",
           "2003-03-31",
           "canada,m8v",
           "Kowalczyk, Kazimierz"
          ],
          [
           "V27-3107706",
           "2000-04-26",
           "2003-03-31",
           "canada,m8v",
           "Iqbal, Muhammad"
          ],
          [
           "V27-3125984",
           "2001-08-16",
           "2003-03-31",
           "canada,m8y",
           "Chimochenko, Tatiana"
          ],
          [
           "V27-3243886",
           "2002-06-07",
           "2003-03-31",
           "canada,m8y",
           "Procopiou, Onisiforos Gus"
          ],
          [
           "V27-2017638",
           "1994-05-05",
           "2005-03-30",
           "canada,m8v",
           "Marinova, Tanja"
          ],
          [
           "V27-2000078",
           "1990-03-23",
           "2005-04-02",
           "canada,m8v",
           "Kowalczyk, Brygida Iwona"
          ],
          [
           "V27-3081376",
           "1998-06-30",
           "2005-04-02",
           "canada,m8y",
           "Bosiak, Eugenia"
          ],
          [
           "V27-3111441",
           "2000-07-14",
           "2005-04-02",
           "canada,m8y",
           "Tcherneva, Rositza"
          ],
          [
           "V27-3360273",
           "2003-05-13",
           "2005-04-02",
           "canada,m8v",
           "Dvoskina, Tatiana"
          ],
          [
           "V27-3477392",
           "2004-05-12",
           "2005-07-01",
           "canada,m8y",
           "Dang, Tamana"
          ],
          [
           "V27-3597675",
           "2005-09-30",
           "2006-12-31",
           "canada,m8z",
           "Lis, Beata A"
          ],
          [
           "V27-3476700",
           "2004-04-01",
           "2007-07-02",
           "canada,m8y",
           "Stepien, Krzysztof"
          ],
          [
           "V27-3591025",
           "2005-04-13",
           "2007-07-14",
           "canada,m8v",
           "Jamil, Arif"
          ],
          [
           "V27-3609834",
           "2006-06-08",
           "2007-09-08",
           "2 coney rd,toronto, on,canada,m8z 2k2",
           "505707 Ontario Ltd"
          ],
          [
           "V27-3609836",
           "2006-06-08",
           "2007-09-08",
           "2 coney rd,toronto, on,canada,m8z 2k2",
           "505707 Ontario Ltd"
          ],
          [
           "V27-3609838",
           "2006-06-08",
           "2007-09-08",
           "2 coney rd,toronto, on,canada,m8z 2k2",
           "505707 Ontario Ltd"
          ],
          [
           "V27-3609839",
           "2006-06-08",
           "2007-09-08",
           "2 coney rd,toronto, on,canada,m8z 2k2",
           "505707 Ontario Ltd"
          ],
          [
           "V27-3611972",
           "2006-07-28",
           "2007-10-28",
           "canada,m8v",
           "Robassio, Jorge R"
          ],
          [
           "V27-3611942",
           "2006-08-04",
           "2007-11-04",
           "30 queen elizabeth blvd,toronto, on,canada,m8z 1l8",
           "Ice Cream Brew Inc"
          ],
          [
           "V27-3611947",
           "2006-08-04",
           "2007-11-04",
           "30 queen elizabeth blvd,toronto, on,canada,m8z 1l8",
           "Ice Cream Brew Inc"
          ],
          [
           "V27-3611946",
           "2006-08-09",
           "2007-11-09",
           "30 queen elizabeth blvd,toronto, on,canada,m8z 1l8",
           "Ice Cream Brew Inc"
          ],
          [
           "V27-3095163",
           "1999-05-13",
           "2008-05-21",
           "2 coney rd,toronto, on,canada,m8z 2k2",
           "505707 Ontario Ltd"
          ],
          [
           "V27-1001427",
           "1989-03-14",
           "2008-06-14",
           "canada,m8w",
           "Kuzemczak, Aneta"
          ],
          [
           "V27-3609832",
           "2006-06-08",
           "2008-09-08",
           "2 coney rd,toronto, on,canada,m8z 2k2",
           "505707 Ontario Ltd"
          ],
          [
           "V27-3609833",
           "2006-06-08",
           "2008-09-08",
           "2 coney rd,toronto, on,canada,m8z 2k2",
           "505707 Ontario Ltd"
          ],
          [
           "V27-3609835",
           "2006-06-08",
           "2008-09-08",
           "2 coney rd,toronto, on,canada,m8z 2k2",
           "505707 Ontario Ltd"
          ],
          [
           "V27-3609837",
           "2006-06-08",
           "2008-09-08",
           "2 coney rd,toronto, on,canada,m8z 2k2",
           "505707 Ontario Ltd"
          ],
          [
           "V27-3609841",
           "2006-06-08",
           "2008-09-08",
           "2 coney rd,toronto, on,canada,m8z 2k2",
           "505707 Ontario Ltd"
          ],
          [
           "V27-3095161",
           "1999-06-29",
           "2008-09-29",
           "2 coney rd,toronto, on,canada,m8z 2k2",
           "505707 Ontario Ltd"
          ],
          [
           "V27-2013620",
           "1993-05-26",
           "2009-08-26",
           "canada,m8v",
           "Mierzwinski, Marek"
          ],
          [
           "V27-3949402",
           "2009-05-22",
           "2010-05-27",
           "canada,m8y",
           "Tchernev, Bojidar"
          ],
          [
           "V27-4067199",
           "2010-05-10",
           "2011-08-10",
           "canada,m8v",
           "Correa, Felix Humberto"
          ],
          [
           "V27-3953967",
           "2009-06-12",
           "2011-09-12",
           "canada,m8v",
           "Casillas Gonzalez, Carlos E"
          ],
          [
           "V27-3953963",
           "2009-06-15",
           "2011-09-15",
           "canada,m8v",
           "Renteria Escobedo, Gerardo"
          ],
          [
           "V27-1004975",
           "1990-03-12",
           "2013-04-02",
           "canada,m8y",
           "Antolak, Danuta Genovefa"
          ],
          [
           "V27-0017580",
           "1987-07-17",
           "2013-10-17",
           "canada,m8w",
           "Kuzemczak, Michal"
          ],
          [
           "V27-3095162",
           "1999-05-13",
           "2014-01-23",
           "2 coney rd,toronto, on,canada,m8z 2k2",
           "505707 Ontario Ltd"
          ],
          [
           "V27-3609831",
           "2006-06-08",
           "2014-01-23",
           "2 coney rd,toronto, on,canada,m8z 2k2",
           "505707 Ontario Ltd"
          ],
          [
           "V27-2000458",
           "1990-04-19",
           "2014-02-14",
           "canada,m8v",
           "Kowalczyk, Michal"
          ],
          [
           "V27-0016848",
           "1987-05-05",
           "2014-07-01",
           "canada,m8y",
           "Tsiktsiris, Georgeos"
          ],
          [
           "V27-4296433",
           "2012-06-14",
           "2015-09-14",
           "canada,m8y",
           "Tsiktsiris, Elias Louis"
          ],
          [
           "V27-3100614",
           "1999-09-02",
           "2015-12-03",
           "canada,m8y",
           "Tcherneva, Rositza"
          ],
          [
           "V27-4423441",
           "2014-06-30",
           "2016-05-19",
           "66 north queen st,toronto, on,canada,m8z 2c4",
           "Total Rent-A-Car Inc"
          ],
          [
           "V27-4418051",
           "2014-02-14",
           "2017-02-23",
           "51 murrie st,toronto, on,canada,m8v 1x6",
           "1613345 Ontario Inc"
          ],
          [
           "V27-4417910",
           "2014-02-28",
           "2017-05-31",
           "canada,m8v",
           "Kowalczyk, Krystyna"
          ],
          [
           "V27-4536707",
           "2015-06-18",
           "2017-08-09",
           "2 coney rd,toronto, on,canada,m8z 2k2",
           "505707 Ontario Ltd"
          ],
          [
           "V27-4535622",
           "2015-05-22",
           "2017-08-22",
           "canada,m8v",
           "Rivera Ognio, Mauricio Rodrigo"
          ],
          [
           "V27-4532337",
           "2015-03-12",
           "2018-01-30",
           "41 acorn ave,toronto, on,canada,m9b 3r1",
           "Bartels,Robert/Bojin,Linda"
          ],
          [
           "V27-4704288",
           "2017-02-28",
           "2018-05-31",
           "canada,m8v",
           "Kowalczyk, Michal"
          ],
          [
           "V27-3006733",
           "1997-06-10",
           "2019-09-10",
           "canada,m8y",
           "Kowalczyk, Zbigniew"
          ],
          [
           "V27-1001401",
           "1989-03-14",
           "2020-10-04",
           "canada,m8w",
           "Kuzemczak, Natalia"
          ],
          [
           "V27-4316859",
           "2014-03-14",
           "2022-06-13",
           "canada,m8y",
           "Rohatynski, John"
          ],
          [
           "V27-4536706",
           "2015-06-18",
           "2022-09-17",
           "2938 bloor st w,toronto, on,canada,m8x 1b6",
           "505707 Ontario Ltd"
          ],
          [
           "V27-4536709",
           "2015-06-18",
           "2022-09-17",
           "2938 bloor st w,toronto, on,canada,m8x 1b6",
           "505707 Ontario Ltd"
          ],
          [
           "V27-4536712",
           "2015-06-18",
           "2022-09-17",
           "2938 bloor st w,toronto, on,canada,m8x 1b6",
           "505707 Ontario Ltd"
          ],
          [
           "V27-4536713",
           "2015-06-18",
           "2022-09-17",
           "2938 bloor st w,toronto, on,canada,m8x 1b6",
           "505707 Ontario Ltd"
          ],
          [
           "V27-4536714",
           "2015-06-18",
           "2022-09-17",
           "2938 bloor st w,toronto, on,canada,m8x 1b6",
           "505707 Ontario Ltd"
          ],
          [
           "V27-4536708",
           "2015-06-18",
           "2023-09-19",
           "2938 bloor st w,toronto, on,canada,m8x 1b6",
           "505707 Ontario Ltd"
          ],
          [
           "V27-4306054",
           "2013-04-02",
           null,
           "canada,m8y",
           "Antolak, Danuta Genovefa"
          ],
          [
           "V27-4536710",
           "2015-06-18",
           null,
           "2938 bloor st w,toronto, on,canada,m8x 1b6",
           "505707 Ontario Ltd"
          ],
          [
           "V27-4536711",
           "2015-06-18",
           null,
           "2938 bloor st w,toronto, on,canada,m8x 1b6",
           "505707 Ontario Ltd"
          ],
          [
           "V27-4536715",
           "2015-06-18",
           null,
           "2938 bloor st w,toronto, on,canada,m8x 1b6",
           "505707 Ontario Ltd"
          ],
          [
           "V27-4721967",
           "2017-08-29",
           null,
           "84 advance rd, #1705,toronto, on,canada,m8z 2t7",
           "William Beasley Enterprises Ltd"
          ],
          [
           "V27-4722103",
           "2017-08-29",
           null,
           "84 advance rd, #1705,toronto, on,canada,m8z 2t7",
           "William Beasley Enterprises Ltd"
          ],
          [
           "R56-4422508",
           "2014-05-20",
           "2016-04-19",
           "canada,m8y",
           "Tsiktsiris, Elias Louis"
          ],
          [
           "R56-4648550",
           "2016-04-19",
           "2017-05-15",
           "canada,m8y",
           "Tsiktsiris, Elias Louis"
          ],
          [
           "R56-4720664",
           "2017-05-15",
           "2018-05-09",
           "canada,m8y",
           "Tsiktsiris, Elias Louis"
          ],
          [
           "R56-4720806",
           "2017-05-16",
           "2018-06-11",
           "25 portland st,toronto, on,canada,m8y 1a6",
           "Fresh N Cool Inc"
          ],
          [
           "R56-4720810",
           "2017-05-16",
           "2018-06-11",
           "25 portland st,toronto, on,canada,m8y 1a6",
           "Fresh N Cool Inc"
          ],
          [
           "R56-4830072",
           "2018-05-09",
           "2019-02-01",
           "canada,m8y",
           "Tsiktsiris, Elias Louis"
          ],
          [
           "R56-4839388",
           "2018-06-13",
           "2019-02-01",
           "25 portland st,toronto, on,canada,m8y 1a6",
           "Fresh N Cool Inc"
          ],
          [
           "R56-4940819",
           "2019-05-28",
           "2019-12-06",
           "canada,m8y",
           "Tsiktsiris, Elias Louis"
          ],
          [
           "R56-5211507",
           "2022-06-17",
           "2022-12-24",
           "25 portland st,toronto, on,canada,m8y 1a6",
           "Fresh N Cool Inc"
          ],
          [
           "R56-5332290",
           "2023-07-05",
           "2024-01-12",
           "25 portland st,toronto, on,canada,m8y 1a6",
           "Fresh N Cool Inc"
          ],
          [
           "R56-5343881",
           "2023-08-09",
           null,
           "25 portland st,toronto, on,canada,m8y 1a6",
           "Fresh N Cool Inc"
          ]
         ],
         "hovertemplate": "<b>%{hovertext}</b><br><br>AREA_NAME=Etobicoke-Lakeshore<br>latitude=%{lat}<br>longitude=%{lon}<br>Licence No.=%{customdata[0]}<br>Issued=%{customdata[1]}<br>Cancel Date=%{customdata[2]}<br>address=%{customdata[3]}<br>Client Name=%{customdata[4]}<extra></extra>",
         "hovertext": [
          null,
          null,
          null,
          null,
          null,
          null,
          null,
          null,
          null,
          null,
          "Pita Express",
          "Sprinter Cates",
          "Bj'S Burgery",
          "Pauls Coffee Ltd",
          "Five Star",
          null,
          "Gallant'S Catering",
          "Andy Petrus Snack Truck",
          "Lakeshore West Indian Products",
          null,
          null,
          null,
          "Acai Dreamzz Imports Inc",
          null,
          "Yogen Fruz",
          "Skynex Transport & Brokerage Inc",
          "Tim Hortons",
          "Jamba/Yogen Mobile",
          "Richard'S Catering",
          "Fresh N Cool",
          "Fresh N Cool",
          "Mr Pierogi",
          null,
          "Fresh N Cool",
          "Himalayan Momo",
          "Woodfire Sandwich Company",
          "Wrestlers",
          "Fresh N Cool",
          "Burrito On Wheelz",
          "Kee'S Fine Foods",
          "Pita Express",
          "Sprinter Cates",
          "Fresh N Cool",
          null,
          "Pauls Coffee Ltd",
          "Fresh N Cool",
          "Fresh N Cool",
          "Bj'S Burgery",
          "Heirloom Fine Foods",
          null,
          null,
          null,
          null,
          null,
          null,
          null,
          null,
          null,
          null,
          null,
          null,
          null,
          null,
          null,
          null,
          null,
          null,
          null,
          null,
          null,
          null,
          "Mike'S Hot Dogs",
          null,
          null,
          null,
          null,
          null,
          null,
          null,
          null,
          null,
          null,
          null,
          null,
          "Mike'S Hot Dogs",
          null,
          null,
          null,
          null,
          null,
          null,
          "Total Rent-A-Car Inc",
          null,
          null,
          null,
          null,
          "Banshee Dawgs",
          null,
          null,
          null,
          null,
          null,
          null,
          null,
          null,
          null,
          null,
          null,
          null,
          null,
          null,
          "Beavertails",
          "Beavertails",
          null,
          null,
          null,
          null,
          null,
          null,
          null,
          null,
          null,
          null,
          "Fresh N Cool"
         ],
         "lat": [
          43.62506754,
          43.6389491,
          43.62274319,
          43.60933902,
          43.62049722,
          43.60933902,
          43.62057639,
          43.62057639,
          43.61234238,
          43.62049722,
          43.638918,
          43.62506754,
          43.62872272,
          43.6308223,
          43.63310424,
          43.60125151,
          43.60125151,
          43.60522155,
          43.60522155,
          43.63310424,
          43.63405348,
          43.63310424,
          43.62735638,
          43.6241314,
          43.59979408,
          43.6189052,
          43.6389491,
          43.59979408,
          43.60125151,
          43.62049722,
          43.62049722,
          43.60933902,
          43.63310424,
          43.62049722,
          43.61234238,
          43.59233109,
          43.63190268,
          43.62049722,
          43.62057639,
          43.63856789,
          43.638918,
          43.62506754,
          43.62049722,
          43.64847371,
          43.6308223,
          43.62049722,
          43.62049722,
          43.62872272,
          43.60635401,
          43.60522155,
          43.60522155,
          43.63310424,
          43.63310424,
          43.60522155,
          43.60522155,
          43.63310424,
          43.63310424,
          43.60522155,
          43.63310424,
          43.62506754,
          43.63310424,
          43.60522155,
          43.63405348,
          43.63405348,
          43.63405348,
          43.63405348,
          43.60522155,
          43.6231138,
          43.6231138,
          43.6231138,
          43.63405348,
          43.60125151,
          43.63405348,
          43.63405348,
          43.63405348,
          43.63405348,
          43.63405348,
          43.63405348,
          43.60522155,
          43.63310424,
          43.60522155,
          43.60522155,
          43.60522155,
          43.63310424,
          43.60125151,
          43.63405348,
          43.63405348,
          43.60522155,
          43.63310424,
          43.63310424,
          43.63310424,
          43.6229397,
          43.60522208,
          43.60522155,
          43.63405348,
          43.60522155,
          43.63825428,
          43.60522155,
          43.63310424,
          43.60125151,
          43.63310424,
          43.64847371,
          43.64847371,
          43.64847371,
          43.64847371,
          43.64847371,
          43.64847371,
          43.63310424,
          43.64847371,
          43.64847371,
          43.64847371,
          43.63528709,
          43.63528709,
          43.63310424,
          43.63310424,
          43.63310424,
          43.62049722,
          43.62049722,
          43.63310424,
          43.62049722,
          43.63310424,
          43.62049722,
          43.62049722,
          43.62049722
         ],
         "legendgroup": "Etobicoke-Lakeshore",
         "lon": [
          -79.52377807,
          -79.53026,
          -79.48193439,
          -79.55756037,
          -79.4921744,
          -79.55756037,
          -79.50150538,
          -79.50150538,
          -79.48915381,
          -79.4921744,
          -79.4935704,
          -79.52377807,
          -79.54080561,
          -79.47530624,
          -79.49468235,
          -79.53964363,
          -79.53964363,
          -79.50349528,
          -79.50349528,
          -79.49468235,
          -79.5062368,
          -79.49468235,
          -79.50361988,
          -79.4880676,
          -79.53437753,
          -79.54757006,
          -79.53026,
          -79.53437753,
          -79.53964363,
          -79.4921744,
          -79.4921744,
          -79.55756037,
          -79.49468235,
          -79.4921744,
          -79.48915381,
          -79.54188168,
          -79.53068572,
          -79.4921744,
          -79.50150538,
          -79.51085288,
          -79.4935704,
          -79.52377807,
          -79.4921744,
          -79.50762124,
          -79.47530624,
          -79.4921744,
          -79.4921744,
          -79.54080561,
          -79.52359698,
          -79.50349528,
          -79.50349528,
          -79.49468235,
          -79.49468235,
          -79.50349528,
          -79.50349528,
          -79.49468235,
          -79.49468235,
          -79.50349528,
          -79.49468235,
          -79.52377807,
          -79.49468235,
          -79.50349528,
          -79.5062368,
          -79.5062368,
          -79.5062368,
          -79.5062368,
          -79.50349528,
          -79.50504037,
          -79.50504037,
          -79.50504037,
          -79.5062368,
          -79.53964363,
          -79.5062368,
          -79.5062368,
          -79.5062368,
          -79.5062368,
          -79.5062368,
          -79.5062368,
          -79.50349528,
          -79.49468235,
          -79.50349528,
          -79.50349528,
          -79.50349528,
          -79.49468235,
          -79.53964363,
          -79.5062368,
          -79.5062368,
          -79.50349528,
          -79.49468235,
          -79.49468235,
          -79.49468235,
          -79.54037889,
          -79.49632679,
          -79.50349528,
          -79.5062368,
          -79.50349528,
          -79.53984303,
          -79.50349528,
          -79.49468235,
          -79.53964363,
          -79.49468235,
          -79.50762124,
          -79.50762124,
          -79.50762124,
          -79.50762124,
          -79.50762124,
          -79.50762124,
          -79.49468235,
          -79.50762124,
          -79.50762124,
          -79.50762124,
          -79.52356622,
          -79.52356622,
          -79.49468235,
          -79.49468235,
          -79.49468235,
          -79.4921744,
          -79.4921744,
          -79.49468235,
          -79.4921744,
          -79.49468235,
          -79.4921744,
          -79.4921744,
          -79.4921744
         ],
         "marker": {
          "color": "#FF97FF"
         },
         "mode": "markers",
         "name": "Etobicoke-Lakeshore",
         "showlegend": true,
         "subplot": "mapbox",
         "type": "scattermapbox"
        },
        {
         "customdata": [
          [
           "R54-4649458",
           "2016-05-10",
           "2017-10-10",
           "169 fort york blvd, #1206,toronto, on,canada,m5v 0c8",
           "Taco Truck Inc"
          ],
          [
           "R54-4702619",
           "2017-01-18",
           "2017-10-10",
           "322 adelaide st w,toronto, on,canada,m5v 1r1",
           "1818216 Ontario Inc"
          ],
          [
           "R54-4711919",
           "2017-03-15",
           "2017-10-10",
           "canada,m5v",
           "Jaber, Tarek"
          ],
          [
           "R54-4721023",
           "2017-05-17",
           "2018-05-16",
           "169 fort york blvd, #1206,toronto, on,canada,m5v 0c8",
           "Taco Truck Inc"
          ],
          [
           "R54-4729227",
           "2017-07-17",
           "2019-01-31",
           "322 adelaide st w,toronto, on,canada,m5v 1r1",
           "1818216 Ontario Inc"
          ],
          [
           "R54-4831940",
           "2018-05-16",
           "2019-01-31",
           "169 fort york blvd, #1206,toronto, on,canada,m5v 0c8",
           "Taco Truck Inc"
          ],
          [
           "R54-4937922",
           "2019-05-17",
           "2019-11-26",
           "169 fort york blvd, #1206,toronto, on,canada,m5v 0c8",
           "Taco Truck Inc"
          ],
          [
           "R54-4952106",
           "2019-07-10",
           "2020-01-18",
           "322 adelaide st w,toronto, on,canada,m5v 1r1",
           "1818216 Ontario Inc"
          ],
          [
           "R54-5025991",
           "2020-07-29",
           "2021-05-14",
           "160 bellwoods ave,toronto, on,canada,m6j 2p4",
           "Harry'S Dive Bar Ltd"
          ],
          [
           "R54-5235804",
           "2022-11-04",
           "2023-11-10",
           "21 nelson st, lph08,toronto, on,canada,m5v 3h9",
           "Macro'S Restaurant Ltd"
          ],
          [
           "V15-0015667",
           "1986-06-27",
           "2007-09-27",
           "canada,m6j",
           "Farley, Jennette"
          ],
          [
           "V15-4181062",
           "2011-05-05",
           "2012-08-05",
           "canada,m5v",
           "Kis, Renata"
          ],
          [
           "V15-4181513",
           "2011-05-06",
           "2012-08-06",
           "canada,m5v",
           "Kis, Renata"
          ],
          [
           "V15-4296469",
           "2012-07-20",
           "2013-10-20",
           "canada,m5v",
           "Cherniawski, Peter"
          ],
          [
           "V15-4316019",
           "2013-12-17",
           "2015-03-19",
           "canada,m5v",
           "Vallaei-Bakhshesh, Hashem"
          ],
          [
           "V15-4422537",
           "2014-06-19",
           "2016-09-19",
           "573 queen st w,toronto, on,canada,m5v 2b6",
           "B Good Canada Ulc"
          ],
          [
           "V15-4419416",
           "2014-04-09",
           "2017-01-05",
           "170 spadina ave,toronto, on,canada,m5t 2c2",
           "1862072 Ontario Inc"
          ],
          [
           "V15-4710462",
           "2017-03-09",
           "2018-06-09",
           "canada,m5v",
           "Jaber, Tarek"
          ],
          [
           "V15-4717823",
           "2017-05-25",
           "2018-07-17",
           "170 spadina ave,toronto, on,canada,m5t 2c2",
           "1862072 Ontario Inc"
          ],
          [
           "V15-4737524",
           "2017-09-19",
           "2018-12-20",
           "canada,m5e",
           "Vo, Kim Xuyen"
          ],
          [
           "V15-4744963",
           "2017-10-27",
           "2019-01-27",
           "231 fort york blvd, #819,toronto, on,canada,m5v 1b2",
           "Breaking Balls Inc"
          ],
          [
           "V15-4701448",
           "2017-01-18",
           "2019-04-20",
           "322 adelaide st w,toronto, on,canada,m5v 1r1",
           "1818216 Ontario Inc"
          ],
          [
           "V15-3250316",
           "2002-09-24",
           "2019-12-25",
           "canada,m5v",
           "Keene, Harry Patrick"
          ],
          [
           "V15-4925590",
           "2019-04-15",
           "2020-11-03",
           "125 western battery rd, #2616,toronto, on,canada,m6k 3r8",
           "On North Holding Inc"
          ],
          [
           "V15-4944438",
           "2019-06-11",
           "2020-11-03",
           "231 fort york blvd, #819,toronto, on,canada,m5v 1b2",
           "Breaking Balls Inc"
          ],
          [
           "V15-4949749",
           "2019-07-02",
           "2020-11-03",
           "322 adelaide st w,toronto, on,canada,m5v 1r1",
           "1818216 Ontario Inc"
          ],
          [
           "V15-5025989",
           "2020-07-29",
           "2021-12-30",
           "160 bellwoods ave,toronto, on,canada,m6j 2p4",
           "Harry'S Dive Bar Ltd"
          ],
          [
           "V15-4646902",
           "2016-05-06",
           null,
           "169 fort york blvd, #1206,toronto, on,canada,m5v 0c8",
           "Taco Truck Inc"
          ],
          [
           "V15-4831932",
           "2018-05-16",
           null,
           "169 fort york blvd, #1206,toronto, on,canada,m5v 0c8",
           "Taco Truck Inc"
          ],
          [
           "V15-5115108",
           "2021-06-01",
           null,
           "9 sudbury st, #902,toronto, on,canada,m6j 3w6",
           "Zamanian,Androulla/Zamanian,Aras"
          ],
          [
           "V15-5320756",
           "2023-05-04",
           null,
           "canada,m5v",
           "Badar, Naveed E Sahar"
          ],
          [
           "V15-5234702",
           "2022-11-01",
           null,
           "21 nelson st, lph08,toronto, on,canada,m5v 3h9",
           "Macro'S Restaurant Ltd"
          ],
          [
           "V27-0016046",
           "1986-09-05",
           "2005-12-06",
           "canada,m6j",
           "Manfredi, Anthony Frank"
          ],
          [
           "V27-3588415",
           "2005-01-13",
           "2006-04-15",
           "300 richmond st w,toronto, on,canada,m5v 1x2",
           "1303025 Ontario Ltd"
          ],
          [
           "V27-3247213",
           "2002-07-29",
           "2008-10-29",
           "canada,m6j",
           "Aziz, Salih Sabir"
          ],
          [
           "V27-3835806",
           "2008-04-01",
           "2010-07-02",
           "canada,m6j",
           "Ramires, Jeffrey C"
          ],
          [
           "V27-3731919",
           "2007-12-21",
           "2011-03-23",
           "340 richmond st w,toronto, on,canada,m5v 1x2",
           "2155968 Ontario Corp"
          ],
          [
           "V27-0013522",
           "1985-05-14",
           "2012-06-28",
           "canada,m5v",
           "Karagianis, Spiridon"
          ],
          [
           "V27-0015758",
           "1986-07-10",
           "2012-06-28",
           "canada,m5v",
           "Karagianis, Spiridon"
          ],
          [
           "V27-4424821",
           "2014-07-23",
           "2015-10-23",
           "317 dundas st w,toronto, on,canada,m5t 1g4",
           "Art Gallery Of Ontario"
          ],
          [
           "V27-4423627",
           "2014-06-13",
           "2016-01-08",
           "171 east liberty st, #127a,toronto, on,canada,m6k 3p6",
           "Oats & Ivy Inc"
          ],
          [
           "V27-4426700",
           "2014-10-31",
           "2017-01-31",
           "778 king st w,toronto, on,canada,m5v 1n6",
           "Coco And Cowe Inc"
          ],
          [
           "V27-4656701",
           "2016-08-19",
           "2017-11-19",
           "485 king st w,toronto, on,canada,m5v 1k4",
           "2357426 Ontario Inc"
          ],
          [
           "V27-4729268",
           "2017-07-17",
           "2018-10-17",
           "43 hanna ave, #722,toronto, on,canada,m6k 1x1",
           "Bam Frosted Luxury Corp"
          ],
          [
           "V27-4729285",
           "2017-07-17",
           "2018-10-17",
           "43 hanna ave, #722,toronto, on,canada,m6k 1x1",
           "Bam Frosted Luxury Corp"
          ],
          [
           "V27-4729286",
           "2017-07-17",
           "2018-10-17",
           "43 hanna ave, #722,toronto, on,canada,m6k 1x1",
           "Bam Frosted Luxury Corp"
          ],
          [
           "V27-4729288",
           "2017-07-17",
           "2018-10-17",
           "43 hanna ave, #722,toronto, on,canada,m6k 1x1",
           "Bam Frosted Luxury Corp"
          ],
          [
           "V27-4653682",
           "2016-07-20",
           "2018-10-20",
           "147 spadina ave, #106,toronto, on,canada,m5v 2l7",
           "Fresh On Spadina Ltd"
          ],
          [
           "V27-4824133",
           "2018-06-15",
           "2019-09-15",
           "255 front st w,toronto, on,canada,m5v 2w6",
           "Cashew And Clive Catering Corp"
          ],
          [
           "V27-4841521",
           "2018-07-03",
           "2019-10-03",
           "11 brunel crt, #3211,toronto, on,canada,m5v 3y3",
           "Christoforou,Danielle/Metaxas,Alexander"
          ],
          [
           "V27-4849051",
           "2018-07-27",
           "2019-10-27",
           "canada,m6j",
           "Graham, William Crysdale"
          ],
          [
           "V27-4843149",
           "2018-10-29",
           "2020-01-29",
           "canada,m6j",
           "Payne, Stephen Edward"
          ],
          [
           "V27-4719443",
           "2017-05-05",
           "2020-11-03",
           "canada,m6j",
           "Costa, Anthony Antonio Junior"
          ],
          [
           "V27-4841524",
           "2018-07-03",
           "2020-11-03",
           "11 brunel crt, #3211,toronto, on,canada,m5v 3y3",
           "Christoforou,Danielle/Metaxas,Alexander"
          ],
          [
           "V27-4739643",
           "2017-12-18",
           null,
           "317 adelaide st w, #900,toronto, on,canada,m5v 1p9",
           "Wahlburgers Canada Partners Ltd"
          ],
          [
           "V27-5203595",
           "2022-05-06",
           null,
           "19 ossington ave,toronto, on,canada,m6j 2y8",
           "Seoulchild Inc"
          ],
          [
           "V27-5230220",
           "2022-10-13",
           null,
           "19 ossington ave,toronto, on,canada,m6j 2y8",
           "Boom Chimney! Corp"
          ]
         ],
         "hovertemplate": "<b>%{hovertext}</b><br><br>AREA_NAME=Spadina-Fort York<br>latitude=%{lat}<br>longitude=%{lon}<br>Licence No.=%{customdata[0]}<br>Issued=%{customdata[1]}<br>Cancel Date=%{customdata[2]}<br>address=%{customdata[3]}<br>Client Name=%{customdata[4]}<extra></extra>",
         "hovertext": [
          null,
          null,
          null,
          null,
          null,
          null,
          null,
          null,
          null,
          null,
          null,
          null,
          null,
          null,
          "Raptour",
          "B Good Canada",
          "Bacon Nation",
          "Alijandros Food Truck",
          "Bacon Nation",
          "North Saigon",
          "Breakin' Balls Food Truck",
          "Ravisoups",
          null,
          "Pancake To Take",
          "Breakin' Balls Food Truck",
          "Ravi Kitchen",
          "Harry'S Charbroiled",
          "Taco Truck Inc",
          "Taco Truck Inc",
          "Coffee Brake",
          "Starry Bites",
          "Macro'S Restaurant",
          "Streatibles",
          "Lou Food",
          null,
          "Jeff'S Vending",
          "2155968 Ontario Corp",
          null,
          null,
          "Art Gallery Of Ontario",
          "Oats & Ivy",
          "Coco And Cowe",
          "Valdez",
          "Bam",
          "Bam",
          "Bam",
          "Bam",
          "Fresh On Spadina",
          "Cashew And Clive Catering",
          "Citypops",
          "Will'S Chills",
          "Kungfu Dawg",
          "When Jete Met Pete",
          "Citypops",
          "Wahlburgers Canada Partners Ltd",
          "Seoulchild",
          "Boom Chimney!"
         ],
         "lat": [
          43.63838722,
          43.64771372,
          43.64152497,
          43.63838722,
          43.64771372,
          43.63838722,
          43.63838722,
          43.64771372,
          43.65039978,
          43.64887901,
          43.64805582,
          43.64152497,
          43.64152497,
          43.64152497,
          43.64152497,
          43.6475905,
          43.64912171,
          43.64152497,
          43.64912171,
          43.64539534,
          43.63697939,
          43.64771372,
          43.64152497,
          43.63987651,
          43.63697939,
          43.64771372,
          43.65039978,
          43.63838722,
          43.63838722,
          43.64101968,
          43.64152497,
          43.64887901,
          43.64805582,
          43.64914141,
          43.64805582,
          43.64805582,
          43.64888312,
          43.64152497,
          43.64152497,
          43.65352011,
          43.6383246,
          43.6435091,
          43.64486639,
          43.63916279,
          43.63916279,
          43.63916279,
          43.63916279,
          43.64808512,
          43.6440582,
          43.6393446,
          43.64805582,
          43.64805582,
          43.64805582,
          43.6393446,
          43.6472256,
          43.6447052,
          43.6447052
         ],
         "legendgroup": "Spadina-Fort York",
         "lon": [
          -79.40106386,
          -79.39205541,
          -79.39726033,
          -79.40106386,
          -79.39205541,
          -79.40106386,
          -79.40106386,
          -79.39205541,
          -79.41287002,
          -79.38804434,
          -79.41765564,
          -79.39726033,
          -79.39726033,
          -79.39726033,
          -79.39726033,
          -79.40100812,
          -79.39690141,
          -79.39726033,
          -79.39690141,
          -79.37329688,
          -79.40607867,
          -79.39205541,
          -79.39726033,
          -79.41673718,
          -79.40607867,
          -79.39205541,
          -79.41287002,
          -79.40106386,
          -79.40106386,
          -79.4185548,
          -79.39726033,
          -79.38804434,
          -79.41765564,
          -79.39166213,
          -79.41765564,
          -79.41765564,
          -79.39299469,
          -79.39726033,
          -79.39726033,
          -79.39257299,
          -79.4177959,
          -79.40602729,
          -79.39696863,
          -79.41918914,
          -79.41918914,
          -79.41918914,
          -79.41918914,
          -79.3955997,
          -79.38672402,
          -79.39297164,
          -79.41765564,
          -79.41765564,
          -79.41765564,
          -79.39297164,
          -79.39230519,
          -79.41872512,
          -79.41872512
         ],
         "marker": {
          "color": "#FECB52"
         },
         "mode": "markers",
         "name": "Spadina-Fort York",
         "showlegend": true,
         "subplot": "mapbox",
         "type": "scattermapbox"
        },
        {
         "customdata": [
          [
           "R54-4653732",
           "2016-07-19",
           "2017-10-10",
           "37 melody rd,toronto, on,canada,m9m 1c9",
           "393586 Ontario Ltd"
          ],
          [
           "R54-4868541",
           "2018-09-26",
           "2019-08-16",
           "100 marmora st, #200,toronto, on,canada,m9m 2x5",
           "La Colombiana Food Services Inc"
          ],
          [
           "V15-3011376",
           "1997-09-25",
           "2003-02-06",
           "canada,m9l",
           "Deluca, Robert"
          ],
          [
           "V15-3095120",
           "1999-10-22",
           "2003-02-10",
           "230 milvan dr,toronto, on,canada,m9l 2a5",
           "Toryork Catering (1988) Ltd"
          ],
          [
           "V15-3107328",
           "2000-04-27",
           "2003-02-10",
           "230 milvan dr,toronto, on,canada,m9l 2a5",
           "Toryork Catering (1988) Ltd"
          ],
          [
           "V15-3109622",
           "2000-06-27",
           "2003-02-10",
           "230 milvan dr,toronto, on,canada,m9l 2a5",
           "Toryork Catering (1988) Ltd"
          ],
          [
           "V15-3007061",
           "1997-07-10",
           "2003-05-02",
           "230 milvan dr,toronto, on,canada,m9l 2a5",
           "Toryork Catering (1988) Ltd"
          ],
          [
           "V15-3082995",
           "1998-04-07",
           "2003-05-02",
           "32 jasmine rd,toronto, on,canada,m9m 2p9",
           "Best Treats Inc"
          ],
          [
           "V15-0004018",
           "1973-03-23",
           "2003-06-11",
           "195 oakdale rd,toronto, on,canada,m3n 1w4",
           "Joe'S Snack Service Ltd"
          ],
          [
           "V15-3005896",
           "1997-05-13",
           "2004-04-06",
           "230 milvan dr,toronto, on,canada,m9l 2a5",
           "Toryork Catering (1988) Ltd"
          ],
          [
           "V15-3242197",
           "2002-06-26",
           "2004-04-06",
           "230 milvan dr,toronto, on,canada,m9l 2a5",
           "Toryork Catering (1988) Ltd"
          ],
          [
           "V15-3110205",
           "2000-10-04",
           "2006-01-04",
           "canada,m9m",
           "Vidiri, Angelo"
          ],
          [
           "V15-3005906",
           "1997-05-13",
           "2006-05-05",
           "230 milvan dr,toronto, on,canada,m9l 2a5",
           "Toryork Catering (1988) Ltd"
          ],
          [
           "V15-3116506",
           "2000-11-22",
           "2006-05-05",
           "230 milvan dr,toronto, on,canada,m9l 2a5",
           "Toryork Catering (1988) Ltd"
          ],
          [
           "V15-0003994",
           "1974-04-23",
           "2006-07-24",
           "195 oakdale rd,toronto, on,canada,m3n 1w4",
           "Joe'S Snack Service Ltd"
          ],
          [
           "V15-3245340",
           "2002-06-12",
           "2006-09-12",
           "canada,m9l",
           "Parbhakar, Rajesh"
          ],
          [
           "V15-3007521",
           "1997-06-18",
           "2006-09-13",
           "230 milvan dr,toronto, on,canada,m9l 2a5",
           "Toryork Catering (1988) Ltd"
          ],
          [
           "V15-3361249",
           "2004-04-01",
           "2006-09-13",
           "230 milvan dr,toronto, on,canada,m9l 2a5",
           "Toryork Catering (1988) Ltd"
          ],
          [
           "V15-3087585",
           "1998-07-30",
           "2006-10-30",
           "195 oakdale rd,toronto, on,canada,m3n 1w4",
           "Joe'S Snack Service Ltd"
          ],
          [
           "V15-3088588",
           "1998-10-14",
           "2007-01-14",
           "195 oakdale rd,toronto, on,canada,m3n 1w4",
           "Joe'S Snack Service Ltd"
          ],
          [
           "V15-3243853",
           "2002-11-12",
           "2007-02-12",
           "195 oakdale rd,toronto, on,canada,m3n 1w4",
           "Joe'S Snack Service Ltd"
          ],
          [
           "V15-0004026",
           "1973-03-23",
           "2007-06-23",
           "195 oakdale rd,toronto, on,canada,m3n 1w4",
           "Joe'S Snack Service Ltd"
          ],
          [
           "V15-0004091",
           "1973-03-23",
           "2007-06-23",
           "195 oakdale rd,toronto, on,canada,m3n 1w4",
           "Joe'S Snack Service Ltd"
          ],
          [
           "V15-0004117",
           "1973-03-23",
           "2007-06-23",
           "195 oakdale rd,toronto, on,canada,m3n 1w4",
           "Joe'S Snack Service Ltd"
          ],
          [
           "V15-3593351",
           "2006-05-05",
           "2007-08-05",
           "230 milvan dr,toronto, on,canada,m9l 2a5",
           "Toryork Catering (1988) Ltd"
          ],
          [
           "V15-3593353",
           "2006-05-05",
           "2007-08-05",
           "230 milvan dr,toronto, on,canada,m9l 2a5",
           "Toryork Catering (1988) Ltd"
          ],
          [
           "V15-3127370",
           "2001-07-04",
           "2007-10-04",
           "230 milvan dr,toronto, on,canada,m9l 2a5",
           "Toryork Catering (1988) Ltd"
          ],
          [
           "V15-3617999",
           "2007-03-30",
           "2008-06-30",
           "canada,m9m",
           "Vidiri, Angelo"
          ],
          [
           "V15-3842968",
           "2008-10-23",
           "2009-10-08",
           "185 oakdale rd,toronto, on,canada,m3n 1w4",
           "Ajrs Holdings Inc"
          ],
          [
           "V15-3844818",
           "2008-11-26",
           "2009-10-08",
           "185 oakdale rd,toronto, on,canada,m3n 1w4",
           "Ajrs Holdings Inc"
          ],
          [
           "V15-3727849",
           "2007-08-17",
           "2009-11-17",
           "3025 weston rd,toronto, on,canada,m9m 2t1",
           "Morpho-Tech Inc"
          ],
          [
           "V15-3728576",
           "2007-09-26",
           "2009-12-27",
           "185 oakdale rd,toronto, on,canada,m3n 1w4",
           "Ajrs Holdings Inc"
          ],
          [
           "V15-3728582",
           "2007-09-26",
           "2009-12-27",
           "185 oakdale rd,toronto, on,canada,m3n 1w4",
           "Ajrs Holdings Inc"
          ],
          [
           "V15-3728585",
           "2007-09-26",
           "2009-12-27",
           "185 oakdale rd,toronto, on,canada,m3n 1w4",
           "Ajrs Holdings Inc"
          ],
          [
           "V15-3728586",
           "2007-09-26",
           "2009-12-27",
           "185 oakdale rd,toronto, on,canada,m3n 1w4",
           "Ajrs Holdings Inc"
          ],
          [
           "V15-3728588",
           "2007-09-26",
           "2009-12-27",
           "185 oakdale rd,toronto, on,canada,m3n 1w4",
           "Ajrs Holdings Inc"
          ],
          [
           "V15-3728589",
           "2007-09-26",
           "2009-12-27",
           "185 oakdale rd,toronto, on,canada,m3n 1w4",
           "Ajrs Holdings Inc"
          ],
          [
           "V15-3728591",
           "2007-09-26",
           "2009-12-27",
           "185 oakdale rd,toronto, on,canada,m3n 1w4",
           "Ajrs Holdings Inc"
          ],
          [
           "V15-3728595",
           "2007-09-26",
           "2009-12-27",
           "185 oakdale rd,toronto, on,canada,m3n 1w4",
           "Ajrs Holdings Inc"
          ],
          [
           "V15-3728600",
           "2007-09-26",
           "2009-12-27",
           "185 oakdale rd,toronto, on,canada,m3n 1w4",
           "Ajrs Holdings Inc"
          ],
          [
           "V15-3728604",
           "2007-09-26",
           "2009-12-27",
           "185 oakdale rd,toronto, on,canada,m3n 1w4",
           "Ajrs Holdings Inc"
          ],
          [
           "V15-3728606",
           "2007-09-26",
           "2009-12-27",
           "185 oakdale rd,toronto, on,canada,m3n 1w4",
           "Ajrs Holdings Inc"
          ],
          [
           "V15-3728607",
           "2007-09-26",
           "2009-12-27",
           "185 oakdale rd,toronto, on,canada,m3n 1w4",
           "Ajrs Holdings Inc"
          ],
          [
           "V15-3728611",
           "2007-09-26",
           "2009-12-27",
           "185 oakdale rd,toronto, on,canada,m3n 1w4",
           "Ajrs Holdings Inc"
          ],
          [
           "V15-3728612",
           "2007-09-26",
           "2009-12-27",
           "185 oakdale rd,toronto, on,canada,m3n 1w4",
           "Ajrs Holdings Inc"
          ],
          [
           "V15-3728613",
           "2007-09-26",
           "2009-12-27",
           "185 oakdale rd,toronto, on,canada,m3n 1w4",
           "Ajrs Holdings Inc"
          ],
          [
           "V15-3728614",
           "2007-09-26",
           "2009-12-27",
           "185 oakdale rd,toronto, on,canada,m3n 1w4",
           "Ajrs Holdings Inc"
          ],
          [
           "V15-3728615",
           "2007-09-26",
           "2009-12-27",
           "185 oakdale rd,toronto, on,canada,m3n 1w4",
           "Ajrs Holdings Inc"
          ],
          [
           "V15-3593355",
           "2006-12-28",
           "2010-02-19",
           "230 milvan dr,toronto, on,canada,m9l 2a5",
           "Toryork Catering (1988) Ltd"
          ],
          [
           "V15-3957787",
           "2009-10-08",
           "2011-01-08",
           "172 milvan dr,toronto, on,canada,m9l 1z9",
           "Racco Industrial Catering Ltd"
          ],
          [
           "V15-3729238",
           "2007-11-01",
           "2011-02-01",
           "5601 steeles ave w, #9,toronto, on,canada,m9l 1s7",
           "Black Vinyl Holdings Group Inc"
          ],
          [
           "V15-3729239",
           "2007-11-01",
           "2011-03-01",
           "21 toryork dr,toronto, on,canada,m9l 1x9",
           "Black Vinyl Holdings Group Inc"
          ],
          [
           "V15-3597329",
           "2007-01-18",
           "2011-04-20",
           "230 milvan dr,toronto, on,canada,m9l 2a5",
           "Toryork Catering (1988) Ltd"
          ],
          [
           "V15-3833412",
           "2010-02-19",
           "2011-05-22",
           "230 milvan dr,toronto, on,canada,m9l 2a5",
           "Toryork Catering (1988) Ltd"
          ],
          [
           "V15-3833409",
           "2010-03-10",
           "2011-06-10",
           "230 milvan dr,toronto, on,canada,m9l 2a5",
           "Toryork Catering (1988) Ltd"
          ],
          [
           "V15-3608251",
           "2006-04-12",
           "2011-07-13",
           "canada,m3n",
           "Abranko, Magdolna"
          ],
          [
           "V15-3957794",
           "2009-10-08",
           "2012-01-08",
           "172 milvan dr,toronto, on,canada,m9l 1z9",
           "Racco Industrial Catering Ltd"
          ],
          [
           "V15-3958874",
           "2009-10-08",
           "2012-01-08",
           "172 milvan dr,toronto, on,canada,m9l 1z9",
           "Racco Industrial Catering Ltd"
          ],
          [
           "V15-3957799",
           "2009-10-14",
           "2012-01-14",
           "172 milvan dr,toronto, on,canada,m9l 1z9",
           "Racco Industrial Catering Ltd"
          ],
          [
           "V15-3729247",
           "2007-11-01",
           "2012-02-01",
           "21 toryork dr,toronto, on,canada,m9l 1x9",
           "Black Vinyl Holdings Group Inc"
          ],
          [
           "V15-3961311",
           "2009-12-02",
           "2012-03-03",
           "172 milvan dr,toronto, on,canada,m9l 1z9",
           "Racco Industrial Catering Ltd"
          ],
          [
           "V15-3952200",
           "2009-05-06",
           "2012-05-10",
           "canada,m9m",
           "Dini Suero, Avelino"
          ],
          [
           "V15-3095984",
           "1999-05-28",
           "2012-08-28",
           "3025 weston rd,toronto, on,canada,m9m 2t1",
           "Morpho-Tech Inc"
          ],
          [
           "V15-3957803",
           "2009-10-08",
           "2013-01-08",
           "172 milvan dr,toronto, on,canada,m9l 1z9",
           "Racco Industrial Catering Ltd"
          ],
          [
           "V15-3958881",
           "2009-10-08",
           "2013-01-08",
           "172 milvan dr,toronto, on,canada,m9l 1z9",
           "Racco Industrial Catering Ltd"
          ],
          [
           "V15-3729244",
           "2007-11-01",
           "2013-02-01",
           "21 toryork dr,toronto, on,canada,m9l 1x9",
           "Black Vinyl Holdings Group Inc"
          ],
          [
           "V15-3597303",
           "2006-12-28",
           "2013-03-31",
           "230 milvan dr,toronto, on,canada,m9l 2a5",
           "Toryork Catering (1988) Ltd"
          ],
          [
           "V15-4180423",
           "2011-04-26",
           "2013-07-27",
           "canada,m9m",
           "Dini Suero, Avelino"
          ],
          [
           "V15-3957795",
           "2009-10-08",
           "2014-01-08",
           "172 milvan dr,toronto, on,canada,m9l 1z9",
           "Racco Industrial Catering Ltd"
          ],
          [
           "V15-3957797",
           "2009-10-08",
           "2014-01-08",
           "172 milvan dr,toronto, on,canada,m9l 1z9",
           "Racco Industrial Catering Ltd"
          ],
          [
           "V15-3957800",
           "2009-10-08",
           "2014-01-08",
           "172 milvan dr,toronto, on,canada,m9l 1z9",
           "Racco Industrial Catering Ltd"
          ],
          [
           "V15-3958885",
           "2009-10-08",
           "2014-01-08",
           "172 milvan dr,toronto, on,canada,m9l 1z9",
           "Racco Industrial Catering Ltd"
          ],
          [
           "V15-4066933",
           "2010-04-20",
           "2014-07-01",
           "172 milvan dr,toronto, on,canada,m9l 1z9",
           "Racco Industrial Catering Ltd"
          ],
          [
           "V15-3957925",
           "2009-09-16",
           "2014-08-26",
           "11 primula cres,toronto, on,canada,m9l 1j9",
           "C R D Catering Ltd"
          ],
          [
           "V15-3729248",
           "2007-11-01",
           "2014-12-23",
           "21 toryork dr,toronto, on,canada,m9l 1x9",
           "Black Vinyl Holdings Group Inc"
          ],
          [
           "V15-3729250",
           "2007-11-01",
           "2014-12-23",
           "21 toryork dr,toronto, on,canada,m9l 1x9",
           "Black Vinyl Holdings Group Inc"
          ],
          [
           "V15-3729251",
           "2007-11-01",
           "2014-12-23",
           "21 toryork dr,toronto, on,canada,m9l 1x9",
           "Black Vinyl Holdings Group Inc"
          ],
          [
           "V15-3729666",
           "2007-11-01",
           "2014-12-23",
           "21 toryork dr,toronto, on,canada,m9l 1x9",
           "Black Vinyl Holdings Group Inc"
          ],
          [
           "V15-3957802",
           "2009-10-08",
           "2015-01-08",
           "172 milvan dr,toronto, on,canada,m9l 1z9",
           "Racco Industrial Catering Ltd"
          ],
          [
           "V15-3959089",
           "2009-10-14",
           "2015-01-14",
           "172 milvan dr,toronto, on,canada,m9l 1z9",
           "Racco Industrial Catering Ltd"
          ],
          [
           "V15-3729663",
           "2007-11-01",
           "2015-02-01",
           "21 toryork dr,toronto, on,canada,m9l 1x9",
           "Black Vinyl Holdings Group Inc"
          ],
          [
           "V15-3102189",
           "1999-11-18",
           "2015-02-18",
           "230 milvan dr,toronto, on,canada,m9l 2a5",
           "Toryork Catering (1988) Ltd"
          ],
          [
           "V15-4295249",
           "2012-07-04",
           "2015-10-04",
           "21 toryork dr,toronto, on,canada,m9l 1x9",
           "Black Vinyl Holdings Group Inc"
          ],
          [
           "V15-3957781",
           "2009-10-08",
           "2016-01-08",
           "172 milvan dr,toronto, on,canada,m9l 1z9",
           "Racco Industrial Catering Ltd"
          ],
          [
           "V15-3957791",
           "2009-10-08",
           "2016-01-08",
           "172 milvan dr,toronto, on,canada,m9l 1z9",
           "Racco Industrial Catering Ltd"
          ],
          [
           "V15-3957793",
           "2009-10-08",
           "2016-01-08",
           "172 milvan dr,toronto, on,canada,m9l 1z9",
           "Racco Industrial Catering Ltd"
          ],
          [
           "V15-3957804",
           "2009-10-08",
           "2016-01-08",
           "172 milvan dr,toronto, on,canada,m9l 1z9",
           "Racco Industrial Catering Ltd"
          ],
          [
           "V15-3958876",
           "2009-10-08",
           "2016-01-08",
           "172 milvan dr,toronto, on,canada,m9l 1z9",
           "Racco Industrial Catering Ltd"
          ],
          [
           "V15-3958883",
           "2009-10-08",
           "2016-01-08",
           "172 milvan dr,toronto, on,canada,m9l 1z9",
           "Racco Industrial Catering Ltd"
          ],
          [
           "V15-3959143",
           "2009-10-14",
           "2016-01-14",
           "172 milvan dr,toronto, on,canada,m9l 1z9",
           "Racco Industrial Catering Ltd"
          ],
          [
           "V15-4422651",
           "2014-05-23",
           "2016-08-23",
           "15 london green crt, #404,toronto, on,canada,m3n 1k4",
           "Baranyi Robertne Corp"
          ],
          [
           "V15-4537144",
           "2015-06-11",
           "2016-09-11",
           "15 london green crt, #404,toronto, on,canada,m3n 1k4",
           "Baranyi Robertne Corp"
          ],
          [
           "V15-4541397",
           "2015-09-23",
           "2016-12-24",
           "49 romfield dr,toronto, on,canada,m3j 1k2",
           "Paul,Omesh/Persaud,Monita"
          ],
          [
           "V15-4426859",
           "2014-10-02",
           "2017-01-02",
           "canada,m9l",
           "Oppedisano, Elisa"
          ],
          [
           "V15-4652838",
           "2016-07-18",
           "2017-10-18",
           "37 melody rd,toronto, on,canada,m9m 1c9",
           "393586 Ontario Ltd"
          ],
          [
           "V15-4201333",
           "2012-11-05",
           "2018-02-05",
           "78 signet dr, #201,toronto, on,canada,m9l 1t2",
           "Lettieri Food Services Inc"
          ],
          [
           "V15-4295287",
           "2012-05-10",
           "2018-08-10",
           "canada,m9m",
           "Santana De Villanueva, Ceferina"
          ],
          [
           "V15-0000470",
           "2000-11-22",
           "2018-09-07",
           "230 milvan dr,toronto, on,canada,m9l 2a5",
           "Toryork Catering (1988) Ltd"
          ],
          [
           "V15-3833413",
           "2010-02-19",
           "2018-09-07",
           "230 milvan dr,toronto, on,canada,m9l 2a5",
           "Toryork Catering (1988) Ltd"
          ],
          [
           "V15-3362682",
           "2003-06-11",
           "2019-10-19",
           "3025 weston rd,toronto, on,canada,m9m 2t1",
           "Morpho-Tech Inc"
          ],
          [
           "V15-4868041",
           "2018-09-26",
           "2019-12-27",
           "100 marmora st, #200,toronto, on,canada,m9m 2x5",
           "La Colombiana Food Services Inc"
          ],
          [
           "V15-4306356",
           "2013-04-09",
           "2020-10-14",
           "canada,m9m",
           "Dini Suero, Avelino"
          ],
          [
           "V15-4820709",
           "2018-04-25",
           "2020-10-14",
           "canada,m9m",
           "Dini Suero, Avelino"
          ],
          [
           "V15-3124743",
           "2001-07-24",
           null,
           "112 st lucie dr,toronto, on,canada,m9m 1t3",
           "The Food Dude Catering Ltd"
          ],
          [
           "V15-4316406",
           "2013-12-19",
           null,
           "150 rivalda rd, #6,toronto, on,canada,m9m 2m8",
           "Mr Corn Ltd"
          ],
          [
           "V15-4651410",
           "2016-07-20",
           null,
           "18 lou pomanti st,toronto, on,canada,m9w 0c2",
           "La Fiesta Catering Unique Inc"
          ],
          [
           "V15-5225721",
           "2022-10-12",
           null,
           "canada,m9m",
           "Dini Suero, Avelino"
          ],
          [
           "V27-3113312",
           "2000-09-27",
           "2003-03-31",
           "canada,m3n",
           "Mrozowska, Danuta"
          ],
          [
           "V27-3364042",
           "2003-08-22",
           "2005-07-01",
           "canada,m9m",
           "Reda, Amr Ahmed"
          ],
          [
           "V27-3592892",
           "2005-04-22",
           "2006-07-23",
           "canada,m9m",
           "Archer, Troy Murray"
          ],
          [
           "V27-3592896",
           "2005-04-22",
           "2006-07-23",
           "canada,m9m",
           "Archer, Troy Murray"
          ],
          [
           "V27-3592898",
           "2005-04-22",
           "2006-07-23",
           "canada,m9m",
           "Archer, Troy Murray"
          ],
          [
           "V27-3592899",
           "2005-04-22",
           "2006-07-23",
           "canada,m9m",
           "Archer, Troy Murray"
          ],
          [
           "V27-2013881",
           "1993-06-16",
           "2006-11-08",
           "canada,m9m",
           "Coronel Cabrera, Jose Ricardo"
          ],
          [
           "V27-3607909",
           "2006-04-24",
           "2007-07-25",
           "canada,m3n",
           "Neekzad, Neek Mohammed"
          ],
          [
           "V27-3722992",
           "2007-06-06",
           "2008-09-06",
           "canada,m3n",
           "Sherzoi, Hayatullah"
          ],
          [
           "V27-3837724",
           "2008-05-14",
           "2009-08-19",
           "canada,m9m",
           "Dini Suero, Avelino"
          ],
          [
           "V27-4071552",
           "2010-08-26",
           "2011-11-26",
           "canada,m9l",
           "Kocan, Mohammad Rahim"
          ],
          [
           "V27-4183528",
           "2011-07-08",
           "2012-10-08",
           "canada,m3n",
           "Tran, Anh Ngoc"
          ],
          [
           "V27-3005947",
           "1997-04-25",
           "2013-07-26",
           "canada,m3n",
           "Neekzad, Neek Mohammed"
          ],
          [
           "V27-4295589",
           "2012-06-06",
           "2013-09-06",
           "canada,m3n",
           "Nguyen, Anh Ngoc"
          ],
          [
           "V27-4070513",
           "2010-08-17",
           "2013-11-17",
           "canada,m3n",
           "Hoppie, Ronald"
          ],
          [
           "V27-4312750",
           "2013-10-09",
           "2015-01-09",
           "9 four winds dr, #102,toronto, on,canada,m3j 2s8",
           "Cupcorn Corp"
          ],
          [
           "V27-4293797",
           "2012-04-18",
           "2015-07-19",
           "canada,m9l",
           "Fiorucci, Marco"
          ],
          [
           "V27-4536682",
           "2015-05-20",
           "2016-08-20",
           "canada,m9l",
           "Sgambelluri, Antonio"
          ],
          [
           "V27-4535695",
           "2015-05-22",
           "2016-08-22",
           "9 four winds dr, #102,toronto, on,canada,m3j 2s8",
           "Cupcorn Corp"
          ],
          [
           "V27-4309200",
           "2013-06-12",
           "2016-09-12",
           "canada,m3n",
           "Neekzad, Neek Mohammed"
          ],
          [
           "V27-2022421",
           "1995-07-26",
           "2018-10-26",
           "canada,m9m",
           "Kerelski, Ivo"
          ],
          [
           "V27-4311326",
           "2013-08-13",
           "2022-01-11",
           "canada,m3n",
           "Pines, Erlinda Rondon"
          ],
          [
           "V27-4190133",
           "2011-12-19",
           null,
           "canada,m9m",
           "Dini Suero, Avelino"
          ],
          [
           "R56-4540168",
           "2015-08-10",
           "2016-08-23",
           "15 london green crt, #404,toronto, on,canada,m3n 1k4",
           "Baranyi Robertne Corp"
          ],
          [
           "R56-4652780",
           "2016-07-04",
           "2016-12-09",
           "3025 weston rd,toronto, on,canada,m9m 2t1",
           "Morpho-Tech Inc"
          ],
          [
           "R56-4422344",
           "2014-05-15",
           "2017-07-06",
           "canada,m9m",
           "Dini Suero, Avelino"
          ],
          [
           "R56-4721949",
           "2017-05-24",
           "2018-03-13",
           "3025 weston rd,toronto, on,canada,m9m 2t1",
           "Morpho-Tech Inc"
          ],
          [
           "R56-4736490",
           "2017-09-13",
           "2018-04-25",
           "canada,m9m",
           "Dini Suero, Avelino"
          ],
          [
           "R56-4422342",
           "2014-05-15",
           "2018-08-10",
           "canada,m9m",
           "Santana De Villanueva, Ceferina"
          ],
          [
           "R56-4821445",
           "2018-04-03",
           "2019-01-31",
           "3025 weston rd,toronto, on,canada,m9m 2t1",
           "Morpho-Tech Inc"
          ],
          [
           "R56-4826635",
           "2018-04-25",
           "2019-01-31",
           "canada,m9m",
           "Dini Suero, Avelino"
          ],
          [
           "R56-4826655",
           "2018-04-25",
           "2019-02-01",
           "canada,m9m",
           "Dini Suero, Avelino"
          ],
          [
           "R56-4938750",
           "2019-05-21",
           "2019-10-01",
           "3025 weston rd,toronto, on,canada,m9m 2t1",
           "Morpho-Tech Inc"
          ],
          [
           "R56-4927551",
           "2019-04-11",
           "2019-11-13",
           "canada,m9m",
           "Dini Suero, Avelino"
          ],
          [
           "R56-4927553",
           "2019-04-11",
           "2019-11-13",
           "canada,m9m",
           "Dini Suero, Avelino"
          ]
         ],
         "hovertemplate": "<b>%{hovertext}</b><br><br>AREA_NAME=Humber River-Black Creek<br>latitude=%{lat}<br>longitude=%{lon}<br>Licence No.=%{customdata[0]}<br>Issued=%{customdata[1]}<br>Cancel Date=%{customdata[2]}<br>address=%{customdata[3]}<br>Client Name=%{customdata[4]}<extra></extra>",
         "hovertext": [
          null,
          null,
          null,
          "Toryork Catering",
          "Toryork Catering",
          "Toryork Catering",
          "Toryork Catering (1998) Ltd",
          "Best Treats",
          "Joe'S Snack Service Ltd",
          "Toryork Catering (1988) Ltd",
          "Toryork Catering (1988) Ltd",
          null,
          "Toryork Catering (1988) Ltd",
          "Toryork Catering",
          "Joe'S Snack Service",
          "Pat'S Catering Service",
          "Toryork Catering",
          "Toryork Catering",
          "Joe'S Snack Service",
          "Joe'S Snack Service",
          "Joe'S Snack Service",
          "Joe'S Snack Service",
          "Joe'S Snack Service Ltd",
          "Joe'S Snack Service",
          "Toryork Catering (1988) Ltd",
          "Toryork Catering (1988)",
          "Toryork Catering (1988) Ltd",
          "Vidiri, Angelo",
          "G.T.A Cuisine Ltd",
          "G.T.A. Cuisine Ltd",
          "Morpho-Tech Inc",
          "G.T.A. Cuisine Ltd",
          "G.T.A. Cuisine Ltd",
          "G.T.A. Cuisine Ltd",
          "G.T.A. Cuisine Ltd",
          "G.T.A. Cuisine Ltd",
          "G.T.A. Cuisine Ltd",
          "G.T.A. Cuisine Ltd",
          "G.T.A. Cuisine Ltd",
          "G.T.A. Cuisine Ltd",
          "G.T.A. Cuisine Ltd",
          "G.T.A. Cuisine Ltd",
          "G.T.A. Cuisine Ltd",
          "G.T.A. Cuisine Ltd",
          "G.T.A. Cuisine Ltd",
          "G.T.A. Cuisine Ltd",
          "G.T.A. Cuisine Ltd",
          "G.T.A. Cuisine Ltd",
          "Toryork Catering",
          "Milvan Catering",
          null,
          null,
          null,
          null,
          "Toryork Catering (1988) Ltd",
          null,
          "Milvan Catering",
          "Milvan Catering",
          "Milvan Catering",
          null,
          "Milvan Catering",
          null,
          "Morpho-Tech",
          "Milvan Catering",
          "Milvan Catering",
          null,
          "Toryork Catering (1988) Ltd",
          null,
          "Milvan Catering",
          "Milvan Catering",
          "Milvan Catering",
          "Milvan Catering",
          "Racco Industrial Catering",
          "C R D  Catering Ltd",
          null,
          null,
          null,
          null,
          "Milvan Catering",
          "Milvan Catering",
          null,
          "Toryork Catering (1988) Ltd",
          null,
          "Milvan Catering",
          "Milvan Catering",
          "Milvan Catering",
          "Milvan Catering",
          "Milvan Catering",
          "Milvan Catering",
          "Racco Industrial Catering Ltd",
          "Baranyi Robertne Corp",
          "Baranyi Robertne Corp",
          "Tropical Joe'S On The Go",
          null,
          "Healthy Choices And More",
          "Hero Certified Burgers",
          null,
          "Toryork Catering (1988) Ltd",
          "Toryork Catering (1988) Ltd",
          "Morpho-Tech",
          "La Colombiana Food Services",
          null,
          null,
          "The Food Dude Catering Ltd",
          "Mr Corn",
          "La Fiesta Catering",
          null,
          null,
          null,
          "T.N.T. Big Dog",
          "T.N.T. Big Dog",
          "T.N.T. Big Dog",
          "T.N.T. Big Dog",
          null,
          null,
          null,
          null,
          null,
          null,
          null,
          null,
          "Top Dog Ron",
          "Cupcorn",
          null,
          "S.S. Foods",
          "Cupcorn",
          null,
          null,
          "Yummy Hot Dogs",
          null,
          null,
          null,
          null,
          null,
          null,
          null,
          null,
          null,
          null,
          null,
          null,
          null
         ],
         "lat": [
          43.71896702,
          43.71963359,
          43.759446,
          43.76235879,
          43.76235879,
          43.76235879,
          43.76235879,
          43.722703,
          43.74576912,
          43.76235879,
          43.76235879,
          43.73454944,
          43.76235879,
          43.76235879,
          43.74576912,
          43.759446,
          43.76235879,
          43.76235879,
          43.74576912,
          43.74576912,
          43.74576912,
          43.74576912,
          43.74576912,
          43.74576912,
          43.76235879,
          43.76235879,
          43.76235879,
          43.73454944,
          43.74564729,
          43.74564729,
          43.72938778,
          43.74564729,
          43.74564729,
          43.74564729,
          43.74564729,
          43.74564729,
          43.74564729,
          43.74564729,
          43.74564729,
          43.74564729,
          43.74564729,
          43.74564729,
          43.74564729,
          43.74564729,
          43.74564729,
          43.74564729,
          43.74564729,
          43.74564729,
          43.76235879,
          43.7577254,
          43.76667618,
          43.75322801,
          43.76235879,
          43.76235879,
          43.76235879,
          43.75690291,
          43.7577254,
          43.7577254,
          43.7577254,
          43.75322801,
          43.7577254,
          43.73454944,
          43.72938778,
          43.7577254,
          43.7577254,
          43.75322801,
          43.76235879,
          43.73454944,
          43.7577254,
          43.7577254,
          43.7577254,
          43.7577254,
          43.7577254,
          43.76174511,
          43.75322801,
          43.75322801,
          43.75322801,
          43.75322801,
          43.7577254,
          43.7577254,
          43.75322801,
          43.76235879,
          43.75322801,
          43.7577254,
          43.7577254,
          43.7577254,
          43.7577254,
          43.7577254,
          43.7577254,
          43.7577254,
          43.75442411,
          43.75442411,
          43.76182952,
          43.759446,
          43.71896702,
          43.75928511,
          43.73454944,
          43.76235879,
          43.76235879,
          43.72938778,
          43.71963359,
          43.73454944,
          43.73454944,
          43.74068881,
          43.74562629,
          43.7312056,
          43.73454944,
          43.75690291,
          43.73454944,
          43.73454944,
          43.73454944,
          43.73454944,
          43.73454944,
          43.73454944,
          43.75690291,
          43.75690291,
          43.73454944,
          43.759446,
          43.75690291,
          43.75690291,
          43.75690291,
          43.75690291,
          43.76473712,
          43.759446,
          43.759446,
          43.76473712,
          43.75690291,
          43.73454944,
          43.75690291,
          43.73454944,
          43.75442411,
          43.72938778,
          43.73454944,
          43.72938778,
          43.73454944,
          43.73454944,
          43.72938778,
          43.73454944,
          43.73454944,
          43.72938778,
          43.73454944,
          43.73454944
         ],
         "legendgroup": "Humber River-Black Creek",
         "lon": [
          -79.53190537,
          -79.52780637,
          -79.55627079,
          -79.56525219,
          -79.56525219,
          -79.56525219,
          -79.56525219,
          -79.5385456,
          -79.52578189,
          -79.56525219,
          -79.56525219,
          -79.5323733,
          -79.56525219,
          -79.56525219,
          -79.52578189,
          -79.55627079,
          -79.56525219,
          -79.56525219,
          -79.52578189,
          -79.52578189,
          -79.52578189,
          -79.52578189,
          -79.52578189,
          -79.52578189,
          -79.56525219,
          -79.56525219,
          -79.56525219,
          -79.5323733,
          -79.52575741,
          -79.52575741,
          -79.53562576,
          -79.52575741,
          -79.52575741,
          -79.52575741,
          -79.52575741,
          -79.52575741,
          -79.52575741,
          -79.52575741,
          -79.52575741,
          -79.52575741,
          -79.52575741,
          -79.52575741,
          -79.52575741,
          -79.52575741,
          -79.52575741,
          -79.52575741,
          -79.52575741,
          -79.52575741,
          -79.56525219,
          -79.56500551,
          -79.56126961,
          -79.54419408,
          -79.56525219,
          -79.56525219,
          -79.56525219,
          -79.52026041,
          -79.56500551,
          -79.56500551,
          -79.56500551,
          -79.54419408,
          -79.56500551,
          -79.5323733,
          -79.53562576,
          -79.56500551,
          -79.56500551,
          -79.54419408,
          -79.56525219,
          -79.5323733,
          -79.56500551,
          -79.56500551,
          -79.56500551,
          -79.56500551,
          -79.56500551,
          -79.57439299,
          -79.54419408,
          -79.54419408,
          -79.54419408,
          -79.54419408,
          -79.56500551,
          -79.56500551,
          -79.54419408,
          -79.56525219,
          -79.54419408,
          -79.56500551,
          -79.56500551,
          -79.56500551,
          -79.56500551,
          -79.56500551,
          -79.56500551,
          -79.56500551,
          -79.51019322,
          -79.51019322,
          -79.49173351,
          -79.55627079,
          -79.53190537,
          -79.54009918,
          -79.5323733,
          -79.56525219,
          -79.56525219,
          -79.53562576,
          -79.52780637,
          -79.5323733,
          -79.5323733,
          -79.543965,
          -79.53720617,
          -79.5329552,
          -79.5323733,
          -79.52026041,
          -79.5323733,
          -79.5323733,
          -79.5323733,
          -79.5323733,
          -79.5323733,
          -79.5323733,
          -79.52026041,
          -79.52026041,
          -79.5323733,
          -79.55627079,
          -79.52026041,
          -79.52026041,
          -79.52026041,
          -79.52026041,
          -79.49352589,
          -79.55627079,
          -79.55627079,
          -79.49352589,
          -79.52026041,
          -79.5323733,
          -79.52026041,
          -79.5323733,
          -79.51019322,
          -79.53562576,
          -79.5323733,
          -79.53562576,
          -79.5323733,
          -79.5323733,
          -79.53562576,
          -79.5323733,
          -79.5323733,
          -79.53562576,
          -79.5323733,
          -79.5323733
         ],
         "marker": {
          "color": "#636efa"
         },
         "mode": "markers",
         "name": "Humber River-Black Creek",
         "showlegend": true,
         "subplot": "mapbox",
         "type": "scattermapbox"
        },
        {
         "customdata": [
          [
           "R54-4653884",
           "2016-07-19",
           "2018-09-10",
           "3 rean dr, #1611,toronto, on,canada,m2k 3c2",
           "2331067 Ontario Inc"
          ],
          [
           "R54-5045993",
           "2020-12-07",
           "2021-06-12",
           "199 shawnee cir,toronto, on,canada,m2h 2y3",
           "2770822 Ontario Inc"
          ],
          [
           "R54-5314208",
           "2023-04-11",
           null,
           "70 kingslake rd,toronto, on,canada,m2j 3e5",
           "Ilsa Delish Ltd"
          ],
          [
           "R54-5348735",
           "2023-08-24",
           null,
           "52 forest manor rd, #1210,toronto, on,canada,m2j 0e2",
           "1000579681 Ontario Inc"
          ],
          [
           "V15-2008657",
           "1992-04-24",
           "2005-07-01",
           "16 lucifer dr,toronto, on,canada,m2j 4e7",
           "Sam'S Mobile Catering Inc"
          ],
          [
           "V15-0015931",
           "1986-07-31",
           "2008-10-31",
           "canada,m2j",
           "Papamanolis, Nicolas"
          ],
          [
           "V15-4294699",
           "2012-05-24",
           "2014-08-24",
           "canada,m2j",
           "Baranyi, Robertne"
          ],
          [
           "V15-4294700",
           "2012-05-24",
           "2014-08-24",
           "canada,m2j",
           "Baranyi, Robertne"
          ],
          [
           "V15-4652391",
           "2016-07-19",
           "2018-10-19",
           "3 rean dr, #1611,toronto, on,canada,m2k 3c2",
           "2331067 Ontario Inc"
          ],
          [
           "V15-4853151",
           "2018-09-20",
           "2019-12-21",
           "75 talara dr, #401,toronto, on,canada,m2k 2x4",
           "2569860 Ontario Inc"
          ],
          [
           "V15-5043754",
           "2020-11-23",
           "2022-04-23",
           "199 shawnee cir,toronto, on,canada,m2h 2y3",
           "2770822 Ontario Inc"
          ],
          [
           "V15-4676418",
           "2017-02-15",
           null,
           "canada,m2h",
           "Ho, Chi Kan Morgan"
          ],
          [
           "V15-5310441",
           "2023-02-24",
           null,
           "70 kingslake rd,toronto, on,canada,m2j 3e5",
           "Ilsa Delish Ltd"
          ],
          [
           "V15-5348150",
           "2023-08-15",
           null,
           "52 forest manor rd, #1210,toronto, on,canada,m2j 0e2",
           "1000579681 Ontario Inc"
          ],
          [
           "V27-3126254",
           "2001-08-22",
           "2005-04-02",
           "canada,m2h",
           "Ghanizadeh, Babak"
          ],
          [
           "V27-2018729",
           "1994-08-08",
           "2006-11-08",
           "canada,m2j",
           "Oria, Hashmatullah"
          ],
          [
           "V27-3101570",
           "1999-09-17",
           "2006-12-18",
           "canada,m2j",
           "Maghsoodi, Mojgan"
          ],
          [
           "V27-3597860",
           "2005-12-16",
           "2007-03-18",
           "canada,m2j",
           "Mozi, Mohammad Reza"
          ],
          [
           "V27-3612099",
           "2006-07-18",
           "2007-10-18",
           "canada,m2j",
           "Rajabi, Fariba"
          ],
          [
           "V27-3480078",
           "2004-06-17",
           "2013-09-17",
           "canada,m2k",
           "Sarhangi Hassan Roudi, Zahra"
          ],
          [
           "V27-3368482",
           "2003-11-13",
           "2016-02-13",
           "canada,m2j",
           "Moosawi-Arabia, Farizad Begum"
          ],
          [
           "V27-3100729",
           "1999-08-16",
           "2017-10-24",
           "canada,m2h",
           "Parvazi, Ghorban-Ali"
          ],
          [
           "V27-4716707",
           "2017-04-20",
           "2018-07-21",
           "canada,m2j",
           "Barkhurdar, Ghulamuddin"
          ],
          [
           "V27-4728615",
           "2017-07-13",
           "2018-10-13",
           "canada,m2j",
           "Mohammadzadeh-Namvar, Payman"
          ]
         ],
         "hovertemplate": "<b>%{hovertext}</b><br><br>AREA_NAME=Don Valley North<br>latitude=%{lat}<br>longitude=%{lon}<br>Licence No.=%{customdata[0]}<br>Issued=%{customdata[1]}<br>Cancel Date=%{customdata[2]}<br>address=%{customdata[3]}<br>Client Name=%{customdata[4]}<extra></extra>",
         "hovertext": [
          null,
          null,
          "Ilsa Delish",
          "Caffe'In",
          null,
          null,
          null,
          null,
          "Sushiburri Toronto",
          "The Cool Truck",
          "Foodelicious",
          "Taste Of Asia Night Market Snack House",
          "Ilsa Delish",
          "Caffe'In",
          null,
          null,
          null,
          null,
          null,
          null,
          null,
          null,
          "Best Hotdog And Food Services",
          "Captain Monkey"
         ],
         "lat": [
          43.76534128,
          43.79914001,
          43.78376119,
          43.77320711,
          43.78811869,
          43.78040808,
          43.78040808,
          43.78040808,
          43.76534128,
          43.76576138,
          43.79914001,
          43.80171346,
          43.78376119,
          43.77320711,
          43.80171346,
          43.78040808,
          43.78040808,
          43.78040808,
          43.78040808,
          43.77342749,
          43.78040808,
          43.80171346,
          43.78040808,
          43.78040808
         ],
         "legendgroup": "Don Valley North",
         "lon": [
          -79.38256592,
          -79.34312354,
          -79.34315698,
          -79.34579493,
          -79.33826966,
          -79.34736257,
          -79.34736257,
          -79.34736257,
          -79.38256592,
          -79.38007348,
          -79.34312354,
          -79.35826405,
          -79.34315698,
          -79.34579493,
          -79.35826405,
          -79.34736257,
          -79.34736257,
          -79.34736257,
          -79.34736257,
          -79.377436,
          -79.34736257,
          -79.35826405,
          -79.34736257,
          -79.34736257
         ],
         "marker": {
          "color": "#EF553B"
         },
         "mode": "markers",
         "name": "Don Valley North",
         "showlegend": true,
         "subplot": "mapbox",
         "type": "scattermapbox"
        },
        {
         "customdata": [
          [
           "R54-4820013",
           "2018-03-27",
           "2019-01-31",
           "32 clayland dr, #311,toronto, on,canada,m3a 2a5",
           "Healthy Grill Canada Inc"
          ],
          [
           "R54-4820728",
           "2018-03-29",
           "2019-11-13",
           "60 pavane linkway, #1615,toronto, on,canada,m3c 2y6",
           "Anastel Enterprises Inc"
          ],
          [
           "V15-3362937",
           "2003-07-24",
           "2006-10-24",
           "canada,m4a",
           "Rolfe, Edward Kenneth"
          ],
          [
           "V15-3608824",
           "2006-05-02",
           "2008-08-02",
           "canada,m4a",
           "Carlos, Thomas J"
          ],
          [
           "V15-4296639",
           "2012-07-04",
           "2013-11-10",
           "44 valley woods rd, #212,toronto, on,canada,m3a 2r6",
           "2304951 Ontario Incorp"
          ],
          [
           "V15-4812378",
           "2018-03-26",
           "2019-06-26",
           "32 clayland dr, #311,toronto, on,canada,m3a 2a5",
           "Healthy Grill Canada Inc"
          ],
          [
           "V15-4803820",
           "2018-03-06",
           "2022-06-05",
           "60 pavane linkway, #1615,toronto, on,canada,m3c 2y6",
           "Anastel Enterprises Inc"
          ],
          [
           "V15-5223594",
           "2022-09-08",
           "2023-12-07",
           "canada,m3c",
           "Noray, Anthony"
          ],
          [
           "V15-4202268",
           "2012-11-19",
           null,
           "1530 victoria park ave, #618,toronto, on,canada,m1l 4r9",
           "2348438 Ontario Ltd"
          ],
          [
           "V27-3245258",
           "2002-08-01",
           "2003-03-31",
           "canada,m4a",
           "Mohad Yunus Faqiri, Mohad Asef Faqiri"
          ],
          [
           "V27-2009083",
           "1992-05-26",
           "2004-03-22",
           "canada,m3c",
           "Sarantakos, Dimitrios"
          ],
          [
           "V27-3108172",
           "2000-05-04",
           "2005-04-02",
           "canada,m3c",
           "Ashtarjani, Mahmud Kiani"
          ],
          [
           "V27-3108176",
           "2000-05-01",
           "2005-04-02",
           "canada,m3c",
           "Ashtarjani, Mahmud Kiani"
          ],
          [
           "V27-3112904",
           "2000-09-01",
           "2005-04-02",
           "canada,m3c",
           "Ashtarjani, Mahmud Kiani"
          ],
          [
           "V27-3123647",
           "2001-04-11",
           "2005-04-02",
           "canada,m4a",
           "Nazari, Kobra"
          ],
          [
           "V27-3125343",
           "2001-10-05",
           "2005-04-02",
           "canada,m4a",
           "Damonse, Lenore Ursula"
          ],
          [
           "V27-2002341",
           "1990-09-10",
           "2006-09-19",
           "canada,m3c",
           "Manos, Zoi"
          ],
          [
           "V27-2003022",
           "1990-11-26",
           "2008-02-26",
           "canada,m3a",
           "Blue, Stephen Christopher"
          ],
          [
           "V27-3840603",
           "2008-08-25",
           "2009-11-25",
           "canada,m3a",
           "Simeonov, Blagovest"
          ],
          [
           "V27-3949452",
           "2009-06-08",
           "2010-09-08",
           "canada,m3c",
           "Iman, Noorullah"
          ],
          [
           "V27-3842773",
           "2008-09-29",
           "2011-12-30",
           "canada,m3a",
           "Shakir Andraous, Hani Thabit"
          ],
          [
           "V27-4072734",
           "2010-09-29",
           "2011-12-30",
           "canada,m3a",
           "Motiee-Tehrani, Masoud"
          ],
          [
           "V27-4072402",
           "2010-12-08",
           "2012-03-09",
           "canada,m3a",
           "Perger, Istvan"
          ],
          [
           "V27-3841793",
           "2008-09-05",
           "2012-12-06",
           "canada,m3a",
           "Sezayesh, Mozhgan"
          ],
          [
           "V27-4185854",
           "2011-09-13",
           "2012-12-14",
           "canada,m3a",
           "Boyle, Raymond Lyle"
          ],
          [
           "V27-2009085",
           "1992-05-27",
           "2013-08-27",
           "canada,m3a",
           "Bozorgi, Davoud"
          ],
          [
           "V27-4202530",
           "2012-12-13",
           "2015-05-13",
           "canada,m3c",
           "Mohamad Aslam, Ahqila"
          ],
          [
           "V27-4418931",
           "2014-03-31",
           "2015-07-01",
           "canada,m3c",
           "Vassileva, Ivanka"
          ],
          [
           "V27-4296689",
           "2012-07-26",
           "2015-10-26",
           "canada,m4a",
           "Mantha, David A"
          ],
          [
           "V27-2026367",
           "1996-09-24",
           "2015-12-25",
           "canada,m3c",
           "Vassileva, Ivanka"
          ],
          [
           "V27-4727077",
           "2017-06-30",
           "2018-09-30",
           "canada,m3a",
           "Khan, Hamza Yusuf"
          ],
          [
           "V27-2006019",
           "1991-08-23",
           "2018-11-23",
           "canada,m3c",
           "Manos, Leonidas"
          ],
          [
           "V27-4309532",
           "2013-06-05",
           "2020-11-03",
           "canada,m3c",
           "Vassileva, Ivanka"
          ],
          [
           "V27-2009551",
           "1992-06-26",
           "2021-11-24",
           "canada,m3a",
           "Sarantakos, Cheryl Ann Medford"
          ],
          [
           "V27-4969010",
           "2019-09-13",
           "2022-02-11",
           "canada,m4a",
           "Keserovic, Olga"
          ],
          [
           "V27-5223585",
           "2022-08-31",
           "2023-11-29",
           "140 sunrise ave,toronto, on,canada,m4a 1b3",
           "Nomz Inc"
          ],
          [
           "V27-2016918",
           "1994-03-08",
           null,
           "canada,m4a",
           "Lalechev, Trayko Iordanov"
          ],
          [
           "V27-5323563",
           "2023-04-27",
           null,
           "canada,m3a",
           "Pottinger, Sean Delroy"
          ]
         ],
         "hovertemplate": "<b>%{hovertext}</b><br><br>AREA_NAME=Don Valley East<br>latitude=%{lat}<br>longitude=%{lon}<br>Licence No.=%{customdata[0]}<br>Issued=%{customdata[1]}<br>Cancel Date=%{customdata[2]}<br>address=%{customdata[3]}<br>Client Name=%{customdata[4]}<extra></extra>",
         "hovertext": [
          null,
          null,
          null,
          "Coney Catch",
          "Per'Se Catering & Events",
          "Healthy Grill",
          "Aegean Honey Balls",
          "Dulahin Doubles",
          null,
          null,
          "James Two",
          null,
          null,
          null,
          null,
          null,
          null,
          null,
          null,
          "Toronto A La Cart",
          null,
          null,
          null,
          null,
          null,
          null,
          null,
          null,
          "X S Services",
          null,
          "Hammy'S Snackette",
          null,
          null,
          "James One",
          null,
          "Nomz",
          null,
          "Jj'S Catering"
         ],
         "lat": [
          43.76049751,
          43.71134209,
          43.72729181,
          43.72729181,
          43.7546536,
          43.76049751,
          43.71134209,
          43.72431984,
          43.72545491,
          43.72729181,
          43.72431984,
          43.72431984,
          43.72431984,
          43.72431984,
          43.72729181,
          43.72729181,
          43.72431984,
          43.75356779,
          43.75356779,
          43.72431984,
          43.75356779,
          43.75356779,
          43.75356779,
          43.75356779,
          43.75356779,
          43.75356779,
          43.72431984,
          43.72431984,
          43.72729181,
          43.72431984,
          43.75356779,
          43.72431984,
          43.72431984,
          43.75356779,
          43.72729181,
          43.71785311,
          43.72729181,
          43.75356779
         ],
         "legendgroup": "Don Valley East",
         "lon": [
          -79.33039109,
          -79.32278527,
          -79.31308458,
          -79.31308458,
          -79.33343934,
          -79.33039109,
          -79.32278527,
          -79.34293289,
          -79.30394954,
          -79.31308458,
          -79.34293289,
          -79.34293289,
          -79.34293289,
          -79.34293289,
          -79.31308458,
          -79.31308458,
          -79.34293289,
          -79.32923092,
          -79.32923092,
          -79.34293289,
          -79.32923092,
          -79.32923092,
          -79.32923092,
          -79.32923092,
          -79.32923092,
          -79.32923092,
          -79.34293289,
          -79.34293289,
          -79.31308458,
          -79.34293289,
          -79.32923092,
          -79.34293289,
          -79.34293289,
          -79.32923092,
          -79.31308458,
          -79.3116603,
          -79.31308458,
          -79.32923092
         ],
         "marker": {
          "color": "#00cc96"
         },
         "mode": "markers",
         "name": "Don Valley East",
         "showlegend": true,
         "subplot": "mapbox",
         "type": "scattermapbox"
        },
        {
         "customdata": [
          [
           "R54-4833974",
           "2018-05-24",
           "2019-01-31",
           "canada,m6m",
           "Fadil, Hamza Jolan"
          ],
          [
           "R54-4818102",
           "2018-03-21",
           "2019-03-27",
           "266 john st,toronto, on,canada,m9n 1k2",
           "Mexican Bowl Inc"
          ],
          [
           "R54-5331171",
           "2023-06-22",
           "2023-12-29",
           "100 flamborough dr,toronto, on,canada,m6m 2r7",
           "Sebcan Consulting Services Inc"
          ],
          [
           "V15-0002525",
           "1974-04-26",
           "2003-03-20",
           "canada,m6n",
           "Kilgour, David"
          ],
          [
           "V15-3110907",
           "2000-09-12",
           "2003-05-01",
           "2009 lawrence ave w, #6,toronto, on,canada,m9n 3v2",
           "Tiny Treats Inc"
          ],
          [
           "V15-3009207",
           "1997-07-31",
           "2003-05-02",
           "2009 lawrence ave w, #6,toronto, on,canada,m9n 3v2",
           "Tiny Treats Inc"
          ],
          [
           "V15-3085900",
           "1998-08-28",
           "2003-05-02",
           "2009 lawrence ave w, #6,toronto, on,canada,m9n 3v2",
           "Tiny Treats Inc"
          ],
          [
           "V15-3085902",
           "1998-08-13",
           "2003-05-02",
           "2009 lawrence ave w, #6,toronto, on,canada,m9n 3v2",
           "Tiny Treats Inc"
          ],
          [
           "V15-3085905",
           "1998-10-14",
           "2003-05-02",
           "2009 lawrence ave w, #6,toronto, on,canada,m9n 3v2",
           "Tiny Treats Inc"
          ],
          [
           "V15-3085906",
           "1998-08-28",
           "2003-05-02",
           "2009 lawrence ave w, #6,toronto, on,canada,m9n 3v2",
           "Tiny Treats Inc"
          ],
          [
           "V15-3103795",
           "1999-12-02",
           "2003-05-02",
           "canada,m6m",
           "Sarantakos, Poulikos"
          ],
          [
           "V15-3106511",
           "2000-04-01",
           "2003-05-02",
           "canada,m6m",
           "Tsirigotis, Dimitrios"
          ],
          [
           "V15-3123068",
           "2001-05-25",
           "2003-05-02",
           "2009 lawrence ave w, #6,toronto, on,canada,m9n 3v2",
           "Tiny Treats Inc"
          ],
          [
           "V15-3123070",
           "2001-05-08",
           "2003-05-02",
           "2009 lawrence ave w, #6,toronto, on,canada,m9n 3v2",
           "Tiny Treats Inc"
          ],
          [
           "V15-3123191",
           "2001-05-08",
           "2003-05-02",
           "2009 lawrence ave w, #6,toronto, on,canada,m9n 3v2",
           "Tiny Treats Inc"
          ],
          [
           "V15-3123419",
           "2001-04-01",
           "2003-05-02",
           "214 pellatt ave,toronto, on,canada,m9n 2p6",
           "Racco Industrial Catering Ltd"
          ],
          [
           "V15-3125247",
           "2001-05-24",
           "2003-05-02",
           "2009 lawrence ave w, #6,toronto, on,canada,m9n 3v2",
           "Tiny Treats Inc"
          ],
          [
           "V15-3128495",
           "2001-09-20",
           "2003-05-02",
           "5 martini dr,toronto, on,canada,m6m 4x4",
           "2001309 Ontario Ltd"
          ],
          [
           "V15-3357251",
           "2003-04-07",
           "2005-04-02",
           "canada,m9n",
           "Kozak, Anna"
          ],
          [
           "V15-3091583",
           "1999-01-12",
           "2005-07-01",
           "canada,m6l",
           "Foggia, James S"
          ],
          [
           "V15-3476666",
           "2004-04-02",
           "2006-08-09",
           "214 pellatt ave,toronto, on,canada,m9n 2p6",
           "Racco Industrial Catering Ltd"
          ],
          [
           "V15-3244957",
           "2002-06-18",
           "2006-09-18",
           "214 pellatt ave,toronto, on,canada,m9n 2p6",
           "Racco Industrial Catering Ltd"
          ],
          [
           "V15-3082674",
           "1998-06-29",
           "2006-09-29",
           "214 pellatt ave,toronto, on,canada,m9n 2p6",
           "Racco Industrial Catering Ltd"
          ],
          [
           "V15-2014232",
           "1993-07-02",
           "2006-10-02",
           "214 pellatt ave,toronto, on,canada,m9n 2p6",
           "Racco Industrial Catering Ltd"
          ],
          [
           "V15-3127914",
           "2001-07-18",
           "2006-10-18",
           "214 pellatt ave,toronto, on,canada,m9n 2p6",
           "Racco Industrial Catering Ltd"
          ],
          [
           "V15-3134266",
           "2001-10-24",
           "2007-01-24",
           "214 pellatt ave,toronto, on,canada,m9n 2p6",
           "Racco Industrial Catering Ltd"
          ],
          [
           "V15-3114232",
           "2000-10-26",
           "2007-01-26",
           "214 pellatt ave,toronto, on,canada,m9n 2p6",
           "Racco Industrial Catering Ltd"
          ],
          [
           "V15-3369354",
           "2003-11-21",
           "2007-02-21",
           "214 pellatt ave,toronto, on,canada,m9n 2p6",
           "Racco Industrial Catering Ltd"
          ],
          [
           "V15-3100724",
           "1999-11-24",
           "2007-02-24",
           "214 pellatt ave,toronto, on,canada,m9n 2p6",
           "Racco Industrial Catering Ltd"
          ],
          [
           "V15-3123146",
           "2001-04-24",
           "2007-07-25",
           "214 pellatt ave,toronto, on,canada,m9n 2p6",
           "Racco Industrial Catering Ltd"
          ],
          [
           "V15-3593216",
           "2005-04-29",
           "2007-07-30",
           "214 pellatt ave,toronto, on,canada,m9n 2p6",
           "Racco Industrial Catering Ltd"
          ],
          [
           "V15-3124876",
           "2001-05-09",
           "2007-08-09",
           "214 pellatt ave,toronto, on,canada,m9n 2p6",
           "Racco Industrial Catering Ltd"
          ],
          [
           "V15-3609318",
           "2006-05-18",
           "2007-08-18",
           "6 rory rd,toronto, on,canada,m6l 3e9",
           "Body Parts Plus Inc"
          ],
          [
           "V15-3593224",
           "2005-05-27",
           "2007-08-27",
           "214 pellatt ave,toronto, on,canada,m9n 2p6",
           "Racco Industrial Catering Ltd"
          ],
          [
           "V15-3094335",
           "1999-04-01",
           "2009-08-19",
           "canada,m6m",
           "Tsirigotis, Dimitrios"
          ],
          [
           "V15-3835443",
           "2008-06-18",
           "2009-09-18",
           "canada,m6n",
           "Petrovic, Petar"
          ],
          [
           "V15-1002094",
           "1989-05-01",
           "2016-08-01",
           "canada,m6m",
           "Tsirigotis, Dimitrios"
          ],
          [
           "V15-4543519",
           "2016-01-27",
           "2018-04-29",
           "canada,m6m",
           "Fadil, Hamza Jolan"
          ],
          [
           "V15-4723334",
           "2017-06-07",
           "2018-09-07",
           "605 rogers rd, d1,toronto, on,canada,m6m 1b9",
           "Churrasqueira Carlos Martins Inc"
          ],
          [
           "V15-4833945",
           "2018-05-24",
           "2019-08-24",
           "canada,m6m",
           "Fadil, Hamza Jolan"
          ],
          [
           "V15-0013720",
           "1985-05-30",
           "2020-11-03",
           "canada,m6l",
           "Falletta, Vincenzo"
          ],
          [
           "V15-4956285",
           "2019-07-25",
           "2020-11-03",
           "canada,m6m",
           "Gallo, Edgar"
          ],
          [
           "V15-3107040",
           "2000-04-01",
           "2021-08-30",
           "canada,m9n",
           "Ituarte, Carlos Alberto"
          ],
          [
           "V15-4925597",
           "2019-04-05",
           "2021-09-03",
           "138 tarragona blvd,toronto, on,canada,m6n 5c5",
           "Feijoada De Pote Ltd"
          ],
          [
           "V15-4843006",
           "2018-06-27",
           "2022-09-26",
           "89 pamille pl,toronto, on,canada,m6m 3b1",
           "1532272 Ontario Corp"
          ],
          [
           "V15-5121026",
           "2021-07-27",
           "2022-10-25",
           "177 mccormack st, #103,toronto, on,canada,m6n 1x8",
           "Crepe Street Ltd"
          ],
          [
           "V15-3248359",
           "2002-07-26",
           null,
           "89 pamille pl,toronto, on,canada,m6m 3b1",
           "1532272 Ontario Corp"
          ],
          [
           "V15-3609378",
           "2006-05-09",
           null,
           "89 pamille pl,toronto, on,canada,m6m 3b1",
           "1532272 Ontario Corp"
          ],
          [
           "V15-4536148",
           "2015-05-12",
           null,
           "89 pamille pl,toronto, on,canada,m6m 3b1",
           "1532272 Ontario Corp"
          ],
          [
           "V15-4702159",
           "2017-01-23",
           null,
           "344 culford rd,toronto, on,canada,m6l 2v7",
           "Lucky Luciano'S Ltd"
          ],
          [
           "V15-4714932",
           "2017-04-06",
           null,
           "150 symes rd, #130,toronto, on,canada,m6n 0b1",
           "Toben Food By Design Inc"
          ],
          [
           "V15-4922413",
           "2019-03-26",
           null,
           "2009 lawrence ave w, #6,toronto, on,canada,m9n 3v2",
           "Classic Cone Inc"
          ],
          [
           "V15-4922417",
           "2019-03-26",
           null,
           "2009 lawrence ave w, #6,toronto, on,canada,m9n 3v2",
           "Classic Cone Inc"
          ],
          [
           "V15-4922421",
           "2019-03-26",
           null,
           "2009 lawrence ave w, #6,toronto, on,canada,m9n 3v2",
           "Classic Cone Inc"
          ],
          [
           "V15-4922422",
           "2019-03-26",
           null,
           "2009 lawrence ave w, #6,toronto, on,canada,m9n 3v2",
           "Classic Cone Inc"
          ],
          [
           "V15-4922423",
           "2019-03-26",
           null,
           "2009 lawrence ave w, #6,toronto, on,canada,m9n 3v2",
           "Classic Cone Inc"
          ],
          [
           "V15-4922425",
           "2019-03-26",
           null,
           "2009 lawrence ave w, #6,toronto, on,canada,m9n 3v2",
           "Classic Cone Inc"
          ],
          [
           "V15-4922428",
           "2019-03-26",
           null,
           "2009 lawrence ave w, #6,toronto, on,canada,m9n 3v2",
           "Classic Cone Inc"
          ],
          [
           "V15-4922431",
           "2019-03-26",
           null,
           "2009 lawrence ave w, #6,toronto, on,canada,m9n 3v2",
           "Classic Cone Inc"
          ],
          [
           "V15-5117878",
           "2021-07-14",
           null,
           "canada,m6m",
           "Pham, Thinh Thai"
          ],
          [
           "V15-5235781",
           "2022-11-21",
           null,
           "100 flamborough dr,toronto, on,canada,m6m 2r7",
           "Sebcan Consulting Services Inc"
          ],
          [
           "V27-2007915",
           "1992-03-13",
           "2003-03-31",
           "canada,m6m",
           "Sarantakos, Theodora Kremitsu"
          ],
          [
           "V27-3106872",
           "2000-04-01",
           "2003-03-31",
           "canada,m6n",
           "Khatiri, Javad"
          ],
          [
           "V27-3130924",
           "2001-10-11",
           "2003-03-31",
           "canada,m6l",
           "Alfaro, Jose Angel"
          ],
          [
           "V27-3252397",
           "2003-01-24",
           "2003-03-31",
           "canada,m6n",
           "Mcgaw, Monika Laura"
          ],
          [
           "V27-3249400",
           "2002-08-29",
           "2005-04-02",
           "12 pritchard ave,toronto, on,canada,m6n 1t1",
           "Edwards,Christine/Pablos,Cristina"
          ],
          [
           "V27-3253040",
           "2002-11-18",
           "2005-04-02",
           "canada,m6l",
           "Simsek, Nazan"
          ],
          [
           "V27-3360213",
           "2003-05-22",
           "2005-04-02",
           "canada,m9n",
           "Arrechea, Juan Ramon"
          ],
          [
           "V27-3246182",
           "2002-06-13",
           "2005-04-11",
           "canada,m6n",
           "Abranko, Adrienn"
          ],
          [
           "V27-4421699",
           "2014-05-29",
           "2006-01-04",
           "canada,m6n",
           "Marinova, Tanja"
          ],
          [
           "V27-3088093",
           "1998-10-19",
           "2006-01-19",
           "canada,m6l",
           "Capitanio, Giacomo"
          ],
          [
           "V27-3594970",
           "2005-06-17",
           "2006-07-19",
           "canada,m6n",
           "Guglielmin, James J"
          ],
          [
           "V27-3722441",
           "2007-04-19",
           "2008-07-20",
           "canada,m6l",
           "Putkowski, Jan Zbigniew"
          ],
          [
           "V27-3730912",
           "2007-11-16",
           "2009-02-16",
           "canada,m6m",
           "Tarzi, Mastura Helena"
          ],
          [
           "V27-3593556",
           "2005-05-20",
           "2009-08-20",
           "canada,m6l",
           "Putkowski, Jan Zbigniew"
          ],
          [
           "V27-3612220",
           "2006-07-06",
           "2009-10-06",
           "canada,m6m",
           "Tarzi, Gholam"
          ],
          [
           "V27-3611925",
           "2006-07-11",
           "2009-10-11",
           "canada,m6l",
           "Block, Alexei"
          ],
          [
           "V27-3843068",
           "2008-10-01",
           "2010-01-01",
           "canada,m6l",
           "Ortiz, Carolina Inez"
          ],
          [
           "V27-3474070",
           "2004-04-01",
           "2010-07-02",
           "canada,m6l",
           "Simsek, Nazan"
          ],
          [
           "V27-3952759",
           "2009-06-02",
           "2010-09-02",
           "canada,m6l",
           "Lemus, Fredi Nixson"
          ],
          [
           "V27-3955808",
           "2009-08-10",
           "2010-11-10",
           "canada,m6l",
           "Baisley, Dean Lewis"
          ],
          [
           "V27-3834757",
           "2008-03-19",
           "2011-06-19",
           "canada,m6m",
           "Molina, Cesar A"
          ],
          [
           "V27-3952880",
           "2009-05-15",
           "2012-08-15",
           "canada,m6n",
           "Zere, Andnet Azeib"
          ],
          [
           "V27-4064136",
           "2010-05-05",
           "2013-06-27",
           "1 glen scarlett rd,toronto, on,canada,m6n 1p5",
           "1805593 Ontario Ltd"
          ],
          [
           "V27-3008715",
           "1997-07-09",
           "2013-10-09",
           "canada,m6m",
           "Mehretab, Tesfaghiorghis"
          ],
          [
           "V27-4297478",
           "2012-07-13",
           "2013-10-13",
           "canada,m6m",
           "Al Abd Muhamad, Zainab Ahmed"
          ],
          [
           "V27-3113469",
           "2000-09-14",
           "2013-12-15",
           "canada,m6m",
           "Da Silva, Maria Liberia"
          ],
          [
           "V27-2012992",
           "1993-04-20",
           "2014-07-21",
           "canada,m6m",
           "Da Silva, Maria Liberia"
          ],
          [
           "V27-4305614",
           "2013-04-24",
           "2015-07-25",
           "canada,m9n",
           "Holguin Valdez, Helen Ysmir"
          ],
          [
           "V27-2005496",
           "1991-07-09",
           "2018-10-09",
           "canada,m6n",
           "Apostolopoulos, Magdalini"
          ],
          [
           "V27-4651299",
           "2016-07-18",
           "2018-10-18",
           "canada,m9n",
           "Medina Ochoa, Jorge Eloy"
          ],
          [
           "V27-3845433",
           "2009-03-18",
           "2019-06-18",
           "canada,m6m",
           "Deligeorgy, Nicholas"
          ],
          [
           "V27-0019354",
           "1988-05-02",
           "2019-08-02",
           "canada,m6l",
           "Antolak, Jerzy"
          ],
          [
           "V27-2022111",
           "1995-06-29",
           "2020-11-03",
           "canada,m6m",
           "Aviles, Geovanny Alejandro"
          ],
          [
           "V27-3081252",
           "1998-04-01",
           "2020-11-03",
           "canada,m6m",
           "Aviles, Yamile Carmita"
          ],
          [
           "V27-4837971",
           "2018-06-08",
           "2021-11-06",
           "1 glen scarlett rd,toronto, on,canada,m6n 1p5",
           "1805593 Ontario Ltd"
          ],
          [
           "V27-4648012",
           "2016-05-02",
           "2022-08-01",
           "canada,m6n",
           "Marinova, Daniela A"
          ],
          [
           "V27-2002356",
           "1990-09-11",
           null,
           "canada,m6m",
           "Lazaridis, Eleutherios"
          ],
          [
           "V27-3592000",
           "2005-04-04",
           null,
           "canada,m6n",
           "Marinova, Tanja"
          ],
          [
           "V27-3952452",
           "2009-05-12",
           null,
           "canada,m9n",
           "Kozak, Anna"
          ],
          [
           "R56-4537572",
           "2015-06-08",
           "2016-03-10",
           "89 pamille pl,toronto, on,canada,m6m 3b1",
           "1532272 Ontario Corp"
          ],
          [
           "R56-4537576",
           "2015-06-08",
           "2016-03-10",
           "89 pamille pl,toronto, on,canada,m6m 3b1",
           "1532272 Ontario Corp"
          ],
          [
           "R56-4647155",
           "2016-03-10",
           "2017-04-06",
           "89 pamille pl,toronto, on,canada,m6m 3b1",
           "1532272 Ontario Corp"
          ],
          [
           "R56-4647157",
           "2016-03-10",
           "2017-04-06",
           "89 pamille pl,toronto, on,canada,m6m 3b1",
           "1532272 Ontario Corp"
          ],
          [
           "R56-4647161",
           "2016-03-10",
           "2017-04-06",
           "89 pamille pl,toronto, on,canada,m6m 3b1",
           "1532272 Ontario Corp"
          ],
          [
           "R56-4422554",
           "2014-05-21",
           "2018-03-28",
           "canada,m6n",
           "Do, Thuoc Van"
          ],
          [
           "R56-4715295",
           "2017-04-06",
           "2019-01-31",
           "89 pamille pl,toronto, on,canada,m6m 3b1",
           "1532272 Ontario Corp"
          ],
          [
           "R56-4715299",
           "2017-04-06",
           "2019-01-31",
           "89 pamille pl,toronto, on,canada,m6m 3b1",
           "1532272 Ontario Corp"
          ],
          [
           "R56-4715301",
           "2017-04-06",
           "2019-01-31",
           "89 pamille pl,toronto, on,canada,m6m 3b1",
           "1532272 Ontario Corp"
          ],
          [
           "R56-4820704",
           "2018-03-29",
           "2019-01-31",
           "canada,m6n",
           "Do, Thuoc Van"
          ],
          [
           "R56-4826501",
           "2018-04-25",
           "2019-01-31",
           "89 pamille pl,toronto, on,canada,m6m 3b1",
           "1532272 Ontario Corp"
          ],
          [
           "R56-4826502",
           "2018-04-25",
           "2019-01-31",
           "89 pamille pl,toronto, on,canada,m6m 3b1",
           "1532272 Ontario Corp"
          ],
          [
           "R56-4826503",
           "2018-04-25",
           "2019-01-31",
           "89 pamille pl,toronto, on,canada,m6m 3b1",
           "1532272 Ontario Corp"
          ],
          [
           "R56-4843011",
           "2018-06-27",
           "2019-02-01",
           "89 pamille pl,toronto, on,canada,m6m 3b1",
           "1532272 Ontario Corp"
          ],
          [
           "R56-4924440",
           "2019-04-01",
           "2019-11-13",
           "89 pamille pl,toronto, on,canada,m6m 3b1",
           "1532272 Ontario Corp"
          ],
          [
           "R56-4924442",
           "2019-04-01",
           "2019-11-13",
           "89 pamille pl,toronto, on,canada,m6m 3b1",
           "1532272 Ontario Corp"
          ],
          [
           "R56-4924439",
           "2019-04-01",
           "2020-01-14",
           "89 pamille pl,toronto, on,canada,m6m 3b1",
           "1532272 Ontario Corp"
          ],
          [
           "R56-4924441",
           "2019-04-01",
           "2020-01-14",
           "89 pamille pl,toronto, on,canada,m6m 3b1",
           "1532272 Ontario Corp"
          ],
          [
           "R56-4920897",
           "2019-03-19",
           "2021-11-24",
           "canada,m6n",
           "Do, Thuoc Van"
          ],
          [
           "R56-5203274",
           "2022-04-28",
           "2022-11-03",
           "89 pamille pl,toronto, on,canada,m6m 3b1",
           "1532272 Ontario Corp"
          ],
          [
           "R56-5203275",
           "2022-04-28",
           "2022-11-03",
           "89 pamille pl,toronto, on,canada,m6m 3b1",
           "1532272 Ontario Corp"
          ],
          [
           "R56-5203278",
           "2022-04-28",
           "2022-11-03",
           "89 pamille pl,toronto, on,canada,m6m 3b1",
           "1532272 Ontario Corp"
          ],
          [
           "R56-5322048",
           "2023-04-24",
           "2023-10-28",
           "2009 lawrence ave w, #6,toronto, on,canada,m9n 3v2",
           "Classic Cone Inc"
          ],
          [
           "R56-5322059",
           "2023-04-24",
           "2023-10-28",
           "2009 lawrence ave w, #6,toronto, on,canada,m9n 3v2",
           "Classic Cone Inc"
          ],
          [
           "R56-5322062",
           "2023-04-24",
           "2023-10-28",
           "2009 lawrence ave w, #6,toronto, on,canada,m9n 3v2",
           "Classic Cone Inc"
          ],
          [
           "R56-5322067",
           "2023-04-24",
           "2023-10-28",
           "2009 lawrence ave w, #6,toronto, on,canada,m9n 3v2",
           "Classic Cone Inc"
          ],
          [
           "R56-5322068",
           "2023-04-24",
           "2023-10-28",
           "2009 lawrence ave w, #6,toronto, on,canada,m9n 3v2",
           "Classic Cone Inc"
          ],
          [
           "R56-5202864",
           "2022-04-27",
           null,
           "canada,m6m",
           "Pham, Thinh Thai"
          ],
          [
           "R56-5318647",
           "2023-05-01",
           null,
           "89 pamille pl,toronto, on,canada,m6m 3b1",
           "1532272 Ontario Corp"
          ],
          [
           "R56-5318650",
           "2023-05-01",
           null,
           "89 pamille pl,toronto, on,canada,m6m 3b1",
           "1532272 Ontario Corp"
          ],
          [
           "R56-5318652",
           "2023-05-01",
           null,
           "89 pamille pl,toronto, on,canada,m6m 3b1",
           "1532272 Ontario Corp"
          ]
         ],
         "hovertemplate": "<b>%{hovertext}</b><br><br>AREA_NAME=York South-Weston<br>latitude=%{lat}<br>longitude=%{lon}<br>Licence No.=%{customdata[0]}<br>Issued=%{customdata[1]}<br>Cancel Date=%{customdata[2]}<br>address=%{customdata[3]}<br>Client Name=%{customdata[4]}<extra></extra>",
         "hovertext": [
          null,
          null,
          null,
          "Village Catering",
          "Tiny Treats",
          "Tiny Treats",
          "Tiny Treats",
          "Tiny Treats",
          "Tiny Treats",
          "Tiny Treats",
          null,
          null,
          "Tiny Treats",
          "Tiny Treats",
          "Tiny Treats",
          "Racco Industrial Catering Ltd",
          "Tiny Treats Inc",
          "2001309 Ontario Ltd",
          "Anna Kozak",
          null,
          "Racco Industrial Catering Ltd",
          "Racco Industrial Catering Ltd",
          "Racco Industrial Catering",
          "Racco Catering",
          "Racco Industrial Catering",
          "Racco Industrial Catering Ltd",
          "Racco Industrial Catering",
          "Racco Industrial Catering Ltd.",
          "Racco Industrial Catering",
          "Racco Industrial Catering Ltd",
          "Racco Industrial Catering Ltd",
          "Racco Industrial Catering",
          "Body Parts Plus Inc",
          "Racco Industrial Catering Ltd",
          null,
          "Sweet Wheels",
          null,
          null,
          "Churrasqueira Carlos Martins",
          "Food From East Shawarma",
          "Guy'S Snack Service",
          "D'Real Meal",
          "Delicious Ice Cream",
          "Espeto Brazil",
          "Sweet Summer Soft Ice",
          "Crepe Street",
          "Sweet Summer Soft Icecream",
          "Sweet Summer Soft Ice",
          "Sweet Summer Soft Ice",
          "Lucky Luciano'S",
          "Toben Food By Design",
          "Classic Cone Inc",
          "Classic Cone Inc",
          "Classic Cone Inc",
          "Classic Cone Inc",
          "Classic Cone Inc",
          "Classic Cone Inc",
          "Classic Cone Inc",
          "Classic Cone Inc",
          "Happy Corner",
          "Trust The Gut Sandwiches",
          null,
          null,
          null,
          "Cj'S On Wheels",
          null,
          null,
          null,
          null,
          null,
          null,
          "Esteem",
          null,
          null,
          null,
          null,
          null,
          "Carolina Ortiz",
          null,
          null,
          "Baisley",
          null,
          "Toronto A La Cart",
          null,
          null,
          "Cool Chill",
          null,
          null,
          null,
          null,
          "El Bronco",
          "Nicholas Hotdogs & Sausages",
          null,
          null,
          null,
          "Mrs. M'S",
          null,
          null,
          null,
          null,
          null,
          null,
          null,
          null,
          null,
          null,
          null,
          null,
          null,
          null,
          null,
          null,
          null,
          null,
          null,
          null,
          null,
          null,
          null,
          null,
          null,
          null,
          null,
          null,
          null,
          null,
          null,
          "Happy Corner",
          "Sweet Summer Soft Ice",
          "Sweet Summer Soft Ice",
          "Sweet Summer Soft Icecream"
         ],
         "lat": [
          43.69703199,
          43.7066605,
          43.70031548,
          43.67461905,
          43.6995726,
          43.6995726,
          43.6995726,
          43.6995726,
          43.6995726,
          43.6995726,
          43.69703199,
          43.69703199,
          43.6995726,
          43.6995726,
          43.6995726,
          43.7144348,
          43.6995726,
          43.7020282,
          43.70655695,
          43.71349275,
          43.7144348,
          43.7144348,
          43.7144348,
          43.7144348,
          43.7144348,
          43.7144348,
          43.7144348,
          43.7144348,
          43.7144348,
          43.7144348,
          43.7144348,
          43.7144348,
          43.71932811,
          43.7144348,
          43.69703199,
          43.67461905,
          43.69703199,
          43.69703199,
          43.68161881,
          43.69703199,
          43.71349275,
          43.69703199,
          43.70655695,
          43.671261,
          43.70099949,
          43.6748498,
          43.70099949,
          43.70099949,
          43.70099949,
          43.7176988,
          43.6731362,
          43.6995726,
          43.6995726,
          43.6995726,
          43.6995726,
          43.6995726,
          43.6995726,
          43.6995726,
          43.6995726,
          43.69703199,
          43.70031548,
          43.69703199,
          43.67461905,
          43.71349275,
          43.67461905,
          43.67099299,
          43.71349275,
          43.70655695,
          43.67461905,
          43.67461905,
          43.71349275,
          43.67461905,
          43.71349275,
          43.69703199,
          43.71349275,
          43.69703199,
          43.71349275,
          43.71349275,
          43.71349275,
          43.71349275,
          43.71349275,
          43.69703199,
          43.67461905,
          43.67426461,
          43.69703199,
          43.69703199,
          43.69703199,
          43.69703199,
          43.70655695,
          43.67461905,
          43.70655695,
          43.69703199,
          43.71349275,
          43.69703199,
          43.69703199,
          43.67426461,
          43.67461905,
          43.69703199,
          43.67461905,
          43.70655695,
          43.70099949,
          43.70099949,
          43.70099949,
          43.70099949,
          43.70099949,
          43.67461905,
          43.70099949,
          43.70099949,
          43.70099949,
          43.67461905,
          43.70099949,
          43.70099949,
          43.70099949,
          43.70099949,
          43.70099949,
          43.70099949,
          43.70099949,
          43.70099949,
          43.67461905,
          43.70099949,
          43.70099949,
          43.70099949,
          43.6995726,
          43.6995726,
          43.6995726,
          43.6995726,
          43.6995726,
          43.69703199,
          43.70099949,
          43.70099949,
          43.70099949
         ],
         "legendgroup": "York South-Weston",
         "lon": [
          -79.4870454,
          -79.505768,
          -79.48355872,
          -79.48348027,
          -79.50988402,
          -79.50988402,
          -79.50988402,
          -79.50988402,
          -79.50988402,
          -79.50988402,
          -79.4870454,
          -79.4870454,
          -79.50988402,
          -79.50988402,
          -79.50988402,
          -79.52257791,
          -79.50988402,
          -79.50133263,
          -79.51742037,
          -79.48787286,
          -79.52257791,
          -79.52257791,
          -79.52257791,
          -79.52257791,
          -79.52257791,
          -79.52257791,
          -79.52257791,
          -79.52257791,
          -79.52257791,
          -79.52257791,
          -79.52257791,
          -79.52257791,
          -79.48863807,
          -79.52257791,
          -79.4870454,
          -79.48348027,
          -79.4870454,
          -79.4870454,
          -79.47451331,
          -79.4870454,
          -79.48787286,
          -79.4870454,
          -79.51742037,
          -79.47720499,
          -79.4996135,
          -79.47978988,
          -79.4996135,
          -79.4996135,
          -79.4996135,
          -79.49192462,
          -79.47907683,
          -79.50988402,
          -79.50988402,
          -79.50988402,
          -79.50988402,
          -79.50988402,
          -79.50988402,
          -79.50988402,
          -79.50988402,
          -79.4870454,
          -79.48355872,
          -79.4870454,
          -79.48348027,
          -79.48787286,
          -79.48348027,
          -79.48734508,
          -79.48787286,
          -79.51742037,
          -79.48348027,
          -79.48348027,
          -79.48787286,
          -79.48348027,
          -79.48787286,
          -79.4870454,
          -79.48787286,
          -79.4870454,
          -79.48787286,
          -79.48787286,
          -79.48787286,
          -79.48787286,
          -79.48787286,
          -79.4870454,
          -79.48348027,
          -79.47325904,
          -79.4870454,
          -79.4870454,
          -79.4870454,
          -79.4870454,
          -79.51742037,
          -79.48348027,
          -79.51742037,
          -79.4870454,
          -79.48787286,
          -79.4870454,
          -79.4870454,
          -79.47325904,
          -79.48348027,
          -79.4870454,
          -79.48348027,
          -79.51742037,
          -79.4996135,
          -79.4996135,
          -79.4996135,
          -79.4996135,
          -79.4996135,
          -79.48348027,
          -79.4996135,
          -79.4996135,
          -79.4996135,
          -79.48348027,
          -79.4996135,
          -79.4996135,
          -79.4996135,
          -79.4996135,
          -79.4996135,
          -79.4996135,
          -79.4996135,
          -79.4996135,
          -79.48348027,
          -79.4996135,
          -79.4996135,
          -79.4996135,
          -79.50988402,
          -79.50988402,
          -79.50988402,
          -79.50988402,
          -79.50988402,
          -79.4870454,
          -79.4996135,
          -79.4996135,
          -79.4996135
         ],
         "marker": {
          "color": "#ab63fa"
         },
         "mode": "markers",
         "name": "York South-Weston",
         "showlegend": true,
         "subplot": "mapbox",
         "type": "scattermapbox"
        },
        {
         "customdata": [
          [
           "R54-4839359",
           "2018-06-13",
           "2019-01-31",
           "canada,m4p",
           "Ramdhan, Jason Nathaniel Rory"
          ],
          [
           "R54-5339826",
           "2023-07-13",
           null,
           "65 thorncliffe park dr, #702,toronto, on,canada,m4h 1l2",
           "14778341 Canada Inc"
          ],
          [
           "V15-3487675",
           "2005-01-20",
           "2006-04-22",
           "211 divadale dr,toronto, on,canada,m4g 2p8",
           "Team Plaid Inc"
          ],
          [
           "V15-4421633",
           "2014-05-01",
           "2016-07-26",
           "1458 bayview ave, #3,toronto, on,canada,m4g 3b3",
           "1652050 Ontario Inc"
          ],
          [
           "V15-4838005",
           "2018-06-08",
           "2019-07-30",
           "canada,m4p",
           "Ramdhan, Jason Nathaniel Rory"
          ],
          [
           "V15-3727131",
           "2007-07-27",
           "2020-11-03",
           "canada,m4h",
           "Mucka, Fatmir"
          ],
          [
           "V15-5047741",
           "2020-12-22",
           "2023-03-23",
           "88 erskine ave, #1219,toronto, on,canada,m4p 1y3",
           "Lalonde,Robert/Liu,Jennifer"
          ],
          [
           "V15-5334893",
           "2023-06-27",
           null,
           "65 thorncliffe park dr, #702,toronto, on,canada,m4h 1l2",
           "14778341 Canada Inc"
          ],
          [
           "V27-2013171",
           "1993-04-27",
           "2003-03-31",
           "canada,m4s",
           "Kosc, Wojciech Ryszard"
          ],
          [
           "V27-2020686",
           "1995-02-28",
           "2003-03-31",
           "canada,m4h",
           "Rawji, Mehboob Abdulaziz"
          ],
          [
           "V27-3014413",
           "1998-01-09",
           "2003-03-31",
           "canada,m4p",
           "Didar, Hassan"
          ],
          [
           "V27-3003262",
           "1997-04-01",
           "2005-04-01",
           "canada,m4s",
           "Pellikka, Milena"
          ],
          [
           "V27-3479264",
           "2004-06-09",
           "2005-07-01",
           "canada,m4s",
           "Krivikova, Zoulfia"
          ],
          [
           "V27-3478976",
           "2004-07-02",
           "2005-10-02",
           "canada,m4g",
           "Moynagh, Robert"
          ],
          [
           "V27-3590204",
           "2005-04-14",
           "2006-07-15",
           "canada,m4g",
           "Hawkins, Maria Lourdes"
          ],
          [
           "V27-2016287",
           "1993-12-20",
           "2007-07-25",
           "canada,m4s",
           "Blue, Lorraine"
          ],
          [
           "V27-2009216",
           "1992-06-02",
           "2007-09-02",
           "canada,m4g",
           "Fakhri, Alireza"
          ],
          [
           "V27-3125923",
           "2001-08-16",
           "2007-11-16",
           "canada,m4s",
           "Kosc, Beata"
          ],
          [
           "V27-2008162",
           "1992-04-01",
           "2008-03-05",
           "canada,m4s",
           "Kosc, Franciszek Jan"
          ],
          [
           "V27-2023921",
           "1996-01-25",
           "2010-04-27",
           "canada,m4h",
           "Dingilov, Ivan Nicolov"
          ],
          [
           "V27-3955568",
           "2009-09-16",
           "2010-12-17",
           "canada,m4p",
           "Marjanovic, Sinisa"
          ],
          [
           "V27-3121213",
           "2001-04-01",
           "2011-07-02",
           "canada,m4h",
           "Dimitropoulos, Sofia"
          ],
          [
           "V27-2023501",
           "1995-12-06",
           "2013-03-08",
           "canada,m2l",
           "Hossein Zadeh, Keikavoss"
          ],
          [
           "V27-4316661",
           "2013-12-11",
           "2015-03-13",
           "canada,m4g",
           "Semmar, Amine"
          ],
          [
           "V27-3121214",
           "2001-04-01",
           "2015-05-12",
           "canada,m4h",
           "Dimitropoulos, Sofia"
          ],
          [
           "V27-3081389",
           "1998-04-01",
           "2015-07-02",
           "canada,m4g",
           "Fakhri, Alireza"
          ],
          [
           "V27-2012446",
           "1993-03-16",
           "2016-06-16",
           "canada,m4s",
           "Kosc, Grazyna"
          ],
          [
           "V27-2015376",
           "1993-09-29",
           "2016-12-30",
           "canada,m3b",
           "Halabchi, Saleh"
          ],
          [
           "V27-4419300",
           "2014-03-27",
           "2017-06-27",
           "canada,m2p",
           "Beloglu, Ali Atilla"
          ],
          [
           "V27-3084019",
           "1998-04-24",
           "2018-07-25",
           "canada,m4s",
           "Kosc, Wojciech Ryszard"
          ],
          [
           "V27-2001127",
           "1990-06-01",
           "2018-09-01",
           "canada,m4s",
           "Kosc, Andrzej Antoni"
          ],
          [
           "V27-4725799",
           "2017-07-06",
           "2018-10-06",
           "canada,m4h",
           "Shamsa, Hamza S R"
          ],
          [
           "V27-4836409",
           "2018-06-19",
           "2019-09-19",
           "933 mount pleasant rd, #2,toronto, on,canada,m4p 2l7",
           "Empress Coffee Ltd"
          ],
          [
           "V27-2008316",
           "1992-04-09",
           "2021-09-08",
           "canada,m4s",
           "Fuller, Michael Thomas"
          ],
          [
           "V27-2005427",
           "1991-07-02",
           null,
           "canada,m4s",
           "Trendafilov, Marin Georgiev"
          ],
          [
           "V27-4200708",
           "2012-11-14",
           null,
           "canada,m4p",
           "Fallahpour, Farahnaz"
          ],
          [
           "V27-4536418",
           "2015-06-03",
           null,
           "canada,m4h",
           "Dimitropoulos, Sofia"
          ],
          [
           "V27-5143354",
           "2021-12-09",
           null,
           "canada,m2p",
           "Asadi, Mohsen"
          ],
          [
           "V27-5207667",
           "2022-05-19",
           null,
           "canada,m4s",
           "Zarafonitis, Nick"
          ]
         ],
         "hovertemplate": "<b>%{hovertext}</b><br><br>AREA_NAME=Don Valley West<br>latitude=%{lat}<br>longitude=%{lon}<br>Licence No.=%{customdata[0]}<br>Issued=%{customdata[1]}<br>Cancel Date=%{customdata[2]}<br>address=%{customdata[3]}<br>Client Name=%{customdata[4]}<extra></extra>",
         "hovertext": [
          null,
          "Hyderabadi Wraps",
          "Coffee A Go Go",
          null,
          "Jay'S Caribbean Kitchen",
          "Meal Makers Ltd",
          "Home Appliances Food Co",
          "Hyderabadi Wraps",
          null,
          null,
          null,
          null,
          null,
          "N.R.G. Xpress",
          "Grab-N-Go Coffee Co.",
          null,
          null,
          null,
          null,
          null,
          "Sanny Hotdogs",
          null,
          null,
          "Doggylicious",
          null,
          null,
          null,
          null,
          null,
          null,
          null,
          "Habib Cafe",
          "Empress Coffee",
          null,
          null,
          null,
          null,
          "Willow Hotdog",
          "Nick Zarafonitis"
         ],
         "lat": [
          43.7125189,
          43.70348761,
          43.71593759,
          43.7026229,
          43.7125189,
          43.70446238,
          43.7120074,
          43.70348761,
          43.70310761,
          43.70446238,
          43.7125189,
          43.70310761,
          43.70310761,
          43.70890315,
          43.70890315,
          43.70310761,
          43.70890315,
          43.70310761,
          43.70310761,
          43.70446238,
          43.7125189,
          43.70446238,
          43.75890835,
          43.70890315,
          43.70446238,
          43.70890315,
          43.70310761,
          43.7461393,
          43.75038334,
          43.70310761,
          43.70310761,
          43.70446238,
          43.71203179,
          43.70310761,
          43.70310761,
          43.7125189,
          43.70446238,
          43.75038334,
          43.70310761
         ],
         "legendgroup": "Don Valley West",
         "lon": [
          -79.390349,
          -79.34026916,
          -79.36177294,
          -79.37431436,
          -79.390349,
          -79.34818336,
          -79.39587781,
          -79.34026916,
          -79.3867149,
          -79.34818336,
          -79.390349,
          -79.3867149,
          -79.3867149,
          -79.36614353,
          -79.36614353,
          -79.3867149,
          -79.36614353,
          -79.3867149,
          -79.3867149,
          -79.34818336,
          -79.390349,
          -79.34818336,
          -79.37014296,
          -79.36614353,
          -79.34818336,
          -79.36614353,
          -79.3867149,
          -79.35885662,
          -79.39990822,
          -79.3867149,
          -79.3867149,
          -79.34818336,
          -79.39128386,
          -79.3867149,
          -79.3867149,
          -79.390349,
          -79.34818336,
          -79.39990822,
          -79.3867149
         ],
         "marker": {
          "color": "#FFA15A"
         },
         "mode": "markers",
         "name": "Don Valley West",
         "showlegend": true,
         "subplot": "mapbox",
         "type": "scattermapbox"
        },
        {
         "customdata": [
          [
           "R54-5379757",
           "2024-01-17",
           null,
           "60 golfwood hts,toronto, on,canada,m9p 3m2",
           "Nakamura Consulting & Project Management Corp"
          ],
          [
           "V15-1004348",
           "1989-10-31",
           "2003-06-02",
           "canada,m9v",
           "Jones, Robert Conway"
          ],
          [
           "V15-0004539",
           "1980-05-12",
           "2005-04-02",
           "canada,m9v",
           "Severino, Joseph Carmen"
          ],
          [
           "V15-3362752",
           "2004-04-30",
           "2005-07-01",
           "16 gracehill crt,toronto, on,canada,m9v 4n6",
           "Rvl Tastee Treats To Eat Ltd"
          ],
          [
           "V15-0002913",
           "1976-04-29",
           "2007-07-04",
           "canada,m9v",
           "Macpherson, Thomas B"
          ],
          [
           "V15-3840522",
           "2008-07-22",
           "2010-10-22",
           "canada,m9v",
           "Viswam, Manoj"
          ],
          [
           "V15-4200089",
           "2012-10-24",
           "2014-01-24",
           "1 kilburn pl,toronto, on,canada,m9w 3t6",
           "1871537 Ontario Inc"
          ],
          [
           "V15-3100297",
           "1999-08-30",
           "2014-08-20",
           "canada,m9v",
           "Kandiah, Paramaanantham"
          ],
          [
           "V15-4296959",
           "2012-06-22",
           "2014-09-22",
           "1 kilburn pl,toronto, on,canada,m9w 3t6",
           "1871537 Ontario Inc"
          ],
          [
           "V15-4202331",
           "2013-01-04",
           "2015-04-14",
           "1 kilburn pl,toronto, on,canada,m9w 3t6",
           "1871537 Ontario Inc"
          ],
          [
           "V15-4420288",
           "2014-06-25",
           "2015-09-25",
           "1 kilburn pl,toronto, on,canada,m9w 3t6",
           "1871537 Ontario Inc"
          ],
          [
           "V15-4420291",
           "2014-06-25",
           "2015-09-25",
           "1 kilburn pl,toronto, on,canada,m9w 3t6",
           "1871537 Ontario Inc"
          ],
          [
           "V15-4420297",
           "2014-06-25",
           "2015-09-25",
           "1 kilburn pl,toronto, on,canada,m9w 3t6",
           "1871537 Ontario Inc"
          ],
          [
           "V15-4420300",
           "2014-06-25",
           "2015-09-25",
           "1 kilburn pl,toronto, on,canada,m9w 3t6",
           "1871537 Ontario Inc"
          ],
          [
           "V15-4313635",
           "2013-09-26",
           "2016-11-16",
           "275 carrier dr, #1,toronto, on,canada,m9w 5y8",
           "Curbalicious Inc"
          ],
          [
           "V15-4860369",
           "2018-10-11",
           "2020-01-11",
           "canada,m9w",
           "Williams, Oneil Anthony"
          ],
          [
           "V15-4312066",
           "2013-08-08",
           "2020-02-01",
           "46 redwater dr,toronto, on,canada,m9w 1z8",
           "Trochilus Inc"
          ],
          [
           "V15-4537638",
           "2015-06-17",
           "2020-11-03",
           "205 humber college blvd, iskander,p,toronto, on,canada,m9w 5l7",
           "The Humber College Institute Of Technology And Advanced Learning"
          ],
          [
           "V15-5120200",
           "2021-08-03",
           "2022-08-13",
           "canada,m9v",
           "Ahmadi, Khaled"
          ],
          [
           "V15-5116582",
           "2021-06-15",
           null,
           "46 redwater dr,toronto, on,canada,m9w 1z8",
           "Trochilus Inc"
          ],
          [
           "V15-5233548",
           "2022-10-27",
           null,
           "5 clearbrooke cir,toronto, on,canada,m9w 2e2",
           "Starving Artist Inc"
          ],
          [
           "V15-5372708",
           "2023-11-30",
           null,
           "60 golfwood hts,toronto, on,canada,m9p 3m2",
           "Nakamura Consulting & Project Management Corp"
          ],
          [
           "V27-3111276",
           "2000-08-22",
           "2003-03-25",
           "canada,m9v",
           "Butt, Maqsood"
          ],
          [
           "V27-3240602",
           "2002-04-01",
           "2003-03-31",
           "canada,m9w",
           "Pineda Mendez, Mariana"
          ],
          [
           "V27-3249934",
           "2002-09-06",
           "2003-03-31",
           "canada,m9w",
           "Golaby Salmasy, Ramin"
          ],
          [
           "V27-2010026",
           "1992-07-27",
           "2005-03-15",
           "canada,m9v",
           "Kovatchev, Peter"
          ],
          [
           "V27-3106766",
           "2000-06-07",
           "2005-07-01",
           "canada,m9v",
           "Kovatchev, Stanka"
          ],
          [
           "V27-3250041",
           "2002-12-02",
           "2006-03-06",
           "canada,m9v",
           "Benhadjoudja, Mokhtar"
          ],
          [
           "V27-3358818",
           "2003-04-01",
           "2006-07-02",
           "canada,m9v",
           "Chouikh, Kheira"
          ],
          [
           "V27-3591249",
           "2005-04-08",
           "2006-07-09",
           "canada,m9v",
           "Kovatchev, Radmila"
          ],
          [
           "V27-3478984",
           "2004-05-21",
           "2008-08-21",
           "canada,m9w",
           "Filipova, Vencislava Zlatkova"
          ],
          [
           "V27-2025560",
           "1996-06-27",
           "2009-09-27",
           "canada,m9v",
           "Kovatchev, Radmila"
          ],
          [
           "V27-3947999",
           "2009-03-03",
           "2010-06-03",
           "canada,m9v",
           "Benhadjoudja, Mokhtar"
          ],
          [
           "V27-2005827",
           "1991-08-07",
           "2010-08-12",
           "canada,m9v",
           "Kandiah, Paramaanantham"
          ],
          [
           "V27-3958648",
           "2009-11-27",
           "2011-02-27",
           "canada,m9v",
           "Kovatchev, Stanka"
          ],
          [
           "V27-2008241",
           "1992-04-06",
           "2011-07-07",
           "canada,m9v",
           "Kandiah, Paramaanantham"
          ],
          [
           "V27-3594005",
           "2005-05-24",
           "2011-08-24",
           "canada,m9v",
           "Corsetti, Filippo"
          ],
          [
           "V27-3615291",
           "2006-09-20",
           "2012-12-21",
           "canada,m9w",
           "Matlok, Boguslawa"
          ],
          [
           "V27-4295026",
           "2012-05-17",
           "2016-08-17",
           "canada,m9v",
           "Gayle, Michael Anthony"
          ],
          [
           "V27-4424109",
           "2014-07-07",
           "2016-08-30",
           "canada,m9w",
           "Sohibnazar, Sarfaroz"
          ],
          [
           "V27-1003621",
           "1989-08-16",
           "2017-11-16",
           "canada,m9w",
           "Czyzo, Stanislaw Maciej"
          ],
          [
           "V27-4298355",
           "2012-08-03",
           "2019-11-03",
           "canada,m9w",
           "Sohibnazar, Sarfaroz"
          ],
          [
           "V27-3958593",
           "2009-09-29",
           "2022-02-27",
           "canada,m9v",
           "Kovatchev, Radmila"
          ],
          [
           "V27-5038743",
           "2020-11-03",
           "2022-04-03",
           "2025 kipling ave,toronto, on,canada,m9w 4j8",
           "Spn Super Cleaners Inc"
          ],
          [
           "V27-5107527",
           "2021-04-08",
           "2022-07-08",
           "canada,m9w",
           "Sohibnazar, Sarfaroz"
          ]
         ],
         "hovertemplate": "<b>%{hovertext}</b><br><br>AREA_NAME=Etobicoke North<br>latitude=%{lat}<br>longitude=%{lon}<br>Licence No.=%{customdata[0]}<br>Issued=%{customdata[1]}<br>Cancel Date=%{customdata[2]}<br>address=%{customdata[3]}<br>Client Name=%{customdata[4]}<extra></extra>",
         "hovertext": [
          "Furusato International",
          "Carob Services",
          "A & E Catering Service",
          "Rvl Tastee Treats To Eat",
          "Tom'S Wagon",
          null,
          null,
          null,
          "1871537 Ontario Inc",
          "Snax Unlimited",
          "1871537 Ontario Inc",
          "1871537 Ontario Inc",
          "Snax Unlimited",
          "Snax Unlimited",
          "Curbalicious",
          "Flamez & Flava Jamaican Gourmet",
          "Trochilus Inc",
          "The Humber College Institute",
          "Scoops N Smiles",
          "Trochilus",
          "Starving Artist",
          "Furusato International",
          null,
          null,
          null,
          null,
          null,
          null,
          null,
          null,
          null,
          null,
          null,
          null,
          null,
          null,
          null,
          null,
          null,
          null,
          null,
          null,
          null,
          "Spn Hot Dog",
          null
         ],
         "lat": [
          43.70193809,
          43.74284258,
          43.74284258,
          43.73467999,
          43.74284258,
          43.74284258,
          43.71839169,
          43.74284258,
          43.71839169,
          43.71839169,
          43.71839169,
          43.71839169,
          43.71839169,
          43.71839169,
          43.75228718,
          43.69703873,
          43.719302,
          43.7291665,
          43.74284258,
          43.719302,
          43.71748229,
          43.70193809,
          43.74284258,
          43.69703873,
          43.69703873,
          43.74284258,
          43.74284258,
          43.74284258,
          43.74284258,
          43.74284258,
          43.69703873,
          43.74284258,
          43.74284258,
          43.74284258,
          43.74284258,
          43.74284258,
          43.74284258,
          43.69703873,
          43.74284258,
          43.69703873,
          43.69703873,
          43.69703873,
          43.74284258,
          43.71208611,
          43.69703873
         ],
         "legendgroup": "Etobicoke North",
         "lon": [
          -79.54343778,
          -79.58466097,
          -79.58466097,
          -79.57840272,
          -79.58466097,
          -79.58466097,
          -79.55238169,
          -79.58466097,
          -79.55238169,
          -79.55238169,
          -79.55238169,
          -79.55238169,
          -79.55238169,
          -79.55238169,
          -79.61369598,
          -79.59150599,
          -79.56143431,
          -79.60683992,
          -79.58466097,
          -79.56143431,
          -79.56655272,
          -79.54343778,
          -79.58466097,
          -79.59150599,
          -79.59150599,
          -79.58466097,
          -79.58466097,
          -79.58466097,
          -79.58466097,
          -79.58466097,
          -79.59150599,
          -79.58466097,
          -79.58466097,
          -79.58466097,
          -79.58466097,
          -79.58466097,
          -79.58466097,
          -79.59150599,
          -79.58466097,
          -79.59150599,
          -79.59150599,
          -79.59150599,
          -79.58466097,
          -79.56658348,
          -79.59150599
         ],
         "marker": {
          "color": "#19d3f3"
         },
         "mode": "markers",
         "name": "Etobicoke North",
         "showlegend": true,
         "subplot": "mapbox",
         "type": "scattermapbox"
        }
       ],
       "layout": {
        "legend": {
         "title": {
          "text": "AREA_NAME"
         },
         "tracegroupgap": 0
        },
        "mapbox": {
         "center": {
          "lat": 43.74233126293518,
          "lon": -79.43938585406362
         },
         "domain": {
          "x": [
           0,
           1
          ],
          "y": [
           0,
           1
          ]
         },
         "style": "open-street-map",
         "zoom": 9
        },
        "margin": {
         "t": 60
        },
        "template": {
         "data": {
          "bar": [
           {
            "error_x": {
             "color": "#2a3f5f"
            },
            "error_y": {
             "color": "#2a3f5f"
            },
            "marker": {
             "line": {
              "color": "#E5ECF6",
              "width": 0.5
             },
             "pattern": {
              "fillmode": "overlay",
              "size": 10,
              "solidity": 0.2
             }
            },
            "type": "bar"
           }
          ],
          "barpolar": [
           {
            "marker": {
             "line": {
              "color": "#E5ECF6",
              "width": 0.5
             },
             "pattern": {
              "fillmode": "overlay",
              "size": 10,
              "solidity": 0.2
             }
            },
            "type": "barpolar"
           }
          ],
          "carpet": [
           {
            "aaxis": {
             "endlinecolor": "#2a3f5f",
             "gridcolor": "white",
             "linecolor": "white",
             "minorgridcolor": "white",
             "startlinecolor": "#2a3f5f"
            },
            "baxis": {
             "endlinecolor": "#2a3f5f",
             "gridcolor": "white",
             "linecolor": "white",
             "minorgridcolor": "white",
             "startlinecolor": "#2a3f5f"
            },
            "type": "carpet"
           }
          ],
          "choropleth": [
           {
            "colorbar": {
             "outlinewidth": 0,
             "ticks": ""
            },
            "type": "choropleth"
           }
          ],
          "contour": [
           {
            "colorbar": {
             "outlinewidth": 0,
             "ticks": ""
            },
            "colorscale": [
             [
              0,
              "#0d0887"
             ],
             [
              0.1111111111111111,
              "#46039f"
             ],
             [
              0.2222222222222222,
              "#7201a8"
             ],
             [
              0.3333333333333333,
              "#9c179e"
             ],
             [
              0.4444444444444444,
              "#bd3786"
             ],
             [
              0.5555555555555556,
              "#d8576b"
             ],
             [
              0.6666666666666666,
              "#ed7953"
             ],
             [
              0.7777777777777778,
              "#fb9f3a"
             ],
             [
              0.8888888888888888,
              "#fdca26"
             ],
             [
              1,
              "#f0f921"
             ]
            ],
            "type": "contour"
           }
          ],
          "contourcarpet": [
           {
            "colorbar": {
             "outlinewidth": 0,
             "ticks": ""
            },
            "type": "contourcarpet"
           }
          ],
          "heatmap": [
           {
            "colorbar": {
             "outlinewidth": 0,
             "ticks": ""
            },
            "colorscale": [
             [
              0,
              "#0d0887"
             ],
             [
              0.1111111111111111,
              "#46039f"
             ],
             [
              0.2222222222222222,
              "#7201a8"
             ],
             [
              0.3333333333333333,
              "#9c179e"
             ],
             [
              0.4444444444444444,
              "#bd3786"
             ],
             [
              0.5555555555555556,
              "#d8576b"
             ],
             [
              0.6666666666666666,
              "#ed7953"
             ],
             [
              0.7777777777777778,
              "#fb9f3a"
             ],
             [
              0.8888888888888888,
              "#fdca26"
             ],
             [
              1,
              "#f0f921"
             ]
            ],
            "type": "heatmap"
           }
          ],
          "heatmapgl": [
           {
            "colorbar": {
             "outlinewidth": 0,
             "ticks": ""
            },
            "colorscale": [
             [
              0,
              "#0d0887"
             ],
             [
              0.1111111111111111,
              "#46039f"
             ],
             [
              0.2222222222222222,
              "#7201a8"
             ],
             [
              0.3333333333333333,
              "#9c179e"
             ],
             [
              0.4444444444444444,
              "#bd3786"
             ],
             [
              0.5555555555555556,
              "#d8576b"
             ],
             [
              0.6666666666666666,
              "#ed7953"
             ],
             [
              0.7777777777777778,
              "#fb9f3a"
             ],
             [
              0.8888888888888888,
              "#fdca26"
             ],
             [
              1,
              "#f0f921"
             ]
            ],
            "type": "heatmapgl"
           }
          ],
          "histogram": [
           {
            "marker": {
             "pattern": {
              "fillmode": "overlay",
              "size": 10,
              "solidity": 0.2
             }
            },
            "type": "histogram"
           }
          ],
          "histogram2d": [
           {
            "colorbar": {
             "outlinewidth": 0,
             "ticks": ""
            },
            "colorscale": [
             [
              0,
              "#0d0887"
             ],
             [
              0.1111111111111111,
              "#46039f"
             ],
             [
              0.2222222222222222,
              "#7201a8"
             ],
             [
              0.3333333333333333,
              "#9c179e"
             ],
             [
              0.4444444444444444,
              "#bd3786"
             ],
             [
              0.5555555555555556,
              "#d8576b"
             ],
             [
              0.6666666666666666,
              "#ed7953"
             ],
             [
              0.7777777777777778,
              "#fb9f3a"
             ],
             [
              0.8888888888888888,
              "#fdca26"
             ],
             [
              1,
              "#f0f921"
             ]
            ],
            "type": "histogram2d"
           }
          ],
          "histogram2dcontour": [
           {
            "colorbar": {
             "outlinewidth": 0,
             "ticks": ""
            },
            "colorscale": [
             [
              0,
              "#0d0887"
             ],
             [
              0.1111111111111111,
              "#46039f"
             ],
             [
              0.2222222222222222,
              "#7201a8"
             ],
             [
              0.3333333333333333,
              "#9c179e"
             ],
             [
              0.4444444444444444,
              "#bd3786"
             ],
             [
              0.5555555555555556,
              "#d8576b"
             ],
             [
              0.6666666666666666,
              "#ed7953"
             ],
             [
              0.7777777777777778,
              "#fb9f3a"
             ],
             [
              0.8888888888888888,
              "#fdca26"
             ],
             [
              1,
              "#f0f921"
             ]
            ],
            "type": "histogram2dcontour"
           }
          ],
          "mesh3d": [
           {
            "colorbar": {
             "outlinewidth": 0,
             "ticks": ""
            },
            "type": "mesh3d"
           }
          ],
          "parcoords": [
           {
            "line": {
             "colorbar": {
              "outlinewidth": 0,
              "ticks": ""
             }
            },
            "type": "parcoords"
           }
          ],
          "pie": [
           {
            "automargin": true,
            "type": "pie"
           }
          ],
          "scatter": [
           {
            "fillpattern": {
             "fillmode": "overlay",
             "size": 10,
             "solidity": 0.2
            },
            "type": "scatter"
           }
          ],
          "scatter3d": [
           {
            "line": {
             "colorbar": {
              "outlinewidth": 0,
              "ticks": ""
             }
            },
            "marker": {
             "colorbar": {
              "outlinewidth": 0,
              "ticks": ""
             }
            },
            "type": "scatter3d"
           }
          ],
          "scattercarpet": [
           {
            "marker": {
             "colorbar": {
              "outlinewidth": 0,
              "ticks": ""
             }
            },
            "type": "scattercarpet"
           }
          ],
          "scattergeo": [
           {
            "marker": {
             "colorbar": {
              "outlinewidth": 0,
              "ticks": ""
             }
            },
            "type": "scattergeo"
           }
          ],
          "scattergl": [
           {
            "marker": {
             "colorbar": {
              "outlinewidth": 0,
              "ticks": ""
             }
            },
            "type": "scattergl"
           }
          ],
          "scattermapbox": [
           {
            "marker": {
             "colorbar": {
              "outlinewidth": 0,
              "ticks": ""
             }
            },
            "type": "scattermapbox"
           }
          ],
          "scatterpolar": [
           {
            "marker": {
             "colorbar": {
              "outlinewidth": 0,
              "ticks": ""
             }
            },
            "type": "scatterpolar"
           }
          ],
          "scatterpolargl": [
           {
            "marker": {
             "colorbar": {
              "outlinewidth": 0,
              "ticks": ""
             }
            },
            "type": "scatterpolargl"
           }
          ],
          "scatterternary": [
           {
            "marker": {
             "colorbar": {
              "outlinewidth": 0,
              "ticks": ""
             }
            },
            "type": "scatterternary"
           }
          ],
          "surface": [
           {
            "colorbar": {
             "outlinewidth": 0,
             "ticks": ""
            },
            "colorscale": [
             [
              0,
              "#0d0887"
             ],
             [
              0.1111111111111111,
              "#46039f"
             ],
             [
              0.2222222222222222,
              "#7201a8"
             ],
             [
              0.3333333333333333,
              "#9c179e"
             ],
             [
              0.4444444444444444,
              "#bd3786"
             ],
             [
              0.5555555555555556,
              "#d8576b"
             ],
             [
              0.6666666666666666,
              "#ed7953"
             ],
             [
              0.7777777777777778,
              "#fb9f3a"
             ],
             [
              0.8888888888888888,
              "#fdca26"
             ],
             [
              1,
              "#f0f921"
             ]
            ],
            "type": "surface"
           }
          ],
          "table": [
           {
            "cells": {
             "fill": {
              "color": "#EBF0F8"
             },
             "line": {
              "color": "white"
             }
            },
            "header": {
             "fill": {
              "color": "#C8D4E3"
             },
             "line": {
              "color": "white"
             }
            },
            "type": "table"
           }
          ]
         },
         "layout": {
          "annotationdefaults": {
           "arrowcolor": "#2a3f5f",
           "arrowhead": 0,
           "arrowwidth": 1
          },
          "autotypenumbers": "strict",
          "coloraxis": {
           "colorbar": {
            "outlinewidth": 0,
            "ticks": ""
           }
          },
          "colorscale": {
           "diverging": [
            [
             0,
             "#8e0152"
            ],
            [
             0.1,
             "#c51b7d"
            ],
            [
             0.2,
             "#de77ae"
            ],
            [
             0.3,
             "#f1b6da"
            ],
            [
             0.4,
             "#fde0ef"
            ],
            [
             0.5,
             "#f7f7f7"
            ],
            [
             0.6,
             "#e6f5d0"
            ],
            [
             0.7,
             "#b8e186"
            ],
            [
             0.8,
             "#7fbc41"
            ],
            [
             0.9,
             "#4d9221"
            ],
            [
             1,
             "#276419"
            ]
           ],
           "sequential": [
            [
             0,
             "#0d0887"
            ],
            [
             0.1111111111111111,
             "#46039f"
            ],
            [
             0.2222222222222222,
             "#7201a8"
            ],
            [
             0.3333333333333333,
             "#9c179e"
            ],
            [
             0.4444444444444444,
             "#bd3786"
            ],
            [
             0.5555555555555556,
             "#d8576b"
            ],
            [
             0.6666666666666666,
             "#ed7953"
            ],
            [
             0.7777777777777778,
             "#fb9f3a"
            ],
            [
             0.8888888888888888,
             "#fdca26"
            ],
            [
             1,
             "#f0f921"
            ]
           ],
           "sequentialminus": [
            [
             0,
             "#0d0887"
            ],
            [
             0.1111111111111111,
             "#46039f"
            ],
            [
             0.2222222222222222,
             "#7201a8"
            ],
            [
             0.3333333333333333,
             "#9c179e"
            ],
            [
             0.4444444444444444,
             "#bd3786"
            ],
            [
             0.5555555555555556,
             "#d8576b"
            ],
            [
             0.6666666666666666,
             "#ed7953"
            ],
            [
             0.7777777777777778,
             "#fb9f3a"
            ],
            [
             0.8888888888888888,
             "#fdca26"
            ],
            [
             1,
             "#f0f921"
            ]
           ]
          },
          "colorway": [
           "#636efa",
           "#EF553B",
           "#00cc96",
           "#ab63fa",
           "#FFA15A",
           "#19d3f3",
           "#FF6692",
           "#B6E880",
           "#FF97FF",
           "#FECB52"
          ],
          "font": {
           "color": "#2a3f5f"
          },
          "geo": {
           "bgcolor": "white",
           "lakecolor": "white",
           "landcolor": "#E5ECF6",
           "showlakes": true,
           "showland": true,
           "subunitcolor": "white"
          },
          "hoverlabel": {
           "align": "left"
          },
          "hovermode": "closest",
          "mapbox": {
           "style": "light"
          },
          "paper_bgcolor": "white",
          "plot_bgcolor": "#E5ECF6",
          "polar": {
           "angularaxis": {
            "gridcolor": "white",
            "linecolor": "white",
            "ticks": ""
           },
           "bgcolor": "#E5ECF6",
           "radialaxis": {
            "gridcolor": "white",
            "linecolor": "white",
            "ticks": ""
           }
          },
          "scene": {
           "xaxis": {
            "backgroundcolor": "#E5ECF6",
            "gridcolor": "white",
            "gridwidth": 2,
            "linecolor": "white",
            "showbackground": true,
            "ticks": "",
            "zerolinecolor": "white"
           },
           "yaxis": {
            "backgroundcolor": "#E5ECF6",
            "gridcolor": "white",
            "gridwidth": 2,
            "linecolor": "white",
            "showbackground": true,
            "ticks": "",
            "zerolinecolor": "white"
           },
           "zaxis": {
            "backgroundcolor": "#E5ECF6",
            "gridcolor": "white",
            "gridwidth": 2,
            "linecolor": "white",
            "showbackground": true,
            "ticks": "",
            "zerolinecolor": "white"
           }
          },
          "shapedefaults": {
           "line": {
            "color": "#2a3f5f"
           }
          },
          "ternary": {
           "aaxis": {
            "gridcolor": "white",
            "linecolor": "white",
            "ticks": ""
           },
           "baxis": {
            "gridcolor": "white",
            "linecolor": "white",
            "ticks": ""
           },
           "bgcolor": "#E5ECF6",
           "caxis": {
            "gridcolor": "white",
            "linecolor": "white",
            "ticks": ""
           }
          },
          "title": {
           "x": 0.05
          },
          "xaxis": {
           "automargin": true,
           "gridcolor": "white",
           "linecolor": "white",
           "ticks": "",
           "title": {
            "standoff": 15
           },
           "zerolinecolor": "white",
           "zerolinewidth": 2
          },
          "yaxis": {
           "automargin": true,
           "gridcolor": "white",
           "linecolor": "white",
           "ticks": "",
           "title": {
            "standoff": 15
           },
           "zerolinecolor": "white",
           "zerolinewidth": 2
          }
         }
        }
       }
      }
     },
     "metadata": {},
     "output_type": "display_data"
    }
   ],
   "source": [
    "# Create a map using Plotly Express\n",
    "fig = px.scatter_mapbox(join, lat='latitude', lon='longitude',\n",
    "                        hover_name='Operating Name',  # Changes what appears on hover\n",
    "                        mapbox_style=\"open-street-map\",  # or \"carto-positron\", \"stamen-terrain\", etc.\n",
    "                        hover_data=['Licence No.', 'Issued', 'Cancel Date', 'address', 'Client Name'],\n",
    "                        color='AREA_NAME',\n",
    "                        zoom=9)  # Initial zoom level\n",
    "\n",
    "fig.show()"
   ]
  },
  {
   "cell_type": "code",
   "execution_count": 35,
   "metadata": {},
   "outputs": [],
   "source": [
    "join[~join.AREA_ID.isna()].to_csv(\"df_wards.csv\")"
   ]
  }
 ],
 "metadata": {
  "kernelspec": {
   "display_name": "data_analysis",
   "language": "python",
   "name": "python3"
  },
  "language_info": {
   "codemirror_mode": {
    "name": "ipython",
    "version": 3
   },
   "file_extension": ".py",
   "mimetype": "text/x-python",
   "name": "python",
   "nbconvert_exporter": "python",
   "pygments_lexer": "ipython3",
   "version": "3.10.11"
  }
 },
 "nbformat": 4,
 "nbformat_minor": 2
}
