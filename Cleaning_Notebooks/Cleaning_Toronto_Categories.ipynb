{
 "cells": [
  {
   "cell_type": "markdown",
   "metadata": {},
   "source": [
    "# Reading Libraries and Datasets"
   ]
  },
  {
   "cell_type": "code",
   "execution_count": 1,
   "metadata": {},
   "outputs": [],
   "source": [
    "import pandas as pd\n",
    "import os\n",
    "import sweetviz as sv\n",
    "import geopandas as gpd\n",
    "from shapely import wkt\n",
    "import contextily as ctx\n",
    "import matplotlib.pyplot as plt\n",
    "import seaborn as sns\n",
    "import geodatasets\n",
    "from geopy.geocoders import Nominatim\n",
    "import warnings\n",
    "import plotly.express as px\n",
    "from geopy.geocoders import ArcGIS\n",
    "import geopandas as gpd\n",
    "import re\n",
    "warnings.filterwarnings('ignore')"
   ]
  },
  {
   "cell_type": "code",
   "execution_count": 2,
   "metadata": {},
   "outputs": [],
   "source": [
    "os.chdir('C:/Users/edwin/OneDrive/Escritorio/Personal files/Courses/Semester 2/Capstone Project/Databases')"
   ]
  },
  {
   "cell_type": "code",
   "execution_count": 3,
   "metadata": {},
   "outputs": [
    {
     "data": {
      "text/plain": [
       "['dataframe_withlocations.csv',\n",
       " 'db_filtered_NoNAs.csv',\n",
       " 'db_filtered_wNAs.csv',\n",
       " 'ODBus_v1.csv',\n",
       " 'Other Databases',\n",
       " 'sample.csv',\n",
       " 'toronto data.csv',\n",
       " 'toronto_df_locations.csv',\n",
       " 'vancouver data.csv']"
      ]
     },
     "execution_count": 3,
     "metadata": {},
     "output_type": "execute_result"
    }
   ],
   "source": [
    "directory_contents = os.listdir('.')\n",
    "directory_contents"
   ]
  },
  {
   "cell_type": "code",
   "execution_count": 6,
   "metadata": {},
   "outputs": [
    {
     "data": {
      "text/html": [
       "<div>\n",
       "<style scoped>\n",
       "    .dataframe tbody tr th:only-of-type {\n",
       "        vertical-align: middle;\n",
       "    }\n",
       "\n",
       "    .dataframe tbody tr th {\n",
       "        vertical-align: top;\n",
       "    }\n",
       "\n",
       "    .dataframe thead th {\n",
       "        text-align: right;\n",
       "    }\n",
       "</style>\n",
       "<table border=\"1\" class=\"dataframe\">\n",
       "  <thead>\n",
       "    <tr style=\"text-align: right;\">\n",
       "      <th></th>\n",
       "      <th>Category</th>\n",
       "      <th>Licence No.</th>\n",
       "      <th>Operating Name</th>\n",
       "      <th>Issued</th>\n",
       "      <th>Client Name</th>\n",
       "      <th>Conditions</th>\n",
       "      <th>Free Form Conditions Line 1</th>\n",
       "      <th>Free Form Conditions Line 2</th>\n",
       "      <th>Endorsements</th>\n",
       "      <th>Cancel Date</th>\n",
       "      <th>Last Record Update</th>\n",
       "      <th>address</th>\n",
       "      <th>latitude</th>\n",
       "      <th>longitude</th>\n",
       "      <th>formatted_address</th>\n",
       "      <th>location</th>\n",
       "      <th>city</th>\n",
       "    </tr>\n",
       "  </thead>\n",
       "  <tbody>\n",
       "    <tr>\n",
       "      <th>0</th>\n",
       "      <td>MOBILE VENDING (FOOD TRUCK)</td>\n",
       "      <td>R54-4422459</td>\n",
       "      <td>NaN</td>\n",
       "      <td>2014-05-16</td>\n",
       "      <td>AHMADZADEH-RAZAVI, MAHNAZ</td>\n",
       "      <td>NaN</td>\n",
       "      <td>NaN</td>\n",
       "      <td>NaN</td>\n",
       "      <td>MOBILE VENDING (FOOD TRUCK) ANNUAL;</td>\n",
       "      <td>2015-08-16</td>\n",
       "      <td>2015-08-16</td>\n",
       "      <td>canada,l6p</td>\n",
       "      <td>43.794049</td>\n",
       "      <td>-79.702103</td>\n",
       "      <td>L6P, Brampton, Ontario</td>\n",
       "      <td>L6P, Brampton, Ontario</td>\n",
       "      <td>Brampton</td>\n",
       "    </tr>\n",
       "    <tr>\n",
       "      <th>1</th>\n",
       "      <td>MOBILE VENDING (FOOD TRUCK)</td>\n",
       "      <td>R54-4422376</td>\n",
       "      <td>NaN</td>\n",
       "      <td>2014-05-15</td>\n",
       "      <td>TANG'S FAMILY RESTAURANT CORP</td>\n",
       "      <td>NaN</td>\n",
       "      <td>NaN</td>\n",
       "      <td>NaN</td>\n",
       "      <td>MOBILE VENDING (FOOD TRUCK) ANNUAL;</td>\n",
       "      <td>2015-09-10</td>\n",
       "      <td>2015-09-10</td>\n",
       "      <td>3380 midland ave, #19,toronto, on,canada,m1v 5b5</td>\n",
       "      <td>43.809303</td>\n",
       "      <td>-79.290346</td>\n",
       "      <td>3380 Midland Ave, Unit 19, Scarborough, Ontari...</td>\n",
       "      <td>3380 Midland Ave, Unit 19, Scarborough, Ontari...</td>\n",
       "      <td>Scarborough</td>\n",
       "    </tr>\n",
       "    <tr>\n",
       "      <th>2</th>\n",
       "      <td>MOBILE VENDING (FOOD TRUCK)</td>\n",
       "      <td>R54-4424708</td>\n",
       "      <td>NaN</td>\n",
       "      <td>2014-07-09</td>\n",
       "      <td>INSRICHIENGMAI, SUSAN</td>\n",
       "      <td>NaN</td>\n",
       "      <td>NaN</td>\n",
       "      <td>NaN</td>\n",
       "      <td>MOBILE VENDING (FOOD TRUCK) ANNUAL;</td>\n",
       "      <td>2015-10-08</td>\n",
       "      <td>2015-10-08</td>\n",
       "      <td>canada,m6k</td>\n",
       "      <td>43.637944</td>\n",
       "      <td>-79.429962</td>\n",
       "      <td>M6K, Toronto, Ontario</td>\n",
       "      <td>M6K, Toronto, Ontario</td>\n",
       "      <td>Toronto</td>\n",
       "    </tr>\n",
       "    <tr>\n",
       "      <th>3</th>\n",
       "      <td>MOBILE VENDING (FOOD TRUCK)</td>\n",
       "      <td>R54-4422377</td>\n",
       "      <td>NaN</td>\n",
       "      <td>2014-05-15</td>\n",
       "      <td>1459949 ONTARIO INC</td>\n",
       "      <td>NaN</td>\n",
       "      <td>NaN</td>\n",
       "      <td>NaN</td>\n",
       "      <td>MOBILE VENDING (FOOD TRUCK) ANNUAL;</td>\n",
       "      <td>2016-01-06</td>\n",
       "      <td>2016-01-06</td>\n",
       "      <td>90 esna park dr, #22,markham, on,canada,l3r 2r7</td>\n",
       "      <td>43.827610</td>\n",
       "      <td>-79.338622</td>\n",
       "      <td>90 Esna Park Dr, Unit 22, Markham, Ontario, L3...</td>\n",
       "      <td>90 Esna Park Dr, Unit 22, Markham, Ontario, L3...</td>\n",
       "      <td>Markham</td>\n",
       "    </tr>\n",
       "    <tr>\n",
       "      <th>4</th>\n",
       "      <td>MOBILE VENDING (FOOD TRUCK)</td>\n",
       "      <td>R54-4422545</td>\n",
       "      <td>NaN</td>\n",
       "      <td>2014-05-20</td>\n",
       "      <td>2397349 ONTARIO INC</td>\n",
       "      <td>NaN</td>\n",
       "      <td>NaN</td>\n",
       "      <td>NaN</td>\n",
       "      <td>MOBILE VENDING (FOOD TRUCK) ANNUAL;</td>\n",
       "      <td>2016-01-06</td>\n",
       "      <td>2016-01-06</td>\n",
       "      <td>1621 skyline dr,mississauga, on,canada,l5e 2w9</td>\n",
       "      <td>43.599759</td>\n",
       "      <td>-79.558298</td>\n",
       "      <td>1621 Skyline Dr, Mississauga, Ontario, L5E 2W9</td>\n",
       "      <td>1621 Skyline Dr, Mississauga, Ontario, L5E 2W9</td>\n",
       "      <td>Mississauga</td>\n",
       "    </tr>\n",
       "  </tbody>\n",
       "</table>\n",
       "</div>"
      ],
      "text/plain": [
       "                      Category  Licence No. Operating Name      Issued  \\\n",
       "0  MOBILE VENDING (FOOD TRUCK)  R54-4422459            NaN  2014-05-16   \n",
       "1  MOBILE VENDING (FOOD TRUCK)  R54-4422376            NaN  2014-05-15   \n",
       "2  MOBILE VENDING (FOOD TRUCK)  R54-4424708            NaN  2014-07-09   \n",
       "3  MOBILE VENDING (FOOD TRUCK)  R54-4422377            NaN  2014-05-15   \n",
       "4  MOBILE VENDING (FOOD TRUCK)  R54-4422545            NaN  2014-05-20   \n",
       "\n",
       "                     Client Name Conditions Free Form Conditions Line 1  \\\n",
       "0      AHMADZADEH-RAZAVI, MAHNAZ        NaN                         NaN   \n",
       "1  TANG'S FAMILY RESTAURANT CORP        NaN                         NaN   \n",
       "2          INSRICHIENGMAI, SUSAN        NaN                         NaN   \n",
       "3            1459949 ONTARIO INC        NaN                         NaN   \n",
       "4            2397349 ONTARIO INC        NaN                         NaN   \n",
       "\n",
       "  Free Form Conditions Line 2                         Endorsements  \\\n",
       "0                         NaN  MOBILE VENDING (FOOD TRUCK) ANNUAL;   \n",
       "1                         NaN  MOBILE VENDING (FOOD TRUCK) ANNUAL;   \n",
       "2                         NaN  MOBILE VENDING (FOOD TRUCK) ANNUAL;   \n",
       "3                         NaN  MOBILE VENDING (FOOD TRUCK) ANNUAL;   \n",
       "4                         NaN  MOBILE VENDING (FOOD TRUCK) ANNUAL;   \n",
       "\n",
       "  Cancel Date Last Record Update  \\\n",
       "0  2015-08-16         2015-08-16   \n",
       "1  2015-09-10         2015-09-10   \n",
       "2  2015-10-08         2015-10-08   \n",
       "3  2016-01-06         2016-01-06   \n",
       "4  2016-01-06         2016-01-06   \n",
       "\n",
       "                                            address   latitude  longitude  \\\n",
       "0                                        canada,l6p  43.794049 -79.702103   \n",
       "1  3380 midland ave, #19,toronto, on,canada,m1v 5b5  43.809303 -79.290346   \n",
       "2                                        canada,m6k  43.637944 -79.429962   \n",
       "3   90 esna park dr, #22,markham, on,canada,l3r 2r7  43.827610 -79.338622   \n",
       "4    1621 skyline dr,mississauga, on,canada,l5e 2w9  43.599759 -79.558298   \n",
       "\n",
       "                                   formatted_address  \\\n",
       "0                             L6P, Brampton, Ontario   \n",
       "1  3380 Midland Ave, Unit 19, Scarborough, Ontari...   \n",
       "2                              M6K, Toronto, Ontario   \n",
       "3  90 Esna Park Dr, Unit 22, Markham, Ontario, L3...   \n",
       "4     1621 Skyline Dr, Mississauga, Ontario, L5E 2W9   \n",
       "\n",
       "                                            location         city  \n",
       "0                             L6P, Brampton, Ontario     Brampton  \n",
       "1  3380 Midland Ave, Unit 19, Scarborough, Ontari...  Scarborough  \n",
       "2                              M6K, Toronto, Ontario      Toronto  \n",
       "3  90 Esna Park Dr, Unit 22, Markham, Ontario, L3...      Markham  \n",
       "4     1621 Skyline Dr, Mississauga, Ontario, L5E 2W9  Mississauga  "
      ]
     },
     "execution_count": 6,
     "metadata": {},
     "output_type": "execute_result"
    }
   ],
   "source": [
    "df=pd.read_csv(\"dataframe_withlocations.csv\").drop(columns=['Unnamed: 0'])\n",
    "df.head()"
   ]
  },
  {
   "cell_type": "code",
   "execution_count": 28,
   "metadata": {},
   "outputs": [
    {
     "data": {
      "text/plain": [
       "Category\n",
       "MOBILE VENDING (FOOD TRUCK)                  24\n",
       "MOBILE VENDING (ICE CREAM TRUCK)              7\n",
       "MOTORIZED REFRESHMENT VEHICLE OWNER        1108\n",
       "NON-MOTORIZED REFRESHMENT VEHICLE OWNER     367\n",
       "Name: Operating Name, dtype: int64"
      ]
     },
     "execution_count": 28,
     "metadata": {},
     "output_type": "execute_result"
    }
   ],
   "source": [
    "df.groupby('Category').count()['Operating Name']"
   ]
  },
  {
   "cell_type": "code",
   "execution_count": 23,
   "metadata": {},
   "outputs": [
    {
     "data": {
      "text/plain": [
       "Category\n",
       "MOBILE VENDING (FOOD TRUCK)                 280\n",
       "MOBILE VENDING (ICE CREAM TRUCK)            479\n",
       "MOTORIZED REFRESHMENT VEHICLE OWNER        1420\n",
       "NON-MOTORIZED REFRESHMENT VEHICLE OWNER    1153\n",
       "Name: Licence No., dtype: int64"
      ]
     },
     "execution_count": 23,
     "metadata": {},
     "output_type": "execute_result"
    }
   ],
   "source": [
    "df.groupby('Category').count()['Licence No.']"
   ]
  }
 ],
 "metadata": {
  "kernelspec": {
   "display_name": "data_analysis",
   "language": "python",
   "name": "python3"
  },
  "language_info": {
   "codemirror_mode": {
    "name": "ipython",
    "version": 3
   },
   "file_extension": ".py",
   "mimetype": "text/x-python",
   "name": "python",
   "nbconvert_exporter": "python",
   "pygments_lexer": "ipython3",
   "version": "3.10.11"
  }
 },
 "nbformat": 4,
 "nbformat_minor": 2
}
